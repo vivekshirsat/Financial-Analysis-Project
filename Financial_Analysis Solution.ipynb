{
 "cells": [
  {
   "cell_type": "markdown",
   "metadata": {
    "application/vnd.databricks.v1+cell": {
     "cellMetadata": {},
     "inputWidgets": {},
     "nuid": "1455ae92-1fd4-463e-a260-53c58ca12133",
     "showTitle": false,
     "title": ""
    }
   },
   "source": [
    "Create SparkSession"
   ]
  },
  {
   "cell_type": "code",
   "execution_count": 0,
   "metadata": {
    "application/vnd.databricks.v1+cell": {
     "cellMetadata": {
      "byteLimit": 2048000,
      "rowLimit": 10000
     },
     "inputWidgets": {},
     "nuid": "77d1bcd6-8ebe-4946-bf7e-da15af5cfb41",
     "showTitle": false,
     "title": ""
    }
   },
   "outputs": [],
   "source": [
    "from pyspark.sql import SparkSession"
   ]
  },
  {
   "cell_type": "code",
   "execution_count": 0,
   "metadata": {
    "application/vnd.databricks.v1+cell": {
     "cellMetadata": {
      "byteLimit": 2048000,
      "rowLimit": 10000
     },
     "inputWidgets": {},
     "nuid": "ec626eb5-ed8e-4486-b9b6-6048367558c3",
     "showTitle": false,
     "title": ""
    }
   },
   "outputs": [],
   "source": [
    "spark = SparkSession.builder.appName(\"Finance\").getOrCreate()"
   ]
  },
  {
   "cell_type": "code",
   "execution_count": 0,
   "metadata": {
    "application/vnd.databricks.v1+cell": {
     "cellMetadata": {
      "byteLimit": 2048000,
      "rowLimit": 10000
     },
     "inputWidgets": {},
     "nuid": "d29b29a2-2ffa-43e4-8522-9d3c5cc2986c",
     "showTitle": false,
     "title": ""
    }
   },
   "outputs": [],
   "source": [
    "from pyspark.sql.types import StructType, StructField, IntegerType, DoubleType\n",
    "from pyspark.sql.functions import *"
   ]
  },
  {
   "cell_type": "markdown",
   "metadata": {
    "application/vnd.databricks.v1+cell": {
     "cellMetadata": {},
     "inputWidgets": {},
     "nuid": "707986d8-7c3d-47a4-988b-0b8919287a99",
     "showTitle": false,
     "title": ""
    }
   },
   "source": [
    "Data Loading And Data Cleaning Process"
   ]
  },
  {
   "cell_type": "code",
   "execution_count": 0,
   "metadata": {
    "application/vnd.databricks.v1+cell": {
     "cellMetadata": {
      "byteLimit": 2048000,
      "rowLimit": 10000
     },
     "inputWidgets": {},
     "nuid": "e7b04eeb-421b-40c6-9ca5-7f700be15394",
     "showTitle": false,
     "title": ""
    }
   },
   "outputs": [],
   "source": [
    "finance_schema = StructType([\n",
    "    StructField(\"S.No.\", IntegerType(), True),\n",
    "    StructField(\"Name\", StringType(), True),\n",
    "    StructField(\"Mar Cap - Crore\", DoubleType(), True),\n",
    "    StructField(\"Sales Qtr - Crore\", DoubleType(), True),\n",
    "    StructField(\"_c4\", DoubleType(), True)\n",
    "])"
   ]
  },
  {
   "cell_type": "markdown",
   "metadata": {
    "application/vnd.databricks.v1+cell": {
     "cellMetadata": {},
     "inputWidgets": {},
     "nuid": "8e324b60-7b1c-4eb2-9dd8-5ef4fcd09279",
     "showTitle": false,
     "title": ""
    }
   },
   "source": [
    "Read Dataset"
   ]
  },
  {
   "cell_type": "code",
   "execution_count": 0,
   "metadata": {
    "application/vnd.databricks.v1+cell": {
     "cellMetadata": {
      "byteLimit": 2048000,
      "rowLimit": 10000
     },
     "inputWidgets": {},
     "nuid": "e1894ab7-d2b0-4a95-95b5-59156fbea8c8",
     "showTitle": false,
     "title": ""
    }
   },
   "outputs": [],
   "source": [
    "df = spark.read.csv('/FileStore/tables/Financial_Analytics_data-2.csv', header = True , schema = finance_schema)"
   ]
  },
  {
   "cell_type": "code",
   "execution_count": 0,
   "metadata": {
    "application/vnd.databricks.v1+cell": {
     "cellMetadata": {
      "byteLimit": 2048000,
      "rowLimit": 10000
     },
     "inputWidgets": {},
     "nuid": "6d0081e3-fe6d-44da-90fa-c7e815125006",
     "showTitle": false,
     "title": ""
    }
   },
   "outputs": [
    {
     "output_type": "display_data",
     "data": {
      "text/html": [
       "<style scoped>\n",
       "  .table-result-container {\n",
       "    max-height: 300px;\n",
       "    overflow: auto;\n",
       "  }\n",
       "  table, th, td {\n",
       "    border: 1px solid black;\n",
       "    border-collapse: collapse;\n",
       "  }\n",
       "  th, td {\n",
       "    padding: 5px;\n",
       "  }\n",
       "  th {\n",
       "    text-align: left;\n",
       "  }\n",
       "</style><div class='table-result-container'><table class='table-result'><thead style='background-color: white'><tr><th>S.No.</th><th>Name</th><th>Mar Cap - Crore</th><th>Sales Qtr - Crore</th><th>_c4</th></tr></thead><tbody><tr><td>1</td><td>Reliance Inds.</td><td>583436.72</td><td>99810.0</td><td>null</td></tr><tr><td>2</td><td>TCS</td><td>563709.84</td><td>30904.0</td><td>null</td></tr><tr><td>3</td><td>HDFC Bank</td><td>482953.59</td><td>20581.27</td><td>null</td></tr><tr><td>4</td><td>ITC</td><td>320985.27</td><td>9772.02</td><td>null</td></tr><tr><td>5</td><td>H D F C</td><td>289497.37</td><td>16840.51</td><td>null</td></tr><tr><td>6</td><td>Hind. Unilever</td><td>288265.26</td><td>8590.0</td><td>null</td></tr><tr><td>7</td><td>Maruti Suzuki</td><td>263493.81</td><td>19283.2</td><td>null</td></tr><tr><td>8</td><td>Infosys</td><td>248320.35</td><td>17794.0</td><td>null</td></tr><tr><td>9</td><td>O N G C</td><td>239981.5</td><td>22995.88</td><td>null</td></tr><tr><td>10</td><td>St Bk of India</td><td>232763.33</td><td>57014.08</td><td>null</td></tr><tr><td>11</td><td>ICICI Bank</td><td>203802.35</td><td>13665.35</td><td>null</td></tr><tr><td>12</td><td>Kotak Mah. Bank</td><td>199253.77</td><td>6390.71</td><td>null</td></tr><tr><td>13</td><td>Coal India</td><td>192677.98</td><td>21643.28</td><td>null</td></tr><tr><td>14</td><td>Larsen & Toubro</td><td>180860.74</td><td>28747.45</td><td>null</td></tr><tr><td>15</td><td>I O C L</td><td>178017.48</td><td>110666.93</td><td>null</td></tr><tr><td>16</td><td>Bharti Airtel</td><td>167131.29</td><td>20318.6</td><td>null</td></tr><tr><td>17</td><td>Axis Bank</td><td>136380.76</td><td>11721.55</td><td>null</td></tr><tr><td>18</td><td>NTPC</td><td>135390.53</td><td>20774.37</td><td>null</td></tr><tr><td>19</td><td>Sun Pharma.Inds.</td><td>134241.36</td><td>6653.23</td><td>null</td></tr><tr><td>20</td><td>Hind.Zinc</td><td>133266.56</td><td>5922.0</td><td>null</td></tr><tr><td>21</td><td>Wipro</td><td>131840.57</td><td>13669.0</td><td>null</td></tr><tr><td>22</td><td>HCL Technologies</td><td>126335.27</td><td>12809.0</td><td>null</td></tr><tr><td>23</td><td>Vedanta</td><td>122184.17</td><td>24361.0</td><td>null</td></tr><tr><td>24</td><td>Tata Motors</td><td>117071.87</td><td>74156.07</td><td>null</td></tr><tr><td>25</td><td>UltraTech Cem.</td><td>113692.87</td><td>8019.24</td><td>null</td></tr><tr><td>26</td><td>Asian Paints</td><td>108044.04</td><td>4260.52</td><td>null</td></tr><tr><td>27</td><td>Power Grid Corpn</td><td>102016.01</td><td>7506.95</td><td>null</td></tr><tr><td>28</td><td>B P C L</td><td>98278.0</td><td>60616.36</td><td>null</td></tr><tr><td>29</td><td>IndusInd Bank</td><td>97379.96</td><td>4286.78</td><td>null</td></tr><tr><td>30</td><td>Bajaj Fin.</td><td>94476.77</td><td>3540.63</td><td>null</td></tr><tr><td>31</td><td>Bajaj Auto</td><td>88252.6</td><td>6369.34</td><td>null</td></tr><tr><td>32</td><td>M & M</td><td>88142.35</td><td>11577.78</td><td>null</td></tr><tr><td>33</td><td>HDFC Stand. Life</td><td>87358.23</td><td>9734.9</td><td>null</td></tr><tr><td>34</td><td>Adani Ports</td><td>81781.89</td><td>2688.85</td><td>null</td></tr><tr><td>35</td><td>Bajaj Finserv</td><td>79795.11</td><td>7665.4</td><td>null</td></tr><tr><td>36</td><td>GAIL (India)</td><td>78670.97</td><td>14414.34</td><td>null</td></tr><tr><td>37</td><td>Avenue Super.</td><td>74066.35</td><td>4094.82</td><td>null</td></tr><tr><td>38</td><td>Titan Company</td><td>73886.0</td><td>4274.84</td><td>null</td></tr><tr><td>39</td><td>JSW Steel</td><td>73870.26</td><td>17861.0</td><td>null</td></tr><tr><td>40</td><td>Grasim Inds</td><td>73532.62</td><td>15291.42</td><td>null</td></tr><tr><td>41</td><td>Tata Steel</td><td>73376.14</td><td>32464.14</td><td>null</td></tr><tr><td>42</td><td>Eicher Motors</td><td>73311.41</td><td>2269.01</td><td>null</td></tr><tr><td>43</td><td>Nestle India</td><td>73015.49</td><td>2601.46</td><td>null</td></tr><tr><td>44</td><td>Godrej Consumer</td><td>71859.82</td><td>2630.3</td><td>null</td></tr><tr><td>45</td><td>Yes Bank</td><td>71028.13</td><td>5070.3</td><td>null</td></tr><tr><td>46</td><td>Hero Motocorp</td><td>69448.66</td><td>7305.49</td><td>null</td></tr><tr><td>47</td><td>Motherson Sumi</td><td>68590.33</td><td>14397.85</td><td>null</td></tr><tr><td>48</td><td>SBI Life Insuran</td><td>67465.0</td><td>9569.97</td><td>null</td></tr><tr><td>49</td><td>General Insuranc</td><td>66316.32</td><td>8557.68</td><td>null</td></tr><tr><td>50</td><td>Bharti Infra.</td><td>61776.92</td><td>null</td><td>null</td></tr><tr><td>51</td><td>Dabur India</td><td>60015.0</td><td>1966.44</td><td>null</td></tr><tr><td>52</td><td>Bosch</td><td>59204.28</td><td>3071.92</td><td>null</td></tr><tr><td>53</td><td>Shree Cement</td><td>58987.08</td><td>2296.23</td><td>null</td></tr><tr><td>54</td><td>New India Assura</td><td>58108.48</td><td>5074.02</td><td>null</td></tr><tr><td>55</td><td>H P C L</td><td>58034.78</td><td>57474.25</td><td>null</td></tr><tr><td>56</td><td>ICICI Pru Life</td><td>57748.98</td><td>13555.32</td><td>null</td></tr><tr><td>57</td><td>Britannia Inds.</td><td>56837.2</td><td>2567.48</td><td>null</td></tr><tr><td>58</td><td>Tech Mahindra</td><td>56244.26</td><td>7775.96</td><td>null</td></tr><tr><td>59</td><td>Hindalco Inds.</td><td>55854.68</td><td>11022.81</td><td>null</td></tr><tr><td>60</td><td>Zee Entertainmen</td><td>54817.89</td><td>1838.07</td><td>null</td></tr><tr><td>61</td><td>Cairn India</td><td>53528.57</td><td>null</td><td>2149.36</td></tr><tr><td>62</td><td>Indiabulls Hous.</td><td>52781.67</td><td>null</td><td>3115.89</td></tr><tr><td>63</td><td>Ambuja Cem.</td><td>52361.46</td><td>null</td><td>6170.71</td></tr><tr><td>64</td><td>Interglobe Aviat</td><td>48621.37</td><td>null</td><td>6177.88</td></tr><tr><td>65</td><td>Cipla</td><td>48577.43</td><td>null</td><td>3913.82</td></tr><tr><td>66</td><td>Piramal Enterp.</td><td>47483.97</td><td>null</td><td>2858.36</td></tr><tr><td>67</td><td>United Spirits</td><td>46725.05</td><td>null</td><td>2263.3</td></tr><tr><td>68</td><td>Pidilite Inds.</td><td>45855.5</td><td>null</td><td>1542.9</td></tr><tr><td>69</td><td>Siemens</td><td>44239.04</td><td>null</td><td>2429.5</td></tr><tr><td>70</td><td>Cadila Health.</td><td>41876.19</td><td>null</td><td>3259.6</td></tr><tr><td>71</td><td>NMDC</td><td>41415.33</td><td>null</td><td>2469.03</td></tr><tr><td>72</td><td>DLF</td><td>40159.35</td><td>null</td><td>1693.72</td></tr><tr><td>73</td><td>Marico</td><td>39813.84</td><td>null</td><td>1337.59</td></tr><tr><td>74</td><td>Ashok Leyland</td><td>39047.57</td><td>null</td><td>7113.16</td></tr><tr><td>75</td><td>Bharat Electron</td><td>37776.23</td><td>null</td><td>2512.82</td></tr><tr><td>76</td><td>ICICI Lombard</td><td>37219.22</td><td>null</td><td>2110.99</td></tr><tr><td>77</td><td>Lupin</td><td>36878.85</td><td>null</td><td>3975.62</td></tr><tr><td>78</td><td>Petronet LNG</td><td>36615.0</td><td>null</td><td>7757.06</td></tr><tr><td>79</td><td>Aditya Birla Cap</td><td>36215.92</td><td>null</td><td>3325.02</td></tr><tr><td>80</td><td>Dr Reddy's Labs</td><td>35893.55</td><td>null</td><td>3834.1</td></tr><tr><td>81</td><td>Sun TV Network</td><td>35824.26</td><td>null</td><td>683.28</td></tr><tr><td>82</td><td>S A I L</td><td>35729.04</td><td>15323.65</td><td>null</td></tr><tr><td>83</td><td>UPL</td><td>35349.58</td><td>null</td><td>4194.0</td></tr><tr><td>84</td><td>Oracle Fin.Serv.</td><td>34620.19</td><td>null</td><td>1059.12</td></tr><tr><td>85</td><td>Bharat Forge</td><td>34397.69</td><td>null</td><td>1390.55</td></tr><tr><td>86</td><td>Biocon</td><td>34347.0</td><td>null</td><td>1057.9</td></tr><tr><td>87</td><td>B H E L</td><td>34162.38</td><td>null</td><td>6626.35</td></tr><tr><td>88</td><td>Aurobindo Pharma</td><td>33676.52</td><td>null</td><td>4336.11</td></tr><tr><td>89</td><td>Bank of Baroda</td><td>33364.23</td><td>11303.24</td><td>null</td></tr><tr><td>90</td><td>Idea Cellular</td><td>33047.33</td><td>null</td><td>6509.6</td></tr><tr><td>91</td><td>A B B</td><td>31983.33</td><td>null</td><td>2779.4</td></tr><tr><td>92</td><td>Havells India</td><td>31798.18</td><td>null</td><td>1965.77</td></tr><tr><td>93</td><td>Container Corpn.</td><td>31450.56</td><td>null</td><td>1639.55</td></tr><tr><td>94</td><td>TVS Motor Co.</td><td>30919.51</td><td>null</td><td>3684.95</td></tr><tr><td>95</td><td>ACC</td><td>30803.68</td><td>null</td><td>3494.24</td></tr><tr><td>96</td><td>Bajaj Holdings</td><td>30305.94</td><td>null</td><td>317.85</td></tr><tr><td>97</td><td>P & G Hygiene</td><td>30202.12</td><td>null</td><td>704.16</td></tr><tr><td>98</td><td>MRF</td><td>30030.01</td><td>null</td><td>3798.82</td></tr><tr><td>99</td><td>Shriram Trans.</td><td>29327.64</td><td>null</td><td>3087.67</td></tr><tr><td>100</td><td>Colgate-Palm.</td><td>null</td><td>null</td><td>null</td></tr><tr><td>101</td><td>L&T Fin.Holdings</td><td>28932.43</td><td>2630.17</td><td>null</td></tr><tr><td>102</td><td>Punjab Natl.Bank</td><td>28270.22</td><td>12175.48</td><td>null</td></tr><tr><td>103</td><td>NHPC Ltd</td><td>28059.24</td><td>1497.93</td><td>null</td></tr><tr><td>104</td><td>Power Fin.Corpn.</td><td>27905.66</td><td>6194.77</td><td>null</td></tr><tr><td>105</td><td>United Breweries</td><td>27797.69</td><td>1197.1</td><td>null</td></tr><tr><td>106</td><td>Oil India</td><td>27404.15</td><td>2852.55</td><td>null</td></tr><tr><td>107</td><td>Rural Elec.Corp.</td><td>27382.24</td><td>5498.45</td><td>null</td></tr><tr><td>108</td><td>GlaxoSmith C H L</td><td>27340.89</td><td>1034.67</td><td>null</td></tr><tr><td>109</td><td>M & M Fin. Serv.</td><td>26928.37</td><td>2182.45</td><td>null</td></tr><tr><td>110</td><td>Divi's Lab.</td><td>26915.86</td><td>1037.88</td><td>null</td></tr><tr><td>111</td><td>Kansai Nerolac</td><td>26409.76</td><td>1145.01</td><td>null</td></tr><tr><td>112</td><td>Alkem Lab</td><td>25957.56</td><td>1422.52</td><td>null</td></tr><tr><td>113</td><td>LIC Housing Fin.</td><td>25880.98</td><td>3738.1</td><td>null</td></tr><tr><td>114</td><td>Future Retail</td><td>25859.25</td><td>4693.39</td><td>null</td></tr><tr><td>115</td><td>Page Industries</td><td>25383.03</td><td>621.03</td><td>null</td></tr><tr><td>116</td><td>Dalmia Bhar.</td><td>25288.97</td><td>2090.54</td><td>null</td></tr><tr><td>117</td><td>IIFL Holdings</td><td>24788.54</td><td>1612.14</td><td>null</td></tr><tr><td>118</td><td>L & T Infotech</td><td>24626.1</td><td>1883.8</td><td>null</td></tr><tr><td>119</td><td>Aditya Bir. Nuv.</td><td>24592.21</td><td>4287.12</td><td>null</td></tr><tr><td>120</td><td>Emami</td><td>23720.37</td><td>756.64</td><td>null</td></tr><tr><td>121</td><td>Cummins India</td><td>23562.0</td><td>1354.67</td><td>null</td></tr><tr><td>122</td><td>Berger Paints</td><td>23537.8</td><td>1338.63</td><td>null</td></tr><tr><td>123</td><td>Rajesh Exports</td><td>23495.54</td><td>41304.84</td><td>null</td></tr><tr><td>126</td><td>Tata Power Co.</td><td>23369.24</td><td>6949.91</td><td>null</td></tr><tr><td>127</td><td>3M India</td><td>23101.19</td><td>645.77</td><td>null</td></tr><tr><td>128</td><td>Jindal Steel</td><td>23094.39</td><td>6992.56</td><td>null</td></tr><tr><td>129</td><td>Edelweiss.Fin.</td><td>22915.42</td><td>2069.45</td><td>null</td></tr><tr><td>130</td><td>Gillette India</td><td>21976.74</td><td>407.52</td><td>null</td></tr><tr><td>131</td><td>Adani Enterp.</td><td>21776.04</td><td>9938.37</td><td>null</td></tr><tr><td>132</td><td>Adani Transmissi</td><td>21677.26</td><td>1782.29</td><td>null</td></tr><tr><td>133</td><td>Balkrishna Inds</td><td>21372.18</td><td>1106.31</td><td>null</td></tr><tr><td>134</td><td>Cholaman.Inv.&Fn</td><td>20832.4</td><td>1404.33</td><td>null</td></tr><tr><td>135</td><td>Indraprastha Gas</td><td>20779.52</td><td>1183.9</td><td>null</td></tr><tr><td>136</td><td>M R P L</td><td>20750.78</td><td>14100.98</td><td>null</td></tr><tr><td>137</td><td>Glaxosmi. Pharma</td><td>20489.35</td><td>703.91</td><td>null</td></tr><tr><td>138</td><td>PNB Housing</td><td>20037.85</td><td>1438.49</td><td>null</td></tr><tr><td>139</td><td>RBL Bank</td><td>19748.79</td><td>1150.79</td><td>null</td></tr><tr><td>140</td><td>Castrol India</td><td>18803.22</td><td>970.3</td><td>null</td></tr><tr><td>141</td><td>Canara Bank</td><td>18590.66</td><td>10774.64</td><td>null</td></tr><tr><td>142</td><td>GRUH Finance</td><td>18535.09</td><td>428.47</td><td>null</td></tr><tr><td>143</td><td>KIOCL</td><td>18534.15</td><td>442.81</td><td>null</td></tr><tr><td>144</td><td>Voltas</td><td>18453.44</td><td>1374.67</td><td>null</td></tr><tr><td>145</td><td>Godrej Inds.</td><td>18298.09</td><td>2458.48</td><td>null</td></tr><tr><td>146</td><td>Whirlpool India</td><td>18254.06</td><td>958.01</td><td>null</td></tr><tr><td>147</td><td>Sundaram Finance</td><td>18159.85</td><td>677.23</td><td>null</td></tr><tr><td>148</td><td>Federal Bank</td><td>18086.81</td><td>2501.2</td><td>null</td></tr><tr><td>149</td><td>Tata Comm</td><td>17963.55</td><td>4114.63</td><td>null</td></tr><tr><td>150</td><td>Endurance Tech.</td><td>null</td><td>null</td><td>null</td></tr><tr><td>151</td><td>Tata Chemicals</td><td>17941.47</td><td>2573.91</td><td>null</td></tr><tr><td>152</td><td>Exide Inds.</td><td>17930.75</td><td>2276.54</td><td>null</td></tr><tr><td>153</td><td>IDFC Bank</td><td>17762.77</td><td>2283.72</td><td>null</td></tr><tr><td>154</td><td>NBCC</td><td>17712.0</td><td>1321.5</td><td>null</td></tr><tr><td>155</td><td>IDBI Bank</td><td>17559.35</td><td>5797.2</td><td>null</td></tr><tr><td>156</td><td>The Ramco Cement</td><td>17246.58</td><td>1056.36</td><td>null</td></tr><tr><td>157</td><td>Dewan Hsg. Fin.</td><td>17097.54</td><td>2631.6</td><td>null</td></tr><tr><td>158</td><td>MphasiS</td><td>16728.78</td><td>1660.69</td><td>null</td></tr><tr><td>159</td><td>Apollo Hospitals</td><td>16683.97</td><td>1896.14</td><td>null</td></tr><tr><td>160</td><td>Reliance Nip.Lif</td><td>16655.58</td><td>394.0</td><td>null</td></tr><tr><td>161</td><td>Tata Global</td><td>16589.24</td><td>1730.39</td><td>null</td></tr><tr><td>162</td><td>Godrej Propert.</td><td>16545.51</td><td>627.03</td><td>null</td></tr><tr><td>163</td><td>AU Small Finance</td><td>16453.67</td><td>464.17</td><td>null</td></tr><tr><td>164</td><td>Indian Hotels</td><td>16150.13</td><td>1197.26</td><td>null</td></tr><tr><td>165</td><td>Motil.Oswal.Fin.</td><td>16108.15</td><td>728.63</td><td>null</td></tr><tr><td>166</td><td>H U D C O</td><td>16065.25</td><td>1064.49</td><td>null</td></tr><tr><td>167</td><td>Oberoi Realty</td><td>16044.51</td><td>356.2</td><td>null</td></tr><tr><td>168</td><td>Indian Bank</td><td>15739.16</td><td>4354.22</td><td>null</td></tr><tr><td>169</td><td>SJVN</td><td>15512.35</td><td>436.58</td><td>null</td></tr><tr><td>170</td><td>Bank of India</td><td>15339.87</td><td>9334.84</td><td>null</td></tr><tr><td>171</td><td>Supreme Inds.</td><td>15248.94</td><td>1278.3</td><td>null</td></tr><tr><td>172</td><td>Muthoot Finance</td><td>15226.72</td><td>1553.71</td><td>null</td></tr><tr><td>173</td><td>NLC India</td><td>15201.61</td><td>1706.48</td><td>null</td></tr><tr><td>176</td><td>Info Edg.(India)</td><td>14845.05</td><td>NaN</td><td>null</td></tr><tr><td>177</td><td>Glenmark Pharma.</td><td>14785.53</td><td>2203.67</td><td>null</td></tr><tr><td>178</td><td>Jubilant Life</td><td>14775.08</td><td>2067.76</td><td>null</td></tr><tr><td>179</td><td>Crompton Gr. Con</td><td>14638.57</td><td>938.19</td><td>null</td></tr><tr><td>180</td><td>Honeywell Auto</td><td>14526.24</td><td>721.48</td><td>null</td></tr><tr><td>181</td><td>Natco Pharma</td><td>14456.9</td><td>null</td><td>562.2</td></tr><tr><td>182</td><td>PC Jeweller</td><td>14334.81</td><td>2644.89</td><td>null</td></tr><tr><td>183</td><td>Quess Corp</td><td>14330.19</td><td>1583.95</td><td>null</td></tr><tr><td>184</td><td>CRISIL</td><td>14164.81</td><td>441.13</td><td>null</td></tr><tr><td>185</td><td>WABCO India</td><td>13843.64</td><td>649.91</td><td>null</td></tr><tr><td>186</td><td>Amara Raja Batt.</td><td>13774.32</td><td>1553.46</td><td>null</td></tr><tr><td>189</td><td>Sterlite Tech.</td><td>13743.95</td><td>835.18</td><td>null</td></tr><tr><td>190</td><td>AIA Engg.</td><td>13593.35</td><td>572.16</td><td>null</td></tr><tr><td>191</td><td>KRBL</td><td>13492.55</td><td>783.51</td><td>null</td></tr><tr><td>192</td><td>Max Financial</td><td>13401.76</td><td>null</td><td>NaN</td></tr><tr><td>193</td><td>Indiabulls Vent.</td><td>13396.15</td><td>238.43</td><td>null</td></tr><tr><td>194</td><td>Century Textiles</td><td>13369.97</td><td>2069.39</td><td>null</td></tr><tr><td>195</td><td>Jubilant Food.</td><td>13178.43</td><td>795.17</td><td>null</td></tr><tr><td>196</td><td>Bayer Crop Sci.</td><td>13166.76</td><td>null</td><td>479.7</td></tr><tr><td>197</td><td>Graphite India</td><td>13129.9</td><td>933.06</td><td>null</td></tr><tr><td>198</td><td>JSW Energy</td><td>13104.0</td><td>1993.2</td><td>null</td></tr><tr><td>199</td><td>Central Bank</td><td>13046.18</td><td>6026.55</td><td>null</td></tr><tr><td>200</td><td>Natl. Aluminium</td><td>null</td><td>null</td><td>null</td></tr><tr><td>201</td><td>CESC</td><td>12996.56</td><td>1706.0</td><td>null</td></tr><tr><td>202</td><td>Shri.City Union.</td><td>12995.31</td><td>1338.09</td><td>null</td></tr><tr><td>203</td><td>L&T Technology</td><td>12942.25</td><td>null</td><td>969.1</td></tr><tr><td>204</td><td>Rain Industries</td><td>12655.17</td><td>3050.81</td><td>null</td></tr><tr><td>205</td><td>Torrent Power</td><td>12599.37</td><td>2754.64</td><td>null</td></tr><tr><td>206</td><td>Dilip Buildcon</td><td>12526.06</td><td>1942.12</td><td>null</td></tr><tr><td>207</td><td>TI Financial</td><td>12507.91</td><td>886.68</td><td>null</td></tr><tr><td>208</td><td>JM Financial</td><td>12382.64</td><td>837.73</td><td>null</td></tr><tr><td>209</td><td>Adani Power</td><td>12091.5</td><td>4844.46</td><td>null</td></tr><tr><td>210</td><td>Reliance Power</td><td>12033.99</td><td>2494.65</td><td>null</td></tr><tr><td>211</td><td>Reliance Capital</td><td>11966.83</td><td>4749.0</td><td>null</td></tr><tr><td>212</td><td>Syngene Intl.</td><td>11950.0</td><td>null</td><td>387.7</td></tr><tr><td>213</td><td>Abbott India</td><td>11924.12</td><td>881.49</td><td>null</td></tr><tr><td>214</td><td>Hatsun AgroProd.</td><td>11896.52</td><td>1012.94</td><td>null</td></tr><tr><td>215</td><td>Symphony</td><td>11882.55</td><td>217.63</td><td>null</td></tr><tr><td>216</td><td>Gujarat Gas</td><td>11759.77</td><td>1571.33</td><td>null</td></tr><tr><td>217</td><td>Reliance Infra.</td><td>11737.24</td><td>5861.04</td><td>null</td></tr><tr><td>218</td><td>Aditya Bir. Fas.</td><td>11718.17</td><td>1855.0</td><td>null</td></tr><tr><td>219</td><td>Ajanta Pharma</td><td>11651.8</td><td>587.05</td><td>null</td></tr><tr><td>220</td><td>P I Inds.</td><td>11564.22</td><td>537.74</td><td>null</td></tr><tr><td>221</td><td>City Union Bank</td><td>11554.4</td><td>null</td><td>865.36</td></tr><tr><td>222</td><td>Varun Beverages</td><td>11498.3</td><td>null</td><td>329.92</td></tr><tr><td>223</td><td>Mindtree</td><td>11438.78</td><td>1377.7</td><td>null</td></tr><tr><td>224</td><td>Prestige Estates</td><td>11353.13</td><td>1272.3</td><td>null</td></tr><tr><td>225</td><td>Future Consumer</td><td>11203.15</td><td>null</td><td>784.05</td></tr><tr><td>226</td><td>Sundram Fasten.</td><td>11202.53</td><td>null</td><td>848.13</td></tr><tr><td>227</td><td>Sanofi India</td><td>11182.45</td><td>null</td><td>667.5</td></tr><tr><td>228</td><td>Guj.St.Petronet</td><td>11064.74</td><td>null</td><td>350.18</td></tr><tr><td>229</td><td>Godrej Agrovet</td><td>10918.75</td><td>null</td><td>865.77</td></tr><tr><td>230</td><td>Finolex Cables</td><td>10900.75</td><td>null</td><td>656.78</td></tr><tr><td>231</td><td>Bombay Burmah</td><td>10864.53</td><td>null</td><td>NaN</td></tr><tr><td>232</td><td>SRF</td><td>10842.62</td><td>1397.06</td><td>null</td></tr><tr><td>233</td><td>GE T&D India</td><td>10778.42</td><td>1438.55</td><td>null</td></tr><tr><td>234</td><td>Alembic Pharma</td><td>10764.29</td><td>null</td><td>840.02</td></tr><tr><td>235</td><td>SPARC</td><td>10755.13</td><td>null</td><td>19.42</td></tr><tr><td>236</td><td>GMR Infra.</td><td>10653.44</td><td>2072.29</td><td>null</td></tr><tr><td>237</td><td>HEG</td><td>10630.76</td><td>null</td><td>842.71</td></tr><tr><td>238</td><td>Trent</td><td>10589.27</td><td>null</td><td>521.32</td></tr><tr><td>239</td><td>Engineers India</td><td>10565.56</td><td>null</td><td>473.42</td></tr><tr><td>240</td><td>Avanti Feeds</td><td>10558.13</td><td>null</td><td>706.43</td></tr><tr><td>241</td><td>Pfizer</td><td>10508.48</td><td>null</td><td>456.54</td></tr><tr><td>242</td><td>Escorts</td><td>10450.56</td><td>1205.03</td><td>null</td></tr><tr><td>243</td><td>Tata Motors-DVR</td><td>10442.09</td><td>7769.67</td><td>null</td></tr><tr><td>244</td><td>Blue Dart Exp.</td><td>10422.45</td><td>null</td><td>704.59</td></tr><tr><td>245</td><td>Indbull.RealEst.</td><td>10338.4</td><td>2100.13</td><td>null</td></tr><tr><td>246</td><td>ERIS Lifescience</td><td>10289.81</td><td>null</td><td>182.21</td></tr><tr><td>247</td><td>Arvind Ltd</td><td>10247.7</td><td>2705.75</td><td>null</td></tr><tr><td>248</td><td>Sundaram Clayton</td><td>10074.36</td><td>null</td><td>NaN</td></tr><tr><td>249</td><td>Hexaware Tech.</td><td>9885.05</td><td>1004.83</td><td>null</td></tr><tr><td>250</td><td>Mahanagar Gas</td><td>null</td><td>null</td><td>null</td></tr><tr><td>255</td><td>SKF India</td><td>9569.14</td><td>null</td><td>700.49</td></tr><tr><td>256</td><td>Delta Corp</td><td>9531.57</td><td>null</td><td>162.17</td></tr><tr><td>257</td><td>Union Bank (I)</td><td>9528.82</td><td>8260.47</td><td>null</td></tr><tr><td>258</td><td>TV18 Broadcast</td><td>9463.27</td><td>null</td><td>271.13</td></tr><tr><td>259</td><td>Minda Inds.</td><td>9457.04</td><td>1056.16</td><td>null</td></tr><tr><td>260</td><td>Solar Inds.</td><td>9317.76</td><td>null</td><td>465.68</td></tr><tr><td>261</td><td>Kajaria Ceramics</td><td>9306.54</td><td>661.16</td><td>null</td></tr><tr><td>262</td><td>Astral Poly</td><td>9162.14</td><td>528.54</td><td>null</td></tr><tr><td>263</td><td>Bata India</td><td>9145.38</td><td>674.0</td><td>null</td></tr><tr><td>264</td><td>Phoenix Mills</td><td>9097.33</td><td>416.61</td><td>null</td></tr><tr><td>267</td><td>BASF India</td><td>8778.35</td><td>1278.74</td><td>null</td></tr><tr><td>268</td><td>DCM Shriram</td><td>8681.95</td><td>1783.73</td><td>null</td></tr><tr><td>269</td><td>Infibeam Incorp.</td><td>8646.54</td><td>213.48</td><td>null</td></tr><tr><td>270</td><td>Aegis Logistics</td><td>8613.86</td><td>1442.08</td><td>null</td></tr><tr><td>271</td><td>Mahindra CIE</td><td>8587.04</td><td>NaN</td><td>null</td></tr><tr><td>272</td><td>Jet Airways</td><td>8539.88</td><td>6086.2</td><td>null</td></tr><tr><td>273</td><td>SpiceJet</td><td>8458.24</td><td>2081.95</td><td>null</td></tr><tr><td>274</td><td>Thomas Cook (I)</td><td>8440.65</td><td>3005.45</td><td>null</td></tr><tr><td>275</td><td>Guj Fluorochem</td><td>8439.77</td><td>968.97</td><td>null</td></tr><tr><td>276</td><td>Wockhardt</td><td>8428.58</td><td>1005.3</td><td>null</td></tr><tr><td>277</td><td>Akzo Nobel</td><td>8389.47</td><td>711.99</td><td>null</td></tr><tr><td>278</td><td>I D F C</td><td>8380.86</td><td>2789.58</td><td>null</td></tr><tr><td>279</td><td>Security & Intel</td><td>8247.08</td><td>1537.72</td><td>null</td></tr><tr><td>280</td><td>Asahi India Glas</td><td>8183.96</td><td>640.38</td><td>null</td></tr><tr><td>281</td><td>TTK Prestige</td><td>8153.33</td><td>457.97</td><td>null</td></tr><tr><td>282</td><td>ITI</td><td>8124.6</td><td>250.97</td><td>null</td></tr><tr><td>283</td><td>Karur Vysya Bank</td><td>8065.7</td><td>1422.32</td><td>null</td></tr><tr><td>284</td><td>Vardhman Textile</td><td>8023.74</td><td>1647.98</td><td>null</td></tr><tr><td>285</td><td>Fortis Health.</td><td>7966.43</td><td>1156.61</td><td>null</td></tr><tr><td>286</td><td>Ipca Labs.</td><td>7943.03</td><td>859.21</td><td>null</td></tr><tr><td>287</td><td>Sheela Foam</td><td>7815.74</td><td>532.21</td><td>null</td></tr><tr><td>288</td><td>IRB Infra.Devl.</td><td>7812.73</td><td>1296.19</td><td>null</td></tr><tr><td>289</td><td>Atul</td><td>7789.01</td><td>803.68</td><td>null</td></tr><tr><td>290</td><td>Finolex Inds.</td><td>7784.17</td><td>722.72</td><td>null</td></tr><tr><td>291</td><td>Dish TV</td><td>7765.91</td><td>740.77</td><td>null</td></tr><tr><td>292</td><td>Rel. Comm.</td><td>7702.01</td><td>1144.0</td><td>null</td></tr><tr><td>293</td><td>Dr Lal Pathlabs</td><td>7550.78</td><td>262.7</td><td>null</td></tr><tr><td>294</td><td>OCL India</td><td>7453.05</td><td>859.24</td><td>null</td></tr><tr><td>295</td><td>NCC</td><td>7439.01</td><td>2780.26</td><td>null</td></tr><tr><td>296</td><td>Relaxo Footwear</td><td>7251.91</td><td>457.5</td><td>null</td></tr><tr><td>297</td><td>J K Cements</td><td>7230.76</td><td>1126.11</td><td>null</td></tr><tr><td>298</td><td>G N F C</td><td>7208.38</td><td>1590.89</td><td>null</td></tr><tr><td>299</td><td>Cochin Shipyard</td><td>7154.99</td><td>615.04</td><td>null</td></tr><tr><td>300</td><td>Bajaj Corp</td><td>null</td><td>null</td><td>null</td></tr><tr><td>301</td><td>Birla Corpn.</td><td>7137.67</td><td>1389.32</td><td>null</td></tr><tr><td>302</td><td>Future Lifestyle</td><td>7009.13</td><td>1188.97</td><td>null</td></tr><tr><td>303</td><td>Century Ply.</td><td>6966.23</td><td>509.93</td><td>null</td></tr><tr><td>304</td><td>Blue Star</td><td>6952.99</td><td>981.3</td><td>null</td></tr><tr><td>305</td><td>Kalpataru Power</td><td>6950.23</td><td>1417.37</td><td>null</td></tr><tr><td>306</td><td>Suzlon Energy</td><td>6942.31</td><td>1193.06</td><td>null</td></tr><tr><td>307</td><td>Cyient</td><td>6921.97</td><td>983.3</td><td>null</td></tr><tr><td>308</td><td>Hind.Copper</td><td>6902.14</td><td>440.14</td><td>null</td></tr><tr><td>309</td><td>Guj Pipavav Port</td><td>6864.85</td><td>162.68</td><td>null</td></tr><tr><td>310</td><td>Carborundum Uni.</td><td>6838.18</td><td>611.59</td><td>null</td></tr><tr><td>311</td><td>Can Fin Homes</td><td>6811.5</td><td>392.1</td><td>null</td></tr><tr><td>312</td><td>Sadbhav Engg.</td><td>6795.06</td><td>2153.34</td><td>null</td></tr><tr><td>313</td><td>Advanta</td><td>6742.41</td><td>361.68</td><td>null</td></tr><tr><td>314</td><td>Capital First</td><td>6710.63</td><td>987.64</td><td>null</td></tr><tr><td>315</td><td>Lak. Mach. Works</td><td>6654.81</td><td>542.42</td><td>null</td></tr><tr><td>316</td><td>Himadri Specialt</td><td>6646.41</td><td>500.08</td><td>null</td></tr><tr><td>317</td><td>Coffee Day Enter</td><td>6601.62</td><td>965.3</td><td>null</td></tr><tr><td>318</td><td>PVR</td><td>6591.31</td><td>557.25</td><td>null</td></tr><tr><td>319</td><td>Chambal Fert.</td><td>6542.79</td><td>2330.1</td><td>null</td></tr><tr><td>320</td><td>Vijaya Bank</td><td>6531.58</td><td>3135.23</td><td>null</td></tr><tr><td>321</td><td>Welspun India</td><td>6520.67</td><td>1397.95</td><td>null</td></tr><tr><td>322</td><td>CEAT</td><td>6476.26</td><td>1574.15</td><td>null</td></tr><tr><td>323</td><td>Strides Shasun</td><td>6469.51</td><td>749.04</td><td>null</td></tr><tr><td>324</td><td>Narayana Hrudaya</td><td>6379.12</td><td>553.84</td><td>null</td></tr><tr><td>325</td><td>Jyothy Lab.</td><td>6324.62</td><td>431.21</td><td>null</td></tr><tr><td>326</td><td>Johnson Con. Hit</td><td>6209.11</td><td>377.4</td><td>null</td></tr><tr><td>327</td><td>Prism Cement</td><td>6176.23</td><td>NaN</td><td>null</td></tr><tr><td>328</td><td>Tata Elxsi</td><td>6153.54</td><td>345.54</td><td>null</td></tr><tr><td>329</td><td>Syndicate Bank</td><td>6086.37</td><td>5375.57</td><td>null</td></tr><tr><td>330</td><td>D B Corp</td><td>6059.97</td><td>598.58</td><td>null</td></tr><tr><td>331</td><td>Jain Irrigation</td><td>6019.89</td><td>1889.63</td><td>null</td></tr><tr><td>332</td><td>Persistent Sys</td><td>5996.4</td><td>791.89</td><td>null</td></tr><tr><td>333</td><td>Redington India</td><td>5896.54</td><td>11728.4</td><td>null</td></tr><tr><td>334</td><td>Sunteck Realty</td><td>5865.04</td><td>201.5</td><td>null</td></tr><tr><td>335</td><td>Raymond</td><td>5863.1</td><td>1484.24</td><td>null</td></tr><tr><td>336</td><td>MOIL</td><td>5840.29</td><td>299.8</td><td>null</td></tr><tr><td>337</td><td>Bombay Dyeing</td><td>5823.25</td><td>619.93</td><td>null</td></tr><tr><td>338</td><td>GE Shipping Co</td><td>5802.66</td><td>584.42</td><td>null</td></tr><tr><td>339</td><td>Grindwell Norton</td><td>5706.51</td><td>365.42</td><td>null</td></tr><tr><td>340</td><td>EID Parry</td><td>5652.33</td><td>3557.94</td><td>null</td></tr><tr><td>341</td><td>I O B</td><td>5591.02</td><td>4254.68</td><td>null</td></tr><tr><td>342</td><td>Galaxy Surfact.</td><td>5567.11</td><td>826.95</td><td>null</td></tr><tr><td>343</td><td>Laurus Labs</td><td>5502.94</td><td>473.77</td><td>null</td></tr><tr><td>344</td><td>Guj Alkalies</td><td>5498.45</td><td>617.61</td><td>null</td></tr><tr><td>345</td><td>GE Power</td><td>5497.4</td><td>NaN</td><td>null</td></tr><tr><td>346</td><td>Timken India</td><td>5495.76</td><td>278.58</td><td>null</td></tr><tr><td>347</td><td>C P C L</td><td>5427.82</td><td>8587.17</td><td>null</td></tr><tr><td>348</td><td>Dishman Carbogen</td><td>5416.39</td><td>459.82</td><td>null</td></tr><tr><td>349</td><td>St Bk of Bikaner</td><td>5402.95</td><td>2262.28</td><td>null</td></tr><tr><td>350</td><td>ISGEC Heavy</td><td>null</td><td>null</td><td>null</td></tr><tr><td>351</td><td>MMTC</td><td>5300.0</td><td>NaN</td><td>null</td></tr><tr><td>352</td><td>IFB Inds.</td><td>5293.53</td><td>531.74</td><td>null</td></tr><tr><td>353</td><td>eClerx Services</td><td>5259.14</td><td>339.89</td><td>null</td></tr><tr><td>354</td><td>Sobha</td><td>5224.11</td><td>691.9</td><td>null</td></tr><tr><td>355</td><td>Kirloskar Oil</td><td>5207.77</td><td>684.61</td><td>null</td></tr><tr><td>356</td><td>G S F C</td><td>5200.13</td><td>1537.45</td><td>null</td></tr><tr><td>357</td><td>CG Power & Indu.</td><td>5151.85</td><td>1516.08</td><td>null</td></tr><tr><td>358</td><td>Westlife Develop</td><td>5145.88</td><td>305.19</td><td>null</td></tr><tr><td>359</td><td>K P R Mill Ltd</td><td>5145.36</td><td>714.51</td><td>null</td></tr><tr><td>360</td><td>Tube Investments</td><td>5139.43</td><td>1274.21</td><td>null</td></tr><tr><td>361</td><td>Bajaj Electrical</td><td>5127.38</td><td>1145.13</td><td>null</td></tr><tr><td>362</td><td>VST Inds.</td><td>5109.25</td><td>238.97</td><td>null</td></tr><tr><td>363</td><td>BEML Ltd</td><td>5089.87</td><td>731.51</td><td>null</td></tr><tr><td>364</td><td>FDC</td><td>5084.19</td><td>248.77</td><td>null</td></tr><tr><td>365</td><td>DCB Bank</td><td>5080.5</td><td>610.78</td><td>null</td></tr><tr><td>366</td><td>Star Cement</td><td>5072.67</td><td>377.43</td><td>null</td></tr><tr><td>367</td><td>Netwrk.18 Media</td><td>5067.23</td><td>366.02</td><td>null</td></tr><tr><td>368</td><td>Gulf Oil Lubric.</td><td>5020.44</td><td>355.95</td><td>null</td></tr><tr><td>369</td><td>UCO Bank</td><td>5012.59</td><td>3449.55</td><td>null</td></tr><tr><td>370</td><td>Jagran Prakashan</td><td>4995.05</td><td>598.07</td><td>null</td></tr><tr><td>371</td><td>Elgi Equipment</td><td>4954.08</td><td>415.42</td><td>null</td></tr><tr><td>372</td><td>JK Lakshmi Cem.</td><td>4931.55</td><td>837.41</td><td>null</td></tr><tr><td>373</td><td>Zydus Wellness</td><td>4921.45</td><td>132.4</td><td>null</td></tr><tr><td>374</td><td>Equitas Holdings</td><td>4886.09</td><td>429.86</td><td>null</td></tr><tr><td>375</td><td>India Cements</td><td>4885.75</td><td>1213.08</td><td>null</td></tr><tr><td>376</td><td>Dishman Pharma.</td><td>4861.2</td><td>534.22</td><td>null</td></tr><tr><td>377</td><td>South Ind.Bank</td><td>4856.71</td><td>1576.96</td><td>null</td></tr><tr><td>378</td><td>Polaris Consulta</td><td>4830.44</td><td>680.07</td><td>null</td></tr><tr><td>379</td><td>V I P Inds.</td><td>4819.63</td><td>337.99</td><td>null</td></tr><tr><td>380</td><td>APL Apollo</td><td>4775.03</td><td>1314.38</td><td>null</td></tr><tr><td>381</td><td>Sadbhav Infra.</td><td>4735.67</td><td>null</td><td>624.37</td></tr><tr><td>382</td><td>Jindal Stain.</td><td>4726.91</td><td>2988.86</td><td>null</td></tr><tr><td>383</td><td>Swan Energy</td><td>4721.49</td><td>null</td><td>NaN</td></tr><tr><td>384</td><td>NIIT Tech.</td><td>4658.2</td><td>null</td><td>756.5</td></tr><tr><td>385</td><td>Caplin Point Lab</td><td>4600.73</td><td>null</td><td>141.61</td></tr><tr><td>386</td><td>Indian Energy Ex</td><td>4595.7</td><td>null</td><td>64.75</td></tr><tr><td>387</td><td>Shoppers St.</td><td>4558.06</td><td>null</td><td>NaN</td></tr><tr><td>388</td><td>Godfrey Phillips</td><td>4512.29</td><td>null</td><td>581.94</td></tr><tr><td>389</td><td>Jindal Stain .Hi</td><td>4498.09</td><td>2438.58</td><td>null</td></tr><tr><td>390</td><td>R C F</td><td>4493.52</td><td>1985.06</td><td>null</td></tr><tr><td>391</td><td>Rallis India</td><td>4493.2</td><td>null</td><td>390.16</td></tr><tr><td>392</td><td>Stand.Chart.PLC</td><td>4487.31</td><td>null</td><td>NaN</td></tr><tr><td>393</td><td>G M D C</td><td>4456.77</td><td>null</td><td>506.06</td></tr><tr><td>394</td><td>Manpasand Bever.</td><td>4406.8</td><td>null</td><td>143.13</td></tr><tr><td>395</td><td>Tata Inv.Corpn.</td><td>4401.66</td><td>null</td><td>47.02</td></tr><tr><td>396</td><td>Essel Propack</td><td>4371.24</td><td>null</td><td>595.05</td></tr><tr><td>397</td><td>Allcargo Logist.</td><td>4369.69</td><td>1479.91</td><td>null</td></tr><tr><td>398</td><td>Radico Khaitan</td><td>4358.48</td><td>null</td><td>482.52</td></tr><tr><td>399</td><td>Cera Sanitary.</td><td>4356.9</td><td>null</td><td>290.88</td></tr><tr><td>400</td><td>BSE</td><td>null</td><td>null</td><td>null</td></tr><tr><td>401</td><td>Forbes & Co</td><td>4331.82</td><td>null</td><td>63.93</td></tr><tr><td>402</td><td>S B T</td><td>4328.47</td><td>2365.94</td><td>null</td></tr><tr><td>403</td><td>KNR Construct.</td><td>4325.39</td><td>null</td><td>433.19</td></tr><tr><td>404</td><td>PNC Infratech</td><td>4307.29</td><td>null</td><td>472.48</td></tr><tr><td>405</td><td>Greenply Inds.</td><td>4295.02</td><td>null</td><td>399.29</td></tr><tr><td>406</td><td>Ujjivan Fin.Ser.</td><td>4293.42</td><td>null</td><td>0.0</td></tr><tr><td>407</td><td>Monsanto India</td><td>4291.43</td><td>null</td><td>183.74</td></tr><tr><td>408</td><td>Vinati Organics</td><td>4279.07</td><td>null</td><td>185.65</td></tr><tr><td>409</td><td>Jindal Saw</td><td>4278.31</td><td>null</td><td>NaN</td></tr><tr><td>410</td><td>Lux Industries</td><td>4269.78</td><td>null</td><td>297.43</td></tr><tr><td>411</td><td>Linde India</td><td>4198.33</td><td>null</td><td>NaN</td></tr><tr><td>412</td><td>Ratnamani Metals</td><td>4194.31</td><td>null</td><td>535.6</td></tr><tr><td>413</td><td>Cox & Kings</td><td>4179.29</td><td>1356.07</td><td>null</td></tr><tr><td>414</td><td>Omaxe</td><td>4168.29</td><td>null</td><td>506.82</td></tr><tr><td>415</td><td>Ashoka Buildcon</td><td>4166.87</td><td>null</td><td>729.22</td></tr><tr><td>416</td><td>Time Technoplast</td><td>4156.58</td><td>null</td><td>754.7</td></tr><tr><td>417</td><td>Phillips Carbon</td><td>4149.67</td><td>null</td><td>612.4</td></tr><tr><td>418</td><td>Allahabad Bank</td><td>4137.11</td><td>4243.83</td><td>null</td></tr><tr><td>419</td><td>Welspun Corp</td><td>4103.05</td><td>2304.16</td><td>null</td></tr><tr><td>420</td><td>NESCO</td><td>4093.02</td><td>null</td><td>80.62</td></tr><tr><td>421</td><td>CARE Ratings</td><td>4090.69</td><td>null</td><td>74.82</td></tr><tr><td>422</td><td>JP Associates</td><td>4074.37</td><td>null</td><td>NaN</td></tr><tr><td>423</td><td>Andhra Bank</td><td>4067.25</td><td>4549.26</td><td>null</td></tr><tr><td>424</td><td>Zensar Tech.</td><td>4066.42</td><td>793.76</td><td>null</td></tr><tr><td>425</td><td>S H Kelkar & Co.</td><td>4057.34</td><td>283.12</td><td>null</td></tr><tr><td>426</td><td>Mahindra Holiday</td><td>4030.35</td><td>267.54</td><td>null</td></tr><tr><td>427</td><td>Sintex Plastics</td><td>4022.02</td><td>1332.73</td><td>null</td></tr><tr><td>428</td><td>SREI Infra. Fin.</td><td>4009.63</td><td>1405.19</td><td>null</td></tr><tr><td>429</td><td>Techno Elec.</td><td>3975.44</td><td>275.64</td><td>null</td></tr><tr><td>430</td><td>Minda Corp</td><td>3974.83</td><td>null</td><td>636.2</td></tr><tr><td>431</td><td>HMT</td><td>3973.5</td><td>null</td><td>NaN</td></tr><tr><td>432</td><td>KPIT Tech.</td><td>3927.26</td><td>912.77</td><td>null</td></tr><tr><td>433</td><td>Triveni Turbine</td><td>3910.17</td><td>165.59</td><td>null</td></tr><tr><td>434</td><td>Shankara Build.</td><td>3901.07</td><td>624.62</td><td>null</td></tr><tr><td>435</td><td>Multi Comm. Exc.</td><td>3847.19</td><td>null</td><td>60.97</td></tr><tr><td>436</td><td>Brigade Enterpr.</td><td>3846.15</td><td>423.91</td><td>null</td></tr><tr><td>437</td><td>Gayatri Projects</td><td>3835.73</td><td>null</td><td>NaN</td></tr><tr><td>438</td><td>Magma Fincorp</td><td>3826.83</td><td>580.58</td><td>null</td></tr><tr><td>439</td><td>VRL Logistics</td><td>3824.69</td><td>489.34</td><td>null</td></tr><tr><td>440</td><td>ICRA</td><td>3809.0</td><td>null</td><td>82.87</td></tr><tr><td>441</td><td>Shriram Pistons</td><td>3804.58</td><td>null</td><td>430.8</td></tr><tr><td>442</td><td>IFCI</td><td>3789.45</td><td>null</td><td>626.8</td></tr><tr><td>443</td><td>Suprajit Engg.</td><td>3777.26</td><td>366.29</td><td>null</td></tr><tr><td>444</td><td>J & K Bank</td><td>3775.5</td><td>1682.97</td><td>null</td></tr><tr><td>445</td><td>Navin Fluo.Intl.</td><td>3769.26</td><td>221.45</td><td>null</td></tr><tr><td>446</td><td>Karnataka Bank</td><td>3765.74</td><td>1332.24</td><td>null</td></tr><tr><td>447</td><td>Shilpa Medicare</td><td>3764.1</td><td>185.53</td><td>null</td></tr><tr><td>448</td><td>Kushal</td><td>3761.86</td><td>578.18</td><td>null</td></tr><tr><td>449</td><td>Venky's (India)</td><td>3760.61</td><td>695.85</td><td>null</td></tr><tr><td>450</td><td>Force Motors</td><td>null</td><td>null</td><td>null</td></tr><tr><td>451</td><td>CCL Products</td><td>3748.73</td><td>273.99</td><td>null</td></tr><tr><td>452</td><td>Excel Crop Care</td><td>3734.06</td><td>258.65</td><td>null</td></tr><tr><td>453</td><td>Trident</td><td>3722.6</td><td>1137.17</td><td>null</td></tr><tr><td>454</td><td>Corporation Bank</td><td>3716.46</td><td>4387.85</td><td>null</td></tr><tr><td>455</td><td>Rane Holdings</td><td>3711.8</td><td>593.74</td><td>null</td></tr><tr><td>456</td><td>Team Lease Serv.</td><td>3677.34</td><td>918.06</td><td>null</td></tr><tr><td>457</td><td>Oriental Bank</td><td>3674.6</td><td>4262.08</td><td>null</td></tr><tr><td>458</td><td>I T D C</td><td>3619.04</td><td>102.14</td><td>null</td></tr><tr><td>459</td><td>JP Power Ven.</td><td>3597.6</td><td>null</td><td>NaN</td></tr><tr><td>460</td><td>S C I</td><td>3582.0</td><td>879.56</td><td>null</td></tr><tr><td>461</td><td>JK Tyre & Indust</td><td>3577.98</td><td>2123.24</td><td>null</td></tr><tr><td>462</td><td>Deepak Nitrite</td><td>3531.9</td><td>371.14</td><td>null</td></tr><tr><td>463</td><td>Heidelberg Cem.</td><td>3531.77</td><td>491.23</td><td>null</td></tr><tr><td>464</td><td>Amber Enterp.</td><td>3529.87</td><td>NaN</td><td>null</td></tr><tr><td>465</td><td>Sharda Cropchem</td><td>3528.07</td><td>325.46</td><td>null</td></tr><tr><td>466</td><td>Dixon Technolog.</td><td>3526.8</td><td>677.8</td><td>null</td></tr><tr><td>467</td><td>Himatsing. Seide</td><td>3511.08</td><td>595.61</td><td>null</td></tr><tr><td>468</td><td>La Opala RG</td><td>3510.93</td><td>69.77</td><td>null</td></tr><tr><td>469</td><td>H F C L</td><td>3482.71</td><td>714.42</td><td>null</td></tr><tr><td>470</td><td>Reliance Home</td><td>3470.6</td><td>403.0</td><td>null</td></tr><tr><td>471</td><td>Rupa & Co</td><td>3460.91</td><td>277.96</td><td>null</td></tr><tr><td>472</td><td>Hind.Construct.</td><td>3452.57</td><td>NaN</td><td>null</td></tr><tr><td>473</td><td>Ent.Network</td><td>3380.99</td><td>148.42</td><td>null</td></tr><tr><td>474</td><td>Supreme Petroch.</td><td>3377.57</td><td>725.02</td><td>null</td></tr><tr><td>475</td><td>MAS FINANC SER</td><td>3376.2</td><td>112.05</td><td>null</td></tr><tr><td>476</td><td>Thyrocare Tech.</td><td>3374.38</td><td>77.84</td><td>null</td></tr><tr><td>477</td><td>Prakash Inds.</td><td>3336.05</td><td>725.97</td><td>null</td></tr><tr><td>478</td><td>Repco Home Fin</td><td>3331.08</td><td>277.48</td><td>null</td></tr><tr><td>479</td><td>Sonata Software</td><td>3329.58</td><td>766.75</td><td>null</td></tr><tr><td>480</td><td>Central Dep. Ser</td><td>3316.31</td><td>47.24</td><td>null</td></tr><tr><td>481</td><td>Puravankara</td><td>3274.9</td><td>440.09</td><td>null</td></tr><tr><td>482</td><td>Tejas Networks</td><td>3209.89</td><td>229.87</td><td>null</td></tr><tr><td>483</td><td>ITD Cem</td><td>3192.67</td><td>472.98</td><td>null</td></tr><tr><td>484</td><td>Hathway Cable</td><td>3189.1</td><td>138.65</td><td>null</td></tr><tr><td>485</td><td>Dhanuka Agritech</td><td>3188.62</td><td>221.51</td><td>null</td></tr><tr><td>486</td><td>Mahindra Logis.</td><td>3187.51</td><td>835.06</td><td>null</td></tr><tr><td>487</td><td>Heritage Foods</td><td>3185.45</td><td>581.74</td><td>null</td></tr><tr><td>488</td><td>Mah. Seamless</td><td>3164.73</td><td>563.66</td><td>null</td></tr><tr><td>489</td><td>Navneet Educat.</td><td>3148.36</td><td>174.41</td><td>null</td></tr><tr><td>490</td><td>Firstsour.Solu.</td><td>3139.94</td><td>887.24</td><td>null</td></tr><tr><td>491</td><td>Kaveri Seed Co.</td><td>3125.83</td><td>70.64</td><td>null</td></tr><tr><td>492</td><td>Star Ferro Cem.</td><td>3115.98</td><td>393.49</td><td>null</td></tr><tr><td>493</td><td>Deepak Fert.</td><td>3079.06</td><td>1644.92</td><td>null</td></tr><tr><td>494</td><td>Va Tech Wabag</td><td>3041.93</td><td>460.89</td><td>null</td></tr><tr><td>495</td><td>Prime Focus</td><td>3031.5</td><td>609.61</td><td>null</td></tr><tr><td>496</td><td>Lak. Vilas Bank</td><td>3029.57</td><td>790.17</td><td>null</td></tr><tr><td>497</td><td>NOCIL</td><td>3026.26</td><td>249.27</td><td>null</td></tr><tr><td>498</td><td>Orient Cement</td><td>3024.32</td><td>511.53</td><td>null</td></tr><tr><td>499</td><td>Natl.Fertilizer</td><td>3017.07</td><td>2840.75</td><td>null</td></tr><tr><td>500</td><td>L T Foods</td><td>null</td><td>null</td><td>null</td></tr></tbody></table></div>"
      ]
     },
     "metadata": {
      "application/vnd.databricks.v1+output": {
       "addedWidgets": {},
       "aggData": [],
       "aggError": "",
       "aggOverflow": false,
       "aggSchema": [],
       "aggSeriesLimitReached": false,
       "aggType": "",
       "arguments": {},
       "columnCustomDisplayInfos": {},
       "data": [
        [
         1,
         "Reliance Inds.",
         583436.72,
         99810.0,
         null
        ],
        [
         2,
         "TCS",
         563709.84,
         30904.0,
         null
        ],
        [
         3,
         "HDFC Bank",
         482953.59,
         20581.27,
         null
        ],
        [
         4,
         "ITC",
         320985.27,
         9772.02,
         null
        ],
        [
         5,
         "H D F C",
         289497.37,
         16840.51,
         null
        ],
        [
         6,
         "Hind. Unilever",
         288265.26,
         8590.0,
         null
        ],
        [
         7,
         "Maruti Suzuki",
         263493.81,
         19283.2,
         null
        ],
        [
         8,
         "Infosys",
         248320.35,
         17794.0,
         null
        ],
        [
         9,
         "O N G C",
         239981.5,
         22995.88,
         null
        ],
        [
         10,
         "St Bk of India",
         232763.33,
         57014.08,
         null
        ],
        [
         11,
         "ICICI Bank",
         203802.35,
         13665.35,
         null
        ],
        [
         12,
         "Kotak Mah. Bank",
         199253.77,
         6390.71,
         null
        ],
        [
         13,
         "Coal India",
         192677.98,
         21643.28,
         null
        ],
        [
         14,
         "Larsen & Toubro",
         180860.74,
         28747.45,
         null
        ],
        [
         15,
         "I O C L",
         178017.48,
         110666.93,
         null
        ],
        [
         16,
         "Bharti Airtel",
         167131.29,
         20318.6,
         null
        ],
        [
         17,
         "Axis Bank",
         136380.76,
         11721.55,
         null
        ],
        [
         18,
         "NTPC",
         135390.53,
         20774.37,
         null
        ],
        [
         19,
         "Sun Pharma.Inds.",
         134241.36,
         6653.23,
         null
        ],
        [
         20,
         "Hind.Zinc",
         133266.56,
         5922.0,
         null
        ],
        [
         21,
         "Wipro",
         131840.57,
         13669.0,
         null
        ],
        [
         22,
         "HCL Technologies",
         126335.27,
         12809.0,
         null
        ],
        [
         23,
         "Vedanta",
         122184.17,
         24361.0,
         null
        ],
        [
         24,
         "Tata Motors",
         117071.87,
         74156.07,
         null
        ],
        [
         25,
         "UltraTech Cem.",
         113692.87,
         8019.24,
         null
        ],
        [
         26,
         "Asian Paints",
         108044.04,
         4260.52,
         null
        ],
        [
         27,
         "Power Grid Corpn",
         102016.01,
         7506.95,
         null
        ],
        [
         28,
         "B P C L",
         98278.0,
         60616.36,
         null
        ],
        [
         29,
         "IndusInd Bank",
         97379.96,
         4286.78,
         null
        ],
        [
         30,
         "Bajaj Fin.",
         94476.77,
         3540.63,
         null
        ],
        [
         31,
         "Bajaj Auto",
         88252.6,
         6369.34,
         null
        ],
        [
         32,
         "M & M",
         88142.35,
         11577.78,
         null
        ],
        [
         33,
         "HDFC Stand. Life",
         87358.23,
         9734.9,
         null
        ],
        [
         34,
         "Adani Ports",
         81781.89,
         2688.85,
         null
        ],
        [
         35,
         "Bajaj Finserv",
         79795.11,
         7665.4,
         null
        ],
        [
         36,
         "GAIL (India)",
         78670.97,
         14414.34,
         null
        ],
        [
         37,
         "Avenue Super.",
         74066.35,
         4094.82,
         null
        ],
        [
         38,
         "Titan Company",
         73886.0,
         4274.84,
         null
        ],
        [
         39,
         "JSW Steel",
         73870.26,
         17861.0,
         null
        ],
        [
         40,
         "Grasim Inds",
         73532.62,
         15291.42,
         null
        ],
        [
         41,
         "Tata Steel",
         73376.14,
         32464.14,
         null
        ],
        [
         42,
         "Eicher Motors",
         73311.41,
         2269.01,
         null
        ],
        [
         43,
         "Nestle India",
         73015.49,
         2601.46,
         null
        ],
        [
         44,
         "Godrej Consumer",
         71859.82,
         2630.3,
         null
        ],
        [
         45,
         "Yes Bank",
         71028.13,
         5070.3,
         null
        ],
        [
         46,
         "Hero Motocorp",
         69448.66,
         7305.49,
         null
        ],
        [
         47,
         "Motherson Sumi",
         68590.33,
         14397.85,
         null
        ],
        [
         48,
         "SBI Life Insuran",
         67465.0,
         9569.97,
         null
        ],
        [
         49,
         "General Insuranc",
         66316.32,
         8557.68,
         null
        ],
        [
         50,
         "Bharti Infra.",
         61776.92,
         null,
         null
        ],
        [
         51,
         "Dabur India",
         60015.0,
         1966.44,
         null
        ],
        [
         52,
         "Bosch",
         59204.28,
         3071.92,
         null
        ],
        [
         53,
         "Shree Cement",
         58987.08,
         2296.23,
         null
        ],
        [
         54,
         "New India Assura",
         58108.48,
         5074.02,
         null
        ],
        [
         55,
         "H P C L",
         58034.78,
         57474.25,
         null
        ],
        [
         56,
         "ICICI Pru Life",
         57748.98,
         13555.32,
         null
        ],
        [
         57,
         "Britannia Inds.",
         56837.2,
         2567.48,
         null
        ],
        [
         58,
         "Tech Mahindra",
         56244.26,
         7775.96,
         null
        ],
        [
         59,
         "Hindalco Inds.",
         55854.68,
         11022.81,
         null
        ],
        [
         60,
         "Zee Entertainmen",
         54817.89,
         1838.07,
         null
        ],
        [
         61,
         "Cairn India",
         53528.57,
         null,
         2149.36
        ],
        [
         62,
         "Indiabulls Hous.",
         52781.67,
         null,
         3115.89
        ],
        [
         63,
         "Ambuja Cem.",
         52361.46,
         null,
         6170.71
        ],
        [
         64,
         "Interglobe Aviat",
         48621.37,
         null,
         6177.88
        ],
        [
         65,
         "Cipla",
         48577.43,
         null,
         3913.82
        ],
        [
         66,
         "Piramal Enterp.",
         47483.97,
         null,
         2858.36
        ],
        [
         67,
         "United Spirits",
         46725.05,
         null,
         2263.3
        ],
        [
         68,
         "Pidilite Inds.",
         45855.5,
         null,
         1542.9
        ],
        [
         69,
         "Siemens",
         44239.04,
         null,
         2429.5
        ],
        [
         70,
         "Cadila Health.",
         41876.19,
         null,
         3259.6
        ],
        [
         71,
         "NMDC",
         41415.33,
         null,
         2469.03
        ],
        [
         72,
         "DLF",
         40159.35,
         null,
         1693.72
        ],
        [
         73,
         "Marico",
         39813.84,
         null,
         1337.59
        ],
        [
         74,
         "Ashok Leyland",
         39047.57,
         null,
         7113.16
        ],
        [
         75,
         "Bharat Electron",
         37776.23,
         null,
         2512.82
        ],
        [
         76,
         "ICICI Lombard",
         37219.22,
         null,
         2110.99
        ],
        [
         77,
         "Lupin",
         36878.85,
         null,
         3975.62
        ],
        [
         78,
         "Petronet LNG",
         36615.0,
         null,
         7757.06
        ],
        [
         79,
         "Aditya Birla Cap",
         36215.92,
         null,
         3325.02
        ],
        [
         80,
         "Dr Reddy's Labs",
         35893.55,
         null,
         3834.1
        ],
        [
         81,
         "Sun TV Network",
         35824.26,
         null,
         683.28
        ],
        [
         82,
         "S A I L",
         35729.04,
         15323.65,
         null
        ],
        [
         83,
         "UPL",
         35349.58,
         null,
         4194.0
        ],
        [
         84,
         "Oracle Fin.Serv.",
         34620.19,
         null,
         1059.12
        ],
        [
         85,
         "Bharat Forge",
         34397.69,
         null,
         1390.55
        ],
        [
         86,
         "Biocon",
         34347.0,
         null,
         1057.9
        ],
        [
         87,
         "B H E L",
         34162.38,
         null,
         6626.35
        ],
        [
         88,
         "Aurobindo Pharma",
         33676.52,
         null,
         4336.11
        ],
        [
         89,
         "Bank of Baroda",
         33364.23,
         11303.24,
         null
        ],
        [
         90,
         "Idea Cellular",
         33047.33,
         null,
         6509.6
        ],
        [
         91,
         "A B B",
         31983.33,
         null,
         2779.4
        ],
        [
         92,
         "Havells India",
         31798.18,
         null,
         1965.77
        ],
        [
         93,
         "Container Corpn.",
         31450.56,
         null,
         1639.55
        ],
        [
         94,
         "TVS Motor Co.",
         30919.51,
         null,
         3684.95
        ],
        [
         95,
         "ACC",
         30803.68,
         null,
         3494.24
        ],
        [
         96,
         "Bajaj Holdings",
         30305.94,
         null,
         317.85
        ],
        [
         97,
         "P & G Hygiene",
         30202.12,
         null,
         704.16
        ],
        [
         98,
         "MRF",
         30030.01,
         null,
         3798.82
        ],
        [
         99,
         "Shriram Trans.",
         29327.64,
         null,
         3087.67
        ],
        [
         100,
         "Colgate-Palm.",
         null,
         null,
         null
        ],
        [
         101,
         "L&T Fin.Holdings",
         28932.43,
         2630.17,
         null
        ],
        [
         102,
         "Punjab Natl.Bank",
         28270.22,
         12175.48,
         null
        ],
        [
         103,
         "NHPC Ltd",
         28059.24,
         1497.93,
         null
        ],
        [
         104,
         "Power Fin.Corpn.",
         27905.66,
         6194.77,
         null
        ],
        [
         105,
         "United Breweries",
         27797.69,
         1197.1,
         null
        ],
        [
         106,
         "Oil India",
         27404.15,
         2852.55,
         null
        ],
        [
         107,
         "Rural Elec.Corp.",
         27382.24,
         5498.45,
         null
        ],
        [
         108,
         "GlaxoSmith C H L",
         27340.89,
         1034.67,
         null
        ],
        [
         109,
         "M & M Fin. Serv.",
         26928.37,
         2182.45,
         null
        ],
        [
         110,
         "Divi's Lab.",
         26915.86,
         1037.88,
         null
        ],
        [
         111,
         "Kansai Nerolac",
         26409.76,
         1145.01,
         null
        ],
        [
         112,
         "Alkem Lab",
         25957.56,
         1422.52,
         null
        ],
        [
         113,
         "LIC Housing Fin.",
         25880.98,
         3738.1,
         null
        ],
        [
         114,
         "Future Retail",
         25859.25,
         4693.39,
         null
        ],
        [
         115,
         "Page Industries",
         25383.03,
         621.03,
         null
        ],
        [
         116,
         "Dalmia Bhar.",
         25288.97,
         2090.54,
         null
        ],
        [
         117,
         "IIFL Holdings",
         24788.54,
         1612.14,
         null
        ],
        [
         118,
         "L & T Infotech",
         24626.1,
         1883.8,
         null
        ],
        [
         119,
         "Aditya Bir. Nuv.",
         24592.21,
         4287.12,
         null
        ],
        [
         120,
         "Emami",
         23720.37,
         756.64,
         null
        ],
        [
         121,
         "Cummins India",
         23562.0,
         1354.67,
         null
        ],
        [
         122,
         "Berger Paints",
         23537.8,
         1338.63,
         null
        ],
        [
         123,
         "Rajesh Exports",
         23495.54,
         41304.84,
         null
        ],
        [
         126,
         "Tata Power Co.",
         23369.24,
         6949.91,
         null
        ],
        [
         127,
         "3M India",
         23101.19,
         645.77,
         null
        ],
        [
         128,
         "Jindal Steel",
         23094.39,
         6992.56,
         null
        ],
        [
         129,
         "Edelweiss.Fin.",
         22915.42,
         2069.45,
         null
        ],
        [
         130,
         "Gillette India",
         21976.74,
         407.52,
         null
        ],
        [
         131,
         "Adani Enterp.",
         21776.04,
         9938.37,
         null
        ],
        [
         132,
         "Adani Transmissi",
         21677.26,
         1782.29,
         null
        ],
        [
         133,
         "Balkrishna Inds",
         21372.18,
         1106.31,
         null
        ],
        [
         134,
         "Cholaman.Inv.&Fn",
         20832.4,
         1404.33,
         null
        ],
        [
         135,
         "Indraprastha Gas",
         20779.52,
         1183.9,
         null
        ],
        [
         136,
         "M R P L",
         20750.78,
         14100.98,
         null
        ],
        [
         137,
         "Glaxosmi. Pharma",
         20489.35,
         703.91,
         null
        ],
        [
         138,
         "PNB Housing",
         20037.85,
         1438.49,
         null
        ],
        [
         139,
         "RBL Bank",
         19748.79,
         1150.79,
         null
        ],
        [
         140,
         "Castrol India",
         18803.22,
         970.3,
         null
        ],
        [
         141,
         "Canara Bank",
         18590.66,
         10774.64,
         null
        ],
        [
         142,
         "GRUH Finance",
         18535.09,
         428.47,
         null
        ],
        [
         143,
         "KIOCL",
         18534.15,
         442.81,
         null
        ],
        [
         144,
         "Voltas",
         18453.44,
         1374.67,
         null
        ],
        [
         145,
         "Godrej Inds.",
         18298.09,
         2458.48,
         null
        ],
        [
         146,
         "Whirlpool India",
         18254.06,
         958.01,
         null
        ],
        [
         147,
         "Sundaram Finance",
         18159.85,
         677.23,
         null
        ],
        [
         148,
         "Federal Bank",
         18086.81,
         2501.2,
         null
        ],
        [
         149,
         "Tata Comm",
         17963.55,
         4114.63,
         null
        ],
        [
         150,
         "Endurance Tech.",
         null,
         null,
         null
        ],
        [
         151,
         "Tata Chemicals",
         17941.47,
         2573.91,
         null
        ],
        [
         152,
         "Exide Inds.",
         17930.75,
         2276.54,
         null
        ],
        [
         153,
         "IDFC Bank",
         17762.77,
         2283.72,
         null
        ],
        [
         154,
         "NBCC",
         17712.0,
         1321.5,
         null
        ],
        [
         155,
         "IDBI Bank",
         17559.35,
         5797.2,
         null
        ],
        [
         156,
         "The Ramco Cement",
         17246.58,
         1056.36,
         null
        ],
        [
         157,
         "Dewan Hsg. Fin.",
         17097.54,
         2631.6,
         null
        ],
        [
         158,
         "MphasiS",
         16728.78,
         1660.69,
         null
        ],
        [
         159,
         "Apollo Hospitals",
         16683.97,
         1896.14,
         null
        ],
        [
         160,
         "Reliance Nip.Lif",
         16655.58,
         394.0,
         null
        ],
        [
         161,
         "Tata Global",
         16589.24,
         1730.39,
         null
        ],
        [
         162,
         "Godrej Propert.",
         16545.51,
         627.03,
         null
        ],
        [
         163,
         "AU Small Finance",
         16453.67,
         464.17,
         null
        ],
        [
         164,
         "Indian Hotels",
         16150.13,
         1197.26,
         null
        ],
        [
         165,
         "Motil.Oswal.Fin.",
         16108.15,
         728.63,
         null
        ],
        [
         166,
         "H U D C O",
         16065.25,
         1064.49,
         null
        ],
        [
         167,
         "Oberoi Realty",
         16044.51,
         356.2,
         null
        ],
        [
         168,
         "Indian Bank",
         15739.16,
         4354.22,
         null
        ],
        [
         169,
         "SJVN",
         15512.35,
         436.58,
         null
        ],
        [
         170,
         "Bank of India",
         15339.87,
         9334.84,
         null
        ],
        [
         171,
         "Supreme Inds.",
         15248.94,
         1278.3,
         null
        ],
        [
         172,
         "Muthoot Finance",
         15226.72,
         1553.71,
         null
        ],
        [
         173,
         "NLC India",
         15201.61,
         1706.48,
         null
        ],
        [
         176,
         "Info Edg.(India)",
         14845.05,
         "NaN",
         null
        ],
        [
         177,
         "Glenmark Pharma.",
         14785.53,
         2203.67,
         null
        ],
        [
         178,
         "Jubilant Life",
         14775.08,
         2067.76,
         null
        ],
        [
         179,
         "Crompton Gr. Con",
         14638.57,
         938.19,
         null
        ],
        [
         180,
         "Honeywell Auto",
         14526.24,
         721.48,
         null
        ],
        [
         181,
         "Natco Pharma",
         14456.9,
         null,
         562.2
        ],
        [
         182,
         "PC Jeweller",
         14334.81,
         2644.89,
         null
        ],
        [
         183,
         "Quess Corp",
         14330.19,
         1583.95,
         null
        ],
        [
         184,
         "CRISIL",
         14164.81,
         441.13,
         null
        ],
        [
         185,
         "WABCO India",
         13843.64,
         649.91,
         null
        ],
        [
         186,
         "Amara Raja Batt.",
         13774.32,
         1553.46,
         null
        ],
        [
         189,
         "Sterlite Tech.",
         13743.95,
         835.18,
         null
        ],
        [
         190,
         "AIA Engg.",
         13593.35,
         572.16,
         null
        ],
        [
         191,
         "KRBL",
         13492.55,
         783.51,
         null
        ],
        [
         192,
         "Max Financial",
         13401.76,
         null,
         "NaN"
        ],
        [
         193,
         "Indiabulls Vent.",
         13396.15,
         238.43,
         null
        ],
        [
         194,
         "Century Textiles",
         13369.97,
         2069.39,
         null
        ],
        [
         195,
         "Jubilant Food.",
         13178.43,
         795.17,
         null
        ],
        [
         196,
         "Bayer Crop Sci.",
         13166.76,
         null,
         479.7
        ],
        [
         197,
         "Graphite India",
         13129.9,
         933.06,
         null
        ],
        [
         198,
         "JSW Energy",
         13104.0,
         1993.2,
         null
        ],
        [
         199,
         "Central Bank",
         13046.18,
         6026.55,
         null
        ],
        [
         200,
         "Natl. Aluminium",
         null,
         null,
         null
        ],
        [
         201,
         "CESC",
         12996.56,
         1706.0,
         null
        ],
        [
         202,
         "Shri.City Union.",
         12995.31,
         1338.09,
         null
        ],
        [
         203,
         "L&T Technology",
         12942.25,
         null,
         969.1
        ],
        [
         204,
         "Rain Industries",
         12655.17,
         3050.81,
         null
        ],
        [
         205,
         "Torrent Power",
         12599.37,
         2754.64,
         null
        ],
        [
         206,
         "Dilip Buildcon",
         12526.06,
         1942.12,
         null
        ],
        [
         207,
         "TI Financial",
         12507.91,
         886.68,
         null
        ],
        [
         208,
         "JM Financial",
         12382.64,
         837.73,
         null
        ],
        [
         209,
         "Adani Power",
         12091.5,
         4844.46,
         null
        ],
        [
         210,
         "Reliance Power",
         12033.99,
         2494.65,
         null
        ],
        [
         211,
         "Reliance Capital",
         11966.83,
         4749.0,
         null
        ],
        [
         212,
         "Syngene Intl.",
         11950.0,
         null,
         387.7
        ],
        [
         213,
         "Abbott India",
         11924.12,
         881.49,
         null
        ],
        [
         214,
         "Hatsun AgroProd.",
         11896.52,
         1012.94,
         null
        ],
        [
         215,
         "Symphony",
         11882.55,
         217.63,
         null
        ],
        [
         216,
         "Gujarat Gas",
         11759.77,
         1571.33,
         null
        ],
        [
         217,
         "Reliance Infra.",
         11737.24,
         5861.04,
         null
        ],
        [
         218,
         "Aditya Bir. Fas.",
         11718.17,
         1855.0,
         null
        ],
        [
         219,
         "Ajanta Pharma",
         11651.8,
         587.05,
         null
        ],
        [
         220,
         "P I Inds.",
         11564.22,
         537.74,
         null
        ],
        [
         221,
         "City Union Bank",
         11554.4,
         null,
         865.36
        ],
        [
         222,
         "Varun Beverages",
         11498.3,
         null,
         329.92
        ],
        [
         223,
         "Mindtree",
         11438.78,
         1377.7,
         null
        ],
        [
         224,
         "Prestige Estates",
         11353.13,
         1272.3,
         null
        ],
        [
         225,
         "Future Consumer",
         11203.15,
         null,
         784.05
        ],
        [
         226,
         "Sundram Fasten.",
         11202.53,
         null,
         848.13
        ],
        [
         227,
         "Sanofi India",
         11182.45,
         null,
         667.5
        ],
        [
         228,
         "Guj.St.Petronet",
         11064.74,
         null,
         350.18
        ],
        [
         229,
         "Godrej Agrovet",
         10918.75,
         null,
         865.77
        ],
        [
         230,
         "Finolex Cables",
         10900.75,
         null,
         656.78
        ],
        [
         231,
         "Bombay Burmah",
         10864.53,
         null,
         "NaN"
        ],
        [
         232,
         "SRF",
         10842.62,
         1397.06,
         null
        ],
        [
         233,
         "GE T&D India",
         10778.42,
         1438.55,
         null
        ],
        [
         234,
         "Alembic Pharma",
         10764.29,
         null,
         840.02
        ],
        [
         235,
         "SPARC",
         10755.13,
         null,
         19.42
        ],
        [
         236,
         "GMR Infra.",
         10653.44,
         2072.29,
         null
        ],
        [
         237,
         "HEG",
         10630.76,
         null,
         842.71
        ],
        [
         238,
         "Trent",
         10589.27,
         null,
         521.32
        ],
        [
         239,
         "Engineers India",
         10565.56,
         null,
         473.42
        ],
        [
         240,
         "Avanti Feeds",
         10558.13,
         null,
         706.43
        ],
        [
         241,
         "Pfizer",
         10508.48,
         null,
         456.54
        ],
        [
         242,
         "Escorts",
         10450.56,
         1205.03,
         null
        ],
        [
         243,
         "Tata Motors-DVR",
         10442.09,
         7769.67,
         null
        ],
        [
         244,
         "Blue Dart Exp.",
         10422.45,
         null,
         704.59
        ],
        [
         245,
         "Indbull.RealEst.",
         10338.4,
         2100.13,
         null
        ],
        [
         246,
         "ERIS Lifescience",
         10289.81,
         null,
         182.21
        ],
        [
         247,
         "Arvind Ltd",
         10247.7,
         2705.75,
         null
        ],
        [
         248,
         "Sundaram Clayton",
         10074.36,
         null,
         "NaN"
        ],
        [
         249,
         "Hexaware Tech.",
         9885.05,
         1004.83,
         null
        ],
        [
         250,
         "Mahanagar Gas",
         null,
         null,
         null
        ],
        [
         255,
         "SKF India",
         9569.14,
         null,
         700.49
        ],
        [
         256,
         "Delta Corp",
         9531.57,
         null,
         162.17
        ],
        [
         257,
         "Union Bank (I)",
         9528.82,
         8260.47,
         null
        ],
        [
         258,
         "TV18 Broadcast",
         9463.27,
         null,
         271.13
        ],
        [
         259,
         "Minda Inds.",
         9457.04,
         1056.16,
         null
        ],
        [
         260,
         "Solar Inds.",
         9317.76,
         null,
         465.68
        ],
        [
         261,
         "Kajaria Ceramics",
         9306.54,
         661.16,
         null
        ],
        [
         262,
         "Astral Poly",
         9162.14,
         528.54,
         null
        ],
        [
         263,
         "Bata India",
         9145.38,
         674.0,
         null
        ],
        [
         264,
         "Phoenix Mills",
         9097.33,
         416.61,
         null
        ],
        [
         267,
         "BASF India",
         8778.35,
         1278.74,
         null
        ],
        [
         268,
         "DCM Shriram",
         8681.95,
         1783.73,
         null
        ],
        [
         269,
         "Infibeam Incorp.",
         8646.54,
         213.48,
         null
        ],
        [
         270,
         "Aegis Logistics",
         8613.86,
         1442.08,
         null
        ],
        [
         271,
         "Mahindra CIE",
         8587.04,
         "NaN",
         null
        ],
        [
         272,
         "Jet Airways",
         8539.88,
         6086.2,
         null
        ],
        [
         273,
         "SpiceJet",
         8458.24,
         2081.95,
         null
        ],
        [
         274,
         "Thomas Cook (I)",
         8440.65,
         3005.45,
         null
        ],
        [
         275,
         "Guj Fluorochem",
         8439.77,
         968.97,
         null
        ],
        [
         276,
         "Wockhardt",
         8428.58,
         1005.3,
         null
        ],
        [
         277,
         "Akzo Nobel",
         8389.47,
         711.99,
         null
        ],
        [
         278,
         "I D F C",
         8380.86,
         2789.58,
         null
        ],
        [
         279,
         "Security & Intel",
         8247.08,
         1537.72,
         null
        ],
        [
         280,
         "Asahi India Glas",
         8183.96,
         640.38,
         null
        ],
        [
         281,
         "TTK Prestige",
         8153.33,
         457.97,
         null
        ],
        [
         282,
         "ITI",
         8124.6,
         250.97,
         null
        ],
        [
         283,
         "Karur Vysya Bank",
         8065.7,
         1422.32,
         null
        ],
        [
         284,
         "Vardhman Textile",
         8023.74,
         1647.98,
         null
        ],
        [
         285,
         "Fortis Health.",
         7966.43,
         1156.61,
         null
        ],
        [
         286,
         "Ipca Labs.",
         7943.03,
         859.21,
         null
        ],
        [
         287,
         "Sheela Foam",
         7815.74,
         532.21,
         null
        ],
        [
         288,
         "IRB Infra.Devl.",
         7812.73,
         1296.19,
         null
        ],
        [
         289,
         "Atul",
         7789.01,
         803.68,
         null
        ],
        [
         290,
         "Finolex Inds.",
         7784.17,
         722.72,
         null
        ],
        [
         291,
         "Dish TV",
         7765.91,
         740.77,
         null
        ],
        [
         292,
         "Rel. Comm.",
         7702.01,
         1144.0,
         null
        ],
        [
         293,
         "Dr Lal Pathlabs",
         7550.78,
         262.7,
         null
        ],
        [
         294,
         "OCL India",
         7453.05,
         859.24,
         null
        ],
        [
         295,
         "NCC",
         7439.01,
         2780.26,
         null
        ],
        [
         296,
         "Relaxo Footwear",
         7251.91,
         457.5,
         null
        ],
        [
         297,
         "J K Cements",
         7230.76,
         1126.11,
         null
        ],
        [
         298,
         "G N F C",
         7208.38,
         1590.89,
         null
        ],
        [
         299,
         "Cochin Shipyard",
         7154.99,
         615.04,
         null
        ],
        [
         300,
         "Bajaj Corp",
         null,
         null,
         null
        ],
        [
         301,
         "Birla Corpn.",
         7137.67,
         1389.32,
         null
        ],
        [
         302,
         "Future Lifestyle",
         7009.13,
         1188.97,
         null
        ],
        [
         303,
         "Century Ply.",
         6966.23,
         509.93,
         null
        ],
        [
         304,
         "Blue Star",
         6952.99,
         981.3,
         null
        ],
        [
         305,
         "Kalpataru Power",
         6950.23,
         1417.37,
         null
        ],
        [
         306,
         "Suzlon Energy",
         6942.31,
         1193.06,
         null
        ],
        [
         307,
         "Cyient",
         6921.97,
         983.3,
         null
        ],
        [
         308,
         "Hind.Copper",
         6902.14,
         440.14,
         null
        ],
        [
         309,
         "Guj Pipavav Port",
         6864.85,
         162.68,
         null
        ],
        [
         310,
         "Carborundum Uni.",
         6838.18,
         611.59,
         null
        ],
        [
         311,
         "Can Fin Homes",
         6811.5,
         392.1,
         null
        ],
        [
         312,
         "Sadbhav Engg.",
         6795.06,
         2153.34,
         null
        ],
        [
         313,
         "Advanta",
         6742.41,
         361.68,
         null
        ],
        [
         314,
         "Capital First",
         6710.63,
         987.64,
         null
        ],
        [
         315,
         "Lak. Mach. Works",
         6654.81,
         542.42,
         null
        ],
        [
         316,
         "Himadri Specialt",
         6646.41,
         500.08,
         null
        ],
        [
         317,
         "Coffee Day Enter",
         6601.62,
         965.3,
         null
        ],
        [
         318,
         "PVR",
         6591.31,
         557.25,
         null
        ],
        [
         319,
         "Chambal Fert.",
         6542.79,
         2330.1,
         null
        ],
        [
         320,
         "Vijaya Bank",
         6531.58,
         3135.23,
         null
        ],
        [
         321,
         "Welspun India",
         6520.67,
         1397.95,
         null
        ],
        [
         322,
         "CEAT",
         6476.26,
         1574.15,
         null
        ],
        [
         323,
         "Strides Shasun",
         6469.51,
         749.04,
         null
        ],
        [
         324,
         "Narayana Hrudaya",
         6379.12,
         553.84,
         null
        ],
        [
         325,
         "Jyothy Lab.",
         6324.62,
         431.21,
         null
        ],
        [
         326,
         "Johnson Con. Hit",
         6209.11,
         377.4,
         null
        ],
        [
         327,
         "Prism Cement",
         6176.23,
         "NaN",
         null
        ],
        [
         328,
         "Tata Elxsi",
         6153.54,
         345.54,
         null
        ],
        [
         329,
         "Syndicate Bank",
         6086.37,
         5375.57,
         null
        ],
        [
         330,
         "D B Corp",
         6059.97,
         598.58,
         null
        ],
        [
         331,
         "Jain Irrigation",
         6019.89,
         1889.63,
         null
        ],
        [
         332,
         "Persistent Sys",
         5996.4,
         791.89,
         null
        ],
        [
         333,
         "Redington India",
         5896.54,
         11728.4,
         null
        ],
        [
         334,
         "Sunteck Realty",
         5865.04,
         201.5,
         null
        ],
        [
         335,
         "Raymond",
         5863.1,
         1484.24,
         null
        ],
        [
         336,
         "MOIL",
         5840.29,
         299.8,
         null
        ],
        [
         337,
         "Bombay Dyeing",
         5823.25,
         619.93,
         null
        ],
        [
         338,
         "GE Shipping Co",
         5802.66,
         584.42,
         null
        ],
        [
         339,
         "Grindwell Norton",
         5706.51,
         365.42,
         null
        ],
        [
         340,
         "EID Parry",
         5652.33,
         3557.94,
         null
        ],
        [
         341,
         "I O B",
         5591.02,
         4254.68,
         null
        ],
        [
         342,
         "Galaxy Surfact.",
         5567.11,
         826.95,
         null
        ],
        [
         343,
         "Laurus Labs",
         5502.94,
         473.77,
         null
        ],
        [
         344,
         "Guj Alkalies",
         5498.45,
         617.61,
         null
        ],
        [
         345,
         "GE Power",
         5497.4,
         "NaN",
         null
        ],
        [
         346,
         "Timken India",
         5495.76,
         278.58,
         null
        ],
        [
         347,
         "C P C L",
         5427.82,
         8587.17,
         null
        ],
        [
         348,
         "Dishman Carbogen",
         5416.39,
         459.82,
         null
        ],
        [
         349,
         "St Bk of Bikaner",
         5402.95,
         2262.28,
         null
        ],
        [
         350,
         "ISGEC Heavy",
         null,
         null,
         null
        ],
        [
         351,
         "MMTC",
         5300.0,
         "NaN",
         null
        ],
        [
         352,
         "IFB Inds.",
         5293.53,
         531.74,
         null
        ],
        [
         353,
         "eClerx Services",
         5259.14,
         339.89,
         null
        ],
        [
         354,
         "Sobha",
         5224.11,
         691.9,
         null
        ],
        [
         355,
         "Kirloskar Oil",
         5207.77,
         684.61,
         null
        ],
        [
         356,
         "G S F C",
         5200.13,
         1537.45,
         null
        ],
        [
         357,
         "CG Power & Indu.",
         5151.85,
         1516.08,
         null
        ],
        [
         358,
         "Westlife Develop",
         5145.88,
         305.19,
         null
        ],
        [
         359,
         "K P R Mill Ltd",
         5145.36,
         714.51,
         null
        ],
        [
         360,
         "Tube Investments",
         5139.43,
         1274.21,
         null
        ],
        [
         361,
         "Bajaj Electrical",
         5127.38,
         1145.13,
         null
        ],
        [
         362,
         "VST Inds.",
         5109.25,
         238.97,
         null
        ],
        [
         363,
         "BEML Ltd",
         5089.87,
         731.51,
         null
        ],
        [
         364,
         "FDC",
         5084.19,
         248.77,
         null
        ],
        [
         365,
         "DCB Bank",
         5080.5,
         610.78,
         null
        ],
        [
         366,
         "Star Cement",
         5072.67,
         377.43,
         null
        ],
        [
         367,
         "Netwrk.18 Media",
         5067.23,
         366.02,
         null
        ],
        [
         368,
         "Gulf Oil Lubric.",
         5020.44,
         355.95,
         null
        ],
        [
         369,
         "UCO Bank",
         5012.59,
         3449.55,
         null
        ],
        [
         370,
         "Jagran Prakashan",
         4995.05,
         598.07,
         null
        ],
        [
         371,
         "Elgi Equipment",
         4954.08,
         415.42,
         null
        ],
        [
         372,
         "JK Lakshmi Cem.",
         4931.55,
         837.41,
         null
        ],
        [
         373,
         "Zydus Wellness",
         4921.45,
         132.4,
         null
        ],
        [
         374,
         "Equitas Holdings",
         4886.09,
         429.86,
         null
        ],
        [
         375,
         "India Cements",
         4885.75,
         1213.08,
         null
        ],
        [
         376,
         "Dishman Pharma.",
         4861.2,
         534.22,
         null
        ],
        [
         377,
         "South Ind.Bank",
         4856.71,
         1576.96,
         null
        ],
        [
         378,
         "Polaris Consulta",
         4830.44,
         680.07,
         null
        ],
        [
         379,
         "V I P Inds.",
         4819.63,
         337.99,
         null
        ],
        [
         380,
         "APL Apollo",
         4775.03,
         1314.38,
         null
        ],
        [
         381,
         "Sadbhav Infra.",
         4735.67,
         null,
         624.37
        ],
        [
         382,
         "Jindal Stain.",
         4726.91,
         2988.86,
         null
        ],
        [
         383,
         "Swan Energy",
         4721.49,
         null,
         "NaN"
        ],
        [
         384,
         "NIIT Tech.",
         4658.2,
         null,
         756.5
        ],
        [
         385,
         "Caplin Point Lab",
         4600.73,
         null,
         141.61
        ],
        [
         386,
         "Indian Energy Ex",
         4595.7,
         null,
         64.75
        ],
        [
         387,
         "Shoppers St.",
         4558.06,
         null,
         "NaN"
        ],
        [
         388,
         "Godfrey Phillips",
         4512.29,
         null,
         581.94
        ],
        [
         389,
         "Jindal Stain .Hi",
         4498.09,
         2438.58,
         null
        ],
        [
         390,
         "R C F",
         4493.52,
         1985.06,
         null
        ],
        [
         391,
         "Rallis India",
         4493.2,
         null,
         390.16
        ],
        [
         392,
         "Stand.Chart.PLC",
         4487.31,
         null,
         "NaN"
        ],
        [
         393,
         "G M D C",
         4456.77,
         null,
         506.06
        ],
        [
         394,
         "Manpasand Bever.",
         4406.8,
         null,
         143.13
        ],
        [
         395,
         "Tata Inv.Corpn.",
         4401.66,
         null,
         47.02
        ],
        [
         396,
         "Essel Propack",
         4371.24,
         null,
         595.05
        ],
        [
         397,
         "Allcargo Logist.",
         4369.69,
         1479.91,
         null
        ],
        [
         398,
         "Radico Khaitan",
         4358.48,
         null,
         482.52
        ],
        [
         399,
         "Cera Sanitary.",
         4356.9,
         null,
         290.88
        ],
        [
         400,
         "BSE",
         null,
         null,
         null
        ],
        [
         401,
         "Forbes & Co",
         4331.82,
         null,
         63.93
        ],
        [
         402,
         "S B T",
         4328.47,
         2365.94,
         null
        ],
        [
         403,
         "KNR Construct.",
         4325.39,
         null,
         433.19
        ],
        [
         404,
         "PNC Infratech",
         4307.29,
         null,
         472.48
        ],
        [
         405,
         "Greenply Inds.",
         4295.02,
         null,
         399.29
        ],
        [
         406,
         "Ujjivan Fin.Ser.",
         4293.42,
         null,
         0.0
        ],
        [
         407,
         "Monsanto India",
         4291.43,
         null,
         183.74
        ],
        [
         408,
         "Vinati Organics",
         4279.07,
         null,
         185.65
        ],
        [
         409,
         "Jindal Saw",
         4278.31,
         null,
         "NaN"
        ],
        [
         410,
         "Lux Industries",
         4269.78,
         null,
         297.43
        ],
        [
         411,
         "Linde India",
         4198.33,
         null,
         "NaN"
        ],
        [
         412,
         "Ratnamani Metals",
         4194.31,
         null,
         535.6
        ],
        [
         413,
         "Cox & Kings",
         4179.29,
         1356.07,
         null
        ],
        [
         414,
         "Omaxe",
         4168.29,
         null,
         506.82
        ],
        [
         415,
         "Ashoka Buildcon",
         4166.87,
         null,
         729.22
        ],
        [
         416,
         "Time Technoplast",
         4156.58,
         null,
         754.7
        ],
        [
         417,
         "Phillips Carbon",
         4149.67,
         null,
         612.4
        ],
        [
         418,
         "Allahabad Bank",
         4137.11,
         4243.83,
         null
        ],
        [
         419,
         "Welspun Corp",
         4103.05,
         2304.16,
         null
        ],
        [
         420,
         "NESCO",
         4093.02,
         null,
         80.62
        ],
        [
         421,
         "CARE Ratings",
         4090.69,
         null,
         74.82
        ],
        [
         422,
         "JP Associates",
         4074.37,
         null,
         "NaN"
        ],
        [
         423,
         "Andhra Bank",
         4067.25,
         4549.26,
         null
        ],
        [
         424,
         "Zensar Tech.",
         4066.42,
         793.76,
         null
        ],
        [
         425,
         "S H Kelkar & Co.",
         4057.34,
         283.12,
         null
        ],
        [
         426,
         "Mahindra Holiday",
         4030.35,
         267.54,
         null
        ],
        [
         427,
         "Sintex Plastics",
         4022.02,
         1332.73,
         null
        ],
        [
         428,
         "SREI Infra. Fin.",
         4009.63,
         1405.19,
         null
        ],
        [
         429,
         "Techno Elec.",
         3975.44,
         275.64,
         null
        ],
        [
         430,
         "Minda Corp",
         3974.83,
         null,
         636.2
        ],
        [
         431,
         "HMT",
         3973.5,
         null,
         "NaN"
        ],
        [
         432,
         "KPIT Tech.",
         3927.26,
         912.77,
         null
        ],
        [
         433,
         "Triveni Turbine",
         3910.17,
         165.59,
         null
        ],
        [
         434,
         "Shankara Build.",
         3901.07,
         624.62,
         null
        ],
        [
         435,
         "Multi Comm. Exc.",
         3847.19,
         null,
         60.97
        ],
        [
         436,
         "Brigade Enterpr.",
         3846.15,
         423.91,
         null
        ],
        [
         437,
         "Gayatri Projects",
         3835.73,
         null,
         "NaN"
        ],
        [
         438,
         "Magma Fincorp",
         3826.83,
         580.58,
         null
        ],
        [
         439,
         "VRL Logistics",
         3824.69,
         489.34,
         null
        ],
        [
         440,
         "ICRA",
         3809.0,
         null,
         82.87
        ],
        [
         441,
         "Shriram Pistons",
         3804.58,
         null,
         430.8
        ],
        [
         442,
         "IFCI",
         3789.45,
         null,
         626.8
        ],
        [
         443,
         "Suprajit Engg.",
         3777.26,
         366.29,
         null
        ],
        [
         444,
         "J & K Bank",
         3775.5,
         1682.97,
         null
        ],
        [
         445,
         "Navin Fluo.Intl.",
         3769.26,
         221.45,
         null
        ],
        [
         446,
         "Karnataka Bank",
         3765.74,
         1332.24,
         null
        ],
        [
         447,
         "Shilpa Medicare",
         3764.1,
         185.53,
         null
        ],
        [
         448,
         "Kushal",
         3761.86,
         578.18,
         null
        ],
        [
         449,
         "Venky's (India)",
         3760.61,
         695.85,
         null
        ],
        [
         450,
         "Force Motors",
         null,
         null,
         null
        ],
        [
         451,
         "CCL Products",
         3748.73,
         273.99,
         null
        ],
        [
         452,
         "Excel Crop Care",
         3734.06,
         258.65,
         null
        ],
        [
         453,
         "Trident",
         3722.6,
         1137.17,
         null
        ],
        [
         454,
         "Corporation Bank",
         3716.46,
         4387.85,
         null
        ],
        [
         455,
         "Rane Holdings",
         3711.8,
         593.74,
         null
        ],
        [
         456,
         "Team Lease Serv.",
         3677.34,
         918.06,
         null
        ],
        [
         457,
         "Oriental Bank",
         3674.6,
         4262.08,
         null
        ],
        [
         458,
         "I T D C",
         3619.04,
         102.14,
         null
        ],
        [
         459,
         "JP Power Ven.",
         3597.6,
         null,
         "NaN"
        ],
        [
         460,
         "S C I",
         3582.0,
         879.56,
         null
        ],
        [
         461,
         "JK Tyre & Indust",
         3577.98,
         2123.24,
         null
        ],
        [
         462,
         "Deepak Nitrite",
         3531.9,
         371.14,
         null
        ],
        [
         463,
         "Heidelberg Cem.",
         3531.77,
         491.23,
         null
        ],
        [
         464,
         "Amber Enterp.",
         3529.87,
         "NaN",
         null
        ],
        [
         465,
         "Sharda Cropchem",
         3528.07,
         325.46,
         null
        ],
        [
         466,
         "Dixon Technolog.",
         3526.8,
         677.8,
         null
        ],
        [
         467,
         "Himatsing. Seide",
         3511.08,
         595.61,
         null
        ],
        [
         468,
         "La Opala RG",
         3510.93,
         69.77,
         null
        ],
        [
         469,
         "H F C L",
         3482.71,
         714.42,
         null
        ],
        [
         470,
         "Reliance Home",
         3470.6,
         403.0,
         null
        ],
        [
         471,
         "Rupa & Co",
         3460.91,
         277.96,
         null
        ],
        [
         472,
         "Hind.Construct.",
         3452.57,
         "NaN",
         null
        ],
        [
         473,
         "Ent.Network",
         3380.99,
         148.42,
         null
        ],
        [
         474,
         "Supreme Petroch.",
         3377.57,
         725.02,
         null
        ],
        [
         475,
         "MAS FINANC SER",
         3376.2,
         112.05,
         null
        ],
        [
         476,
         "Thyrocare Tech.",
         3374.38,
         77.84,
         null
        ],
        [
         477,
         "Prakash Inds.",
         3336.05,
         725.97,
         null
        ],
        [
         478,
         "Repco Home Fin",
         3331.08,
         277.48,
         null
        ],
        [
         479,
         "Sonata Software",
         3329.58,
         766.75,
         null
        ],
        [
         480,
         "Central Dep. Ser",
         3316.31,
         47.24,
         null
        ],
        [
         481,
         "Puravankara",
         3274.9,
         440.09,
         null
        ],
        [
         482,
         "Tejas Networks",
         3209.89,
         229.87,
         null
        ],
        [
         483,
         "ITD Cem",
         3192.67,
         472.98,
         null
        ],
        [
         484,
         "Hathway Cable",
         3189.1,
         138.65,
         null
        ],
        [
         485,
         "Dhanuka Agritech",
         3188.62,
         221.51,
         null
        ],
        [
         486,
         "Mahindra Logis.",
         3187.51,
         835.06,
         null
        ],
        [
         487,
         "Heritage Foods",
         3185.45,
         581.74,
         null
        ],
        [
         488,
         "Mah. Seamless",
         3164.73,
         563.66,
         null
        ],
        [
         489,
         "Navneet Educat.",
         3148.36,
         174.41,
         null
        ],
        [
         490,
         "Firstsour.Solu.",
         3139.94,
         887.24,
         null
        ],
        [
         491,
         "Kaveri Seed Co.",
         3125.83,
         70.64,
         null
        ],
        [
         492,
         "Star Ferro Cem.",
         3115.98,
         393.49,
         null
        ],
        [
         493,
         "Deepak Fert.",
         3079.06,
         1644.92,
         null
        ],
        [
         494,
         "Va Tech Wabag",
         3041.93,
         460.89,
         null
        ],
        [
         495,
         "Prime Focus",
         3031.5,
         609.61,
         null
        ],
        [
         496,
         "Lak. Vilas Bank",
         3029.57,
         790.17,
         null
        ],
        [
         497,
         "NOCIL",
         3026.26,
         249.27,
         null
        ],
        [
         498,
         "Orient Cement",
         3024.32,
         511.53,
         null
        ],
        [
         499,
         "Natl.Fertilizer",
         3017.07,
         2840.75,
         null
        ],
        [
         500,
         "L T Foods",
         null,
         null,
         null
        ]
       ],
       "datasetInfos": [],
       "dbfsResultPath": null,
       "isJsonSchema": true,
       "metadata": {},
       "overflow": false,
       "plotOptions": {
        "customPlotOptions": {},
        "displayType": "table",
        "pivotAggregation": null,
        "pivotColumns": null,
        "xColumns": null,
        "yColumns": null
       },
       "removedWidgets": [],
       "schema": [
        {
         "metadata": "{}",
         "name": "S.No.",
         "type": "\"integer\""
        },
        {
         "metadata": "{}",
         "name": "Name",
         "type": "\"string\""
        },
        {
         "metadata": "{}",
         "name": "Mar Cap - Crore",
         "type": "\"double\""
        },
        {
         "metadata": "{}",
         "name": "Sales Qtr - Crore",
         "type": "\"double\""
        },
        {
         "metadata": "{}",
         "name": "_c4",
         "type": "\"double\""
        }
       ],
       "type": "table"
      }
     },
     "output_type": "display_data"
    }
   ],
   "source": [
    "\n",
    "df.display()"
   ]
  },
  {
   "cell_type": "markdown",
   "metadata": {
    "application/vnd.databricks.v1+cell": {
     "cellMetadata": {},
     "inputWidgets": {},
     "nuid": "76ac92af-89e9-4ad2-8bff-e27e444aed19",
     "showTitle": false,
     "title": ""
    }
   },
   "source": [
    "Checking Data Type Of The Columns"
   ]
  },
  {
   "cell_type": "code",
   "execution_count": 0,
   "metadata": {
    "application/vnd.databricks.v1+cell": {
     "cellMetadata": {
      "byteLimit": 2048000,
      "rowLimit": 10000
     },
     "inputWidgets": {},
     "nuid": "7fc8d8ea-13ac-4901-a536-446f4f98f57e",
     "showTitle": false,
     "title": ""
    }
   },
   "outputs": [
    {
     "output_type": "stream",
     "name": "stdout",
     "output_type": "stream",
     "text": [
      "root\n |-- S.No.: integer (nullable = true)\n |-- Name: string (nullable = true)\n |-- Mar Cap - Crore: double (nullable = true)\n |-- Sales Qtr - Crore: double (nullable = true)\n |-- _c4: double (nullable = true)\n\n"
     ]
    }
   ],
   "source": [
    "df.printSchema()"
   ]
  },
  {
   "cell_type": "markdown",
   "metadata": {
    "application/vnd.databricks.v1+cell": {
     "cellMetadata": {},
     "inputWidgets": {},
     "nuid": "2af110e8-35b3-472f-bf12-c9d605103e00",
     "showTitle": false,
     "title": ""
    }
   },
   "source": [
    "Data Transformation"
   ]
  },
  {
   "cell_type": "code",
   "execution_count": 0,
   "metadata": {
    "application/vnd.databricks.v1+cell": {
     "cellMetadata": {
      "byteLimit": 2048000,
      "rowLimit": 10000
     },
     "inputWidgets": {},
     "nuid": "3b847b26-d91f-40c6-bfc2-fa0f3d6bfd85",
     "showTitle": false,
     "title": ""
    }
   },
   "outputs": [],
   "source": [
    "filter_df = df.withColumn(\"Sales Qtr - Crore\", coalesce(col(\"Sales Qtr - Crore\"), col(\"_c4\")))"
   ]
  },
  {
   "cell_type": "code",
   "execution_count": 0,
   "metadata": {
    "application/vnd.databricks.v1+cell": {
     "cellMetadata": {
      "byteLimit": 2048000,
      "rowLimit": 10000
     },
     "inputWidgets": {},
     "nuid": "7ee456de-9991-4855-98a6-d02a07a07538",
     "showTitle": false,
     "title": ""
    }
   },
   "outputs": [
    {
     "output_type": "display_data",
     "data": {
      "text/html": [
       "<style scoped>\n",
       "  .table-result-container {\n",
       "    max-height: 300px;\n",
       "    overflow: auto;\n",
       "  }\n",
       "  table, th, td {\n",
       "    border: 1px solid black;\n",
       "    border-collapse: collapse;\n",
       "  }\n",
       "  th, td {\n",
       "    padding: 5px;\n",
       "  }\n",
       "  th {\n",
       "    text-align: left;\n",
       "  }\n",
       "</style><div class='table-result-container'><table class='table-result'><thead style='background-color: white'><tr><th>S.No.</th><th>Name</th><th>Mar Cap - Crore</th><th>Sales Qtr - Crore</th></tr></thead><tbody><tr><td>1</td><td>Reliance Inds.</td><td>583436.72</td><td>99810.0</td></tr><tr><td>2</td><td>TCS</td><td>563709.84</td><td>30904.0</td></tr><tr><td>3</td><td>HDFC Bank</td><td>482953.59</td><td>20581.27</td></tr><tr><td>4</td><td>ITC</td><td>320985.27</td><td>9772.02</td></tr><tr><td>5</td><td>H D F C</td><td>289497.37</td><td>16840.51</td></tr><tr><td>6</td><td>Hind. Unilever</td><td>288265.26</td><td>8590.0</td></tr><tr><td>7</td><td>Maruti Suzuki</td><td>263493.81</td><td>19283.2</td></tr><tr><td>8</td><td>Infosys</td><td>248320.35</td><td>17794.0</td></tr><tr><td>9</td><td>O N G C</td><td>239981.5</td><td>22995.88</td></tr><tr><td>10</td><td>St Bk of India</td><td>232763.33</td><td>57014.08</td></tr><tr><td>11</td><td>ICICI Bank</td><td>203802.35</td><td>13665.35</td></tr><tr><td>12</td><td>Kotak Mah. Bank</td><td>199253.77</td><td>6390.71</td></tr><tr><td>13</td><td>Coal India</td><td>192677.98</td><td>21643.28</td></tr><tr><td>14</td><td>Larsen & Toubro</td><td>180860.74</td><td>28747.45</td></tr><tr><td>15</td><td>I O C L</td><td>178017.48</td><td>110666.93</td></tr><tr><td>16</td><td>Bharti Airtel</td><td>167131.29</td><td>20318.6</td></tr><tr><td>17</td><td>Axis Bank</td><td>136380.76</td><td>11721.55</td></tr><tr><td>18</td><td>NTPC</td><td>135390.53</td><td>20774.37</td></tr><tr><td>19</td><td>Sun Pharma.Inds.</td><td>134241.36</td><td>6653.23</td></tr><tr><td>20</td><td>Hind.Zinc</td><td>133266.56</td><td>5922.0</td></tr><tr><td>21</td><td>Wipro</td><td>131840.57</td><td>13669.0</td></tr><tr><td>22</td><td>HCL Technologies</td><td>126335.27</td><td>12809.0</td></tr><tr><td>23</td><td>Vedanta</td><td>122184.17</td><td>24361.0</td></tr><tr><td>24</td><td>Tata Motors</td><td>117071.87</td><td>74156.07</td></tr><tr><td>25</td><td>UltraTech Cem.</td><td>113692.87</td><td>8019.24</td></tr><tr><td>26</td><td>Asian Paints</td><td>108044.04</td><td>4260.52</td></tr><tr><td>27</td><td>Power Grid Corpn</td><td>102016.01</td><td>7506.95</td></tr><tr><td>28</td><td>B P C L</td><td>98278.0</td><td>60616.36</td></tr><tr><td>29</td><td>IndusInd Bank</td><td>97379.96</td><td>4286.78</td></tr><tr><td>30</td><td>Bajaj Fin.</td><td>94476.77</td><td>3540.63</td></tr><tr><td>31</td><td>Bajaj Auto</td><td>88252.6</td><td>6369.34</td></tr><tr><td>32</td><td>M & M</td><td>88142.35</td><td>11577.78</td></tr><tr><td>33</td><td>HDFC Stand. Life</td><td>87358.23</td><td>9734.9</td></tr><tr><td>34</td><td>Adani Ports</td><td>81781.89</td><td>2688.85</td></tr><tr><td>35</td><td>Bajaj Finserv</td><td>79795.11</td><td>7665.4</td></tr><tr><td>36</td><td>GAIL (India)</td><td>78670.97</td><td>14414.34</td></tr><tr><td>37</td><td>Avenue Super.</td><td>74066.35</td><td>4094.82</td></tr><tr><td>38</td><td>Titan Company</td><td>73886.0</td><td>4274.84</td></tr><tr><td>39</td><td>JSW Steel</td><td>73870.26</td><td>17861.0</td></tr><tr><td>40</td><td>Grasim Inds</td><td>73532.62</td><td>15291.42</td></tr><tr><td>41</td><td>Tata Steel</td><td>73376.14</td><td>32464.14</td></tr><tr><td>42</td><td>Eicher Motors</td><td>73311.41</td><td>2269.01</td></tr><tr><td>43</td><td>Nestle India</td><td>73015.49</td><td>2601.46</td></tr><tr><td>44</td><td>Godrej Consumer</td><td>71859.82</td><td>2630.3</td></tr><tr><td>45</td><td>Yes Bank</td><td>71028.13</td><td>5070.3</td></tr><tr><td>46</td><td>Hero Motocorp</td><td>69448.66</td><td>7305.49</td></tr><tr><td>47</td><td>Motherson Sumi</td><td>68590.33</td><td>14397.85</td></tr><tr><td>48</td><td>SBI Life Insuran</td><td>67465.0</td><td>9569.97</td></tr><tr><td>49</td><td>General Insuranc</td><td>66316.32</td><td>8557.68</td></tr><tr><td>50</td><td>Bharti Infra.</td><td>61776.92</td><td>null</td></tr><tr><td>51</td><td>Dabur India</td><td>60015.0</td><td>1966.44</td></tr><tr><td>52</td><td>Bosch</td><td>59204.28</td><td>3071.92</td></tr><tr><td>53</td><td>Shree Cement</td><td>58987.08</td><td>2296.23</td></tr><tr><td>54</td><td>New India Assura</td><td>58108.48</td><td>5074.02</td></tr><tr><td>55</td><td>H P C L</td><td>58034.78</td><td>57474.25</td></tr><tr><td>56</td><td>ICICI Pru Life</td><td>57748.98</td><td>13555.32</td></tr><tr><td>57</td><td>Britannia Inds.</td><td>56837.2</td><td>2567.48</td></tr><tr><td>58</td><td>Tech Mahindra</td><td>56244.26</td><td>7775.96</td></tr><tr><td>59</td><td>Hindalco Inds.</td><td>55854.68</td><td>11022.81</td></tr><tr><td>60</td><td>Zee Entertainmen</td><td>54817.89</td><td>1838.07</td></tr><tr><td>61</td><td>Cairn India</td><td>53528.57</td><td>2149.36</td></tr><tr><td>62</td><td>Indiabulls Hous.</td><td>52781.67</td><td>3115.89</td></tr><tr><td>63</td><td>Ambuja Cem.</td><td>52361.46</td><td>6170.71</td></tr><tr><td>64</td><td>Interglobe Aviat</td><td>48621.37</td><td>6177.88</td></tr><tr><td>65</td><td>Cipla</td><td>48577.43</td><td>3913.82</td></tr><tr><td>66</td><td>Piramal Enterp.</td><td>47483.97</td><td>2858.36</td></tr><tr><td>67</td><td>United Spirits</td><td>46725.05</td><td>2263.3</td></tr><tr><td>68</td><td>Pidilite Inds.</td><td>45855.5</td><td>1542.9</td></tr><tr><td>69</td><td>Siemens</td><td>44239.04</td><td>2429.5</td></tr><tr><td>70</td><td>Cadila Health.</td><td>41876.19</td><td>3259.6</td></tr><tr><td>71</td><td>NMDC</td><td>41415.33</td><td>2469.03</td></tr><tr><td>72</td><td>DLF</td><td>40159.35</td><td>1693.72</td></tr><tr><td>73</td><td>Marico</td><td>39813.84</td><td>1337.59</td></tr><tr><td>74</td><td>Ashok Leyland</td><td>39047.57</td><td>7113.16</td></tr><tr><td>75</td><td>Bharat Electron</td><td>37776.23</td><td>2512.82</td></tr><tr><td>76</td><td>ICICI Lombard</td><td>37219.22</td><td>2110.99</td></tr><tr><td>77</td><td>Lupin</td><td>36878.85</td><td>3975.62</td></tr><tr><td>78</td><td>Petronet LNG</td><td>36615.0</td><td>7757.06</td></tr><tr><td>79</td><td>Aditya Birla Cap</td><td>36215.92</td><td>3325.02</td></tr><tr><td>80</td><td>Dr Reddy's Labs</td><td>35893.55</td><td>3834.1</td></tr><tr><td>81</td><td>Sun TV Network</td><td>35824.26</td><td>683.28</td></tr><tr><td>82</td><td>S A I L</td><td>35729.04</td><td>15323.65</td></tr><tr><td>83</td><td>UPL</td><td>35349.58</td><td>4194.0</td></tr><tr><td>84</td><td>Oracle Fin.Serv.</td><td>34620.19</td><td>1059.12</td></tr><tr><td>85</td><td>Bharat Forge</td><td>34397.69</td><td>1390.55</td></tr><tr><td>86</td><td>Biocon</td><td>34347.0</td><td>1057.9</td></tr><tr><td>87</td><td>B H E L</td><td>34162.38</td><td>6626.35</td></tr><tr><td>88</td><td>Aurobindo Pharma</td><td>33676.52</td><td>4336.11</td></tr><tr><td>89</td><td>Bank of Baroda</td><td>33364.23</td><td>11303.24</td></tr><tr><td>90</td><td>Idea Cellular</td><td>33047.33</td><td>6509.6</td></tr><tr><td>91</td><td>A B B</td><td>31983.33</td><td>2779.4</td></tr><tr><td>92</td><td>Havells India</td><td>31798.18</td><td>1965.77</td></tr><tr><td>93</td><td>Container Corpn.</td><td>31450.56</td><td>1639.55</td></tr><tr><td>94</td><td>TVS Motor Co.</td><td>30919.51</td><td>3684.95</td></tr><tr><td>95</td><td>ACC</td><td>30803.68</td><td>3494.24</td></tr><tr><td>96</td><td>Bajaj Holdings</td><td>30305.94</td><td>317.85</td></tr><tr><td>97</td><td>P & G Hygiene</td><td>30202.12</td><td>704.16</td></tr><tr><td>98</td><td>MRF</td><td>30030.01</td><td>3798.82</td></tr><tr><td>99</td><td>Shriram Trans.</td><td>29327.64</td><td>3087.67</td></tr><tr><td>100</td><td>Colgate-Palm.</td><td>null</td><td>null</td></tr><tr><td>101</td><td>L&T Fin.Holdings</td><td>28932.43</td><td>2630.17</td></tr><tr><td>102</td><td>Punjab Natl.Bank</td><td>28270.22</td><td>12175.48</td></tr><tr><td>103</td><td>NHPC Ltd</td><td>28059.24</td><td>1497.93</td></tr><tr><td>104</td><td>Power Fin.Corpn.</td><td>27905.66</td><td>6194.77</td></tr><tr><td>105</td><td>United Breweries</td><td>27797.69</td><td>1197.1</td></tr><tr><td>106</td><td>Oil India</td><td>27404.15</td><td>2852.55</td></tr><tr><td>107</td><td>Rural Elec.Corp.</td><td>27382.24</td><td>5498.45</td></tr><tr><td>108</td><td>GlaxoSmith C H L</td><td>27340.89</td><td>1034.67</td></tr><tr><td>109</td><td>M & M Fin. Serv.</td><td>26928.37</td><td>2182.45</td></tr><tr><td>110</td><td>Divi's Lab.</td><td>26915.86</td><td>1037.88</td></tr><tr><td>111</td><td>Kansai Nerolac</td><td>26409.76</td><td>1145.01</td></tr><tr><td>112</td><td>Alkem Lab</td><td>25957.56</td><td>1422.52</td></tr><tr><td>113</td><td>LIC Housing Fin.</td><td>25880.98</td><td>3738.1</td></tr><tr><td>114</td><td>Future Retail</td><td>25859.25</td><td>4693.39</td></tr><tr><td>115</td><td>Page Industries</td><td>25383.03</td><td>621.03</td></tr><tr><td>116</td><td>Dalmia Bhar.</td><td>25288.97</td><td>2090.54</td></tr><tr><td>117</td><td>IIFL Holdings</td><td>24788.54</td><td>1612.14</td></tr><tr><td>118</td><td>L & T Infotech</td><td>24626.1</td><td>1883.8</td></tr><tr><td>119</td><td>Aditya Bir. Nuv.</td><td>24592.21</td><td>4287.12</td></tr><tr><td>120</td><td>Emami</td><td>23720.37</td><td>756.64</td></tr><tr><td>121</td><td>Cummins India</td><td>23562.0</td><td>1354.67</td></tr><tr><td>122</td><td>Berger Paints</td><td>23537.8</td><td>1338.63</td></tr><tr><td>123</td><td>Rajesh Exports</td><td>23495.54</td><td>41304.84</td></tr><tr><td>126</td><td>Tata Power Co.</td><td>23369.24</td><td>6949.91</td></tr><tr><td>127</td><td>3M India</td><td>23101.19</td><td>645.77</td></tr><tr><td>128</td><td>Jindal Steel</td><td>23094.39</td><td>6992.56</td></tr><tr><td>129</td><td>Edelweiss.Fin.</td><td>22915.42</td><td>2069.45</td></tr><tr><td>130</td><td>Gillette India</td><td>21976.74</td><td>407.52</td></tr><tr><td>131</td><td>Adani Enterp.</td><td>21776.04</td><td>9938.37</td></tr><tr><td>132</td><td>Adani Transmissi</td><td>21677.26</td><td>1782.29</td></tr><tr><td>133</td><td>Balkrishna Inds</td><td>21372.18</td><td>1106.31</td></tr><tr><td>134</td><td>Cholaman.Inv.&Fn</td><td>20832.4</td><td>1404.33</td></tr><tr><td>135</td><td>Indraprastha Gas</td><td>20779.52</td><td>1183.9</td></tr><tr><td>136</td><td>M R P L</td><td>20750.78</td><td>14100.98</td></tr><tr><td>137</td><td>Glaxosmi. Pharma</td><td>20489.35</td><td>703.91</td></tr><tr><td>138</td><td>PNB Housing</td><td>20037.85</td><td>1438.49</td></tr><tr><td>139</td><td>RBL Bank</td><td>19748.79</td><td>1150.79</td></tr><tr><td>140</td><td>Castrol India</td><td>18803.22</td><td>970.3</td></tr><tr><td>141</td><td>Canara Bank</td><td>18590.66</td><td>10774.64</td></tr><tr><td>142</td><td>GRUH Finance</td><td>18535.09</td><td>428.47</td></tr><tr><td>143</td><td>KIOCL</td><td>18534.15</td><td>442.81</td></tr><tr><td>144</td><td>Voltas</td><td>18453.44</td><td>1374.67</td></tr><tr><td>145</td><td>Godrej Inds.</td><td>18298.09</td><td>2458.48</td></tr><tr><td>146</td><td>Whirlpool India</td><td>18254.06</td><td>958.01</td></tr><tr><td>147</td><td>Sundaram Finance</td><td>18159.85</td><td>677.23</td></tr><tr><td>148</td><td>Federal Bank</td><td>18086.81</td><td>2501.2</td></tr><tr><td>149</td><td>Tata Comm</td><td>17963.55</td><td>4114.63</td></tr><tr><td>150</td><td>Endurance Tech.</td><td>null</td><td>null</td></tr><tr><td>151</td><td>Tata Chemicals</td><td>17941.47</td><td>2573.91</td></tr><tr><td>152</td><td>Exide Inds.</td><td>17930.75</td><td>2276.54</td></tr><tr><td>153</td><td>IDFC Bank</td><td>17762.77</td><td>2283.72</td></tr><tr><td>154</td><td>NBCC</td><td>17712.0</td><td>1321.5</td></tr><tr><td>155</td><td>IDBI Bank</td><td>17559.35</td><td>5797.2</td></tr><tr><td>156</td><td>The Ramco Cement</td><td>17246.58</td><td>1056.36</td></tr><tr><td>157</td><td>Dewan Hsg. Fin.</td><td>17097.54</td><td>2631.6</td></tr><tr><td>158</td><td>MphasiS</td><td>16728.78</td><td>1660.69</td></tr><tr><td>159</td><td>Apollo Hospitals</td><td>16683.97</td><td>1896.14</td></tr><tr><td>160</td><td>Reliance Nip.Lif</td><td>16655.58</td><td>394.0</td></tr><tr><td>161</td><td>Tata Global</td><td>16589.24</td><td>1730.39</td></tr><tr><td>162</td><td>Godrej Propert.</td><td>16545.51</td><td>627.03</td></tr><tr><td>163</td><td>AU Small Finance</td><td>16453.67</td><td>464.17</td></tr><tr><td>164</td><td>Indian Hotels</td><td>16150.13</td><td>1197.26</td></tr><tr><td>165</td><td>Motil.Oswal.Fin.</td><td>16108.15</td><td>728.63</td></tr><tr><td>166</td><td>H U D C O</td><td>16065.25</td><td>1064.49</td></tr><tr><td>167</td><td>Oberoi Realty</td><td>16044.51</td><td>356.2</td></tr><tr><td>168</td><td>Indian Bank</td><td>15739.16</td><td>4354.22</td></tr><tr><td>169</td><td>SJVN</td><td>15512.35</td><td>436.58</td></tr><tr><td>170</td><td>Bank of India</td><td>15339.87</td><td>9334.84</td></tr><tr><td>171</td><td>Supreme Inds.</td><td>15248.94</td><td>1278.3</td></tr><tr><td>172</td><td>Muthoot Finance</td><td>15226.72</td><td>1553.71</td></tr><tr><td>173</td><td>NLC India</td><td>15201.61</td><td>1706.48</td></tr><tr><td>176</td><td>Info Edg.(India)</td><td>14845.05</td><td>NaN</td></tr><tr><td>177</td><td>Glenmark Pharma.</td><td>14785.53</td><td>2203.67</td></tr><tr><td>178</td><td>Jubilant Life</td><td>14775.08</td><td>2067.76</td></tr><tr><td>179</td><td>Crompton Gr. Con</td><td>14638.57</td><td>938.19</td></tr><tr><td>180</td><td>Honeywell Auto</td><td>14526.24</td><td>721.48</td></tr><tr><td>181</td><td>Natco Pharma</td><td>14456.9</td><td>562.2</td></tr><tr><td>182</td><td>PC Jeweller</td><td>14334.81</td><td>2644.89</td></tr><tr><td>183</td><td>Quess Corp</td><td>14330.19</td><td>1583.95</td></tr><tr><td>184</td><td>CRISIL</td><td>14164.81</td><td>441.13</td></tr><tr><td>185</td><td>WABCO India</td><td>13843.64</td><td>649.91</td></tr><tr><td>186</td><td>Amara Raja Batt.</td><td>13774.32</td><td>1553.46</td></tr><tr><td>189</td><td>Sterlite Tech.</td><td>13743.95</td><td>835.18</td></tr><tr><td>190</td><td>AIA Engg.</td><td>13593.35</td><td>572.16</td></tr><tr><td>191</td><td>KRBL</td><td>13492.55</td><td>783.51</td></tr><tr><td>192</td><td>Max Financial</td><td>13401.76</td><td>NaN</td></tr><tr><td>193</td><td>Indiabulls Vent.</td><td>13396.15</td><td>238.43</td></tr><tr><td>194</td><td>Century Textiles</td><td>13369.97</td><td>2069.39</td></tr><tr><td>195</td><td>Jubilant Food.</td><td>13178.43</td><td>795.17</td></tr><tr><td>196</td><td>Bayer Crop Sci.</td><td>13166.76</td><td>479.7</td></tr><tr><td>197</td><td>Graphite India</td><td>13129.9</td><td>933.06</td></tr><tr><td>198</td><td>JSW Energy</td><td>13104.0</td><td>1993.2</td></tr><tr><td>199</td><td>Central Bank</td><td>13046.18</td><td>6026.55</td></tr><tr><td>200</td><td>Natl. Aluminium</td><td>null</td><td>null</td></tr><tr><td>201</td><td>CESC</td><td>12996.56</td><td>1706.0</td></tr><tr><td>202</td><td>Shri.City Union.</td><td>12995.31</td><td>1338.09</td></tr><tr><td>203</td><td>L&T Technology</td><td>12942.25</td><td>969.1</td></tr><tr><td>204</td><td>Rain Industries</td><td>12655.17</td><td>3050.81</td></tr><tr><td>205</td><td>Torrent Power</td><td>12599.37</td><td>2754.64</td></tr><tr><td>206</td><td>Dilip Buildcon</td><td>12526.06</td><td>1942.12</td></tr><tr><td>207</td><td>TI Financial</td><td>12507.91</td><td>886.68</td></tr><tr><td>208</td><td>JM Financial</td><td>12382.64</td><td>837.73</td></tr><tr><td>209</td><td>Adani Power</td><td>12091.5</td><td>4844.46</td></tr><tr><td>210</td><td>Reliance Power</td><td>12033.99</td><td>2494.65</td></tr><tr><td>211</td><td>Reliance Capital</td><td>11966.83</td><td>4749.0</td></tr><tr><td>212</td><td>Syngene Intl.</td><td>11950.0</td><td>387.7</td></tr><tr><td>213</td><td>Abbott India</td><td>11924.12</td><td>881.49</td></tr><tr><td>214</td><td>Hatsun AgroProd.</td><td>11896.52</td><td>1012.94</td></tr><tr><td>215</td><td>Symphony</td><td>11882.55</td><td>217.63</td></tr><tr><td>216</td><td>Gujarat Gas</td><td>11759.77</td><td>1571.33</td></tr><tr><td>217</td><td>Reliance Infra.</td><td>11737.24</td><td>5861.04</td></tr><tr><td>218</td><td>Aditya Bir. Fas.</td><td>11718.17</td><td>1855.0</td></tr><tr><td>219</td><td>Ajanta Pharma</td><td>11651.8</td><td>587.05</td></tr><tr><td>220</td><td>P I Inds.</td><td>11564.22</td><td>537.74</td></tr><tr><td>221</td><td>City Union Bank</td><td>11554.4</td><td>865.36</td></tr><tr><td>222</td><td>Varun Beverages</td><td>11498.3</td><td>329.92</td></tr><tr><td>223</td><td>Mindtree</td><td>11438.78</td><td>1377.7</td></tr><tr><td>224</td><td>Prestige Estates</td><td>11353.13</td><td>1272.3</td></tr><tr><td>225</td><td>Future Consumer</td><td>11203.15</td><td>784.05</td></tr><tr><td>226</td><td>Sundram Fasten.</td><td>11202.53</td><td>848.13</td></tr><tr><td>227</td><td>Sanofi India</td><td>11182.45</td><td>667.5</td></tr><tr><td>228</td><td>Guj.St.Petronet</td><td>11064.74</td><td>350.18</td></tr><tr><td>229</td><td>Godrej Agrovet</td><td>10918.75</td><td>865.77</td></tr><tr><td>230</td><td>Finolex Cables</td><td>10900.75</td><td>656.78</td></tr><tr><td>231</td><td>Bombay Burmah</td><td>10864.53</td><td>NaN</td></tr><tr><td>232</td><td>SRF</td><td>10842.62</td><td>1397.06</td></tr><tr><td>233</td><td>GE T&D India</td><td>10778.42</td><td>1438.55</td></tr><tr><td>234</td><td>Alembic Pharma</td><td>10764.29</td><td>840.02</td></tr><tr><td>235</td><td>SPARC</td><td>10755.13</td><td>19.42</td></tr><tr><td>236</td><td>GMR Infra.</td><td>10653.44</td><td>2072.29</td></tr><tr><td>237</td><td>HEG</td><td>10630.76</td><td>842.71</td></tr><tr><td>238</td><td>Trent</td><td>10589.27</td><td>521.32</td></tr><tr><td>239</td><td>Engineers India</td><td>10565.56</td><td>473.42</td></tr><tr><td>240</td><td>Avanti Feeds</td><td>10558.13</td><td>706.43</td></tr><tr><td>241</td><td>Pfizer</td><td>10508.48</td><td>456.54</td></tr><tr><td>242</td><td>Escorts</td><td>10450.56</td><td>1205.03</td></tr><tr><td>243</td><td>Tata Motors-DVR</td><td>10442.09</td><td>7769.67</td></tr><tr><td>244</td><td>Blue Dart Exp.</td><td>10422.45</td><td>704.59</td></tr><tr><td>245</td><td>Indbull.RealEst.</td><td>10338.4</td><td>2100.13</td></tr><tr><td>246</td><td>ERIS Lifescience</td><td>10289.81</td><td>182.21</td></tr><tr><td>247</td><td>Arvind Ltd</td><td>10247.7</td><td>2705.75</td></tr><tr><td>248</td><td>Sundaram Clayton</td><td>10074.36</td><td>NaN</td></tr><tr><td>249</td><td>Hexaware Tech.</td><td>9885.05</td><td>1004.83</td></tr><tr><td>250</td><td>Mahanagar Gas</td><td>null</td><td>null</td></tr><tr><td>255</td><td>SKF India</td><td>9569.14</td><td>700.49</td></tr><tr><td>256</td><td>Delta Corp</td><td>9531.57</td><td>162.17</td></tr><tr><td>257</td><td>Union Bank (I)</td><td>9528.82</td><td>8260.47</td></tr><tr><td>258</td><td>TV18 Broadcast</td><td>9463.27</td><td>271.13</td></tr><tr><td>259</td><td>Minda Inds.</td><td>9457.04</td><td>1056.16</td></tr><tr><td>260</td><td>Solar Inds.</td><td>9317.76</td><td>465.68</td></tr><tr><td>261</td><td>Kajaria Ceramics</td><td>9306.54</td><td>661.16</td></tr><tr><td>262</td><td>Astral Poly</td><td>9162.14</td><td>528.54</td></tr><tr><td>263</td><td>Bata India</td><td>9145.38</td><td>674.0</td></tr><tr><td>264</td><td>Phoenix Mills</td><td>9097.33</td><td>416.61</td></tr><tr><td>267</td><td>BASF India</td><td>8778.35</td><td>1278.74</td></tr><tr><td>268</td><td>DCM Shriram</td><td>8681.95</td><td>1783.73</td></tr><tr><td>269</td><td>Infibeam Incorp.</td><td>8646.54</td><td>213.48</td></tr><tr><td>270</td><td>Aegis Logistics</td><td>8613.86</td><td>1442.08</td></tr><tr><td>271</td><td>Mahindra CIE</td><td>8587.04</td><td>NaN</td></tr><tr><td>272</td><td>Jet Airways</td><td>8539.88</td><td>6086.2</td></tr><tr><td>273</td><td>SpiceJet</td><td>8458.24</td><td>2081.95</td></tr><tr><td>274</td><td>Thomas Cook (I)</td><td>8440.65</td><td>3005.45</td></tr><tr><td>275</td><td>Guj Fluorochem</td><td>8439.77</td><td>968.97</td></tr><tr><td>276</td><td>Wockhardt</td><td>8428.58</td><td>1005.3</td></tr><tr><td>277</td><td>Akzo Nobel</td><td>8389.47</td><td>711.99</td></tr><tr><td>278</td><td>I D F C</td><td>8380.86</td><td>2789.58</td></tr><tr><td>279</td><td>Security & Intel</td><td>8247.08</td><td>1537.72</td></tr><tr><td>280</td><td>Asahi India Glas</td><td>8183.96</td><td>640.38</td></tr><tr><td>281</td><td>TTK Prestige</td><td>8153.33</td><td>457.97</td></tr><tr><td>282</td><td>ITI</td><td>8124.6</td><td>250.97</td></tr><tr><td>283</td><td>Karur Vysya Bank</td><td>8065.7</td><td>1422.32</td></tr><tr><td>284</td><td>Vardhman Textile</td><td>8023.74</td><td>1647.98</td></tr><tr><td>285</td><td>Fortis Health.</td><td>7966.43</td><td>1156.61</td></tr><tr><td>286</td><td>Ipca Labs.</td><td>7943.03</td><td>859.21</td></tr><tr><td>287</td><td>Sheela Foam</td><td>7815.74</td><td>532.21</td></tr><tr><td>288</td><td>IRB Infra.Devl.</td><td>7812.73</td><td>1296.19</td></tr><tr><td>289</td><td>Atul</td><td>7789.01</td><td>803.68</td></tr><tr><td>290</td><td>Finolex Inds.</td><td>7784.17</td><td>722.72</td></tr><tr><td>291</td><td>Dish TV</td><td>7765.91</td><td>740.77</td></tr><tr><td>292</td><td>Rel. Comm.</td><td>7702.01</td><td>1144.0</td></tr><tr><td>293</td><td>Dr Lal Pathlabs</td><td>7550.78</td><td>262.7</td></tr><tr><td>294</td><td>OCL India</td><td>7453.05</td><td>859.24</td></tr><tr><td>295</td><td>NCC</td><td>7439.01</td><td>2780.26</td></tr><tr><td>296</td><td>Relaxo Footwear</td><td>7251.91</td><td>457.5</td></tr><tr><td>297</td><td>J K Cements</td><td>7230.76</td><td>1126.11</td></tr><tr><td>298</td><td>G N F C</td><td>7208.38</td><td>1590.89</td></tr><tr><td>299</td><td>Cochin Shipyard</td><td>7154.99</td><td>615.04</td></tr><tr><td>300</td><td>Bajaj Corp</td><td>null</td><td>null</td></tr><tr><td>301</td><td>Birla Corpn.</td><td>7137.67</td><td>1389.32</td></tr><tr><td>302</td><td>Future Lifestyle</td><td>7009.13</td><td>1188.97</td></tr><tr><td>303</td><td>Century Ply.</td><td>6966.23</td><td>509.93</td></tr><tr><td>304</td><td>Blue Star</td><td>6952.99</td><td>981.3</td></tr><tr><td>305</td><td>Kalpataru Power</td><td>6950.23</td><td>1417.37</td></tr><tr><td>306</td><td>Suzlon Energy</td><td>6942.31</td><td>1193.06</td></tr><tr><td>307</td><td>Cyient</td><td>6921.97</td><td>983.3</td></tr><tr><td>308</td><td>Hind.Copper</td><td>6902.14</td><td>440.14</td></tr><tr><td>309</td><td>Guj Pipavav Port</td><td>6864.85</td><td>162.68</td></tr><tr><td>310</td><td>Carborundum Uni.</td><td>6838.18</td><td>611.59</td></tr><tr><td>311</td><td>Can Fin Homes</td><td>6811.5</td><td>392.1</td></tr><tr><td>312</td><td>Sadbhav Engg.</td><td>6795.06</td><td>2153.34</td></tr><tr><td>313</td><td>Advanta</td><td>6742.41</td><td>361.68</td></tr><tr><td>314</td><td>Capital First</td><td>6710.63</td><td>987.64</td></tr><tr><td>315</td><td>Lak. Mach. Works</td><td>6654.81</td><td>542.42</td></tr><tr><td>316</td><td>Himadri Specialt</td><td>6646.41</td><td>500.08</td></tr><tr><td>317</td><td>Coffee Day Enter</td><td>6601.62</td><td>965.3</td></tr><tr><td>318</td><td>PVR</td><td>6591.31</td><td>557.25</td></tr><tr><td>319</td><td>Chambal Fert.</td><td>6542.79</td><td>2330.1</td></tr><tr><td>320</td><td>Vijaya Bank</td><td>6531.58</td><td>3135.23</td></tr><tr><td>321</td><td>Welspun India</td><td>6520.67</td><td>1397.95</td></tr><tr><td>322</td><td>CEAT</td><td>6476.26</td><td>1574.15</td></tr><tr><td>323</td><td>Strides Shasun</td><td>6469.51</td><td>749.04</td></tr><tr><td>324</td><td>Narayana Hrudaya</td><td>6379.12</td><td>553.84</td></tr><tr><td>325</td><td>Jyothy Lab.</td><td>6324.62</td><td>431.21</td></tr><tr><td>326</td><td>Johnson Con. Hit</td><td>6209.11</td><td>377.4</td></tr><tr><td>327</td><td>Prism Cement</td><td>6176.23</td><td>NaN</td></tr><tr><td>328</td><td>Tata Elxsi</td><td>6153.54</td><td>345.54</td></tr><tr><td>329</td><td>Syndicate Bank</td><td>6086.37</td><td>5375.57</td></tr><tr><td>330</td><td>D B Corp</td><td>6059.97</td><td>598.58</td></tr><tr><td>331</td><td>Jain Irrigation</td><td>6019.89</td><td>1889.63</td></tr><tr><td>332</td><td>Persistent Sys</td><td>5996.4</td><td>791.89</td></tr><tr><td>333</td><td>Redington India</td><td>5896.54</td><td>11728.4</td></tr><tr><td>334</td><td>Sunteck Realty</td><td>5865.04</td><td>201.5</td></tr><tr><td>335</td><td>Raymond</td><td>5863.1</td><td>1484.24</td></tr><tr><td>336</td><td>MOIL</td><td>5840.29</td><td>299.8</td></tr><tr><td>337</td><td>Bombay Dyeing</td><td>5823.25</td><td>619.93</td></tr><tr><td>338</td><td>GE Shipping Co</td><td>5802.66</td><td>584.42</td></tr><tr><td>339</td><td>Grindwell Norton</td><td>5706.51</td><td>365.42</td></tr><tr><td>340</td><td>EID Parry</td><td>5652.33</td><td>3557.94</td></tr><tr><td>341</td><td>I O B</td><td>5591.02</td><td>4254.68</td></tr><tr><td>342</td><td>Galaxy Surfact.</td><td>5567.11</td><td>826.95</td></tr><tr><td>343</td><td>Laurus Labs</td><td>5502.94</td><td>473.77</td></tr><tr><td>344</td><td>Guj Alkalies</td><td>5498.45</td><td>617.61</td></tr><tr><td>345</td><td>GE Power</td><td>5497.4</td><td>NaN</td></tr><tr><td>346</td><td>Timken India</td><td>5495.76</td><td>278.58</td></tr><tr><td>347</td><td>C P C L</td><td>5427.82</td><td>8587.17</td></tr><tr><td>348</td><td>Dishman Carbogen</td><td>5416.39</td><td>459.82</td></tr><tr><td>349</td><td>St Bk of Bikaner</td><td>5402.95</td><td>2262.28</td></tr><tr><td>350</td><td>ISGEC Heavy</td><td>null</td><td>null</td></tr><tr><td>351</td><td>MMTC</td><td>5300.0</td><td>NaN</td></tr><tr><td>352</td><td>IFB Inds.</td><td>5293.53</td><td>531.74</td></tr><tr><td>353</td><td>eClerx Services</td><td>5259.14</td><td>339.89</td></tr><tr><td>354</td><td>Sobha</td><td>5224.11</td><td>691.9</td></tr><tr><td>355</td><td>Kirloskar Oil</td><td>5207.77</td><td>684.61</td></tr><tr><td>356</td><td>G S F C</td><td>5200.13</td><td>1537.45</td></tr><tr><td>357</td><td>CG Power & Indu.</td><td>5151.85</td><td>1516.08</td></tr><tr><td>358</td><td>Westlife Develop</td><td>5145.88</td><td>305.19</td></tr><tr><td>359</td><td>K P R Mill Ltd</td><td>5145.36</td><td>714.51</td></tr><tr><td>360</td><td>Tube Investments</td><td>5139.43</td><td>1274.21</td></tr><tr><td>361</td><td>Bajaj Electrical</td><td>5127.38</td><td>1145.13</td></tr><tr><td>362</td><td>VST Inds.</td><td>5109.25</td><td>238.97</td></tr><tr><td>363</td><td>BEML Ltd</td><td>5089.87</td><td>731.51</td></tr><tr><td>364</td><td>FDC</td><td>5084.19</td><td>248.77</td></tr><tr><td>365</td><td>DCB Bank</td><td>5080.5</td><td>610.78</td></tr><tr><td>366</td><td>Star Cement</td><td>5072.67</td><td>377.43</td></tr><tr><td>367</td><td>Netwrk.18 Media</td><td>5067.23</td><td>366.02</td></tr><tr><td>368</td><td>Gulf Oil Lubric.</td><td>5020.44</td><td>355.95</td></tr><tr><td>369</td><td>UCO Bank</td><td>5012.59</td><td>3449.55</td></tr><tr><td>370</td><td>Jagran Prakashan</td><td>4995.05</td><td>598.07</td></tr><tr><td>371</td><td>Elgi Equipment</td><td>4954.08</td><td>415.42</td></tr><tr><td>372</td><td>JK Lakshmi Cem.</td><td>4931.55</td><td>837.41</td></tr><tr><td>373</td><td>Zydus Wellness</td><td>4921.45</td><td>132.4</td></tr><tr><td>374</td><td>Equitas Holdings</td><td>4886.09</td><td>429.86</td></tr><tr><td>375</td><td>India Cements</td><td>4885.75</td><td>1213.08</td></tr><tr><td>376</td><td>Dishman Pharma.</td><td>4861.2</td><td>534.22</td></tr><tr><td>377</td><td>South Ind.Bank</td><td>4856.71</td><td>1576.96</td></tr><tr><td>378</td><td>Polaris Consulta</td><td>4830.44</td><td>680.07</td></tr><tr><td>379</td><td>V I P Inds.</td><td>4819.63</td><td>337.99</td></tr><tr><td>380</td><td>APL Apollo</td><td>4775.03</td><td>1314.38</td></tr><tr><td>381</td><td>Sadbhav Infra.</td><td>4735.67</td><td>624.37</td></tr><tr><td>382</td><td>Jindal Stain.</td><td>4726.91</td><td>2988.86</td></tr><tr><td>383</td><td>Swan Energy</td><td>4721.49</td><td>NaN</td></tr><tr><td>384</td><td>NIIT Tech.</td><td>4658.2</td><td>756.5</td></tr><tr><td>385</td><td>Caplin Point Lab</td><td>4600.73</td><td>141.61</td></tr><tr><td>386</td><td>Indian Energy Ex</td><td>4595.7</td><td>64.75</td></tr><tr><td>387</td><td>Shoppers St.</td><td>4558.06</td><td>NaN</td></tr><tr><td>388</td><td>Godfrey Phillips</td><td>4512.29</td><td>581.94</td></tr><tr><td>389</td><td>Jindal Stain .Hi</td><td>4498.09</td><td>2438.58</td></tr><tr><td>390</td><td>R C F</td><td>4493.52</td><td>1985.06</td></tr><tr><td>391</td><td>Rallis India</td><td>4493.2</td><td>390.16</td></tr><tr><td>392</td><td>Stand.Chart.PLC</td><td>4487.31</td><td>NaN</td></tr><tr><td>393</td><td>G M D C</td><td>4456.77</td><td>506.06</td></tr><tr><td>394</td><td>Manpasand Bever.</td><td>4406.8</td><td>143.13</td></tr><tr><td>395</td><td>Tata Inv.Corpn.</td><td>4401.66</td><td>47.02</td></tr><tr><td>396</td><td>Essel Propack</td><td>4371.24</td><td>595.05</td></tr><tr><td>397</td><td>Allcargo Logist.</td><td>4369.69</td><td>1479.91</td></tr><tr><td>398</td><td>Radico Khaitan</td><td>4358.48</td><td>482.52</td></tr><tr><td>399</td><td>Cera Sanitary.</td><td>4356.9</td><td>290.88</td></tr><tr><td>400</td><td>BSE</td><td>null</td><td>null</td></tr><tr><td>401</td><td>Forbes & Co</td><td>4331.82</td><td>63.93</td></tr><tr><td>402</td><td>S B T</td><td>4328.47</td><td>2365.94</td></tr><tr><td>403</td><td>KNR Construct.</td><td>4325.39</td><td>433.19</td></tr><tr><td>404</td><td>PNC Infratech</td><td>4307.29</td><td>472.48</td></tr><tr><td>405</td><td>Greenply Inds.</td><td>4295.02</td><td>399.29</td></tr><tr><td>406</td><td>Ujjivan Fin.Ser.</td><td>4293.42</td><td>0.0</td></tr><tr><td>407</td><td>Monsanto India</td><td>4291.43</td><td>183.74</td></tr><tr><td>408</td><td>Vinati Organics</td><td>4279.07</td><td>185.65</td></tr><tr><td>409</td><td>Jindal Saw</td><td>4278.31</td><td>NaN</td></tr><tr><td>410</td><td>Lux Industries</td><td>4269.78</td><td>297.43</td></tr><tr><td>411</td><td>Linde India</td><td>4198.33</td><td>NaN</td></tr><tr><td>412</td><td>Ratnamani Metals</td><td>4194.31</td><td>535.6</td></tr><tr><td>413</td><td>Cox & Kings</td><td>4179.29</td><td>1356.07</td></tr><tr><td>414</td><td>Omaxe</td><td>4168.29</td><td>506.82</td></tr><tr><td>415</td><td>Ashoka Buildcon</td><td>4166.87</td><td>729.22</td></tr><tr><td>416</td><td>Time Technoplast</td><td>4156.58</td><td>754.7</td></tr><tr><td>417</td><td>Phillips Carbon</td><td>4149.67</td><td>612.4</td></tr><tr><td>418</td><td>Allahabad Bank</td><td>4137.11</td><td>4243.83</td></tr><tr><td>419</td><td>Welspun Corp</td><td>4103.05</td><td>2304.16</td></tr><tr><td>420</td><td>NESCO</td><td>4093.02</td><td>80.62</td></tr><tr><td>421</td><td>CARE Ratings</td><td>4090.69</td><td>74.82</td></tr><tr><td>422</td><td>JP Associates</td><td>4074.37</td><td>NaN</td></tr><tr><td>423</td><td>Andhra Bank</td><td>4067.25</td><td>4549.26</td></tr><tr><td>424</td><td>Zensar Tech.</td><td>4066.42</td><td>793.76</td></tr><tr><td>425</td><td>S H Kelkar & Co.</td><td>4057.34</td><td>283.12</td></tr><tr><td>426</td><td>Mahindra Holiday</td><td>4030.35</td><td>267.54</td></tr><tr><td>427</td><td>Sintex Plastics</td><td>4022.02</td><td>1332.73</td></tr><tr><td>428</td><td>SREI Infra. Fin.</td><td>4009.63</td><td>1405.19</td></tr><tr><td>429</td><td>Techno Elec.</td><td>3975.44</td><td>275.64</td></tr><tr><td>430</td><td>Minda Corp</td><td>3974.83</td><td>636.2</td></tr><tr><td>431</td><td>HMT</td><td>3973.5</td><td>NaN</td></tr><tr><td>432</td><td>KPIT Tech.</td><td>3927.26</td><td>912.77</td></tr><tr><td>433</td><td>Triveni Turbine</td><td>3910.17</td><td>165.59</td></tr><tr><td>434</td><td>Shankara Build.</td><td>3901.07</td><td>624.62</td></tr><tr><td>435</td><td>Multi Comm. Exc.</td><td>3847.19</td><td>60.97</td></tr><tr><td>436</td><td>Brigade Enterpr.</td><td>3846.15</td><td>423.91</td></tr><tr><td>437</td><td>Gayatri Projects</td><td>3835.73</td><td>NaN</td></tr><tr><td>438</td><td>Magma Fincorp</td><td>3826.83</td><td>580.58</td></tr><tr><td>439</td><td>VRL Logistics</td><td>3824.69</td><td>489.34</td></tr><tr><td>440</td><td>ICRA</td><td>3809.0</td><td>82.87</td></tr><tr><td>441</td><td>Shriram Pistons</td><td>3804.58</td><td>430.8</td></tr><tr><td>442</td><td>IFCI</td><td>3789.45</td><td>626.8</td></tr><tr><td>443</td><td>Suprajit Engg.</td><td>3777.26</td><td>366.29</td></tr><tr><td>444</td><td>J & K Bank</td><td>3775.5</td><td>1682.97</td></tr><tr><td>445</td><td>Navin Fluo.Intl.</td><td>3769.26</td><td>221.45</td></tr><tr><td>446</td><td>Karnataka Bank</td><td>3765.74</td><td>1332.24</td></tr><tr><td>447</td><td>Shilpa Medicare</td><td>3764.1</td><td>185.53</td></tr><tr><td>448</td><td>Kushal</td><td>3761.86</td><td>578.18</td></tr><tr><td>449</td><td>Venky's (India)</td><td>3760.61</td><td>695.85</td></tr><tr><td>450</td><td>Force Motors</td><td>null</td><td>null</td></tr><tr><td>451</td><td>CCL Products</td><td>3748.73</td><td>273.99</td></tr><tr><td>452</td><td>Excel Crop Care</td><td>3734.06</td><td>258.65</td></tr><tr><td>453</td><td>Trident</td><td>3722.6</td><td>1137.17</td></tr><tr><td>454</td><td>Corporation Bank</td><td>3716.46</td><td>4387.85</td></tr><tr><td>455</td><td>Rane Holdings</td><td>3711.8</td><td>593.74</td></tr><tr><td>456</td><td>Team Lease Serv.</td><td>3677.34</td><td>918.06</td></tr><tr><td>457</td><td>Oriental Bank</td><td>3674.6</td><td>4262.08</td></tr><tr><td>458</td><td>I T D C</td><td>3619.04</td><td>102.14</td></tr><tr><td>459</td><td>JP Power Ven.</td><td>3597.6</td><td>NaN</td></tr><tr><td>460</td><td>S C I</td><td>3582.0</td><td>879.56</td></tr><tr><td>461</td><td>JK Tyre & Indust</td><td>3577.98</td><td>2123.24</td></tr><tr><td>462</td><td>Deepak Nitrite</td><td>3531.9</td><td>371.14</td></tr><tr><td>463</td><td>Heidelberg Cem.</td><td>3531.77</td><td>491.23</td></tr><tr><td>464</td><td>Amber Enterp.</td><td>3529.87</td><td>NaN</td></tr><tr><td>465</td><td>Sharda Cropchem</td><td>3528.07</td><td>325.46</td></tr><tr><td>466</td><td>Dixon Technolog.</td><td>3526.8</td><td>677.8</td></tr><tr><td>467</td><td>Himatsing. Seide</td><td>3511.08</td><td>595.61</td></tr><tr><td>468</td><td>La Opala RG</td><td>3510.93</td><td>69.77</td></tr><tr><td>469</td><td>H F C L</td><td>3482.71</td><td>714.42</td></tr><tr><td>470</td><td>Reliance Home</td><td>3470.6</td><td>403.0</td></tr><tr><td>471</td><td>Rupa & Co</td><td>3460.91</td><td>277.96</td></tr><tr><td>472</td><td>Hind.Construct.</td><td>3452.57</td><td>NaN</td></tr><tr><td>473</td><td>Ent.Network</td><td>3380.99</td><td>148.42</td></tr><tr><td>474</td><td>Supreme Petroch.</td><td>3377.57</td><td>725.02</td></tr><tr><td>475</td><td>MAS FINANC SER</td><td>3376.2</td><td>112.05</td></tr><tr><td>476</td><td>Thyrocare Tech.</td><td>3374.38</td><td>77.84</td></tr><tr><td>477</td><td>Prakash Inds.</td><td>3336.05</td><td>725.97</td></tr><tr><td>478</td><td>Repco Home Fin</td><td>3331.08</td><td>277.48</td></tr><tr><td>479</td><td>Sonata Software</td><td>3329.58</td><td>766.75</td></tr><tr><td>480</td><td>Central Dep. Ser</td><td>3316.31</td><td>47.24</td></tr><tr><td>481</td><td>Puravankara</td><td>3274.9</td><td>440.09</td></tr><tr><td>482</td><td>Tejas Networks</td><td>3209.89</td><td>229.87</td></tr><tr><td>483</td><td>ITD Cem</td><td>3192.67</td><td>472.98</td></tr><tr><td>484</td><td>Hathway Cable</td><td>3189.1</td><td>138.65</td></tr><tr><td>485</td><td>Dhanuka Agritech</td><td>3188.62</td><td>221.51</td></tr><tr><td>486</td><td>Mahindra Logis.</td><td>3187.51</td><td>835.06</td></tr><tr><td>487</td><td>Heritage Foods</td><td>3185.45</td><td>581.74</td></tr><tr><td>488</td><td>Mah. Seamless</td><td>3164.73</td><td>563.66</td></tr><tr><td>489</td><td>Navneet Educat.</td><td>3148.36</td><td>174.41</td></tr><tr><td>490</td><td>Firstsour.Solu.</td><td>3139.94</td><td>887.24</td></tr><tr><td>491</td><td>Kaveri Seed Co.</td><td>3125.83</td><td>70.64</td></tr><tr><td>492</td><td>Star Ferro Cem.</td><td>3115.98</td><td>393.49</td></tr><tr><td>493</td><td>Deepak Fert.</td><td>3079.06</td><td>1644.92</td></tr><tr><td>494</td><td>Va Tech Wabag</td><td>3041.93</td><td>460.89</td></tr><tr><td>495</td><td>Prime Focus</td><td>3031.5</td><td>609.61</td></tr><tr><td>496</td><td>Lak. Vilas Bank</td><td>3029.57</td><td>790.17</td></tr><tr><td>497</td><td>NOCIL</td><td>3026.26</td><td>249.27</td></tr><tr><td>498</td><td>Orient Cement</td><td>3024.32</td><td>511.53</td></tr><tr><td>499</td><td>Natl.Fertilizer</td><td>3017.07</td><td>2840.75</td></tr><tr><td>500</td><td>L T Foods</td><td>null</td><td>null</td></tr></tbody></table></div>"
      ]
     },
     "metadata": {
      "application/vnd.databricks.v1+output": {
       "addedWidgets": {},
       "aggData": [],
       "aggError": "",
       "aggOverflow": false,
       "aggSchema": [],
       "aggSeriesLimitReached": false,
       "aggType": "",
       "arguments": {},
       "columnCustomDisplayInfos": {},
       "data": [
        [
         1,
         "Reliance Inds.",
         583436.72,
         99810.0
        ],
        [
         2,
         "TCS",
         563709.84,
         30904.0
        ],
        [
         3,
         "HDFC Bank",
         482953.59,
         20581.27
        ],
        [
         4,
         "ITC",
         320985.27,
         9772.02
        ],
        [
         5,
         "H D F C",
         289497.37,
         16840.51
        ],
        [
         6,
         "Hind. Unilever",
         288265.26,
         8590.0
        ],
        [
         7,
         "Maruti Suzuki",
         263493.81,
         19283.2
        ],
        [
         8,
         "Infosys",
         248320.35,
         17794.0
        ],
        [
         9,
         "O N G C",
         239981.5,
         22995.88
        ],
        [
         10,
         "St Bk of India",
         232763.33,
         57014.08
        ],
        [
         11,
         "ICICI Bank",
         203802.35,
         13665.35
        ],
        [
         12,
         "Kotak Mah. Bank",
         199253.77,
         6390.71
        ],
        [
         13,
         "Coal India",
         192677.98,
         21643.28
        ],
        [
         14,
         "Larsen & Toubro",
         180860.74,
         28747.45
        ],
        [
         15,
         "I O C L",
         178017.48,
         110666.93
        ],
        [
         16,
         "Bharti Airtel",
         167131.29,
         20318.6
        ],
        [
         17,
         "Axis Bank",
         136380.76,
         11721.55
        ],
        [
         18,
         "NTPC",
         135390.53,
         20774.37
        ],
        [
         19,
         "Sun Pharma.Inds.",
         134241.36,
         6653.23
        ],
        [
         20,
         "Hind.Zinc",
         133266.56,
         5922.0
        ],
        [
         21,
         "Wipro",
         131840.57,
         13669.0
        ],
        [
         22,
         "HCL Technologies",
         126335.27,
         12809.0
        ],
        [
         23,
         "Vedanta",
         122184.17,
         24361.0
        ],
        [
         24,
         "Tata Motors",
         117071.87,
         74156.07
        ],
        [
         25,
         "UltraTech Cem.",
         113692.87,
         8019.24
        ],
        [
         26,
         "Asian Paints",
         108044.04,
         4260.52
        ],
        [
         27,
         "Power Grid Corpn",
         102016.01,
         7506.95
        ],
        [
         28,
         "B P C L",
         98278.0,
         60616.36
        ],
        [
         29,
         "IndusInd Bank",
         97379.96,
         4286.78
        ],
        [
         30,
         "Bajaj Fin.",
         94476.77,
         3540.63
        ],
        [
         31,
         "Bajaj Auto",
         88252.6,
         6369.34
        ],
        [
         32,
         "M & M",
         88142.35,
         11577.78
        ],
        [
         33,
         "HDFC Stand. Life",
         87358.23,
         9734.9
        ],
        [
         34,
         "Adani Ports",
         81781.89,
         2688.85
        ],
        [
         35,
         "Bajaj Finserv",
         79795.11,
         7665.4
        ],
        [
         36,
         "GAIL (India)",
         78670.97,
         14414.34
        ],
        [
         37,
         "Avenue Super.",
         74066.35,
         4094.82
        ],
        [
         38,
         "Titan Company",
         73886.0,
         4274.84
        ],
        [
         39,
         "JSW Steel",
         73870.26,
         17861.0
        ],
        [
         40,
         "Grasim Inds",
         73532.62,
         15291.42
        ],
        [
         41,
         "Tata Steel",
         73376.14,
         32464.14
        ],
        [
         42,
         "Eicher Motors",
         73311.41,
         2269.01
        ],
        [
         43,
         "Nestle India",
         73015.49,
         2601.46
        ],
        [
         44,
         "Godrej Consumer",
         71859.82,
         2630.3
        ],
        [
         45,
         "Yes Bank",
         71028.13,
         5070.3
        ],
        [
         46,
         "Hero Motocorp",
         69448.66,
         7305.49
        ],
        [
         47,
         "Motherson Sumi",
         68590.33,
         14397.85
        ],
        [
         48,
         "SBI Life Insuran",
         67465.0,
         9569.97
        ],
        [
         49,
         "General Insuranc",
         66316.32,
         8557.68
        ],
        [
         50,
         "Bharti Infra.",
         61776.92,
         null
        ],
        [
         51,
         "Dabur India",
         60015.0,
         1966.44
        ],
        [
         52,
         "Bosch",
         59204.28,
         3071.92
        ],
        [
         53,
         "Shree Cement",
         58987.08,
         2296.23
        ],
        [
         54,
         "New India Assura",
         58108.48,
         5074.02
        ],
        [
         55,
         "H P C L",
         58034.78,
         57474.25
        ],
        [
         56,
         "ICICI Pru Life",
         57748.98,
         13555.32
        ],
        [
         57,
         "Britannia Inds.",
         56837.2,
         2567.48
        ],
        [
         58,
         "Tech Mahindra",
         56244.26,
         7775.96
        ],
        [
         59,
         "Hindalco Inds.",
         55854.68,
         11022.81
        ],
        [
         60,
         "Zee Entertainmen",
         54817.89,
         1838.07
        ],
        [
         61,
         "Cairn India",
         53528.57,
         2149.36
        ],
        [
         62,
         "Indiabulls Hous.",
         52781.67,
         3115.89
        ],
        [
         63,
         "Ambuja Cem.",
         52361.46,
         6170.71
        ],
        [
         64,
         "Interglobe Aviat",
         48621.37,
         6177.88
        ],
        [
         65,
         "Cipla",
         48577.43,
         3913.82
        ],
        [
         66,
         "Piramal Enterp.",
         47483.97,
         2858.36
        ],
        [
         67,
         "United Spirits",
         46725.05,
         2263.3
        ],
        [
         68,
         "Pidilite Inds.",
         45855.5,
         1542.9
        ],
        [
         69,
         "Siemens",
         44239.04,
         2429.5
        ],
        [
         70,
         "Cadila Health.",
         41876.19,
         3259.6
        ],
        [
         71,
         "NMDC",
         41415.33,
         2469.03
        ],
        [
         72,
         "DLF",
         40159.35,
         1693.72
        ],
        [
         73,
         "Marico",
         39813.84,
         1337.59
        ],
        [
         74,
         "Ashok Leyland",
         39047.57,
         7113.16
        ],
        [
         75,
         "Bharat Electron",
         37776.23,
         2512.82
        ],
        [
         76,
         "ICICI Lombard",
         37219.22,
         2110.99
        ],
        [
         77,
         "Lupin",
         36878.85,
         3975.62
        ],
        [
         78,
         "Petronet LNG",
         36615.0,
         7757.06
        ],
        [
         79,
         "Aditya Birla Cap",
         36215.92,
         3325.02
        ],
        [
         80,
         "Dr Reddy's Labs",
         35893.55,
         3834.1
        ],
        [
         81,
         "Sun TV Network",
         35824.26,
         683.28
        ],
        [
         82,
         "S A I L",
         35729.04,
         15323.65
        ],
        [
         83,
         "UPL",
         35349.58,
         4194.0
        ],
        [
         84,
         "Oracle Fin.Serv.",
         34620.19,
         1059.12
        ],
        [
         85,
         "Bharat Forge",
         34397.69,
         1390.55
        ],
        [
         86,
         "Biocon",
         34347.0,
         1057.9
        ],
        [
         87,
         "B H E L",
         34162.38,
         6626.35
        ],
        [
         88,
         "Aurobindo Pharma",
         33676.52,
         4336.11
        ],
        [
         89,
         "Bank of Baroda",
         33364.23,
         11303.24
        ],
        [
         90,
         "Idea Cellular",
         33047.33,
         6509.6
        ],
        [
         91,
         "A B B",
         31983.33,
         2779.4
        ],
        [
         92,
         "Havells India",
         31798.18,
         1965.77
        ],
        [
         93,
         "Container Corpn.",
         31450.56,
         1639.55
        ],
        [
         94,
         "TVS Motor Co.",
         30919.51,
         3684.95
        ],
        [
         95,
         "ACC",
         30803.68,
         3494.24
        ],
        [
         96,
         "Bajaj Holdings",
         30305.94,
         317.85
        ],
        [
         97,
         "P & G Hygiene",
         30202.12,
         704.16
        ],
        [
         98,
         "MRF",
         30030.01,
         3798.82
        ],
        [
         99,
         "Shriram Trans.",
         29327.64,
         3087.67
        ],
        [
         100,
         "Colgate-Palm.",
         null,
         null
        ],
        [
         101,
         "L&T Fin.Holdings",
         28932.43,
         2630.17
        ],
        [
         102,
         "Punjab Natl.Bank",
         28270.22,
         12175.48
        ],
        [
         103,
         "NHPC Ltd",
         28059.24,
         1497.93
        ],
        [
         104,
         "Power Fin.Corpn.",
         27905.66,
         6194.77
        ],
        [
         105,
         "United Breweries",
         27797.69,
         1197.1
        ],
        [
         106,
         "Oil India",
         27404.15,
         2852.55
        ],
        [
         107,
         "Rural Elec.Corp.",
         27382.24,
         5498.45
        ],
        [
         108,
         "GlaxoSmith C H L",
         27340.89,
         1034.67
        ],
        [
         109,
         "M & M Fin. Serv.",
         26928.37,
         2182.45
        ],
        [
         110,
         "Divi's Lab.",
         26915.86,
         1037.88
        ],
        [
         111,
         "Kansai Nerolac",
         26409.76,
         1145.01
        ],
        [
         112,
         "Alkem Lab",
         25957.56,
         1422.52
        ],
        [
         113,
         "LIC Housing Fin.",
         25880.98,
         3738.1
        ],
        [
         114,
         "Future Retail",
         25859.25,
         4693.39
        ],
        [
         115,
         "Page Industries",
         25383.03,
         621.03
        ],
        [
         116,
         "Dalmia Bhar.",
         25288.97,
         2090.54
        ],
        [
         117,
         "IIFL Holdings",
         24788.54,
         1612.14
        ],
        [
         118,
         "L & T Infotech",
         24626.1,
         1883.8
        ],
        [
         119,
         "Aditya Bir. Nuv.",
         24592.21,
         4287.12
        ],
        [
         120,
         "Emami",
         23720.37,
         756.64
        ],
        [
         121,
         "Cummins India",
         23562.0,
         1354.67
        ],
        [
         122,
         "Berger Paints",
         23537.8,
         1338.63
        ],
        [
         123,
         "Rajesh Exports",
         23495.54,
         41304.84
        ],
        [
         126,
         "Tata Power Co.",
         23369.24,
         6949.91
        ],
        [
         127,
         "3M India",
         23101.19,
         645.77
        ],
        [
         128,
         "Jindal Steel",
         23094.39,
         6992.56
        ],
        [
         129,
         "Edelweiss.Fin.",
         22915.42,
         2069.45
        ],
        [
         130,
         "Gillette India",
         21976.74,
         407.52
        ],
        [
         131,
         "Adani Enterp.",
         21776.04,
         9938.37
        ],
        [
         132,
         "Adani Transmissi",
         21677.26,
         1782.29
        ],
        [
         133,
         "Balkrishna Inds",
         21372.18,
         1106.31
        ],
        [
         134,
         "Cholaman.Inv.&Fn",
         20832.4,
         1404.33
        ],
        [
         135,
         "Indraprastha Gas",
         20779.52,
         1183.9
        ],
        [
         136,
         "M R P L",
         20750.78,
         14100.98
        ],
        [
         137,
         "Glaxosmi. Pharma",
         20489.35,
         703.91
        ],
        [
         138,
         "PNB Housing",
         20037.85,
         1438.49
        ],
        [
         139,
         "RBL Bank",
         19748.79,
         1150.79
        ],
        [
         140,
         "Castrol India",
         18803.22,
         970.3
        ],
        [
         141,
         "Canara Bank",
         18590.66,
         10774.64
        ],
        [
         142,
         "GRUH Finance",
         18535.09,
         428.47
        ],
        [
         143,
         "KIOCL",
         18534.15,
         442.81
        ],
        [
         144,
         "Voltas",
         18453.44,
         1374.67
        ],
        [
         145,
         "Godrej Inds.",
         18298.09,
         2458.48
        ],
        [
         146,
         "Whirlpool India",
         18254.06,
         958.01
        ],
        [
         147,
         "Sundaram Finance",
         18159.85,
         677.23
        ],
        [
         148,
         "Federal Bank",
         18086.81,
         2501.2
        ],
        [
         149,
         "Tata Comm",
         17963.55,
         4114.63
        ],
        [
         150,
         "Endurance Tech.",
         null,
         null
        ],
        [
         151,
         "Tata Chemicals",
         17941.47,
         2573.91
        ],
        [
         152,
         "Exide Inds.",
         17930.75,
         2276.54
        ],
        [
         153,
         "IDFC Bank",
         17762.77,
         2283.72
        ],
        [
         154,
         "NBCC",
         17712.0,
         1321.5
        ],
        [
         155,
         "IDBI Bank",
         17559.35,
         5797.2
        ],
        [
         156,
         "The Ramco Cement",
         17246.58,
         1056.36
        ],
        [
         157,
         "Dewan Hsg. Fin.",
         17097.54,
         2631.6
        ],
        [
         158,
         "MphasiS",
         16728.78,
         1660.69
        ],
        [
         159,
         "Apollo Hospitals",
         16683.97,
         1896.14
        ],
        [
         160,
         "Reliance Nip.Lif",
         16655.58,
         394.0
        ],
        [
         161,
         "Tata Global",
         16589.24,
         1730.39
        ],
        [
         162,
         "Godrej Propert.",
         16545.51,
         627.03
        ],
        [
         163,
         "AU Small Finance",
         16453.67,
         464.17
        ],
        [
         164,
         "Indian Hotels",
         16150.13,
         1197.26
        ],
        [
         165,
         "Motil.Oswal.Fin.",
         16108.15,
         728.63
        ],
        [
         166,
         "H U D C O",
         16065.25,
         1064.49
        ],
        [
         167,
         "Oberoi Realty",
         16044.51,
         356.2
        ],
        [
         168,
         "Indian Bank",
         15739.16,
         4354.22
        ],
        [
         169,
         "SJVN",
         15512.35,
         436.58
        ],
        [
         170,
         "Bank of India",
         15339.87,
         9334.84
        ],
        [
         171,
         "Supreme Inds.",
         15248.94,
         1278.3
        ],
        [
         172,
         "Muthoot Finance",
         15226.72,
         1553.71
        ],
        [
         173,
         "NLC India",
         15201.61,
         1706.48
        ],
        [
         176,
         "Info Edg.(India)",
         14845.05,
         "NaN"
        ],
        [
         177,
         "Glenmark Pharma.",
         14785.53,
         2203.67
        ],
        [
         178,
         "Jubilant Life",
         14775.08,
         2067.76
        ],
        [
         179,
         "Crompton Gr. Con",
         14638.57,
         938.19
        ],
        [
         180,
         "Honeywell Auto",
         14526.24,
         721.48
        ],
        [
         181,
         "Natco Pharma",
         14456.9,
         562.2
        ],
        [
         182,
         "PC Jeweller",
         14334.81,
         2644.89
        ],
        [
         183,
         "Quess Corp",
         14330.19,
         1583.95
        ],
        [
         184,
         "CRISIL",
         14164.81,
         441.13
        ],
        [
         185,
         "WABCO India",
         13843.64,
         649.91
        ],
        [
         186,
         "Amara Raja Batt.",
         13774.32,
         1553.46
        ],
        [
         189,
         "Sterlite Tech.",
         13743.95,
         835.18
        ],
        [
         190,
         "AIA Engg.",
         13593.35,
         572.16
        ],
        [
         191,
         "KRBL",
         13492.55,
         783.51
        ],
        [
         192,
         "Max Financial",
         13401.76,
         "NaN"
        ],
        [
         193,
         "Indiabulls Vent.",
         13396.15,
         238.43
        ],
        [
         194,
         "Century Textiles",
         13369.97,
         2069.39
        ],
        [
         195,
         "Jubilant Food.",
         13178.43,
         795.17
        ],
        [
         196,
         "Bayer Crop Sci.",
         13166.76,
         479.7
        ],
        [
         197,
         "Graphite India",
         13129.9,
         933.06
        ],
        [
         198,
         "JSW Energy",
         13104.0,
         1993.2
        ],
        [
         199,
         "Central Bank",
         13046.18,
         6026.55
        ],
        [
         200,
         "Natl. Aluminium",
         null,
         null
        ],
        [
         201,
         "CESC",
         12996.56,
         1706.0
        ],
        [
         202,
         "Shri.City Union.",
         12995.31,
         1338.09
        ],
        [
         203,
         "L&T Technology",
         12942.25,
         969.1
        ],
        [
         204,
         "Rain Industries",
         12655.17,
         3050.81
        ],
        [
         205,
         "Torrent Power",
         12599.37,
         2754.64
        ],
        [
         206,
         "Dilip Buildcon",
         12526.06,
         1942.12
        ],
        [
         207,
         "TI Financial",
         12507.91,
         886.68
        ],
        [
         208,
         "JM Financial",
         12382.64,
         837.73
        ],
        [
         209,
         "Adani Power",
         12091.5,
         4844.46
        ],
        [
         210,
         "Reliance Power",
         12033.99,
         2494.65
        ],
        [
         211,
         "Reliance Capital",
         11966.83,
         4749.0
        ],
        [
         212,
         "Syngene Intl.",
         11950.0,
         387.7
        ],
        [
         213,
         "Abbott India",
         11924.12,
         881.49
        ],
        [
         214,
         "Hatsun AgroProd.",
         11896.52,
         1012.94
        ],
        [
         215,
         "Symphony",
         11882.55,
         217.63
        ],
        [
         216,
         "Gujarat Gas",
         11759.77,
         1571.33
        ],
        [
         217,
         "Reliance Infra.",
         11737.24,
         5861.04
        ],
        [
         218,
         "Aditya Bir. Fas.",
         11718.17,
         1855.0
        ],
        [
         219,
         "Ajanta Pharma",
         11651.8,
         587.05
        ],
        [
         220,
         "P I Inds.",
         11564.22,
         537.74
        ],
        [
         221,
         "City Union Bank",
         11554.4,
         865.36
        ],
        [
         222,
         "Varun Beverages",
         11498.3,
         329.92
        ],
        [
         223,
         "Mindtree",
         11438.78,
         1377.7
        ],
        [
         224,
         "Prestige Estates",
         11353.13,
         1272.3
        ],
        [
         225,
         "Future Consumer",
         11203.15,
         784.05
        ],
        [
         226,
         "Sundram Fasten.",
         11202.53,
         848.13
        ],
        [
         227,
         "Sanofi India",
         11182.45,
         667.5
        ],
        [
         228,
         "Guj.St.Petronet",
         11064.74,
         350.18
        ],
        [
         229,
         "Godrej Agrovet",
         10918.75,
         865.77
        ],
        [
         230,
         "Finolex Cables",
         10900.75,
         656.78
        ],
        [
         231,
         "Bombay Burmah",
         10864.53,
         "NaN"
        ],
        [
         232,
         "SRF",
         10842.62,
         1397.06
        ],
        [
         233,
         "GE T&D India",
         10778.42,
         1438.55
        ],
        [
         234,
         "Alembic Pharma",
         10764.29,
         840.02
        ],
        [
         235,
         "SPARC",
         10755.13,
         19.42
        ],
        [
         236,
         "GMR Infra.",
         10653.44,
         2072.29
        ],
        [
         237,
         "HEG",
         10630.76,
         842.71
        ],
        [
         238,
         "Trent",
         10589.27,
         521.32
        ],
        [
         239,
         "Engineers India",
         10565.56,
         473.42
        ],
        [
         240,
         "Avanti Feeds",
         10558.13,
         706.43
        ],
        [
         241,
         "Pfizer",
         10508.48,
         456.54
        ],
        [
         242,
         "Escorts",
         10450.56,
         1205.03
        ],
        [
         243,
         "Tata Motors-DVR",
         10442.09,
         7769.67
        ],
        [
         244,
         "Blue Dart Exp.",
         10422.45,
         704.59
        ],
        [
         245,
         "Indbull.RealEst.",
         10338.4,
         2100.13
        ],
        [
         246,
         "ERIS Lifescience",
         10289.81,
         182.21
        ],
        [
         247,
         "Arvind Ltd",
         10247.7,
         2705.75
        ],
        [
         248,
         "Sundaram Clayton",
         10074.36,
         "NaN"
        ],
        [
         249,
         "Hexaware Tech.",
         9885.05,
         1004.83
        ],
        [
         250,
         "Mahanagar Gas",
         null,
         null
        ],
        [
         255,
         "SKF India",
         9569.14,
         700.49
        ],
        [
         256,
         "Delta Corp",
         9531.57,
         162.17
        ],
        [
         257,
         "Union Bank (I)",
         9528.82,
         8260.47
        ],
        [
         258,
         "TV18 Broadcast",
         9463.27,
         271.13
        ],
        [
         259,
         "Minda Inds.",
         9457.04,
         1056.16
        ],
        [
         260,
         "Solar Inds.",
         9317.76,
         465.68
        ],
        [
         261,
         "Kajaria Ceramics",
         9306.54,
         661.16
        ],
        [
         262,
         "Astral Poly",
         9162.14,
         528.54
        ],
        [
         263,
         "Bata India",
         9145.38,
         674.0
        ],
        [
         264,
         "Phoenix Mills",
         9097.33,
         416.61
        ],
        [
         267,
         "BASF India",
         8778.35,
         1278.74
        ],
        [
         268,
         "DCM Shriram",
         8681.95,
         1783.73
        ],
        [
         269,
         "Infibeam Incorp.",
         8646.54,
         213.48
        ],
        [
         270,
         "Aegis Logistics",
         8613.86,
         1442.08
        ],
        [
         271,
         "Mahindra CIE",
         8587.04,
         "NaN"
        ],
        [
         272,
         "Jet Airways",
         8539.88,
         6086.2
        ],
        [
         273,
         "SpiceJet",
         8458.24,
         2081.95
        ],
        [
         274,
         "Thomas Cook (I)",
         8440.65,
         3005.45
        ],
        [
         275,
         "Guj Fluorochem",
         8439.77,
         968.97
        ],
        [
         276,
         "Wockhardt",
         8428.58,
         1005.3
        ],
        [
         277,
         "Akzo Nobel",
         8389.47,
         711.99
        ],
        [
         278,
         "I D F C",
         8380.86,
         2789.58
        ],
        [
         279,
         "Security & Intel",
         8247.08,
         1537.72
        ],
        [
         280,
         "Asahi India Glas",
         8183.96,
         640.38
        ],
        [
         281,
         "TTK Prestige",
         8153.33,
         457.97
        ],
        [
         282,
         "ITI",
         8124.6,
         250.97
        ],
        [
         283,
         "Karur Vysya Bank",
         8065.7,
         1422.32
        ],
        [
         284,
         "Vardhman Textile",
         8023.74,
         1647.98
        ],
        [
         285,
         "Fortis Health.",
         7966.43,
         1156.61
        ],
        [
         286,
         "Ipca Labs.",
         7943.03,
         859.21
        ],
        [
         287,
         "Sheela Foam",
         7815.74,
         532.21
        ],
        [
         288,
         "IRB Infra.Devl.",
         7812.73,
         1296.19
        ],
        [
         289,
         "Atul",
         7789.01,
         803.68
        ],
        [
         290,
         "Finolex Inds.",
         7784.17,
         722.72
        ],
        [
         291,
         "Dish TV",
         7765.91,
         740.77
        ],
        [
         292,
         "Rel. Comm.",
         7702.01,
         1144.0
        ],
        [
         293,
         "Dr Lal Pathlabs",
         7550.78,
         262.7
        ],
        [
         294,
         "OCL India",
         7453.05,
         859.24
        ],
        [
         295,
         "NCC",
         7439.01,
         2780.26
        ],
        [
         296,
         "Relaxo Footwear",
         7251.91,
         457.5
        ],
        [
         297,
         "J K Cements",
         7230.76,
         1126.11
        ],
        [
         298,
         "G N F C",
         7208.38,
         1590.89
        ],
        [
         299,
         "Cochin Shipyard",
         7154.99,
         615.04
        ],
        [
         300,
         "Bajaj Corp",
         null,
         null
        ],
        [
         301,
         "Birla Corpn.",
         7137.67,
         1389.32
        ],
        [
         302,
         "Future Lifestyle",
         7009.13,
         1188.97
        ],
        [
         303,
         "Century Ply.",
         6966.23,
         509.93
        ],
        [
         304,
         "Blue Star",
         6952.99,
         981.3
        ],
        [
         305,
         "Kalpataru Power",
         6950.23,
         1417.37
        ],
        [
         306,
         "Suzlon Energy",
         6942.31,
         1193.06
        ],
        [
         307,
         "Cyient",
         6921.97,
         983.3
        ],
        [
         308,
         "Hind.Copper",
         6902.14,
         440.14
        ],
        [
         309,
         "Guj Pipavav Port",
         6864.85,
         162.68
        ],
        [
         310,
         "Carborundum Uni.",
         6838.18,
         611.59
        ],
        [
         311,
         "Can Fin Homes",
         6811.5,
         392.1
        ],
        [
         312,
         "Sadbhav Engg.",
         6795.06,
         2153.34
        ],
        [
         313,
         "Advanta",
         6742.41,
         361.68
        ],
        [
         314,
         "Capital First",
         6710.63,
         987.64
        ],
        [
         315,
         "Lak. Mach. Works",
         6654.81,
         542.42
        ],
        [
         316,
         "Himadri Specialt",
         6646.41,
         500.08
        ],
        [
         317,
         "Coffee Day Enter",
         6601.62,
         965.3
        ],
        [
         318,
         "PVR",
         6591.31,
         557.25
        ],
        [
         319,
         "Chambal Fert.",
         6542.79,
         2330.1
        ],
        [
         320,
         "Vijaya Bank",
         6531.58,
         3135.23
        ],
        [
         321,
         "Welspun India",
         6520.67,
         1397.95
        ],
        [
         322,
         "CEAT",
         6476.26,
         1574.15
        ],
        [
         323,
         "Strides Shasun",
         6469.51,
         749.04
        ],
        [
         324,
         "Narayana Hrudaya",
         6379.12,
         553.84
        ],
        [
         325,
         "Jyothy Lab.",
         6324.62,
         431.21
        ],
        [
         326,
         "Johnson Con. Hit",
         6209.11,
         377.4
        ],
        [
         327,
         "Prism Cement",
         6176.23,
         "NaN"
        ],
        [
         328,
         "Tata Elxsi",
         6153.54,
         345.54
        ],
        [
         329,
         "Syndicate Bank",
         6086.37,
         5375.57
        ],
        [
         330,
         "D B Corp",
         6059.97,
         598.58
        ],
        [
         331,
         "Jain Irrigation",
         6019.89,
         1889.63
        ],
        [
         332,
         "Persistent Sys",
         5996.4,
         791.89
        ],
        [
         333,
         "Redington India",
         5896.54,
         11728.4
        ],
        [
         334,
         "Sunteck Realty",
         5865.04,
         201.5
        ],
        [
         335,
         "Raymond",
         5863.1,
         1484.24
        ],
        [
         336,
         "MOIL",
         5840.29,
         299.8
        ],
        [
         337,
         "Bombay Dyeing",
         5823.25,
         619.93
        ],
        [
         338,
         "GE Shipping Co",
         5802.66,
         584.42
        ],
        [
         339,
         "Grindwell Norton",
         5706.51,
         365.42
        ],
        [
         340,
         "EID Parry",
         5652.33,
         3557.94
        ],
        [
         341,
         "I O B",
         5591.02,
         4254.68
        ],
        [
         342,
         "Galaxy Surfact.",
         5567.11,
         826.95
        ],
        [
         343,
         "Laurus Labs",
         5502.94,
         473.77
        ],
        [
         344,
         "Guj Alkalies",
         5498.45,
         617.61
        ],
        [
         345,
         "GE Power",
         5497.4,
         "NaN"
        ],
        [
         346,
         "Timken India",
         5495.76,
         278.58
        ],
        [
         347,
         "C P C L",
         5427.82,
         8587.17
        ],
        [
         348,
         "Dishman Carbogen",
         5416.39,
         459.82
        ],
        [
         349,
         "St Bk of Bikaner",
         5402.95,
         2262.28
        ],
        [
         350,
         "ISGEC Heavy",
         null,
         null
        ],
        [
         351,
         "MMTC",
         5300.0,
         "NaN"
        ],
        [
         352,
         "IFB Inds.",
         5293.53,
         531.74
        ],
        [
         353,
         "eClerx Services",
         5259.14,
         339.89
        ],
        [
         354,
         "Sobha",
         5224.11,
         691.9
        ],
        [
         355,
         "Kirloskar Oil",
         5207.77,
         684.61
        ],
        [
         356,
         "G S F C",
         5200.13,
         1537.45
        ],
        [
         357,
         "CG Power & Indu.",
         5151.85,
         1516.08
        ],
        [
         358,
         "Westlife Develop",
         5145.88,
         305.19
        ],
        [
         359,
         "K P R Mill Ltd",
         5145.36,
         714.51
        ],
        [
         360,
         "Tube Investments",
         5139.43,
         1274.21
        ],
        [
         361,
         "Bajaj Electrical",
         5127.38,
         1145.13
        ],
        [
         362,
         "VST Inds.",
         5109.25,
         238.97
        ],
        [
         363,
         "BEML Ltd",
         5089.87,
         731.51
        ],
        [
         364,
         "FDC",
         5084.19,
         248.77
        ],
        [
         365,
         "DCB Bank",
         5080.5,
         610.78
        ],
        [
         366,
         "Star Cement",
         5072.67,
         377.43
        ],
        [
         367,
         "Netwrk.18 Media",
         5067.23,
         366.02
        ],
        [
         368,
         "Gulf Oil Lubric.",
         5020.44,
         355.95
        ],
        [
         369,
         "UCO Bank",
         5012.59,
         3449.55
        ],
        [
         370,
         "Jagran Prakashan",
         4995.05,
         598.07
        ],
        [
         371,
         "Elgi Equipment",
         4954.08,
         415.42
        ],
        [
         372,
         "JK Lakshmi Cem.",
         4931.55,
         837.41
        ],
        [
         373,
         "Zydus Wellness",
         4921.45,
         132.4
        ],
        [
         374,
         "Equitas Holdings",
         4886.09,
         429.86
        ],
        [
         375,
         "India Cements",
         4885.75,
         1213.08
        ],
        [
         376,
         "Dishman Pharma.",
         4861.2,
         534.22
        ],
        [
         377,
         "South Ind.Bank",
         4856.71,
         1576.96
        ],
        [
         378,
         "Polaris Consulta",
         4830.44,
         680.07
        ],
        [
         379,
         "V I P Inds.",
         4819.63,
         337.99
        ],
        [
         380,
         "APL Apollo",
         4775.03,
         1314.38
        ],
        [
         381,
         "Sadbhav Infra.",
         4735.67,
         624.37
        ],
        [
         382,
         "Jindal Stain.",
         4726.91,
         2988.86
        ],
        [
         383,
         "Swan Energy",
         4721.49,
         "NaN"
        ],
        [
         384,
         "NIIT Tech.",
         4658.2,
         756.5
        ],
        [
         385,
         "Caplin Point Lab",
         4600.73,
         141.61
        ],
        [
         386,
         "Indian Energy Ex",
         4595.7,
         64.75
        ],
        [
         387,
         "Shoppers St.",
         4558.06,
         "NaN"
        ],
        [
         388,
         "Godfrey Phillips",
         4512.29,
         581.94
        ],
        [
         389,
         "Jindal Stain .Hi",
         4498.09,
         2438.58
        ],
        [
         390,
         "R C F",
         4493.52,
         1985.06
        ],
        [
         391,
         "Rallis India",
         4493.2,
         390.16
        ],
        [
         392,
         "Stand.Chart.PLC",
         4487.31,
         "NaN"
        ],
        [
         393,
         "G M D C",
         4456.77,
         506.06
        ],
        [
         394,
         "Manpasand Bever.",
         4406.8,
         143.13
        ],
        [
         395,
         "Tata Inv.Corpn.",
         4401.66,
         47.02
        ],
        [
         396,
         "Essel Propack",
         4371.24,
         595.05
        ],
        [
         397,
         "Allcargo Logist.",
         4369.69,
         1479.91
        ],
        [
         398,
         "Radico Khaitan",
         4358.48,
         482.52
        ],
        [
         399,
         "Cera Sanitary.",
         4356.9,
         290.88
        ],
        [
         400,
         "BSE",
         null,
         null
        ],
        [
         401,
         "Forbes & Co",
         4331.82,
         63.93
        ],
        [
         402,
         "S B T",
         4328.47,
         2365.94
        ],
        [
         403,
         "KNR Construct.",
         4325.39,
         433.19
        ],
        [
         404,
         "PNC Infratech",
         4307.29,
         472.48
        ],
        [
         405,
         "Greenply Inds.",
         4295.02,
         399.29
        ],
        [
         406,
         "Ujjivan Fin.Ser.",
         4293.42,
         0.0
        ],
        [
         407,
         "Monsanto India",
         4291.43,
         183.74
        ],
        [
         408,
         "Vinati Organics",
         4279.07,
         185.65
        ],
        [
         409,
         "Jindal Saw",
         4278.31,
         "NaN"
        ],
        [
         410,
         "Lux Industries",
         4269.78,
         297.43
        ],
        [
         411,
         "Linde India",
         4198.33,
         "NaN"
        ],
        [
         412,
         "Ratnamani Metals",
         4194.31,
         535.6
        ],
        [
         413,
         "Cox & Kings",
         4179.29,
         1356.07
        ],
        [
         414,
         "Omaxe",
         4168.29,
         506.82
        ],
        [
         415,
         "Ashoka Buildcon",
         4166.87,
         729.22
        ],
        [
         416,
         "Time Technoplast",
         4156.58,
         754.7
        ],
        [
         417,
         "Phillips Carbon",
         4149.67,
         612.4
        ],
        [
         418,
         "Allahabad Bank",
         4137.11,
         4243.83
        ],
        [
         419,
         "Welspun Corp",
         4103.05,
         2304.16
        ],
        [
         420,
         "NESCO",
         4093.02,
         80.62
        ],
        [
         421,
         "CARE Ratings",
         4090.69,
         74.82
        ],
        [
         422,
         "JP Associates",
         4074.37,
         "NaN"
        ],
        [
         423,
         "Andhra Bank",
         4067.25,
         4549.26
        ],
        [
         424,
         "Zensar Tech.",
         4066.42,
         793.76
        ],
        [
         425,
         "S H Kelkar & Co.",
         4057.34,
         283.12
        ],
        [
         426,
         "Mahindra Holiday",
         4030.35,
         267.54
        ],
        [
         427,
         "Sintex Plastics",
         4022.02,
         1332.73
        ],
        [
         428,
         "SREI Infra. Fin.",
         4009.63,
         1405.19
        ],
        [
         429,
         "Techno Elec.",
         3975.44,
         275.64
        ],
        [
         430,
         "Minda Corp",
         3974.83,
         636.2
        ],
        [
         431,
         "HMT",
         3973.5,
         "NaN"
        ],
        [
         432,
         "KPIT Tech.",
         3927.26,
         912.77
        ],
        [
         433,
         "Triveni Turbine",
         3910.17,
         165.59
        ],
        [
         434,
         "Shankara Build.",
         3901.07,
         624.62
        ],
        [
         435,
         "Multi Comm. Exc.",
         3847.19,
         60.97
        ],
        [
         436,
         "Brigade Enterpr.",
         3846.15,
         423.91
        ],
        [
         437,
         "Gayatri Projects",
         3835.73,
         "NaN"
        ],
        [
         438,
         "Magma Fincorp",
         3826.83,
         580.58
        ],
        [
         439,
         "VRL Logistics",
         3824.69,
         489.34
        ],
        [
         440,
         "ICRA",
         3809.0,
         82.87
        ],
        [
         441,
         "Shriram Pistons",
         3804.58,
         430.8
        ],
        [
         442,
         "IFCI",
         3789.45,
         626.8
        ],
        [
         443,
         "Suprajit Engg.",
         3777.26,
         366.29
        ],
        [
         444,
         "J & K Bank",
         3775.5,
         1682.97
        ],
        [
         445,
         "Navin Fluo.Intl.",
         3769.26,
         221.45
        ],
        [
         446,
         "Karnataka Bank",
         3765.74,
         1332.24
        ],
        [
         447,
         "Shilpa Medicare",
         3764.1,
         185.53
        ],
        [
         448,
         "Kushal",
         3761.86,
         578.18
        ],
        [
         449,
         "Venky's (India)",
         3760.61,
         695.85
        ],
        [
         450,
         "Force Motors",
         null,
         null
        ],
        [
         451,
         "CCL Products",
         3748.73,
         273.99
        ],
        [
         452,
         "Excel Crop Care",
         3734.06,
         258.65
        ],
        [
         453,
         "Trident",
         3722.6,
         1137.17
        ],
        [
         454,
         "Corporation Bank",
         3716.46,
         4387.85
        ],
        [
         455,
         "Rane Holdings",
         3711.8,
         593.74
        ],
        [
         456,
         "Team Lease Serv.",
         3677.34,
         918.06
        ],
        [
         457,
         "Oriental Bank",
         3674.6,
         4262.08
        ],
        [
         458,
         "I T D C",
         3619.04,
         102.14
        ],
        [
         459,
         "JP Power Ven.",
         3597.6,
         "NaN"
        ],
        [
         460,
         "S C I",
         3582.0,
         879.56
        ],
        [
         461,
         "JK Tyre & Indust",
         3577.98,
         2123.24
        ],
        [
         462,
         "Deepak Nitrite",
         3531.9,
         371.14
        ],
        [
         463,
         "Heidelberg Cem.",
         3531.77,
         491.23
        ],
        [
         464,
         "Amber Enterp.",
         3529.87,
         "NaN"
        ],
        [
         465,
         "Sharda Cropchem",
         3528.07,
         325.46
        ],
        [
         466,
         "Dixon Technolog.",
         3526.8,
         677.8
        ],
        [
         467,
         "Himatsing. Seide",
         3511.08,
         595.61
        ],
        [
         468,
         "La Opala RG",
         3510.93,
         69.77
        ],
        [
         469,
         "H F C L",
         3482.71,
         714.42
        ],
        [
         470,
         "Reliance Home",
         3470.6,
         403.0
        ],
        [
         471,
         "Rupa & Co",
         3460.91,
         277.96
        ],
        [
         472,
         "Hind.Construct.",
         3452.57,
         "NaN"
        ],
        [
         473,
         "Ent.Network",
         3380.99,
         148.42
        ],
        [
         474,
         "Supreme Petroch.",
         3377.57,
         725.02
        ],
        [
         475,
         "MAS FINANC SER",
         3376.2,
         112.05
        ],
        [
         476,
         "Thyrocare Tech.",
         3374.38,
         77.84
        ],
        [
         477,
         "Prakash Inds.",
         3336.05,
         725.97
        ],
        [
         478,
         "Repco Home Fin",
         3331.08,
         277.48
        ],
        [
         479,
         "Sonata Software",
         3329.58,
         766.75
        ],
        [
         480,
         "Central Dep. Ser",
         3316.31,
         47.24
        ],
        [
         481,
         "Puravankara",
         3274.9,
         440.09
        ],
        [
         482,
         "Tejas Networks",
         3209.89,
         229.87
        ],
        [
         483,
         "ITD Cem",
         3192.67,
         472.98
        ],
        [
         484,
         "Hathway Cable",
         3189.1,
         138.65
        ],
        [
         485,
         "Dhanuka Agritech",
         3188.62,
         221.51
        ],
        [
         486,
         "Mahindra Logis.",
         3187.51,
         835.06
        ],
        [
         487,
         "Heritage Foods",
         3185.45,
         581.74
        ],
        [
         488,
         "Mah. Seamless",
         3164.73,
         563.66
        ],
        [
         489,
         "Navneet Educat.",
         3148.36,
         174.41
        ],
        [
         490,
         "Firstsour.Solu.",
         3139.94,
         887.24
        ],
        [
         491,
         "Kaveri Seed Co.",
         3125.83,
         70.64
        ],
        [
         492,
         "Star Ferro Cem.",
         3115.98,
         393.49
        ],
        [
         493,
         "Deepak Fert.",
         3079.06,
         1644.92
        ],
        [
         494,
         "Va Tech Wabag",
         3041.93,
         460.89
        ],
        [
         495,
         "Prime Focus",
         3031.5,
         609.61
        ],
        [
         496,
         "Lak. Vilas Bank",
         3029.57,
         790.17
        ],
        [
         497,
         "NOCIL",
         3026.26,
         249.27
        ],
        [
         498,
         "Orient Cement",
         3024.32,
         511.53
        ],
        [
         499,
         "Natl.Fertilizer",
         3017.07,
         2840.75
        ],
        [
         500,
         "L T Foods",
         null,
         null
        ]
       ],
       "datasetInfos": [],
       "dbfsResultPath": null,
       "isJsonSchema": true,
       "metadata": {},
       "overflow": false,
       "plotOptions": {
        "customPlotOptions": {},
        "displayType": "table",
        "pivotAggregation": null,
        "pivotColumns": null,
        "xColumns": null,
        "yColumns": null
       },
       "removedWidgets": [],
       "schema": [
        {
         "metadata": "{}",
         "name": "S.No.",
         "type": "\"integer\""
        },
        {
         "metadata": "{}",
         "name": "Name",
         "type": "\"string\""
        },
        {
         "metadata": "{}",
         "name": "Mar Cap - Crore",
         "type": "\"double\""
        },
        {
         "metadata": "{}",
         "name": "Sales Qtr - Crore",
         "type": "\"double\""
        }
       ],
       "type": "table"
      }
     },
     "output_type": "display_data"
    }
   ],
   "source": [
    "df = filter_df.drop(col(\"_c4\"))\n",
    "\n",
    "df.display()"
   ]
  },
  {
   "cell_type": "markdown",
   "metadata": {
    "application/vnd.databricks.v1+cell": {
     "cellMetadata": {},
     "inputWidgets": {},
     "nuid": "78944d5f-7e64-41ba-8572-3bd2ae65f870",
     "showTitle": false,
     "title": ""
    }
   },
   "source": [
    "Column Rename"
   ]
  },
  {
   "cell_type": "code",
   "execution_count": 0,
   "metadata": {
    "application/vnd.databricks.v1+cell": {
     "cellMetadata": {
      "byteLimit": 2048000,
      "rowLimit": 10000
     },
     "inputWidgets": {},
     "nuid": "c8da5a2a-1156-41bf-b9f0-2c8898045559",
     "showTitle": false,
     "title": ""
    }
   },
   "outputs": [
    {
     "output_type": "display_data",
     "data": {
      "text/html": [
       "<style scoped>\n",
       "  .table-result-container {\n",
       "    max-height: 300px;\n",
       "    overflow: auto;\n",
       "  }\n",
       "  table, th, td {\n",
       "    border: 1px solid black;\n",
       "    border-collapse: collapse;\n",
       "  }\n",
       "  th, td {\n",
       "    padding: 5px;\n",
       "  }\n",
       "  th {\n",
       "    text-align: left;\n",
       "  }\n",
       "</style><div class='table-result-container'><table class='table-result'><thead style='background-color: white'><tr><th>Sr.No</th><th>Company_name</th><th>Market_cap</th><th>Sales_Qtr</th></tr></thead><tbody><tr><td>1</td><td>Reliance Inds.</td><td>583436.72</td><td>99810.0</td></tr><tr><td>2</td><td>TCS</td><td>563709.84</td><td>30904.0</td></tr><tr><td>3</td><td>HDFC Bank</td><td>482953.59</td><td>20581.27</td></tr><tr><td>4</td><td>ITC</td><td>320985.27</td><td>9772.02</td></tr><tr><td>5</td><td>H D F C</td><td>289497.37</td><td>16840.51</td></tr><tr><td>6</td><td>Hind. Unilever</td><td>288265.26</td><td>8590.0</td></tr><tr><td>7</td><td>Maruti Suzuki</td><td>263493.81</td><td>19283.2</td></tr><tr><td>8</td><td>Infosys</td><td>248320.35</td><td>17794.0</td></tr><tr><td>9</td><td>O N G C</td><td>239981.5</td><td>22995.88</td></tr><tr><td>10</td><td>St Bk of India</td><td>232763.33</td><td>57014.08</td></tr><tr><td>11</td><td>ICICI Bank</td><td>203802.35</td><td>13665.35</td></tr><tr><td>12</td><td>Kotak Mah. Bank</td><td>199253.77</td><td>6390.71</td></tr><tr><td>13</td><td>Coal India</td><td>192677.98</td><td>21643.28</td></tr><tr><td>14</td><td>Larsen & Toubro</td><td>180860.74</td><td>28747.45</td></tr><tr><td>15</td><td>I O C L</td><td>178017.48</td><td>110666.93</td></tr><tr><td>16</td><td>Bharti Airtel</td><td>167131.29</td><td>20318.6</td></tr><tr><td>17</td><td>Axis Bank</td><td>136380.76</td><td>11721.55</td></tr><tr><td>18</td><td>NTPC</td><td>135390.53</td><td>20774.37</td></tr><tr><td>19</td><td>Sun Pharma.Inds.</td><td>134241.36</td><td>6653.23</td></tr><tr><td>20</td><td>Hind.Zinc</td><td>133266.56</td><td>5922.0</td></tr><tr><td>21</td><td>Wipro</td><td>131840.57</td><td>13669.0</td></tr><tr><td>22</td><td>HCL Technologies</td><td>126335.27</td><td>12809.0</td></tr><tr><td>23</td><td>Vedanta</td><td>122184.17</td><td>24361.0</td></tr><tr><td>24</td><td>Tata Motors</td><td>117071.87</td><td>74156.07</td></tr><tr><td>25</td><td>UltraTech Cem.</td><td>113692.87</td><td>8019.24</td></tr><tr><td>26</td><td>Asian Paints</td><td>108044.04</td><td>4260.52</td></tr><tr><td>27</td><td>Power Grid Corpn</td><td>102016.01</td><td>7506.95</td></tr><tr><td>28</td><td>B P C L</td><td>98278.0</td><td>60616.36</td></tr><tr><td>29</td><td>IndusInd Bank</td><td>97379.96</td><td>4286.78</td></tr><tr><td>30</td><td>Bajaj Fin.</td><td>94476.77</td><td>3540.63</td></tr><tr><td>31</td><td>Bajaj Auto</td><td>88252.6</td><td>6369.34</td></tr><tr><td>32</td><td>M & M</td><td>88142.35</td><td>11577.78</td></tr><tr><td>33</td><td>HDFC Stand. Life</td><td>87358.23</td><td>9734.9</td></tr><tr><td>34</td><td>Adani Ports</td><td>81781.89</td><td>2688.85</td></tr><tr><td>35</td><td>Bajaj Finserv</td><td>79795.11</td><td>7665.4</td></tr><tr><td>36</td><td>GAIL (India)</td><td>78670.97</td><td>14414.34</td></tr><tr><td>37</td><td>Avenue Super.</td><td>74066.35</td><td>4094.82</td></tr><tr><td>38</td><td>Titan Company</td><td>73886.0</td><td>4274.84</td></tr><tr><td>39</td><td>JSW Steel</td><td>73870.26</td><td>17861.0</td></tr><tr><td>40</td><td>Grasim Inds</td><td>73532.62</td><td>15291.42</td></tr><tr><td>41</td><td>Tata Steel</td><td>73376.14</td><td>32464.14</td></tr><tr><td>42</td><td>Eicher Motors</td><td>73311.41</td><td>2269.01</td></tr><tr><td>43</td><td>Nestle India</td><td>73015.49</td><td>2601.46</td></tr><tr><td>44</td><td>Godrej Consumer</td><td>71859.82</td><td>2630.3</td></tr><tr><td>45</td><td>Yes Bank</td><td>71028.13</td><td>5070.3</td></tr><tr><td>46</td><td>Hero Motocorp</td><td>69448.66</td><td>7305.49</td></tr><tr><td>47</td><td>Motherson Sumi</td><td>68590.33</td><td>14397.85</td></tr><tr><td>48</td><td>SBI Life Insuran</td><td>67465.0</td><td>9569.97</td></tr><tr><td>49</td><td>General Insuranc</td><td>66316.32</td><td>8557.68</td></tr><tr><td>50</td><td>Bharti Infra.</td><td>61776.92</td><td>null</td></tr><tr><td>51</td><td>Dabur India</td><td>60015.0</td><td>1966.44</td></tr><tr><td>52</td><td>Bosch</td><td>59204.28</td><td>3071.92</td></tr><tr><td>53</td><td>Shree Cement</td><td>58987.08</td><td>2296.23</td></tr><tr><td>54</td><td>New India Assura</td><td>58108.48</td><td>5074.02</td></tr><tr><td>55</td><td>H P C L</td><td>58034.78</td><td>57474.25</td></tr><tr><td>56</td><td>ICICI Pru Life</td><td>57748.98</td><td>13555.32</td></tr><tr><td>57</td><td>Britannia Inds.</td><td>56837.2</td><td>2567.48</td></tr><tr><td>58</td><td>Tech Mahindra</td><td>56244.26</td><td>7775.96</td></tr><tr><td>59</td><td>Hindalco Inds.</td><td>55854.68</td><td>11022.81</td></tr><tr><td>60</td><td>Zee Entertainmen</td><td>54817.89</td><td>1838.07</td></tr><tr><td>61</td><td>Cairn India</td><td>53528.57</td><td>2149.36</td></tr><tr><td>62</td><td>Indiabulls Hous.</td><td>52781.67</td><td>3115.89</td></tr><tr><td>63</td><td>Ambuja Cem.</td><td>52361.46</td><td>6170.71</td></tr><tr><td>64</td><td>Interglobe Aviat</td><td>48621.37</td><td>6177.88</td></tr><tr><td>65</td><td>Cipla</td><td>48577.43</td><td>3913.82</td></tr><tr><td>66</td><td>Piramal Enterp.</td><td>47483.97</td><td>2858.36</td></tr><tr><td>67</td><td>United Spirits</td><td>46725.05</td><td>2263.3</td></tr><tr><td>68</td><td>Pidilite Inds.</td><td>45855.5</td><td>1542.9</td></tr><tr><td>69</td><td>Siemens</td><td>44239.04</td><td>2429.5</td></tr><tr><td>70</td><td>Cadila Health.</td><td>41876.19</td><td>3259.6</td></tr><tr><td>71</td><td>NMDC</td><td>41415.33</td><td>2469.03</td></tr><tr><td>72</td><td>DLF</td><td>40159.35</td><td>1693.72</td></tr><tr><td>73</td><td>Marico</td><td>39813.84</td><td>1337.59</td></tr><tr><td>74</td><td>Ashok Leyland</td><td>39047.57</td><td>7113.16</td></tr><tr><td>75</td><td>Bharat Electron</td><td>37776.23</td><td>2512.82</td></tr><tr><td>76</td><td>ICICI Lombard</td><td>37219.22</td><td>2110.99</td></tr><tr><td>77</td><td>Lupin</td><td>36878.85</td><td>3975.62</td></tr><tr><td>78</td><td>Petronet LNG</td><td>36615.0</td><td>7757.06</td></tr><tr><td>79</td><td>Aditya Birla Cap</td><td>36215.92</td><td>3325.02</td></tr><tr><td>80</td><td>Dr Reddy's Labs</td><td>35893.55</td><td>3834.1</td></tr><tr><td>81</td><td>Sun TV Network</td><td>35824.26</td><td>683.28</td></tr><tr><td>82</td><td>S A I L</td><td>35729.04</td><td>15323.65</td></tr><tr><td>83</td><td>UPL</td><td>35349.58</td><td>4194.0</td></tr><tr><td>84</td><td>Oracle Fin.Serv.</td><td>34620.19</td><td>1059.12</td></tr><tr><td>85</td><td>Bharat Forge</td><td>34397.69</td><td>1390.55</td></tr><tr><td>86</td><td>Biocon</td><td>34347.0</td><td>1057.9</td></tr><tr><td>87</td><td>B H E L</td><td>34162.38</td><td>6626.35</td></tr><tr><td>88</td><td>Aurobindo Pharma</td><td>33676.52</td><td>4336.11</td></tr><tr><td>89</td><td>Bank of Baroda</td><td>33364.23</td><td>11303.24</td></tr><tr><td>90</td><td>Idea Cellular</td><td>33047.33</td><td>6509.6</td></tr><tr><td>91</td><td>A B B</td><td>31983.33</td><td>2779.4</td></tr><tr><td>92</td><td>Havells India</td><td>31798.18</td><td>1965.77</td></tr><tr><td>93</td><td>Container Corpn.</td><td>31450.56</td><td>1639.55</td></tr><tr><td>94</td><td>TVS Motor Co.</td><td>30919.51</td><td>3684.95</td></tr><tr><td>95</td><td>ACC</td><td>30803.68</td><td>3494.24</td></tr><tr><td>96</td><td>Bajaj Holdings</td><td>30305.94</td><td>317.85</td></tr><tr><td>97</td><td>P & G Hygiene</td><td>30202.12</td><td>704.16</td></tr><tr><td>98</td><td>MRF</td><td>30030.01</td><td>3798.82</td></tr><tr><td>99</td><td>Shriram Trans.</td><td>29327.64</td><td>3087.67</td></tr><tr><td>100</td><td>Colgate-Palm.</td><td>null</td><td>null</td></tr><tr><td>101</td><td>L&T Fin.Holdings</td><td>28932.43</td><td>2630.17</td></tr><tr><td>102</td><td>Punjab Natl.Bank</td><td>28270.22</td><td>12175.48</td></tr><tr><td>103</td><td>NHPC Ltd</td><td>28059.24</td><td>1497.93</td></tr><tr><td>104</td><td>Power Fin.Corpn.</td><td>27905.66</td><td>6194.77</td></tr><tr><td>105</td><td>United Breweries</td><td>27797.69</td><td>1197.1</td></tr><tr><td>106</td><td>Oil India</td><td>27404.15</td><td>2852.55</td></tr><tr><td>107</td><td>Rural Elec.Corp.</td><td>27382.24</td><td>5498.45</td></tr><tr><td>108</td><td>GlaxoSmith C H L</td><td>27340.89</td><td>1034.67</td></tr><tr><td>109</td><td>M & M Fin. Serv.</td><td>26928.37</td><td>2182.45</td></tr><tr><td>110</td><td>Divi's Lab.</td><td>26915.86</td><td>1037.88</td></tr><tr><td>111</td><td>Kansai Nerolac</td><td>26409.76</td><td>1145.01</td></tr><tr><td>112</td><td>Alkem Lab</td><td>25957.56</td><td>1422.52</td></tr><tr><td>113</td><td>LIC Housing Fin.</td><td>25880.98</td><td>3738.1</td></tr><tr><td>114</td><td>Future Retail</td><td>25859.25</td><td>4693.39</td></tr><tr><td>115</td><td>Page Industries</td><td>25383.03</td><td>621.03</td></tr><tr><td>116</td><td>Dalmia Bhar.</td><td>25288.97</td><td>2090.54</td></tr><tr><td>117</td><td>IIFL Holdings</td><td>24788.54</td><td>1612.14</td></tr><tr><td>118</td><td>L & T Infotech</td><td>24626.1</td><td>1883.8</td></tr><tr><td>119</td><td>Aditya Bir. Nuv.</td><td>24592.21</td><td>4287.12</td></tr><tr><td>120</td><td>Emami</td><td>23720.37</td><td>756.64</td></tr><tr><td>121</td><td>Cummins India</td><td>23562.0</td><td>1354.67</td></tr><tr><td>122</td><td>Berger Paints</td><td>23537.8</td><td>1338.63</td></tr><tr><td>123</td><td>Rajesh Exports</td><td>23495.54</td><td>41304.84</td></tr><tr><td>126</td><td>Tata Power Co.</td><td>23369.24</td><td>6949.91</td></tr><tr><td>127</td><td>3M India</td><td>23101.19</td><td>645.77</td></tr><tr><td>128</td><td>Jindal Steel</td><td>23094.39</td><td>6992.56</td></tr><tr><td>129</td><td>Edelweiss.Fin.</td><td>22915.42</td><td>2069.45</td></tr><tr><td>130</td><td>Gillette India</td><td>21976.74</td><td>407.52</td></tr><tr><td>131</td><td>Adani Enterp.</td><td>21776.04</td><td>9938.37</td></tr><tr><td>132</td><td>Adani Transmissi</td><td>21677.26</td><td>1782.29</td></tr><tr><td>133</td><td>Balkrishna Inds</td><td>21372.18</td><td>1106.31</td></tr><tr><td>134</td><td>Cholaman.Inv.&Fn</td><td>20832.4</td><td>1404.33</td></tr><tr><td>135</td><td>Indraprastha Gas</td><td>20779.52</td><td>1183.9</td></tr><tr><td>136</td><td>M R P L</td><td>20750.78</td><td>14100.98</td></tr><tr><td>137</td><td>Glaxosmi. Pharma</td><td>20489.35</td><td>703.91</td></tr><tr><td>138</td><td>PNB Housing</td><td>20037.85</td><td>1438.49</td></tr><tr><td>139</td><td>RBL Bank</td><td>19748.79</td><td>1150.79</td></tr><tr><td>140</td><td>Castrol India</td><td>18803.22</td><td>970.3</td></tr><tr><td>141</td><td>Canara Bank</td><td>18590.66</td><td>10774.64</td></tr><tr><td>142</td><td>GRUH Finance</td><td>18535.09</td><td>428.47</td></tr><tr><td>143</td><td>KIOCL</td><td>18534.15</td><td>442.81</td></tr><tr><td>144</td><td>Voltas</td><td>18453.44</td><td>1374.67</td></tr><tr><td>145</td><td>Godrej Inds.</td><td>18298.09</td><td>2458.48</td></tr><tr><td>146</td><td>Whirlpool India</td><td>18254.06</td><td>958.01</td></tr><tr><td>147</td><td>Sundaram Finance</td><td>18159.85</td><td>677.23</td></tr><tr><td>148</td><td>Federal Bank</td><td>18086.81</td><td>2501.2</td></tr><tr><td>149</td><td>Tata Comm</td><td>17963.55</td><td>4114.63</td></tr><tr><td>150</td><td>Endurance Tech.</td><td>null</td><td>null</td></tr><tr><td>151</td><td>Tata Chemicals</td><td>17941.47</td><td>2573.91</td></tr><tr><td>152</td><td>Exide Inds.</td><td>17930.75</td><td>2276.54</td></tr><tr><td>153</td><td>IDFC Bank</td><td>17762.77</td><td>2283.72</td></tr><tr><td>154</td><td>NBCC</td><td>17712.0</td><td>1321.5</td></tr><tr><td>155</td><td>IDBI Bank</td><td>17559.35</td><td>5797.2</td></tr><tr><td>156</td><td>The Ramco Cement</td><td>17246.58</td><td>1056.36</td></tr><tr><td>157</td><td>Dewan Hsg. Fin.</td><td>17097.54</td><td>2631.6</td></tr><tr><td>158</td><td>MphasiS</td><td>16728.78</td><td>1660.69</td></tr><tr><td>159</td><td>Apollo Hospitals</td><td>16683.97</td><td>1896.14</td></tr><tr><td>160</td><td>Reliance Nip.Lif</td><td>16655.58</td><td>394.0</td></tr><tr><td>161</td><td>Tata Global</td><td>16589.24</td><td>1730.39</td></tr><tr><td>162</td><td>Godrej Propert.</td><td>16545.51</td><td>627.03</td></tr><tr><td>163</td><td>AU Small Finance</td><td>16453.67</td><td>464.17</td></tr><tr><td>164</td><td>Indian Hotels</td><td>16150.13</td><td>1197.26</td></tr><tr><td>165</td><td>Motil.Oswal.Fin.</td><td>16108.15</td><td>728.63</td></tr><tr><td>166</td><td>H U D C O</td><td>16065.25</td><td>1064.49</td></tr><tr><td>167</td><td>Oberoi Realty</td><td>16044.51</td><td>356.2</td></tr><tr><td>168</td><td>Indian Bank</td><td>15739.16</td><td>4354.22</td></tr><tr><td>169</td><td>SJVN</td><td>15512.35</td><td>436.58</td></tr><tr><td>170</td><td>Bank of India</td><td>15339.87</td><td>9334.84</td></tr><tr><td>171</td><td>Supreme Inds.</td><td>15248.94</td><td>1278.3</td></tr><tr><td>172</td><td>Muthoot Finance</td><td>15226.72</td><td>1553.71</td></tr><tr><td>173</td><td>NLC India</td><td>15201.61</td><td>1706.48</td></tr><tr><td>176</td><td>Info Edg.(India)</td><td>14845.05</td><td>NaN</td></tr><tr><td>177</td><td>Glenmark Pharma.</td><td>14785.53</td><td>2203.67</td></tr><tr><td>178</td><td>Jubilant Life</td><td>14775.08</td><td>2067.76</td></tr><tr><td>179</td><td>Crompton Gr. Con</td><td>14638.57</td><td>938.19</td></tr><tr><td>180</td><td>Honeywell Auto</td><td>14526.24</td><td>721.48</td></tr><tr><td>181</td><td>Natco Pharma</td><td>14456.9</td><td>562.2</td></tr><tr><td>182</td><td>PC Jeweller</td><td>14334.81</td><td>2644.89</td></tr><tr><td>183</td><td>Quess Corp</td><td>14330.19</td><td>1583.95</td></tr><tr><td>184</td><td>CRISIL</td><td>14164.81</td><td>441.13</td></tr><tr><td>185</td><td>WABCO India</td><td>13843.64</td><td>649.91</td></tr><tr><td>186</td><td>Amara Raja Batt.</td><td>13774.32</td><td>1553.46</td></tr><tr><td>189</td><td>Sterlite Tech.</td><td>13743.95</td><td>835.18</td></tr><tr><td>190</td><td>AIA Engg.</td><td>13593.35</td><td>572.16</td></tr><tr><td>191</td><td>KRBL</td><td>13492.55</td><td>783.51</td></tr><tr><td>192</td><td>Max Financial</td><td>13401.76</td><td>NaN</td></tr><tr><td>193</td><td>Indiabulls Vent.</td><td>13396.15</td><td>238.43</td></tr><tr><td>194</td><td>Century Textiles</td><td>13369.97</td><td>2069.39</td></tr><tr><td>195</td><td>Jubilant Food.</td><td>13178.43</td><td>795.17</td></tr><tr><td>196</td><td>Bayer Crop Sci.</td><td>13166.76</td><td>479.7</td></tr><tr><td>197</td><td>Graphite India</td><td>13129.9</td><td>933.06</td></tr><tr><td>198</td><td>JSW Energy</td><td>13104.0</td><td>1993.2</td></tr><tr><td>199</td><td>Central Bank</td><td>13046.18</td><td>6026.55</td></tr><tr><td>200</td><td>Natl. Aluminium</td><td>null</td><td>null</td></tr><tr><td>201</td><td>CESC</td><td>12996.56</td><td>1706.0</td></tr><tr><td>202</td><td>Shri.City Union.</td><td>12995.31</td><td>1338.09</td></tr><tr><td>203</td><td>L&T Technology</td><td>12942.25</td><td>969.1</td></tr><tr><td>204</td><td>Rain Industries</td><td>12655.17</td><td>3050.81</td></tr><tr><td>205</td><td>Torrent Power</td><td>12599.37</td><td>2754.64</td></tr><tr><td>206</td><td>Dilip Buildcon</td><td>12526.06</td><td>1942.12</td></tr><tr><td>207</td><td>TI Financial</td><td>12507.91</td><td>886.68</td></tr><tr><td>208</td><td>JM Financial</td><td>12382.64</td><td>837.73</td></tr><tr><td>209</td><td>Adani Power</td><td>12091.5</td><td>4844.46</td></tr><tr><td>210</td><td>Reliance Power</td><td>12033.99</td><td>2494.65</td></tr><tr><td>211</td><td>Reliance Capital</td><td>11966.83</td><td>4749.0</td></tr><tr><td>212</td><td>Syngene Intl.</td><td>11950.0</td><td>387.7</td></tr><tr><td>213</td><td>Abbott India</td><td>11924.12</td><td>881.49</td></tr><tr><td>214</td><td>Hatsun AgroProd.</td><td>11896.52</td><td>1012.94</td></tr><tr><td>215</td><td>Symphony</td><td>11882.55</td><td>217.63</td></tr><tr><td>216</td><td>Gujarat Gas</td><td>11759.77</td><td>1571.33</td></tr><tr><td>217</td><td>Reliance Infra.</td><td>11737.24</td><td>5861.04</td></tr><tr><td>218</td><td>Aditya Bir. Fas.</td><td>11718.17</td><td>1855.0</td></tr><tr><td>219</td><td>Ajanta Pharma</td><td>11651.8</td><td>587.05</td></tr><tr><td>220</td><td>P I Inds.</td><td>11564.22</td><td>537.74</td></tr><tr><td>221</td><td>City Union Bank</td><td>11554.4</td><td>865.36</td></tr><tr><td>222</td><td>Varun Beverages</td><td>11498.3</td><td>329.92</td></tr><tr><td>223</td><td>Mindtree</td><td>11438.78</td><td>1377.7</td></tr><tr><td>224</td><td>Prestige Estates</td><td>11353.13</td><td>1272.3</td></tr><tr><td>225</td><td>Future Consumer</td><td>11203.15</td><td>784.05</td></tr><tr><td>226</td><td>Sundram Fasten.</td><td>11202.53</td><td>848.13</td></tr><tr><td>227</td><td>Sanofi India</td><td>11182.45</td><td>667.5</td></tr><tr><td>228</td><td>Guj.St.Petronet</td><td>11064.74</td><td>350.18</td></tr><tr><td>229</td><td>Godrej Agrovet</td><td>10918.75</td><td>865.77</td></tr><tr><td>230</td><td>Finolex Cables</td><td>10900.75</td><td>656.78</td></tr><tr><td>231</td><td>Bombay Burmah</td><td>10864.53</td><td>NaN</td></tr><tr><td>232</td><td>SRF</td><td>10842.62</td><td>1397.06</td></tr><tr><td>233</td><td>GE T&D India</td><td>10778.42</td><td>1438.55</td></tr><tr><td>234</td><td>Alembic Pharma</td><td>10764.29</td><td>840.02</td></tr><tr><td>235</td><td>SPARC</td><td>10755.13</td><td>19.42</td></tr><tr><td>236</td><td>GMR Infra.</td><td>10653.44</td><td>2072.29</td></tr><tr><td>237</td><td>HEG</td><td>10630.76</td><td>842.71</td></tr><tr><td>238</td><td>Trent</td><td>10589.27</td><td>521.32</td></tr><tr><td>239</td><td>Engineers India</td><td>10565.56</td><td>473.42</td></tr><tr><td>240</td><td>Avanti Feeds</td><td>10558.13</td><td>706.43</td></tr><tr><td>241</td><td>Pfizer</td><td>10508.48</td><td>456.54</td></tr><tr><td>242</td><td>Escorts</td><td>10450.56</td><td>1205.03</td></tr><tr><td>243</td><td>Tata Motors-DVR</td><td>10442.09</td><td>7769.67</td></tr><tr><td>244</td><td>Blue Dart Exp.</td><td>10422.45</td><td>704.59</td></tr><tr><td>245</td><td>Indbull.RealEst.</td><td>10338.4</td><td>2100.13</td></tr><tr><td>246</td><td>ERIS Lifescience</td><td>10289.81</td><td>182.21</td></tr><tr><td>247</td><td>Arvind Ltd</td><td>10247.7</td><td>2705.75</td></tr><tr><td>248</td><td>Sundaram Clayton</td><td>10074.36</td><td>NaN</td></tr><tr><td>249</td><td>Hexaware Tech.</td><td>9885.05</td><td>1004.83</td></tr><tr><td>250</td><td>Mahanagar Gas</td><td>null</td><td>null</td></tr><tr><td>255</td><td>SKF India</td><td>9569.14</td><td>700.49</td></tr><tr><td>256</td><td>Delta Corp</td><td>9531.57</td><td>162.17</td></tr><tr><td>257</td><td>Union Bank (I)</td><td>9528.82</td><td>8260.47</td></tr><tr><td>258</td><td>TV18 Broadcast</td><td>9463.27</td><td>271.13</td></tr><tr><td>259</td><td>Minda Inds.</td><td>9457.04</td><td>1056.16</td></tr><tr><td>260</td><td>Solar Inds.</td><td>9317.76</td><td>465.68</td></tr><tr><td>261</td><td>Kajaria Ceramics</td><td>9306.54</td><td>661.16</td></tr><tr><td>262</td><td>Astral Poly</td><td>9162.14</td><td>528.54</td></tr><tr><td>263</td><td>Bata India</td><td>9145.38</td><td>674.0</td></tr><tr><td>264</td><td>Phoenix Mills</td><td>9097.33</td><td>416.61</td></tr><tr><td>267</td><td>BASF India</td><td>8778.35</td><td>1278.74</td></tr><tr><td>268</td><td>DCM Shriram</td><td>8681.95</td><td>1783.73</td></tr><tr><td>269</td><td>Infibeam Incorp.</td><td>8646.54</td><td>213.48</td></tr><tr><td>270</td><td>Aegis Logistics</td><td>8613.86</td><td>1442.08</td></tr><tr><td>271</td><td>Mahindra CIE</td><td>8587.04</td><td>NaN</td></tr><tr><td>272</td><td>Jet Airways</td><td>8539.88</td><td>6086.2</td></tr><tr><td>273</td><td>SpiceJet</td><td>8458.24</td><td>2081.95</td></tr><tr><td>274</td><td>Thomas Cook (I)</td><td>8440.65</td><td>3005.45</td></tr><tr><td>275</td><td>Guj Fluorochem</td><td>8439.77</td><td>968.97</td></tr><tr><td>276</td><td>Wockhardt</td><td>8428.58</td><td>1005.3</td></tr><tr><td>277</td><td>Akzo Nobel</td><td>8389.47</td><td>711.99</td></tr><tr><td>278</td><td>I D F C</td><td>8380.86</td><td>2789.58</td></tr><tr><td>279</td><td>Security & Intel</td><td>8247.08</td><td>1537.72</td></tr><tr><td>280</td><td>Asahi India Glas</td><td>8183.96</td><td>640.38</td></tr><tr><td>281</td><td>TTK Prestige</td><td>8153.33</td><td>457.97</td></tr><tr><td>282</td><td>ITI</td><td>8124.6</td><td>250.97</td></tr><tr><td>283</td><td>Karur Vysya Bank</td><td>8065.7</td><td>1422.32</td></tr><tr><td>284</td><td>Vardhman Textile</td><td>8023.74</td><td>1647.98</td></tr><tr><td>285</td><td>Fortis Health.</td><td>7966.43</td><td>1156.61</td></tr><tr><td>286</td><td>Ipca Labs.</td><td>7943.03</td><td>859.21</td></tr><tr><td>287</td><td>Sheela Foam</td><td>7815.74</td><td>532.21</td></tr><tr><td>288</td><td>IRB Infra.Devl.</td><td>7812.73</td><td>1296.19</td></tr><tr><td>289</td><td>Atul</td><td>7789.01</td><td>803.68</td></tr><tr><td>290</td><td>Finolex Inds.</td><td>7784.17</td><td>722.72</td></tr><tr><td>291</td><td>Dish TV</td><td>7765.91</td><td>740.77</td></tr><tr><td>292</td><td>Rel. Comm.</td><td>7702.01</td><td>1144.0</td></tr><tr><td>293</td><td>Dr Lal Pathlabs</td><td>7550.78</td><td>262.7</td></tr><tr><td>294</td><td>OCL India</td><td>7453.05</td><td>859.24</td></tr><tr><td>295</td><td>NCC</td><td>7439.01</td><td>2780.26</td></tr><tr><td>296</td><td>Relaxo Footwear</td><td>7251.91</td><td>457.5</td></tr><tr><td>297</td><td>J K Cements</td><td>7230.76</td><td>1126.11</td></tr><tr><td>298</td><td>G N F C</td><td>7208.38</td><td>1590.89</td></tr><tr><td>299</td><td>Cochin Shipyard</td><td>7154.99</td><td>615.04</td></tr><tr><td>300</td><td>Bajaj Corp</td><td>null</td><td>null</td></tr><tr><td>301</td><td>Birla Corpn.</td><td>7137.67</td><td>1389.32</td></tr><tr><td>302</td><td>Future Lifestyle</td><td>7009.13</td><td>1188.97</td></tr><tr><td>303</td><td>Century Ply.</td><td>6966.23</td><td>509.93</td></tr><tr><td>304</td><td>Blue Star</td><td>6952.99</td><td>981.3</td></tr><tr><td>305</td><td>Kalpataru Power</td><td>6950.23</td><td>1417.37</td></tr><tr><td>306</td><td>Suzlon Energy</td><td>6942.31</td><td>1193.06</td></tr><tr><td>307</td><td>Cyient</td><td>6921.97</td><td>983.3</td></tr><tr><td>308</td><td>Hind.Copper</td><td>6902.14</td><td>440.14</td></tr><tr><td>309</td><td>Guj Pipavav Port</td><td>6864.85</td><td>162.68</td></tr><tr><td>310</td><td>Carborundum Uni.</td><td>6838.18</td><td>611.59</td></tr><tr><td>311</td><td>Can Fin Homes</td><td>6811.5</td><td>392.1</td></tr><tr><td>312</td><td>Sadbhav Engg.</td><td>6795.06</td><td>2153.34</td></tr><tr><td>313</td><td>Advanta</td><td>6742.41</td><td>361.68</td></tr><tr><td>314</td><td>Capital First</td><td>6710.63</td><td>987.64</td></tr><tr><td>315</td><td>Lak. Mach. Works</td><td>6654.81</td><td>542.42</td></tr><tr><td>316</td><td>Himadri Specialt</td><td>6646.41</td><td>500.08</td></tr><tr><td>317</td><td>Coffee Day Enter</td><td>6601.62</td><td>965.3</td></tr><tr><td>318</td><td>PVR</td><td>6591.31</td><td>557.25</td></tr><tr><td>319</td><td>Chambal Fert.</td><td>6542.79</td><td>2330.1</td></tr><tr><td>320</td><td>Vijaya Bank</td><td>6531.58</td><td>3135.23</td></tr><tr><td>321</td><td>Welspun India</td><td>6520.67</td><td>1397.95</td></tr><tr><td>322</td><td>CEAT</td><td>6476.26</td><td>1574.15</td></tr><tr><td>323</td><td>Strides Shasun</td><td>6469.51</td><td>749.04</td></tr><tr><td>324</td><td>Narayana Hrudaya</td><td>6379.12</td><td>553.84</td></tr><tr><td>325</td><td>Jyothy Lab.</td><td>6324.62</td><td>431.21</td></tr><tr><td>326</td><td>Johnson Con. Hit</td><td>6209.11</td><td>377.4</td></tr><tr><td>327</td><td>Prism Cement</td><td>6176.23</td><td>NaN</td></tr><tr><td>328</td><td>Tata Elxsi</td><td>6153.54</td><td>345.54</td></tr><tr><td>329</td><td>Syndicate Bank</td><td>6086.37</td><td>5375.57</td></tr><tr><td>330</td><td>D B Corp</td><td>6059.97</td><td>598.58</td></tr><tr><td>331</td><td>Jain Irrigation</td><td>6019.89</td><td>1889.63</td></tr><tr><td>332</td><td>Persistent Sys</td><td>5996.4</td><td>791.89</td></tr><tr><td>333</td><td>Redington India</td><td>5896.54</td><td>11728.4</td></tr><tr><td>334</td><td>Sunteck Realty</td><td>5865.04</td><td>201.5</td></tr><tr><td>335</td><td>Raymond</td><td>5863.1</td><td>1484.24</td></tr><tr><td>336</td><td>MOIL</td><td>5840.29</td><td>299.8</td></tr><tr><td>337</td><td>Bombay Dyeing</td><td>5823.25</td><td>619.93</td></tr><tr><td>338</td><td>GE Shipping Co</td><td>5802.66</td><td>584.42</td></tr><tr><td>339</td><td>Grindwell Norton</td><td>5706.51</td><td>365.42</td></tr><tr><td>340</td><td>EID Parry</td><td>5652.33</td><td>3557.94</td></tr><tr><td>341</td><td>I O B</td><td>5591.02</td><td>4254.68</td></tr><tr><td>342</td><td>Galaxy Surfact.</td><td>5567.11</td><td>826.95</td></tr><tr><td>343</td><td>Laurus Labs</td><td>5502.94</td><td>473.77</td></tr><tr><td>344</td><td>Guj Alkalies</td><td>5498.45</td><td>617.61</td></tr><tr><td>345</td><td>GE Power</td><td>5497.4</td><td>NaN</td></tr><tr><td>346</td><td>Timken India</td><td>5495.76</td><td>278.58</td></tr><tr><td>347</td><td>C P C L</td><td>5427.82</td><td>8587.17</td></tr><tr><td>348</td><td>Dishman Carbogen</td><td>5416.39</td><td>459.82</td></tr><tr><td>349</td><td>St Bk of Bikaner</td><td>5402.95</td><td>2262.28</td></tr><tr><td>350</td><td>ISGEC Heavy</td><td>null</td><td>null</td></tr><tr><td>351</td><td>MMTC</td><td>5300.0</td><td>NaN</td></tr><tr><td>352</td><td>IFB Inds.</td><td>5293.53</td><td>531.74</td></tr><tr><td>353</td><td>eClerx Services</td><td>5259.14</td><td>339.89</td></tr><tr><td>354</td><td>Sobha</td><td>5224.11</td><td>691.9</td></tr><tr><td>355</td><td>Kirloskar Oil</td><td>5207.77</td><td>684.61</td></tr><tr><td>356</td><td>G S F C</td><td>5200.13</td><td>1537.45</td></tr><tr><td>357</td><td>CG Power & Indu.</td><td>5151.85</td><td>1516.08</td></tr><tr><td>358</td><td>Westlife Develop</td><td>5145.88</td><td>305.19</td></tr><tr><td>359</td><td>K P R Mill Ltd</td><td>5145.36</td><td>714.51</td></tr><tr><td>360</td><td>Tube Investments</td><td>5139.43</td><td>1274.21</td></tr><tr><td>361</td><td>Bajaj Electrical</td><td>5127.38</td><td>1145.13</td></tr><tr><td>362</td><td>VST Inds.</td><td>5109.25</td><td>238.97</td></tr><tr><td>363</td><td>BEML Ltd</td><td>5089.87</td><td>731.51</td></tr><tr><td>364</td><td>FDC</td><td>5084.19</td><td>248.77</td></tr><tr><td>365</td><td>DCB Bank</td><td>5080.5</td><td>610.78</td></tr><tr><td>366</td><td>Star Cement</td><td>5072.67</td><td>377.43</td></tr><tr><td>367</td><td>Netwrk.18 Media</td><td>5067.23</td><td>366.02</td></tr><tr><td>368</td><td>Gulf Oil Lubric.</td><td>5020.44</td><td>355.95</td></tr><tr><td>369</td><td>UCO Bank</td><td>5012.59</td><td>3449.55</td></tr><tr><td>370</td><td>Jagran Prakashan</td><td>4995.05</td><td>598.07</td></tr><tr><td>371</td><td>Elgi Equipment</td><td>4954.08</td><td>415.42</td></tr><tr><td>372</td><td>JK Lakshmi Cem.</td><td>4931.55</td><td>837.41</td></tr><tr><td>373</td><td>Zydus Wellness</td><td>4921.45</td><td>132.4</td></tr><tr><td>374</td><td>Equitas Holdings</td><td>4886.09</td><td>429.86</td></tr><tr><td>375</td><td>India Cements</td><td>4885.75</td><td>1213.08</td></tr><tr><td>376</td><td>Dishman Pharma.</td><td>4861.2</td><td>534.22</td></tr><tr><td>377</td><td>South Ind.Bank</td><td>4856.71</td><td>1576.96</td></tr><tr><td>378</td><td>Polaris Consulta</td><td>4830.44</td><td>680.07</td></tr><tr><td>379</td><td>V I P Inds.</td><td>4819.63</td><td>337.99</td></tr><tr><td>380</td><td>APL Apollo</td><td>4775.03</td><td>1314.38</td></tr><tr><td>381</td><td>Sadbhav Infra.</td><td>4735.67</td><td>624.37</td></tr><tr><td>382</td><td>Jindal Stain.</td><td>4726.91</td><td>2988.86</td></tr><tr><td>383</td><td>Swan Energy</td><td>4721.49</td><td>NaN</td></tr><tr><td>384</td><td>NIIT Tech.</td><td>4658.2</td><td>756.5</td></tr><tr><td>385</td><td>Caplin Point Lab</td><td>4600.73</td><td>141.61</td></tr><tr><td>386</td><td>Indian Energy Ex</td><td>4595.7</td><td>64.75</td></tr><tr><td>387</td><td>Shoppers St.</td><td>4558.06</td><td>NaN</td></tr><tr><td>388</td><td>Godfrey Phillips</td><td>4512.29</td><td>581.94</td></tr><tr><td>389</td><td>Jindal Stain .Hi</td><td>4498.09</td><td>2438.58</td></tr><tr><td>390</td><td>R C F</td><td>4493.52</td><td>1985.06</td></tr><tr><td>391</td><td>Rallis India</td><td>4493.2</td><td>390.16</td></tr><tr><td>392</td><td>Stand.Chart.PLC</td><td>4487.31</td><td>NaN</td></tr><tr><td>393</td><td>G M D C</td><td>4456.77</td><td>506.06</td></tr><tr><td>394</td><td>Manpasand Bever.</td><td>4406.8</td><td>143.13</td></tr><tr><td>395</td><td>Tata Inv.Corpn.</td><td>4401.66</td><td>47.02</td></tr><tr><td>396</td><td>Essel Propack</td><td>4371.24</td><td>595.05</td></tr><tr><td>397</td><td>Allcargo Logist.</td><td>4369.69</td><td>1479.91</td></tr><tr><td>398</td><td>Radico Khaitan</td><td>4358.48</td><td>482.52</td></tr><tr><td>399</td><td>Cera Sanitary.</td><td>4356.9</td><td>290.88</td></tr><tr><td>400</td><td>BSE</td><td>null</td><td>null</td></tr><tr><td>401</td><td>Forbes & Co</td><td>4331.82</td><td>63.93</td></tr><tr><td>402</td><td>S B T</td><td>4328.47</td><td>2365.94</td></tr><tr><td>403</td><td>KNR Construct.</td><td>4325.39</td><td>433.19</td></tr><tr><td>404</td><td>PNC Infratech</td><td>4307.29</td><td>472.48</td></tr><tr><td>405</td><td>Greenply Inds.</td><td>4295.02</td><td>399.29</td></tr><tr><td>406</td><td>Ujjivan Fin.Ser.</td><td>4293.42</td><td>0.0</td></tr><tr><td>407</td><td>Monsanto India</td><td>4291.43</td><td>183.74</td></tr><tr><td>408</td><td>Vinati Organics</td><td>4279.07</td><td>185.65</td></tr><tr><td>409</td><td>Jindal Saw</td><td>4278.31</td><td>NaN</td></tr><tr><td>410</td><td>Lux Industries</td><td>4269.78</td><td>297.43</td></tr><tr><td>411</td><td>Linde India</td><td>4198.33</td><td>NaN</td></tr><tr><td>412</td><td>Ratnamani Metals</td><td>4194.31</td><td>535.6</td></tr><tr><td>413</td><td>Cox & Kings</td><td>4179.29</td><td>1356.07</td></tr><tr><td>414</td><td>Omaxe</td><td>4168.29</td><td>506.82</td></tr><tr><td>415</td><td>Ashoka Buildcon</td><td>4166.87</td><td>729.22</td></tr><tr><td>416</td><td>Time Technoplast</td><td>4156.58</td><td>754.7</td></tr><tr><td>417</td><td>Phillips Carbon</td><td>4149.67</td><td>612.4</td></tr><tr><td>418</td><td>Allahabad Bank</td><td>4137.11</td><td>4243.83</td></tr><tr><td>419</td><td>Welspun Corp</td><td>4103.05</td><td>2304.16</td></tr><tr><td>420</td><td>NESCO</td><td>4093.02</td><td>80.62</td></tr><tr><td>421</td><td>CARE Ratings</td><td>4090.69</td><td>74.82</td></tr><tr><td>422</td><td>JP Associates</td><td>4074.37</td><td>NaN</td></tr><tr><td>423</td><td>Andhra Bank</td><td>4067.25</td><td>4549.26</td></tr><tr><td>424</td><td>Zensar Tech.</td><td>4066.42</td><td>793.76</td></tr><tr><td>425</td><td>S H Kelkar & Co.</td><td>4057.34</td><td>283.12</td></tr><tr><td>426</td><td>Mahindra Holiday</td><td>4030.35</td><td>267.54</td></tr><tr><td>427</td><td>Sintex Plastics</td><td>4022.02</td><td>1332.73</td></tr><tr><td>428</td><td>SREI Infra. Fin.</td><td>4009.63</td><td>1405.19</td></tr><tr><td>429</td><td>Techno Elec.</td><td>3975.44</td><td>275.64</td></tr><tr><td>430</td><td>Minda Corp</td><td>3974.83</td><td>636.2</td></tr><tr><td>431</td><td>HMT</td><td>3973.5</td><td>NaN</td></tr><tr><td>432</td><td>KPIT Tech.</td><td>3927.26</td><td>912.77</td></tr><tr><td>433</td><td>Triveni Turbine</td><td>3910.17</td><td>165.59</td></tr><tr><td>434</td><td>Shankara Build.</td><td>3901.07</td><td>624.62</td></tr><tr><td>435</td><td>Multi Comm. Exc.</td><td>3847.19</td><td>60.97</td></tr><tr><td>436</td><td>Brigade Enterpr.</td><td>3846.15</td><td>423.91</td></tr><tr><td>437</td><td>Gayatri Projects</td><td>3835.73</td><td>NaN</td></tr><tr><td>438</td><td>Magma Fincorp</td><td>3826.83</td><td>580.58</td></tr><tr><td>439</td><td>VRL Logistics</td><td>3824.69</td><td>489.34</td></tr><tr><td>440</td><td>ICRA</td><td>3809.0</td><td>82.87</td></tr><tr><td>441</td><td>Shriram Pistons</td><td>3804.58</td><td>430.8</td></tr><tr><td>442</td><td>IFCI</td><td>3789.45</td><td>626.8</td></tr><tr><td>443</td><td>Suprajit Engg.</td><td>3777.26</td><td>366.29</td></tr><tr><td>444</td><td>J & K Bank</td><td>3775.5</td><td>1682.97</td></tr><tr><td>445</td><td>Navin Fluo.Intl.</td><td>3769.26</td><td>221.45</td></tr><tr><td>446</td><td>Karnataka Bank</td><td>3765.74</td><td>1332.24</td></tr><tr><td>447</td><td>Shilpa Medicare</td><td>3764.1</td><td>185.53</td></tr><tr><td>448</td><td>Kushal</td><td>3761.86</td><td>578.18</td></tr><tr><td>449</td><td>Venky's (India)</td><td>3760.61</td><td>695.85</td></tr><tr><td>450</td><td>Force Motors</td><td>null</td><td>null</td></tr><tr><td>451</td><td>CCL Products</td><td>3748.73</td><td>273.99</td></tr><tr><td>452</td><td>Excel Crop Care</td><td>3734.06</td><td>258.65</td></tr><tr><td>453</td><td>Trident</td><td>3722.6</td><td>1137.17</td></tr><tr><td>454</td><td>Corporation Bank</td><td>3716.46</td><td>4387.85</td></tr><tr><td>455</td><td>Rane Holdings</td><td>3711.8</td><td>593.74</td></tr><tr><td>456</td><td>Team Lease Serv.</td><td>3677.34</td><td>918.06</td></tr><tr><td>457</td><td>Oriental Bank</td><td>3674.6</td><td>4262.08</td></tr><tr><td>458</td><td>I T D C</td><td>3619.04</td><td>102.14</td></tr><tr><td>459</td><td>JP Power Ven.</td><td>3597.6</td><td>NaN</td></tr><tr><td>460</td><td>S C I</td><td>3582.0</td><td>879.56</td></tr><tr><td>461</td><td>JK Tyre & Indust</td><td>3577.98</td><td>2123.24</td></tr><tr><td>462</td><td>Deepak Nitrite</td><td>3531.9</td><td>371.14</td></tr><tr><td>463</td><td>Heidelberg Cem.</td><td>3531.77</td><td>491.23</td></tr><tr><td>464</td><td>Amber Enterp.</td><td>3529.87</td><td>NaN</td></tr><tr><td>465</td><td>Sharda Cropchem</td><td>3528.07</td><td>325.46</td></tr><tr><td>466</td><td>Dixon Technolog.</td><td>3526.8</td><td>677.8</td></tr><tr><td>467</td><td>Himatsing. Seide</td><td>3511.08</td><td>595.61</td></tr><tr><td>468</td><td>La Opala RG</td><td>3510.93</td><td>69.77</td></tr><tr><td>469</td><td>H F C L</td><td>3482.71</td><td>714.42</td></tr><tr><td>470</td><td>Reliance Home</td><td>3470.6</td><td>403.0</td></tr><tr><td>471</td><td>Rupa & Co</td><td>3460.91</td><td>277.96</td></tr><tr><td>472</td><td>Hind.Construct.</td><td>3452.57</td><td>NaN</td></tr><tr><td>473</td><td>Ent.Network</td><td>3380.99</td><td>148.42</td></tr><tr><td>474</td><td>Supreme Petroch.</td><td>3377.57</td><td>725.02</td></tr><tr><td>475</td><td>MAS FINANC SER</td><td>3376.2</td><td>112.05</td></tr><tr><td>476</td><td>Thyrocare Tech.</td><td>3374.38</td><td>77.84</td></tr><tr><td>477</td><td>Prakash Inds.</td><td>3336.05</td><td>725.97</td></tr><tr><td>478</td><td>Repco Home Fin</td><td>3331.08</td><td>277.48</td></tr><tr><td>479</td><td>Sonata Software</td><td>3329.58</td><td>766.75</td></tr><tr><td>480</td><td>Central Dep. Ser</td><td>3316.31</td><td>47.24</td></tr><tr><td>481</td><td>Puravankara</td><td>3274.9</td><td>440.09</td></tr><tr><td>482</td><td>Tejas Networks</td><td>3209.89</td><td>229.87</td></tr><tr><td>483</td><td>ITD Cem</td><td>3192.67</td><td>472.98</td></tr><tr><td>484</td><td>Hathway Cable</td><td>3189.1</td><td>138.65</td></tr><tr><td>485</td><td>Dhanuka Agritech</td><td>3188.62</td><td>221.51</td></tr><tr><td>486</td><td>Mahindra Logis.</td><td>3187.51</td><td>835.06</td></tr><tr><td>487</td><td>Heritage Foods</td><td>3185.45</td><td>581.74</td></tr><tr><td>488</td><td>Mah. Seamless</td><td>3164.73</td><td>563.66</td></tr><tr><td>489</td><td>Navneet Educat.</td><td>3148.36</td><td>174.41</td></tr><tr><td>490</td><td>Firstsour.Solu.</td><td>3139.94</td><td>887.24</td></tr><tr><td>491</td><td>Kaveri Seed Co.</td><td>3125.83</td><td>70.64</td></tr><tr><td>492</td><td>Star Ferro Cem.</td><td>3115.98</td><td>393.49</td></tr><tr><td>493</td><td>Deepak Fert.</td><td>3079.06</td><td>1644.92</td></tr><tr><td>494</td><td>Va Tech Wabag</td><td>3041.93</td><td>460.89</td></tr><tr><td>495</td><td>Prime Focus</td><td>3031.5</td><td>609.61</td></tr><tr><td>496</td><td>Lak. Vilas Bank</td><td>3029.57</td><td>790.17</td></tr><tr><td>497</td><td>NOCIL</td><td>3026.26</td><td>249.27</td></tr><tr><td>498</td><td>Orient Cement</td><td>3024.32</td><td>511.53</td></tr><tr><td>499</td><td>Natl.Fertilizer</td><td>3017.07</td><td>2840.75</td></tr><tr><td>500</td><td>L T Foods</td><td>null</td><td>null</td></tr></tbody></table></div>"
      ]
     },
     "metadata": {
      "application/vnd.databricks.v1+output": {
       "addedWidgets": {},
       "aggData": [],
       "aggError": "",
       "aggOverflow": false,
       "aggSchema": [],
       "aggSeriesLimitReached": false,
       "aggType": "",
       "arguments": {},
       "columnCustomDisplayInfos": {},
       "data": [
        [
         1,
         "Reliance Inds.",
         583436.72,
         99810.0
        ],
        [
         2,
         "TCS",
         563709.84,
         30904.0
        ],
        [
         3,
         "HDFC Bank",
         482953.59,
         20581.27
        ],
        [
         4,
         "ITC",
         320985.27,
         9772.02
        ],
        [
         5,
         "H D F C",
         289497.37,
         16840.51
        ],
        [
         6,
         "Hind. Unilever",
         288265.26,
         8590.0
        ],
        [
         7,
         "Maruti Suzuki",
         263493.81,
         19283.2
        ],
        [
         8,
         "Infosys",
         248320.35,
         17794.0
        ],
        [
         9,
         "O N G C",
         239981.5,
         22995.88
        ],
        [
         10,
         "St Bk of India",
         232763.33,
         57014.08
        ],
        [
         11,
         "ICICI Bank",
         203802.35,
         13665.35
        ],
        [
         12,
         "Kotak Mah. Bank",
         199253.77,
         6390.71
        ],
        [
         13,
         "Coal India",
         192677.98,
         21643.28
        ],
        [
         14,
         "Larsen & Toubro",
         180860.74,
         28747.45
        ],
        [
         15,
         "I O C L",
         178017.48,
         110666.93
        ],
        [
         16,
         "Bharti Airtel",
         167131.29,
         20318.6
        ],
        [
         17,
         "Axis Bank",
         136380.76,
         11721.55
        ],
        [
         18,
         "NTPC",
         135390.53,
         20774.37
        ],
        [
         19,
         "Sun Pharma.Inds.",
         134241.36,
         6653.23
        ],
        [
         20,
         "Hind.Zinc",
         133266.56,
         5922.0
        ],
        [
         21,
         "Wipro",
         131840.57,
         13669.0
        ],
        [
         22,
         "HCL Technologies",
         126335.27,
         12809.0
        ],
        [
         23,
         "Vedanta",
         122184.17,
         24361.0
        ],
        [
         24,
         "Tata Motors",
         117071.87,
         74156.07
        ],
        [
         25,
         "UltraTech Cem.",
         113692.87,
         8019.24
        ],
        [
         26,
         "Asian Paints",
         108044.04,
         4260.52
        ],
        [
         27,
         "Power Grid Corpn",
         102016.01,
         7506.95
        ],
        [
         28,
         "B P C L",
         98278.0,
         60616.36
        ],
        [
         29,
         "IndusInd Bank",
         97379.96,
         4286.78
        ],
        [
         30,
         "Bajaj Fin.",
         94476.77,
         3540.63
        ],
        [
         31,
         "Bajaj Auto",
         88252.6,
         6369.34
        ],
        [
         32,
         "M & M",
         88142.35,
         11577.78
        ],
        [
         33,
         "HDFC Stand. Life",
         87358.23,
         9734.9
        ],
        [
         34,
         "Adani Ports",
         81781.89,
         2688.85
        ],
        [
         35,
         "Bajaj Finserv",
         79795.11,
         7665.4
        ],
        [
         36,
         "GAIL (India)",
         78670.97,
         14414.34
        ],
        [
         37,
         "Avenue Super.",
         74066.35,
         4094.82
        ],
        [
         38,
         "Titan Company",
         73886.0,
         4274.84
        ],
        [
         39,
         "JSW Steel",
         73870.26,
         17861.0
        ],
        [
         40,
         "Grasim Inds",
         73532.62,
         15291.42
        ],
        [
         41,
         "Tata Steel",
         73376.14,
         32464.14
        ],
        [
         42,
         "Eicher Motors",
         73311.41,
         2269.01
        ],
        [
         43,
         "Nestle India",
         73015.49,
         2601.46
        ],
        [
         44,
         "Godrej Consumer",
         71859.82,
         2630.3
        ],
        [
         45,
         "Yes Bank",
         71028.13,
         5070.3
        ],
        [
         46,
         "Hero Motocorp",
         69448.66,
         7305.49
        ],
        [
         47,
         "Motherson Sumi",
         68590.33,
         14397.85
        ],
        [
         48,
         "SBI Life Insuran",
         67465.0,
         9569.97
        ],
        [
         49,
         "General Insuranc",
         66316.32,
         8557.68
        ],
        [
         50,
         "Bharti Infra.",
         61776.92,
         null
        ],
        [
         51,
         "Dabur India",
         60015.0,
         1966.44
        ],
        [
         52,
         "Bosch",
         59204.28,
         3071.92
        ],
        [
         53,
         "Shree Cement",
         58987.08,
         2296.23
        ],
        [
         54,
         "New India Assura",
         58108.48,
         5074.02
        ],
        [
         55,
         "H P C L",
         58034.78,
         57474.25
        ],
        [
         56,
         "ICICI Pru Life",
         57748.98,
         13555.32
        ],
        [
         57,
         "Britannia Inds.",
         56837.2,
         2567.48
        ],
        [
         58,
         "Tech Mahindra",
         56244.26,
         7775.96
        ],
        [
         59,
         "Hindalco Inds.",
         55854.68,
         11022.81
        ],
        [
         60,
         "Zee Entertainmen",
         54817.89,
         1838.07
        ],
        [
         61,
         "Cairn India",
         53528.57,
         2149.36
        ],
        [
         62,
         "Indiabulls Hous.",
         52781.67,
         3115.89
        ],
        [
         63,
         "Ambuja Cem.",
         52361.46,
         6170.71
        ],
        [
         64,
         "Interglobe Aviat",
         48621.37,
         6177.88
        ],
        [
         65,
         "Cipla",
         48577.43,
         3913.82
        ],
        [
         66,
         "Piramal Enterp.",
         47483.97,
         2858.36
        ],
        [
         67,
         "United Spirits",
         46725.05,
         2263.3
        ],
        [
         68,
         "Pidilite Inds.",
         45855.5,
         1542.9
        ],
        [
         69,
         "Siemens",
         44239.04,
         2429.5
        ],
        [
         70,
         "Cadila Health.",
         41876.19,
         3259.6
        ],
        [
         71,
         "NMDC",
         41415.33,
         2469.03
        ],
        [
         72,
         "DLF",
         40159.35,
         1693.72
        ],
        [
         73,
         "Marico",
         39813.84,
         1337.59
        ],
        [
         74,
         "Ashok Leyland",
         39047.57,
         7113.16
        ],
        [
         75,
         "Bharat Electron",
         37776.23,
         2512.82
        ],
        [
         76,
         "ICICI Lombard",
         37219.22,
         2110.99
        ],
        [
         77,
         "Lupin",
         36878.85,
         3975.62
        ],
        [
         78,
         "Petronet LNG",
         36615.0,
         7757.06
        ],
        [
         79,
         "Aditya Birla Cap",
         36215.92,
         3325.02
        ],
        [
         80,
         "Dr Reddy's Labs",
         35893.55,
         3834.1
        ],
        [
         81,
         "Sun TV Network",
         35824.26,
         683.28
        ],
        [
         82,
         "S A I L",
         35729.04,
         15323.65
        ],
        [
         83,
         "UPL",
         35349.58,
         4194.0
        ],
        [
         84,
         "Oracle Fin.Serv.",
         34620.19,
         1059.12
        ],
        [
         85,
         "Bharat Forge",
         34397.69,
         1390.55
        ],
        [
         86,
         "Biocon",
         34347.0,
         1057.9
        ],
        [
         87,
         "B H E L",
         34162.38,
         6626.35
        ],
        [
         88,
         "Aurobindo Pharma",
         33676.52,
         4336.11
        ],
        [
         89,
         "Bank of Baroda",
         33364.23,
         11303.24
        ],
        [
         90,
         "Idea Cellular",
         33047.33,
         6509.6
        ],
        [
         91,
         "A B B",
         31983.33,
         2779.4
        ],
        [
         92,
         "Havells India",
         31798.18,
         1965.77
        ],
        [
         93,
         "Container Corpn.",
         31450.56,
         1639.55
        ],
        [
         94,
         "TVS Motor Co.",
         30919.51,
         3684.95
        ],
        [
         95,
         "ACC",
         30803.68,
         3494.24
        ],
        [
         96,
         "Bajaj Holdings",
         30305.94,
         317.85
        ],
        [
         97,
         "P & G Hygiene",
         30202.12,
         704.16
        ],
        [
         98,
         "MRF",
         30030.01,
         3798.82
        ],
        [
         99,
         "Shriram Trans.",
         29327.64,
         3087.67
        ],
        [
         100,
         "Colgate-Palm.",
         null,
         null
        ],
        [
         101,
         "L&T Fin.Holdings",
         28932.43,
         2630.17
        ],
        [
         102,
         "Punjab Natl.Bank",
         28270.22,
         12175.48
        ],
        [
         103,
         "NHPC Ltd",
         28059.24,
         1497.93
        ],
        [
         104,
         "Power Fin.Corpn.",
         27905.66,
         6194.77
        ],
        [
         105,
         "United Breweries",
         27797.69,
         1197.1
        ],
        [
         106,
         "Oil India",
         27404.15,
         2852.55
        ],
        [
         107,
         "Rural Elec.Corp.",
         27382.24,
         5498.45
        ],
        [
         108,
         "GlaxoSmith C H L",
         27340.89,
         1034.67
        ],
        [
         109,
         "M & M Fin. Serv.",
         26928.37,
         2182.45
        ],
        [
         110,
         "Divi's Lab.",
         26915.86,
         1037.88
        ],
        [
         111,
         "Kansai Nerolac",
         26409.76,
         1145.01
        ],
        [
         112,
         "Alkem Lab",
         25957.56,
         1422.52
        ],
        [
         113,
         "LIC Housing Fin.",
         25880.98,
         3738.1
        ],
        [
         114,
         "Future Retail",
         25859.25,
         4693.39
        ],
        [
         115,
         "Page Industries",
         25383.03,
         621.03
        ],
        [
         116,
         "Dalmia Bhar.",
         25288.97,
         2090.54
        ],
        [
         117,
         "IIFL Holdings",
         24788.54,
         1612.14
        ],
        [
         118,
         "L & T Infotech",
         24626.1,
         1883.8
        ],
        [
         119,
         "Aditya Bir. Nuv.",
         24592.21,
         4287.12
        ],
        [
         120,
         "Emami",
         23720.37,
         756.64
        ],
        [
         121,
         "Cummins India",
         23562.0,
         1354.67
        ],
        [
         122,
         "Berger Paints",
         23537.8,
         1338.63
        ],
        [
         123,
         "Rajesh Exports",
         23495.54,
         41304.84
        ],
        [
         126,
         "Tata Power Co.",
         23369.24,
         6949.91
        ],
        [
         127,
         "3M India",
         23101.19,
         645.77
        ],
        [
         128,
         "Jindal Steel",
         23094.39,
         6992.56
        ],
        [
         129,
         "Edelweiss.Fin.",
         22915.42,
         2069.45
        ],
        [
         130,
         "Gillette India",
         21976.74,
         407.52
        ],
        [
         131,
         "Adani Enterp.",
         21776.04,
         9938.37
        ],
        [
         132,
         "Adani Transmissi",
         21677.26,
         1782.29
        ],
        [
         133,
         "Balkrishna Inds",
         21372.18,
         1106.31
        ],
        [
         134,
         "Cholaman.Inv.&Fn",
         20832.4,
         1404.33
        ],
        [
         135,
         "Indraprastha Gas",
         20779.52,
         1183.9
        ],
        [
         136,
         "M R P L",
         20750.78,
         14100.98
        ],
        [
         137,
         "Glaxosmi. Pharma",
         20489.35,
         703.91
        ],
        [
         138,
         "PNB Housing",
         20037.85,
         1438.49
        ],
        [
         139,
         "RBL Bank",
         19748.79,
         1150.79
        ],
        [
         140,
         "Castrol India",
         18803.22,
         970.3
        ],
        [
         141,
         "Canara Bank",
         18590.66,
         10774.64
        ],
        [
         142,
         "GRUH Finance",
         18535.09,
         428.47
        ],
        [
         143,
         "KIOCL",
         18534.15,
         442.81
        ],
        [
         144,
         "Voltas",
         18453.44,
         1374.67
        ],
        [
         145,
         "Godrej Inds.",
         18298.09,
         2458.48
        ],
        [
         146,
         "Whirlpool India",
         18254.06,
         958.01
        ],
        [
         147,
         "Sundaram Finance",
         18159.85,
         677.23
        ],
        [
         148,
         "Federal Bank",
         18086.81,
         2501.2
        ],
        [
         149,
         "Tata Comm",
         17963.55,
         4114.63
        ],
        [
         150,
         "Endurance Tech.",
         null,
         null
        ],
        [
         151,
         "Tata Chemicals",
         17941.47,
         2573.91
        ],
        [
         152,
         "Exide Inds.",
         17930.75,
         2276.54
        ],
        [
         153,
         "IDFC Bank",
         17762.77,
         2283.72
        ],
        [
         154,
         "NBCC",
         17712.0,
         1321.5
        ],
        [
         155,
         "IDBI Bank",
         17559.35,
         5797.2
        ],
        [
         156,
         "The Ramco Cement",
         17246.58,
         1056.36
        ],
        [
         157,
         "Dewan Hsg. Fin.",
         17097.54,
         2631.6
        ],
        [
         158,
         "MphasiS",
         16728.78,
         1660.69
        ],
        [
         159,
         "Apollo Hospitals",
         16683.97,
         1896.14
        ],
        [
         160,
         "Reliance Nip.Lif",
         16655.58,
         394.0
        ],
        [
         161,
         "Tata Global",
         16589.24,
         1730.39
        ],
        [
         162,
         "Godrej Propert.",
         16545.51,
         627.03
        ],
        [
         163,
         "AU Small Finance",
         16453.67,
         464.17
        ],
        [
         164,
         "Indian Hotels",
         16150.13,
         1197.26
        ],
        [
         165,
         "Motil.Oswal.Fin.",
         16108.15,
         728.63
        ],
        [
         166,
         "H U D C O",
         16065.25,
         1064.49
        ],
        [
         167,
         "Oberoi Realty",
         16044.51,
         356.2
        ],
        [
         168,
         "Indian Bank",
         15739.16,
         4354.22
        ],
        [
         169,
         "SJVN",
         15512.35,
         436.58
        ],
        [
         170,
         "Bank of India",
         15339.87,
         9334.84
        ],
        [
         171,
         "Supreme Inds.",
         15248.94,
         1278.3
        ],
        [
         172,
         "Muthoot Finance",
         15226.72,
         1553.71
        ],
        [
         173,
         "NLC India",
         15201.61,
         1706.48
        ],
        [
         176,
         "Info Edg.(India)",
         14845.05,
         "NaN"
        ],
        [
         177,
         "Glenmark Pharma.",
         14785.53,
         2203.67
        ],
        [
         178,
         "Jubilant Life",
         14775.08,
         2067.76
        ],
        [
         179,
         "Crompton Gr. Con",
         14638.57,
         938.19
        ],
        [
         180,
         "Honeywell Auto",
         14526.24,
         721.48
        ],
        [
         181,
         "Natco Pharma",
         14456.9,
         562.2
        ],
        [
         182,
         "PC Jeweller",
         14334.81,
         2644.89
        ],
        [
         183,
         "Quess Corp",
         14330.19,
         1583.95
        ],
        [
         184,
         "CRISIL",
         14164.81,
         441.13
        ],
        [
         185,
         "WABCO India",
         13843.64,
         649.91
        ],
        [
         186,
         "Amara Raja Batt.",
         13774.32,
         1553.46
        ],
        [
         189,
         "Sterlite Tech.",
         13743.95,
         835.18
        ],
        [
         190,
         "AIA Engg.",
         13593.35,
         572.16
        ],
        [
         191,
         "KRBL",
         13492.55,
         783.51
        ],
        [
         192,
         "Max Financial",
         13401.76,
         "NaN"
        ],
        [
         193,
         "Indiabulls Vent.",
         13396.15,
         238.43
        ],
        [
         194,
         "Century Textiles",
         13369.97,
         2069.39
        ],
        [
         195,
         "Jubilant Food.",
         13178.43,
         795.17
        ],
        [
         196,
         "Bayer Crop Sci.",
         13166.76,
         479.7
        ],
        [
         197,
         "Graphite India",
         13129.9,
         933.06
        ],
        [
         198,
         "JSW Energy",
         13104.0,
         1993.2
        ],
        [
         199,
         "Central Bank",
         13046.18,
         6026.55
        ],
        [
         200,
         "Natl. Aluminium",
         null,
         null
        ],
        [
         201,
         "CESC",
         12996.56,
         1706.0
        ],
        [
         202,
         "Shri.City Union.",
         12995.31,
         1338.09
        ],
        [
         203,
         "L&T Technology",
         12942.25,
         969.1
        ],
        [
         204,
         "Rain Industries",
         12655.17,
         3050.81
        ],
        [
         205,
         "Torrent Power",
         12599.37,
         2754.64
        ],
        [
         206,
         "Dilip Buildcon",
         12526.06,
         1942.12
        ],
        [
         207,
         "TI Financial",
         12507.91,
         886.68
        ],
        [
         208,
         "JM Financial",
         12382.64,
         837.73
        ],
        [
         209,
         "Adani Power",
         12091.5,
         4844.46
        ],
        [
         210,
         "Reliance Power",
         12033.99,
         2494.65
        ],
        [
         211,
         "Reliance Capital",
         11966.83,
         4749.0
        ],
        [
         212,
         "Syngene Intl.",
         11950.0,
         387.7
        ],
        [
         213,
         "Abbott India",
         11924.12,
         881.49
        ],
        [
         214,
         "Hatsun AgroProd.",
         11896.52,
         1012.94
        ],
        [
         215,
         "Symphony",
         11882.55,
         217.63
        ],
        [
         216,
         "Gujarat Gas",
         11759.77,
         1571.33
        ],
        [
         217,
         "Reliance Infra.",
         11737.24,
         5861.04
        ],
        [
         218,
         "Aditya Bir. Fas.",
         11718.17,
         1855.0
        ],
        [
         219,
         "Ajanta Pharma",
         11651.8,
         587.05
        ],
        [
         220,
         "P I Inds.",
         11564.22,
         537.74
        ],
        [
         221,
         "City Union Bank",
         11554.4,
         865.36
        ],
        [
         222,
         "Varun Beverages",
         11498.3,
         329.92
        ],
        [
         223,
         "Mindtree",
         11438.78,
         1377.7
        ],
        [
         224,
         "Prestige Estates",
         11353.13,
         1272.3
        ],
        [
         225,
         "Future Consumer",
         11203.15,
         784.05
        ],
        [
         226,
         "Sundram Fasten.",
         11202.53,
         848.13
        ],
        [
         227,
         "Sanofi India",
         11182.45,
         667.5
        ],
        [
         228,
         "Guj.St.Petronet",
         11064.74,
         350.18
        ],
        [
         229,
         "Godrej Agrovet",
         10918.75,
         865.77
        ],
        [
         230,
         "Finolex Cables",
         10900.75,
         656.78
        ],
        [
         231,
         "Bombay Burmah",
         10864.53,
         "NaN"
        ],
        [
         232,
         "SRF",
         10842.62,
         1397.06
        ],
        [
         233,
         "GE T&D India",
         10778.42,
         1438.55
        ],
        [
         234,
         "Alembic Pharma",
         10764.29,
         840.02
        ],
        [
         235,
         "SPARC",
         10755.13,
         19.42
        ],
        [
         236,
         "GMR Infra.",
         10653.44,
         2072.29
        ],
        [
         237,
         "HEG",
         10630.76,
         842.71
        ],
        [
         238,
         "Trent",
         10589.27,
         521.32
        ],
        [
         239,
         "Engineers India",
         10565.56,
         473.42
        ],
        [
         240,
         "Avanti Feeds",
         10558.13,
         706.43
        ],
        [
         241,
         "Pfizer",
         10508.48,
         456.54
        ],
        [
         242,
         "Escorts",
         10450.56,
         1205.03
        ],
        [
         243,
         "Tata Motors-DVR",
         10442.09,
         7769.67
        ],
        [
         244,
         "Blue Dart Exp.",
         10422.45,
         704.59
        ],
        [
         245,
         "Indbull.RealEst.",
         10338.4,
         2100.13
        ],
        [
         246,
         "ERIS Lifescience",
         10289.81,
         182.21
        ],
        [
         247,
         "Arvind Ltd",
         10247.7,
         2705.75
        ],
        [
         248,
         "Sundaram Clayton",
         10074.36,
         "NaN"
        ],
        [
         249,
         "Hexaware Tech.",
         9885.05,
         1004.83
        ],
        [
         250,
         "Mahanagar Gas",
         null,
         null
        ],
        [
         255,
         "SKF India",
         9569.14,
         700.49
        ],
        [
         256,
         "Delta Corp",
         9531.57,
         162.17
        ],
        [
         257,
         "Union Bank (I)",
         9528.82,
         8260.47
        ],
        [
         258,
         "TV18 Broadcast",
         9463.27,
         271.13
        ],
        [
         259,
         "Minda Inds.",
         9457.04,
         1056.16
        ],
        [
         260,
         "Solar Inds.",
         9317.76,
         465.68
        ],
        [
         261,
         "Kajaria Ceramics",
         9306.54,
         661.16
        ],
        [
         262,
         "Astral Poly",
         9162.14,
         528.54
        ],
        [
         263,
         "Bata India",
         9145.38,
         674.0
        ],
        [
         264,
         "Phoenix Mills",
         9097.33,
         416.61
        ],
        [
         267,
         "BASF India",
         8778.35,
         1278.74
        ],
        [
         268,
         "DCM Shriram",
         8681.95,
         1783.73
        ],
        [
         269,
         "Infibeam Incorp.",
         8646.54,
         213.48
        ],
        [
         270,
         "Aegis Logistics",
         8613.86,
         1442.08
        ],
        [
         271,
         "Mahindra CIE",
         8587.04,
         "NaN"
        ],
        [
         272,
         "Jet Airways",
         8539.88,
         6086.2
        ],
        [
         273,
         "SpiceJet",
         8458.24,
         2081.95
        ],
        [
         274,
         "Thomas Cook (I)",
         8440.65,
         3005.45
        ],
        [
         275,
         "Guj Fluorochem",
         8439.77,
         968.97
        ],
        [
         276,
         "Wockhardt",
         8428.58,
         1005.3
        ],
        [
         277,
         "Akzo Nobel",
         8389.47,
         711.99
        ],
        [
         278,
         "I D F C",
         8380.86,
         2789.58
        ],
        [
         279,
         "Security & Intel",
         8247.08,
         1537.72
        ],
        [
         280,
         "Asahi India Glas",
         8183.96,
         640.38
        ],
        [
         281,
         "TTK Prestige",
         8153.33,
         457.97
        ],
        [
         282,
         "ITI",
         8124.6,
         250.97
        ],
        [
         283,
         "Karur Vysya Bank",
         8065.7,
         1422.32
        ],
        [
         284,
         "Vardhman Textile",
         8023.74,
         1647.98
        ],
        [
         285,
         "Fortis Health.",
         7966.43,
         1156.61
        ],
        [
         286,
         "Ipca Labs.",
         7943.03,
         859.21
        ],
        [
         287,
         "Sheela Foam",
         7815.74,
         532.21
        ],
        [
         288,
         "IRB Infra.Devl.",
         7812.73,
         1296.19
        ],
        [
         289,
         "Atul",
         7789.01,
         803.68
        ],
        [
         290,
         "Finolex Inds.",
         7784.17,
         722.72
        ],
        [
         291,
         "Dish TV",
         7765.91,
         740.77
        ],
        [
         292,
         "Rel. Comm.",
         7702.01,
         1144.0
        ],
        [
         293,
         "Dr Lal Pathlabs",
         7550.78,
         262.7
        ],
        [
         294,
         "OCL India",
         7453.05,
         859.24
        ],
        [
         295,
         "NCC",
         7439.01,
         2780.26
        ],
        [
         296,
         "Relaxo Footwear",
         7251.91,
         457.5
        ],
        [
         297,
         "J K Cements",
         7230.76,
         1126.11
        ],
        [
         298,
         "G N F C",
         7208.38,
         1590.89
        ],
        [
         299,
         "Cochin Shipyard",
         7154.99,
         615.04
        ],
        [
         300,
         "Bajaj Corp",
         null,
         null
        ],
        [
         301,
         "Birla Corpn.",
         7137.67,
         1389.32
        ],
        [
         302,
         "Future Lifestyle",
         7009.13,
         1188.97
        ],
        [
         303,
         "Century Ply.",
         6966.23,
         509.93
        ],
        [
         304,
         "Blue Star",
         6952.99,
         981.3
        ],
        [
         305,
         "Kalpataru Power",
         6950.23,
         1417.37
        ],
        [
         306,
         "Suzlon Energy",
         6942.31,
         1193.06
        ],
        [
         307,
         "Cyient",
         6921.97,
         983.3
        ],
        [
         308,
         "Hind.Copper",
         6902.14,
         440.14
        ],
        [
         309,
         "Guj Pipavav Port",
         6864.85,
         162.68
        ],
        [
         310,
         "Carborundum Uni.",
         6838.18,
         611.59
        ],
        [
         311,
         "Can Fin Homes",
         6811.5,
         392.1
        ],
        [
         312,
         "Sadbhav Engg.",
         6795.06,
         2153.34
        ],
        [
         313,
         "Advanta",
         6742.41,
         361.68
        ],
        [
         314,
         "Capital First",
         6710.63,
         987.64
        ],
        [
         315,
         "Lak. Mach. Works",
         6654.81,
         542.42
        ],
        [
         316,
         "Himadri Specialt",
         6646.41,
         500.08
        ],
        [
         317,
         "Coffee Day Enter",
         6601.62,
         965.3
        ],
        [
         318,
         "PVR",
         6591.31,
         557.25
        ],
        [
         319,
         "Chambal Fert.",
         6542.79,
         2330.1
        ],
        [
         320,
         "Vijaya Bank",
         6531.58,
         3135.23
        ],
        [
         321,
         "Welspun India",
         6520.67,
         1397.95
        ],
        [
         322,
         "CEAT",
         6476.26,
         1574.15
        ],
        [
         323,
         "Strides Shasun",
         6469.51,
         749.04
        ],
        [
         324,
         "Narayana Hrudaya",
         6379.12,
         553.84
        ],
        [
         325,
         "Jyothy Lab.",
         6324.62,
         431.21
        ],
        [
         326,
         "Johnson Con. Hit",
         6209.11,
         377.4
        ],
        [
         327,
         "Prism Cement",
         6176.23,
         "NaN"
        ],
        [
         328,
         "Tata Elxsi",
         6153.54,
         345.54
        ],
        [
         329,
         "Syndicate Bank",
         6086.37,
         5375.57
        ],
        [
         330,
         "D B Corp",
         6059.97,
         598.58
        ],
        [
         331,
         "Jain Irrigation",
         6019.89,
         1889.63
        ],
        [
         332,
         "Persistent Sys",
         5996.4,
         791.89
        ],
        [
         333,
         "Redington India",
         5896.54,
         11728.4
        ],
        [
         334,
         "Sunteck Realty",
         5865.04,
         201.5
        ],
        [
         335,
         "Raymond",
         5863.1,
         1484.24
        ],
        [
         336,
         "MOIL",
         5840.29,
         299.8
        ],
        [
         337,
         "Bombay Dyeing",
         5823.25,
         619.93
        ],
        [
         338,
         "GE Shipping Co",
         5802.66,
         584.42
        ],
        [
         339,
         "Grindwell Norton",
         5706.51,
         365.42
        ],
        [
         340,
         "EID Parry",
         5652.33,
         3557.94
        ],
        [
         341,
         "I O B",
         5591.02,
         4254.68
        ],
        [
         342,
         "Galaxy Surfact.",
         5567.11,
         826.95
        ],
        [
         343,
         "Laurus Labs",
         5502.94,
         473.77
        ],
        [
         344,
         "Guj Alkalies",
         5498.45,
         617.61
        ],
        [
         345,
         "GE Power",
         5497.4,
         "NaN"
        ],
        [
         346,
         "Timken India",
         5495.76,
         278.58
        ],
        [
         347,
         "C P C L",
         5427.82,
         8587.17
        ],
        [
         348,
         "Dishman Carbogen",
         5416.39,
         459.82
        ],
        [
         349,
         "St Bk of Bikaner",
         5402.95,
         2262.28
        ],
        [
         350,
         "ISGEC Heavy",
         null,
         null
        ],
        [
         351,
         "MMTC",
         5300.0,
         "NaN"
        ],
        [
         352,
         "IFB Inds.",
         5293.53,
         531.74
        ],
        [
         353,
         "eClerx Services",
         5259.14,
         339.89
        ],
        [
         354,
         "Sobha",
         5224.11,
         691.9
        ],
        [
         355,
         "Kirloskar Oil",
         5207.77,
         684.61
        ],
        [
         356,
         "G S F C",
         5200.13,
         1537.45
        ],
        [
         357,
         "CG Power & Indu.",
         5151.85,
         1516.08
        ],
        [
         358,
         "Westlife Develop",
         5145.88,
         305.19
        ],
        [
         359,
         "K P R Mill Ltd",
         5145.36,
         714.51
        ],
        [
         360,
         "Tube Investments",
         5139.43,
         1274.21
        ],
        [
         361,
         "Bajaj Electrical",
         5127.38,
         1145.13
        ],
        [
         362,
         "VST Inds.",
         5109.25,
         238.97
        ],
        [
         363,
         "BEML Ltd",
         5089.87,
         731.51
        ],
        [
         364,
         "FDC",
         5084.19,
         248.77
        ],
        [
         365,
         "DCB Bank",
         5080.5,
         610.78
        ],
        [
         366,
         "Star Cement",
         5072.67,
         377.43
        ],
        [
         367,
         "Netwrk.18 Media",
         5067.23,
         366.02
        ],
        [
         368,
         "Gulf Oil Lubric.",
         5020.44,
         355.95
        ],
        [
         369,
         "UCO Bank",
         5012.59,
         3449.55
        ],
        [
         370,
         "Jagran Prakashan",
         4995.05,
         598.07
        ],
        [
         371,
         "Elgi Equipment",
         4954.08,
         415.42
        ],
        [
         372,
         "JK Lakshmi Cem.",
         4931.55,
         837.41
        ],
        [
         373,
         "Zydus Wellness",
         4921.45,
         132.4
        ],
        [
         374,
         "Equitas Holdings",
         4886.09,
         429.86
        ],
        [
         375,
         "India Cements",
         4885.75,
         1213.08
        ],
        [
         376,
         "Dishman Pharma.",
         4861.2,
         534.22
        ],
        [
         377,
         "South Ind.Bank",
         4856.71,
         1576.96
        ],
        [
         378,
         "Polaris Consulta",
         4830.44,
         680.07
        ],
        [
         379,
         "V I P Inds.",
         4819.63,
         337.99
        ],
        [
         380,
         "APL Apollo",
         4775.03,
         1314.38
        ],
        [
         381,
         "Sadbhav Infra.",
         4735.67,
         624.37
        ],
        [
         382,
         "Jindal Stain.",
         4726.91,
         2988.86
        ],
        [
         383,
         "Swan Energy",
         4721.49,
         "NaN"
        ],
        [
         384,
         "NIIT Tech.",
         4658.2,
         756.5
        ],
        [
         385,
         "Caplin Point Lab",
         4600.73,
         141.61
        ],
        [
         386,
         "Indian Energy Ex",
         4595.7,
         64.75
        ],
        [
         387,
         "Shoppers St.",
         4558.06,
         "NaN"
        ],
        [
         388,
         "Godfrey Phillips",
         4512.29,
         581.94
        ],
        [
         389,
         "Jindal Stain .Hi",
         4498.09,
         2438.58
        ],
        [
         390,
         "R C F",
         4493.52,
         1985.06
        ],
        [
         391,
         "Rallis India",
         4493.2,
         390.16
        ],
        [
         392,
         "Stand.Chart.PLC",
         4487.31,
         "NaN"
        ],
        [
         393,
         "G M D C",
         4456.77,
         506.06
        ],
        [
         394,
         "Manpasand Bever.",
         4406.8,
         143.13
        ],
        [
         395,
         "Tata Inv.Corpn.",
         4401.66,
         47.02
        ],
        [
         396,
         "Essel Propack",
         4371.24,
         595.05
        ],
        [
         397,
         "Allcargo Logist.",
         4369.69,
         1479.91
        ],
        [
         398,
         "Radico Khaitan",
         4358.48,
         482.52
        ],
        [
         399,
         "Cera Sanitary.",
         4356.9,
         290.88
        ],
        [
         400,
         "BSE",
         null,
         null
        ],
        [
         401,
         "Forbes & Co",
         4331.82,
         63.93
        ],
        [
         402,
         "S B T",
         4328.47,
         2365.94
        ],
        [
         403,
         "KNR Construct.",
         4325.39,
         433.19
        ],
        [
         404,
         "PNC Infratech",
         4307.29,
         472.48
        ],
        [
         405,
         "Greenply Inds.",
         4295.02,
         399.29
        ],
        [
         406,
         "Ujjivan Fin.Ser.",
         4293.42,
         0.0
        ],
        [
         407,
         "Monsanto India",
         4291.43,
         183.74
        ],
        [
         408,
         "Vinati Organics",
         4279.07,
         185.65
        ],
        [
         409,
         "Jindal Saw",
         4278.31,
         "NaN"
        ],
        [
         410,
         "Lux Industries",
         4269.78,
         297.43
        ],
        [
         411,
         "Linde India",
         4198.33,
         "NaN"
        ],
        [
         412,
         "Ratnamani Metals",
         4194.31,
         535.6
        ],
        [
         413,
         "Cox & Kings",
         4179.29,
         1356.07
        ],
        [
         414,
         "Omaxe",
         4168.29,
         506.82
        ],
        [
         415,
         "Ashoka Buildcon",
         4166.87,
         729.22
        ],
        [
         416,
         "Time Technoplast",
         4156.58,
         754.7
        ],
        [
         417,
         "Phillips Carbon",
         4149.67,
         612.4
        ],
        [
         418,
         "Allahabad Bank",
         4137.11,
         4243.83
        ],
        [
         419,
         "Welspun Corp",
         4103.05,
         2304.16
        ],
        [
         420,
         "NESCO",
         4093.02,
         80.62
        ],
        [
         421,
         "CARE Ratings",
         4090.69,
         74.82
        ],
        [
         422,
         "JP Associates",
         4074.37,
         "NaN"
        ],
        [
         423,
         "Andhra Bank",
         4067.25,
         4549.26
        ],
        [
         424,
         "Zensar Tech.",
         4066.42,
         793.76
        ],
        [
         425,
         "S H Kelkar & Co.",
         4057.34,
         283.12
        ],
        [
         426,
         "Mahindra Holiday",
         4030.35,
         267.54
        ],
        [
         427,
         "Sintex Plastics",
         4022.02,
         1332.73
        ],
        [
         428,
         "SREI Infra. Fin.",
         4009.63,
         1405.19
        ],
        [
         429,
         "Techno Elec.",
         3975.44,
         275.64
        ],
        [
         430,
         "Minda Corp",
         3974.83,
         636.2
        ],
        [
         431,
         "HMT",
         3973.5,
         "NaN"
        ],
        [
         432,
         "KPIT Tech.",
         3927.26,
         912.77
        ],
        [
         433,
         "Triveni Turbine",
         3910.17,
         165.59
        ],
        [
         434,
         "Shankara Build.",
         3901.07,
         624.62
        ],
        [
         435,
         "Multi Comm. Exc.",
         3847.19,
         60.97
        ],
        [
         436,
         "Brigade Enterpr.",
         3846.15,
         423.91
        ],
        [
         437,
         "Gayatri Projects",
         3835.73,
         "NaN"
        ],
        [
         438,
         "Magma Fincorp",
         3826.83,
         580.58
        ],
        [
         439,
         "VRL Logistics",
         3824.69,
         489.34
        ],
        [
         440,
         "ICRA",
         3809.0,
         82.87
        ],
        [
         441,
         "Shriram Pistons",
         3804.58,
         430.8
        ],
        [
         442,
         "IFCI",
         3789.45,
         626.8
        ],
        [
         443,
         "Suprajit Engg.",
         3777.26,
         366.29
        ],
        [
         444,
         "J & K Bank",
         3775.5,
         1682.97
        ],
        [
         445,
         "Navin Fluo.Intl.",
         3769.26,
         221.45
        ],
        [
         446,
         "Karnataka Bank",
         3765.74,
         1332.24
        ],
        [
         447,
         "Shilpa Medicare",
         3764.1,
         185.53
        ],
        [
         448,
         "Kushal",
         3761.86,
         578.18
        ],
        [
         449,
         "Venky's (India)",
         3760.61,
         695.85
        ],
        [
         450,
         "Force Motors",
         null,
         null
        ],
        [
         451,
         "CCL Products",
         3748.73,
         273.99
        ],
        [
         452,
         "Excel Crop Care",
         3734.06,
         258.65
        ],
        [
         453,
         "Trident",
         3722.6,
         1137.17
        ],
        [
         454,
         "Corporation Bank",
         3716.46,
         4387.85
        ],
        [
         455,
         "Rane Holdings",
         3711.8,
         593.74
        ],
        [
         456,
         "Team Lease Serv.",
         3677.34,
         918.06
        ],
        [
         457,
         "Oriental Bank",
         3674.6,
         4262.08
        ],
        [
         458,
         "I T D C",
         3619.04,
         102.14
        ],
        [
         459,
         "JP Power Ven.",
         3597.6,
         "NaN"
        ],
        [
         460,
         "S C I",
         3582.0,
         879.56
        ],
        [
         461,
         "JK Tyre & Indust",
         3577.98,
         2123.24
        ],
        [
         462,
         "Deepak Nitrite",
         3531.9,
         371.14
        ],
        [
         463,
         "Heidelberg Cem.",
         3531.77,
         491.23
        ],
        [
         464,
         "Amber Enterp.",
         3529.87,
         "NaN"
        ],
        [
         465,
         "Sharda Cropchem",
         3528.07,
         325.46
        ],
        [
         466,
         "Dixon Technolog.",
         3526.8,
         677.8
        ],
        [
         467,
         "Himatsing. Seide",
         3511.08,
         595.61
        ],
        [
         468,
         "La Opala RG",
         3510.93,
         69.77
        ],
        [
         469,
         "H F C L",
         3482.71,
         714.42
        ],
        [
         470,
         "Reliance Home",
         3470.6,
         403.0
        ],
        [
         471,
         "Rupa & Co",
         3460.91,
         277.96
        ],
        [
         472,
         "Hind.Construct.",
         3452.57,
         "NaN"
        ],
        [
         473,
         "Ent.Network",
         3380.99,
         148.42
        ],
        [
         474,
         "Supreme Petroch.",
         3377.57,
         725.02
        ],
        [
         475,
         "MAS FINANC SER",
         3376.2,
         112.05
        ],
        [
         476,
         "Thyrocare Tech.",
         3374.38,
         77.84
        ],
        [
         477,
         "Prakash Inds.",
         3336.05,
         725.97
        ],
        [
         478,
         "Repco Home Fin",
         3331.08,
         277.48
        ],
        [
         479,
         "Sonata Software",
         3329.58,
         766.75
        ],
        [
         480,
         "Central Dep. Ser",
         3316.31,
         47.24
        ],
        [
         481,
         "Puravankara",
         3274.9,
         440.09
        ],
        [
         482,
         "Tejas Networks",
         3209.89,
         229.87
        ],
        [
         483,
         "ITD Cem",
         3192.67,
         472.98
        ],
        [
         484,
         "Hathway Cable",
         3189.1,
         138.65
        ],
        [
         485,
         "Dhanuka Agritech",
         3188.62,
         221.51
        ],
        [
         486,
         "Mahindra Logis.",
         3187.51,
         835.06
        ],
        [
         487,
         "Heritage Foods",
         3185.45,
         581.74
        ],
        [
         488,
         "Mah. Seamless",
         3164.73,
         563.66
        ],
        [
         489,
         "Navneet Educat.",
         3148.36,
         174.41
        ],
        [
         490,
         "Firstsour.Solu.",
         3139.94,
         887.24
        ],
        [
         491,
         "Kaveri Seed Co.",
         3125.83,
         70.64
        ],
        [
         492,
         "Star Ferro Cem.",
         3115.98,
         393.49
        ],
        [
         493,
         "Deepak Fert.",
         3079.06,
         1644.92
        ],
        [
         494,
         "Va Tech Wabag",
         3041.93,
         460.89
        ],
        [
         495,
         "Prime Focus",
         3031.5,
         609.61
        ],
        [
         496,
         "Lak. Vilas Bank",
         3029.57,
         790.17
        ],
        [
         497,
         "NOCIL",
         3026.26,
         249.27
        ],
        [
         498,
         "Orient Cement",
         3024.32,
         511.53
        ],
        [
         499,
         "Natl.Fertilizer",
         3017.07,
         2840.75
        ],
        [
         500,
         "L T Foods",
         null,
         null
        ]
       ],
       "datasetInfos": [],
       "dbfsResultPath": null,
       "isJsonSchema": true,
       "metadata": {},
       "overflow": false,
       "plotOptions": {
        "customPlotOptions": {},
        "displayType": "table",
        "pivotAggregation": null,
        "pivotColumns": null,
        "xColumns": null,
        "yColumns": null
       },
       "removedWidgets": [],
       "schema": [
        {
         "metadata": "{}",
         "name": "Sr.No",
         "type": "\"integer\""
        },
        {
         "metadata": "{}",
         "name": "Company_name",
         "type": "\"string\""
        },
        {
         "metadata": "{}",
         "name": "Market_cap",
         "type": "\"double\""
        },
        {
         "metadata": "{}",
         "name": "Sales_Qtr",
         "type": "\"double\""
        }
       ],
       "type": "table"
      }
     },
     "output_type": "display_data"
    }
   ],
   "source": [
    "filter_df = df.withColumnRenamed(\"S.No.\", \"Sr.No\") \\\n",
    "              .withColumnRenamed(\"Name\", \"Company_name\") \\\n",
    "              .withColumnRenamed(\"Mar Cap - Crore\", \"Market_cap\") \\\n",
    "              .withColumnRenamed(\"Sales Qtr - Crore\", \"Sales_Qtr\")\n",
    "\n",
    "\n",
    "df = filter_df.display()"
   ]
  },
  {
   "cell_type": "markdown",
   "metadata": {
    "application/vnd.databricks.v1+cell": {
     "cellMetadata": {},
     "inputWidgets": {},
     "nuid": "004c9af3-fe30-46d3-9e68-32db01c4d90a",
     "showTitle": false,
     "title": ""
    }
   },
   "source": [
    "Handling Mission And Null Values"
   ]
  },
  {
   "cell_type": "code",
   "execution_count": 0,
   "metadata": {
    "application/vnd.databricks.v1+cell": {
     "cellMetadata": {
      "byteLimit": 2048000,
      "rowLimit": 10000
     },
     "inputWidgets": {},
     "nuid": "465c8624-7469-49f9-b053-44190427f447",
     "showTitle": false,
     "title": ""
    }
   },
   "outputs": [],
   "source": [
    "filter_df = df.withColumn(\"Sales_Qtr\" , when(col(\"Sales_Qtr\") == \"NaN\", 0).otherwise(col(\"Sales_Qtr\")))"
   ]
  },
  {
   "cell_type": "code",
   "execution_count": 0,
   "metadata": {
    "application/vnd.databricks.v1+cell": {
     "cellMetadata": {
      "byteLimit": 2048000,
      "rowLimit": 10000
     },
     "inputWidgets": {},
     "nuid": "0b323df5-58fe-47e0-a60e-28eda1ba5a9f",
     "showTitle": false,
     "title": ""
    }
   },
   "outputs": [],
   "source": [
    "df = filter_df.dropna(subset=\"Sales_Qtr\")"
   ]
  },
  {
   "cell_type": "code",
   "execution_count": 0,
   "metadata": {
    "application/vnd.databricks.v1+cell": {
     "cellMetadata": {
      "byteLimit": 2048000,
      "rowLimit": 10000
     },
     "inputWidgets": {},
     "nuid": "bc5a29d3-5c64-4a8c-ad9b-1cb039dc9b6c",
     "showTitle": false,
     "title": ""
    }
   },
   "outputs": [
    {
     "output_type": "display_data",
     "data": {
      "text/html": [
       "<style scoped>\n",
       "  .table-result-container {\n",
       "    max-height: 300px;\n",
       "    overflow: auto;\n",
       "  }\n",
       "  table, th, td {\n",
       "    border: 1px solid black;\n",
       "    border-collapse: collapse;\n",
       "  }\n",
       "  th, td {\n",
       "    padding: 5px;\n",
       "  }\n",
       "  th {\n",
       "    text-align: left;\n",
       "  }\n",
       "</style><div class='table-result-container'><table class='table-result'><thead style='background-color: white'><tr><th>Sr.No</th><th>Company_name</th><th>Market_cap</th><th>Sales_Qtr</th></tr></thead><tbody><tr><td>1</td><td>Reliance Inds.</td><td>583436.72</td><td>99810.0</td></tr><tr><td>2</td><td>TCS</td><td>563709.84</td><td>30904.0</td></tr><tr><td>3</td><td>HDFC Bank</td><td>482953.59</td><td>20581.27</td></tr><tr><td>4</td><td>ITC</td><td>320985.27</td><td>9772.02</td></tr><tr><td>5</td><td>H D F C</td><td>289497.37</td><td>16840.51</td></tr><tr><td>6</td><td>Hind. Unilever</td><td>288265.26</td><td>8590.0</td></tr><tr><td>7</td><td>Maruti Suzuki</td><td>263493.81</td><td>19283.2</td></tr><tr><td>8</td><td>Infosys</td><td>248320.35</td><td>17794.0</td></tr><tr><td>9</td><td>O N G C</td><td>239981.5</td><td>22995.88</td></tr><tr><td>10</td><td>St Bk of India</td><td>232763.33</td><td>57014.08</td></tr><tr><td>11</td><td>ICICI Bank</td><td>203802.35</td><td>13665.35</td></tr><tr><td>12</td><td>Kotak Mah. Bank</td><td>199253.77</td><td>6390.71</td></tr><tr><td>13</td><td>Coal India</td><td>192677.98</td><td>21643.28</td></tr><tr><td>14</td><td>Larsen & Toubro</td><td>180860.74</td><td>28747.45</td></tr><tr><td>15</td><td>I O C L</td><td>178017.48</td><td>110666.93</td></tr><tr><td>16</td><td>Bharti Airtel</td><td>167131.29</td><td>20318.6</td></tr><tr><td>17</td><td>Axis Bank</td><td>136380.76</td><td>11721.55</td></tr><tr><td>18</td><td>NTPC</td><td>135390.53</td><td>20774.37</td></tr><tr><td>19</td><td>Sun Pharma.Inds.</td><td>134241.36</td><td>6653.23</td></tr><tr><td>20</td><td>Hind.Zinc</td><td>133266.56</td><td>5922.0</td></tr><tr><td>21</td><td>Wipro</td><td>131840.57</td><td>13669.0</td></tr><tr><td>22</td><td>HCL Technologies</td><td>126335.27</td><td>12809.0</td></tr><tr><td>23</td><td>Vedanta</td><td>122184.17</td><td>24361.0</td></tr><tr><td>24</td><td>Tata Motors</td><td>117071.87</td><td>74156.07</td></tr><tr><td>25</td><td>UltraTech Cem.</td><td>113692.87</td><td>8019.24</td></tr><tr><td>26</td><td>Asian Paints</td><td>108044.04</td><td>4260.52</td></tr><tr><td>27</td><td>Power Grid Corpn</td><td>102016.01</td><td>7506.95</td></tr><tr><td>28</td><td>B P C L</td><td>98278.0</td><td>60616.36</td></tr><tr><td>29</td><td>IndusInd Bank</td><td>97379.96</td><td>4286.78</td></tr><tr><td>30</td><td>Bajaj Fin.</td><td>94476.77</td><td>3540.63</td></tr><tr><td>31</td><td>Bajaj Auto</td><td>88252.6</td><td>6369.34</td></tr><tr><td>32</td><td>M & M</td><td>88142.35</td><td>11577.78</td></tr><tr><td>33</td><td>HDFC Stand. Life</td><td>87358.23</td><td>9734.9</td></tr><tr><td>34</td><td>Adani Ports</td><td>81781.89</td><td>2688.85</td></tr><tr><td>35</td><td>Bajaj Finserv</td><td>79795.11</td><td>7665.4</td></tr><tr><td>36</td><td>GAIL (India)</td><td>78670.97</td><td>14414.34</td></tr><tr><td>37</td><td>Avenue Super.</td><td>74066.35</td><td>4094.82</td></tr><tr><td>38</td><td>Titan Company</td><td>73886.0</td><td>4274.84</td></tr><tr><td>39</td><td>JSW Steel</td><td>73870.26</td><td>17861.0</td></tr><tr><td>40</td><td>Grasim Inds</td><td>73532.62</td><td>15291.42</td></tr><tr><td>41</td><td>Tata Steel</td><td>73376.14</td><td>32464.14</td></tr><tr><td>42</td><td>Eicher Motors</td><td>73311.41</td><td>2269.01</td></tr><tr><td>43</td><td>Nestle India</td><td>73015.49</td><td>2601.46</td></tr><tr><td>44</td><td>Godrej Consumer</td><td>71859.82</td><td>2630.3</td></tr><tr><td>45</td><td>Yes Bank</td><td>71028.13</td><td>5070.3</td></tr><tr><td>46</td><td>Hero Motocorp</td><td>69448.66</td><td>7305.49</td></tr><tr><td>47</td><td>Motherson Sumi</td><td>68590.33</td><td>14397.85</td></tr><tr><td>48</td><td>SBI Life Insuran</td><td>67465.0</td><td>9569.97</td></tr><tr><td>49</td><td>General Insuranc</td><td>66316.32</td><td>8557.68</td></tr><tr><td>51</td><td>Dabur India</td><td>60015.0</td><td>1966.44</td></tr><tr><td>52</td><td>Bosch</td><td>59204.28</td><td>3071.92</td></tr><tr><td>53</td><td>Shree Cement</td><td>58987.08</td><td>2296.23</td></tr><tr><td>54</td><td>New India Assura</td><td>58108.48</td><td>5074.02</td></tr><tr><td>55</td><td>H P C L</td><td>58034.78</td><td>57474.25</td></tr><tr><td>56</td><td>ICICI Pru Life</td><td>57748.98</td><td>13555.32</td></tr><tr><td>57</td><td>Britannia Inds.</td><td>56837.2</td><td>2567.48</td></tr><tr><td>58</td><td>Tech Mahindra</td><td>56244.26</td><td>7775.96</td></tr><tr><td>59</td><td>Hindalco Inds.</td><td>55854.68</td><td>11022.81</td></tr><tr><td>60</td><td>Zee Entertainmen</td><td>54817.89</td><td>1838.07</td></tr><tr><td>61</td><td>Cairn India</td><td>53528.57</td><td>2149.36</td></tr><tr><td>62</td><td>Indiabulls Hous.</td><td>52781.67</td><td>3115.89</td></tr><tr><td>63</td><td>Ambuja Cem.</td><td>52361.46</td><td>6170.71</td></tr><tr><td>64</td><td>Interglobe Aviat</td><td>48621.37</td><td>6177.88</td></tr><tr><td>65</td><td>Cipla</td><td>48577.43</td><td>3913.82</td></tr><tr><td>66</td><td>Piramal Enterp.</td><td>47483.97</td><td>2858.36</td></tr><tr><td>67</td><td>United Spirits</td><td>46725.05</td><td>2263.3</td></tr><tr><td>68</td><td>Pidilite Inds.</td><td>45855.5</td><td>1542.9</td></tr><tr><td>69</td><td>Siemens</td><td>44239.04</td><td>2429.5</td></tr><tr><td>70</td><td>Cadila Health.</td><td>41876.19</td><td>3259.6</td></tr><tr><td>71</td><td>NMDC</td><td>41415.33</td><td>2469.03</td></tr><tr><td>72</td><td>DLF</td><td>40159.35</td><td>1693.72</td></tr><tr><td>73</td><td>Marico</td><td>39813.84</td><td>1337.59</td></tr><tr><td>74</td><td>Ashok Leyland</td><td>39047.57</td><td>7113.16</td></tr><tr><td>75</td><td>Bharat Electron</td><td>37776.23</td><td>2512.82</td></tr><tr><td>76</td><td>ICICI Lombard</td><td>37219.22</td><td>2110.99</td></tr><tr><td>77</td><td>Lupin</td><td>36878.85</td><td>3975.62</td></tr><tr><td>78</td><td>Petronet LNG</td><td>36615.0</td><td>7757.06</td></tr><tr><td>79</td><td>Aditya Birla Cap</td><td>36215.92</td><td>3325.02</td></tr><tr><td>80</td><td>Dr Reddy's Labs</td><td>35893.55</td><td>3834.1</td></tr><tr><td>81</td><td>Sun TV Network</td><td>35824.26</td><td>683.28</td></tr><tr><td>82</td><td>S A I L</td><td>35729.04</td><td>15323.65</td></tr><tr><td>83</td><td>UPL</td><td>35349.58</td><td>4194.0</td></tr><tr><td>84</td><td>Oracle Fin.Serv.</td><td>34620.19</td><td>1059.12</td></tr><tr><td>85</td><td>Bharat Forge</td><td>34397.69</td><td>1390.55</td></tr><tr><td>86</td><td>Biocon</td><td>34347.0</td><td>1057.9</td></tr><tr><td>87</td><td>B H E L</td><td>34162.38</td><td>6626.35</td></tr><tr><td>88</td><td>Aurobindo Pharma</td><td>33676.52</td><td>4336.11</td></tr><tr><td>89</td><td>Bank of Baroda</td><td>33364.23</td><td>11303.24</td></tr><tr><td>90</td><td>Idea Cellular</td><td>33047.33</td><td>6509.6</td></tr><tr><td>91</td><td>A B B</td><td>31983.33</td><td>2779.4</td></tr><tr><td>92</td><td>Havells India</td><td>31798.18</td><td>1965.77</td></tr><tr><td>93</td><td>Container Corpn.</td><td>31450.56</td><td>1639.55</td></tr><tr><td>94</td><td>TVS Motor Co.</td><td>30919.51</td><td>3684.95</td></tr><tr><td>95</td><td>ACC</td><td>30803.68</td><td>3494.24</td></tr><tr><td>96</td><td>Bajaj Holdings</td><td>30305.94</td><td>317.85</td></tr><tr><td>97</td><td>P & G Hygiene</td><td>30202.12</td><td>704.16</td></tr><tr><td>98</td><td>MRF</td><td>30030.01</td><td>3798.82</td></tr><tr><td>99</td><td>Shriram Trans.</td><td>29327.64</td><td>3087.67</td></tr><tr><td>101</td><td>L&T Fin.Holdings</td><td>28932.43</td><td>2630.17</td></tr><tr><td>102</td><td>Punjab Natl.Bank</td><td>28270.22</td><td>12175.48</td></tr><tr><td>103</td><td>NHPC Ltd</td><td>28059.24</td><td>1497.93</td></tr><tr><td>104</td><td>Power Fin.Corpn.</td><td>27905.66</td><td>6194.77</td></tr><tr><td>105</td><td>United Breweries</td><td>27797.69</td><td>1197.1</td></tr><tr><td>106</td><td>Oil India</td><td>27404.15</td><td>2852.55</td></tr><tr><td>107</td><td>Rural Elec.Corp.</td><td>27382.24</td><td>5498.45</td></tr><tr><td>108</td><td>GlaxoSmith C H L</td><td>27340.89</td><td>1034.67</td></tr><tr><td>109</td><td>M & M Fin. Serv.</td><td>26928.37</td><td>2182.45</td></tr><tr><td>110</td><td>Divi's Lab.</td><td>26915.86</td><td>1037.88</td></tr><tr><td>111</td><td>Kansai Nerolac</td><td>26409.76</td><td>1145.01</td></tr><tr><td>112</td><td>Alkem Lab</td><td>25957.56</td><td>1422.52</td></tr><tr><td>113</td><td>LIC Housing Fin.</td><td>25880.98</td><td>3738.1</td></tr><tr><td>114</td><td>Future Retail</td><td>25859.25</td><td>4693.39</td></tr><tr><td>115</td><td>Page Industries</td><td>25383.03</td><td>621.03</td></tr><tr><td>116</td><td>Dalmia Bhar.</td><td>25288.97</td><td>2090.54</td></tr><tr><td>117</td><td>IIFL Holdings</td><td>24788.54</td><td>1612.14</td></tr><tr><td>118</td><td>L & T Infotech</td><td>24626.1</td><td>1883.8</td></tr><tr><td>119</td><td>Aditya Bir. Nuv.</td><td>24592.21</td><td>4287.12</td></tr><tr><td>120</td><td>Emami</td><td>23720.37</td><td>756.64</td></tr><tr><td>121</td><td>Cummins India</td><td>23562.0</td><td>1354.67</td></tr><tr><td>122</td><td>Berger Paints</td><td>23537.8</td><td>1338.63</td></tr><tr><td>123</td><td>Rajesh Exports</td><td>23495.54</td><td>41304.84</td></tr><tr><td>126</td><td>Tata Power Co.</td><td>23369.24</td><td>6949.91</td></tr><tr><td>127</td><td>3M India</td><td>23101.19</td><td>645.77</td></tr><tr><td>128</td><td>Jindal Steel</td><td>23094.39</td><td>6992.56</td></tr><tr><td>129</td><td>Edelweiss.Fin.</td><td>22915.42</td><td>2069.45</td></tr><tr><td>130</td><td>Gillette India</td><td>21976.74</td><td>407.52</td></tr><tr><td>131</td><td>Adani Enterp.</td><td>21776.04</td><td>9938.37</td></tr><tr><td>132</td><td>Adani Transmissi</td><td>21677.26</td><td>1782.29</td></tr><tr><td>133</td><td>Balkrishna Inds</td><td>21372.18</td><td>1106.31</td></tr><tr><td>134</td><td>Cholaman.Inv.&Fn</td><td>20832.4</td><td>1404.33</td></tr><tr><td>135</td><td>Indraprastha Gas</td><td>20779.52</td><td>1183.9</td></tr><tr><td>136</td><td>M R P L</td><td>20750.78</td><td>14100.98</td></tr><tr><td>137</td><td>Glaxosmi. Pharma</td><td>20489.35</td><td>703.91</td></tr><tr><td>138</td><td>PNB Housing</td><td>20037.85</td><td>1438.49</td></tr><tr><td>139</td><td>RBL Bank</td><td>19748.79</td><td>1150.79</td></tr><tr><td>140</td><td>Castrol India</td><td>18803.22</td><td>970.3</td></tr><tr><td>141</td><td>Canara Bank</td><td>18590.66</td><td>10774.64</td></tr><tr><td>142</td><td>GRUH Finance</td><td>18535.09</td><td>428.47</td></tr><tr><td>143</td><td>KIOCL</td><td>18534.15</td><td>442.81</td></tr><tr><td>144</td><td>Voltas</td><td>18453.44</td><td>1374.67</td></tr><tr><td>145</td><td>Godrej Inds.</td><td>18298.09</td><td>2458.48</td></tr><tr><td>146</td><td>Whirlpool India</td><td>18254.06</td><td>958.01</td></tr><tr><td>147</td><td>Sundaram Finance</td><td>18159.85</td><td>677.23</td></tr><tr><td>148</td><td>Federal Bank</td><td>18086.81</td><td>2501.2</td></tr><tr><td>149</td><td>Tata Comm</td><td>17963.55</td><td>4114.63</td></tr><tr><td>151</td><td>Tata Chemicals</td><td>17941.47</td><td>2573.91</td></tr><tr><td>152</td><td>Exide Inds.</td><td>17930.75</td><td>2276.54</td></tr><tr><td>153</td><td>IDFC Bank</td><td>17762.77</td><td>2283.72</td></tr><tr><td>154</td><td>NBCC</td><td>17712.0</td><td>1321.5</td></tr><tr><td>155</td><td>IDBI Bank</td><td>17559.35</td><td>5797.2</td></tr><tr><td>156</td><td>The Ramco Cement</td><td>17246.58</td><td>1056.36</td></tr><tr><td>157</td><td>Dewan Hsg. Fin.</td><td>17097.54</td><td>2631.6</td></tr><tr><td>158</td><td>MphasiS</td><td>16728.78</td><td>1660.69</td></tr><tr><td>159</td><td>Apollo Hospitals</td><td>16683.97</td><td>1896.14</td></tr><tr><td>160</td><td>Reliance Nip.Lif</td><td>16655.58</td><td>394.0</td></tr><tr><td>161</td><td>Tata Global</td><td>16589.24</td><td>1730.39</td></tr><tr><td>162</td><td>Godrej Propert.</td><td>16545.51</td><td>627.03</td></tr><tr><td>163</td><td>AU Small Finance</td><td>16453.67</td><td>464.17</td></tr><tr><td>164</td><td>Indian Hotels</td><td>16150.13</td><td>1197.26</td></tr><tr><td>165</td><td>Motil.Oswal.Fin.</td><td>16108.15</td><td>728.63</td></tr><tr><td>166</td><td>H U D C O</td><td>16065.25</td><td>1064.49</td></tr><tr><td>167</td><td>Oberoi Realty</td><td>16044.51</td><td>356.2</td></tr><tr><td>168</td><td>Indian Bank</td><td>15739.16</td><td>4354.22</td></tr><tr><td>169</td><td>SJVN</td><td>15512.35</td><td>436.58</td></tr><tr><td>170</td><td>Bank of India</td><td>15339.87</td><td>9334.84</td></tr><tr><td>171</td><td>Supreme Inds.</td><td>15248.94</td><td>1278.3</td></tr><tr><td>172</td><td>Muthoot Finance</td><td>15226.72</td><td>1553.71</td></tr><tr><td>173</td><td>NLC India</td><td>15201.61</td><td>1706.48</td></tr><tr><td>176</td><td>Info Edg.(India)</td><td>14845.05</td><td>0.0</td></tr><tr><td>177</td><td>Glenmark Pharma.</td><td>14785.53</td><td>2203.67</td></tr><tr><td>178</td><td>Jubilant Life</td><td>14775.08</td><td>2067.76</td></tr><tr><td>179</td><td>Crompton Gr. Con</td><td>14638.57</td><td>938.19</td></tr><tr><td>180</td><td>Honeywell Auto</td><td>14526.24</td><td>721.48</td></tr><tr><td>181</td><td>Natco Pharma</td><td>14456.9</td><td>562.2</td></tr><tr><td>182</td><td>PC Jeweller</td><td>14334.81</td><td>2644.89</td></tr><tr><td>183</td><td>Quess Corp</td><td>14330.19</td><td>1583.95</td></tr><tr><td>184</td><td>CRISIL</td><td>14164.81</td><td>441.13</td></tr><tr><td>185</td><td>WABCO India</td><td>13843.64</td><td>649.91</td></tr><tr><td>186</td><td>Amara Raja Batt.</td><td>13774.32</td><td>1553.46</td></tr><tr><td>189</td><td>Sterlite Tech.</td><td>13743.95</td><td>835.18</td></tr><tr><td>190</td><td>AIA Engg.</td><td>13593.35</td><td>572.16</td></tr><tr><td>191</td><td>KRBL</td><td>13492.55</td><td>783.51</td></tr><tr><td>192</td><td>Max Financial</td><td>13401.76</td><td>0.0</td></tr><tr><td>193</td><td>Indiabulls Vent.</td><td>13396.15</td><td>238.43</td></tr><tr><td>194</td><td>Century Textiles</td><td>13369.97</td><td>2069.39</td></tr><tr><td>195</td><td>Jubilant Food.</td><td>13178.43</td><td>795.17</td></tr><tr><td>196</td><td>Bayer Crop Sci.</td><td>13166.76</td><td>479.7</td></tr><tr><td>197</td><td>Graphite India</td><td>13129.9</td><td>933.06</td></tr><tr><td>198</td><td>JSW Energy</td><td>13104.0</td><td>1993.2</td></tr><tr><td>199</td><td>Central Bank</td><td>13046.18</td><td>6026.55</td></tr><tr><td>201</td><td>CESC</td><td>12996.56</td><td>1706.0</td></tr><tr><td>202</td><td>Shri.City Union.</td><td>12995.31</td><td>1338.09</td></tr><tr><td>203</td><td>L&T Technology</td><td>12942.25</td><td>969.1</td></tr><tr><td>204</td><td>Rain Industries</td><td>12655.17</td><td>3050.81</td></tr><tr><td>205</td><td>Torrent Power</td><td>12599.37</td><td>2754.64</td></tr><tr><td>206</td><td>Dilip Buildcon</td><td>12526.06</td><td>1942.12</td></tr><tr><td>207</td><td>TI Financial</td><td>12507.91</td><td>886.68</td></tr><tr><td>208</td><td>JM Financial</td><td>12382.64</td><td>837.73</td></tr><tr><td>209</td><td>Adani Power</td><td>12091.5</td><td>4844.46</td></tr><tr><td>210</td><td>Reliance Power</td><td>12033.99</td><td>2494.65</td></tr><tr><td>211</td><td>Reliance Capital</td><td>11966.83</td><td>4749.0</td></tr><tr><td>212</td><td>Syngene Intl.</td><td>11950.0</td><td>387.7</td></tr><tr><td>213</td><td>Abbott India</td><td>11924.12</td><td>881.49</td></tr><tr><td>214</td><td>Hatsun AgroProd.</td><td>11896.52</td><td>1012.94</td></tr><tr><td>215</td><td>Symphony</td><td>11882.55</td><td>217.63</td></tr><tr><td>216</td><td>Gujarat Gas</td><td>11759.77</td><td>1571.33</td></tr><tr><td>217</td><td>Reliance Infra.</td><td>11737.24</td><td>5861.04</td></tr><tr><td>218</td><td>Aditya Bir. Fas.</td><td>11718.17</td><td>1855.0</td></tr><tr><td>219</td><td>Ajanta Pharma</td><td>11651.8</td><td>587.05</td></tr><tr><td>220</td><td>P I Inds.</td><td>11564.22</td><td>537.74</td></tr><tr><td>221</td><td>City Union Bank</td><td>11554.4</td><td>865.36</td></tr><tr><td>222</td><td>Varun Beverages</td><td>11498.3</td><td>329.92</td></tr><tr><td>223</td><td>Mindtree</td><td>11438.78</td><td>1377.7</td></tr><tr><td>224</td><td>Prestige Estates</td><td>11353.13</td><td>1272.3</td></tr><tr><td>225</td><td>Future Consumer</td><td>11203.15</td><td>784.05</td></tr><tr><td>226</td><td>Sundram Fasten.</td><td>11202.53</td><td>848.13</td></tr><tr><td>227</td><td>Sanofi India</td><td>11182.45</td><td>667.5</td></tr><tr><td>228</td><td>Guj.St.Petronet</td><td>11064.74</td><td>350.18</td></tr><tr><td>229</td><td>Godrej Agrovet</td><td>10918.75</td><td>865.77</td></tr><tr><td>230</td><td>Finolex Cables</td><td>10900.75</td><td>656.78</td></tr><tr><td>231</td><td>Bombay Burmah</td><td>10864.53</td><td>0.0</td></tr><tr><td>232</td><td>SRF</td><td>10842.62</td><td>1397.06</td></tr><tr><td>233</td><td>GE T&D India</td><td>10778.42</td><td>1438.55</td></tr><tr><td>234</td><td>Alembic Pharma</td><td>10764.29</td><td>840.02</td></tr><tr><td>235</td><td>SPARC</td><td>10755.13</td><td>19.42</td></tr><tr><td>236</td><td>GMR Infra.</td><td>10653.44</td><td>2072.29</td></tr><tr><td>237</td><td>HEG</td><td>10630.76</td><td>842.71</td></tr><tr><td>238</td><td>Trent</td><td>10589.27</td><td>521.32</td></tr><tr><td>239</td><td>Engineers India</td><td>10565.56</td><td>473.42</td></tr><tr><td>240</td><td>Avanti Feeds</td><td>10558.13</td><td>706.43</td></tr><tr><td>241</td><td>Pfizer</td><td>10508.48</td><td>456.54</td></tr><tr><td>242</td><td>Escorts</td><td>10450.56</td><td>1205.03</td></tr><tr><td>243</td><td>Tata Motors-DVR</td><td>10442.09</td><td>7769.67</td></tr><tr><td>244</td><td>Blue Dart Exp.</td><td>10422.45</td><td>704.59</td></tr><tr><td>245</td><td>Indbull.RealEst.</td><td>10338.4</td><td>2100.13</td></tr><tr><td>246</td><td>ERIS Lifescience</td><td>10289.81</td><td>182.21</td></tr><tr><td>247</td><td>Arvind Ltd</td><td>10247.7</td><td>2705.75</td></tr><tr><td>248</td><td>Sundaram Clayton</td><td>10074.36</td><td>0.0</td></tr><tr><td>249</td><td>Hexaware Tech.</td><td>9885.05</td><td>1004.83</td></tr><tr><td>255</td><td>SKF India</td><td>9569.14</td><td>700.49</td></tr><tr><td>256</td><td>Delta Corp</td><td>9531.57</td><td>162.17</td></tr><tr><td>257</td><td>Union Bank (I)</td><td>9528.82</td><td>8260.47</td></tr><tr><td>258</td><td>TV18 Broadcast</td><td>9463.27</td><td>271.13</td></tr><tr><td>259</td><td>Minda Inds.</td><td>9457.04</td><td>1056.16</td></tr><tr><td>260</td><td>Solar Inds.</td><td>9317.76</td><td>465.68</td></tr><tr><td>261</td><td>Kajaria Ceramics</td><td>9306.54</td><td>661.16</td></tr><tr><td>262</td><td>Astral Poly</td><td>9162.14</td><td>528.54</td></tr><tr><td>263</td><td>Bata India</td><td>9145.38</td><td>674.0</td></tr><tr><td>264</td><td>Phoenix Mills</td><td>9097.33</td><td>416.61</td></tr><tr><td>267</td><td>BASF India</td><td>8778.35</td><td>1278.74</td></tr><tr><td>268</td><td>DCM Shriram</td><td>8681.95</td><td>1783.73</td></tr><tr><td>269</td><td>Infibeam Incorp.</td><td>8646.54</td><td>213.48</td></tr><tr><td>270</td><td>Aegis Logistics</td><td>8613.86</td><td>1442.08</td></tr><tr><td>271</td><td>Mahindra CIE</td><td>8587.04</td><td>0.0</td></tr><tr><td>272</td><td>Jet Airways</td><td>8539.88</td><td>6086.2</td></tr><tr><td>273</td><td>SpiceJet</td><td>8458.24</td><td>2081.95</td></tr><tr><td>274</td><td>Thomas Cook (I)</td><td>8440.65</td><td>3005.45</td></tr><tr><td>275</td><td>Guj Fluorochem</td><td>8439.77</td><td>968.97</td></tr><tr><td>276</td><td>Wockhardt</td><td>8428.58</td><td>1005.3</td></tr><tr><td>277</td><td>Akzo Nobel</td><td>8389.47</td><td>711.99</td></tr><tr><td>278</td><td>I D F C</td><td>8380.86</td><td>2789.58</td></tr><tr><td>279</td><td>Security & Intel</td><td>8247.08</td><td>1537.72</td></tr><tr><td>280</td><td>Asahi India Glas</td><td>8183.96</td><td>640.38</td></tr><tr><td>281</td><td>TTK Prestige</td><td>8153.33</td><td>457.97</td></tr><tr><td>282</td><td>ITI</td><td>8124.6</td><td>250.97</td></tr><tr><td>283</td><td>Karur Vysya Bank</td><td>8065.7</td><td>1422.32</td></tr><tr><td>284</td><td>Vardhman Textile</td><td>8023.74</td><td>1647.98</td></tr><tr><td>285</td><td>Fortis Health.</td><td>7966.43</td><td>1156.61</td></tr><tr><td>286</td><td>Ipca Labs.</td><td>7943.03</td><td>859.21</td></tr><tr><td>287</td><td>Sheela Foam</td><td>7815.74</td><td>532.21</td></tr><tr><td>288</td><td>IRB Infra.Devl.</td><td>7812.73</td><td>1296.19</td></tr><tr><td>289</td><td>Atul</td><td>7789.01</td><td>803.68</td></tr><tr><td>290</td><td>Finolex Inds.</td><td>7784.17</td><td>722.72</td></tr><tr><td>291</td><td>Dish TV</td><td>7765.91</td><td>740.77</td></tr><tr><td>292</td><td>Rel. Comm.</td><td>7702.01</td><td>1144.0</td></tr><tr><td>293</td><td>Dr Lal Pathlabs</td><td>7550.78</td><td>262.7</td></tr><tr><td>294</td><td>OCL India</td><td>7453.05</td><td>859.24</td></tr><tr><td>295</td><td>NCC</td><td>7439.01</td><td>2780.26</td></tr><tr><td>296</td><td>Relaxo Footwear</td><td>7251.91</td><td>457.5</td></tr><tr><td>297</td><td>J K Cements</td><td>7230.76</td><td>1126.11</td></tr><tr><td>298</td><td>G N F C</td><td>7208.38</td><td>1590.89</td></tr><tr><td>299</td><td>Cochin Shipyard</td><td>7154.99</td><td>615.04</td></tr><tr><td>301</td><td>Birla Corpn.</td><td>7137.67</td><td>1389.32</td></tr><tr><td>302</td><td>Future Lifestyle</td><td>7009.13</td><td>1188.97</td></tr><tr><td>303</td><td>Century Ply.</td><td>6966.23</td><td>509.93</td></tr><tr><td>304</td><td>Blue Star</td><td>6952.99</td><td>981.3</td></tr><tr><td>305</td><td>Kalpataru Power</td><td>6950.23</td><td>1417.37</td></tr><tr><td>306</td><td>Suzlon Energy</td><td>6942.31</td><td>1193.06</td></tr><tr><td>307</td><td>Cyient</td><td>6921.97</td><td>983.3</td></tr><tr><td>308</td><td>Hind.Copper</td><td>6902.14</td><td>440.14</td></tr><tr><td>309</td><td>Guj Pipavav Port</td><td>6864.85</td><td>162.68</td></tr><tr><td>310</td><td>Carborundum Uni.</td><td>6838.18</td><td>611.59</td></tr><tr><td>311</td><td>Can Fin Homes</td><td>6811.5</td><td>392.1</td></tr><tr><td>312</td><td>Sadbhav Engg.</td><td>6795.06</td><td>2153.34</td></tr><tr><td>313</td><td>Advanta</td><td>6742.41</td><td>361.68</td></tr><tr><td>314</td><td>Capital First</td><td>6710.63</td><td>987.64</td></tr><tr><td>315</td><td>Lak. Mach. Works</td><td>6654.81</td><td>542.42</td></tr><tr><td>316</td><td>Himadri Specialt</td><td>6646.41</td><td>500.08</td></tr><tr><td>317</td><td>Coffee Day Enter</td><td>6601.62</td><td>965.3</td></tr><tr><td>318</td><td>PVR</td><td>6591.31</td><td>557.25</td></tr><tr><td>319</td><td>Chambal Fert.</td><td>6542.79</td><td>2330.1</td></tr><tr><td>320</td><td>Vijaya Bank</td><td>6531.58</td><td>3135.23</td></tr><tr><td>321</td><td>Welspun India</td><td>6520.67</td><td>1397.95</td></tr><tr><td>322</td><td>CEAT</td><td>6476.26</td><td>1574.15</td></tr><tr><td>323</td><td>Strides Shasun</td><td>6469.51</td><td>749.04</td></tr><tr><td>324</td><td>Narayana Hrudaya</td><td>6379.12</td><td>553.84</td></tr><tr><td>325</td><td>Jyothy Lab.</td><td>6324.62</td><td>431.21</td></tr><tr><td>326</td><td>Johnson Con. Hit</td><td>6209.11</td><td>377.4</td></tr><tr><td>327</td><td>Prism Cement</td><td>6176.23</td><td>0.0</td></tr><tr><td>328</td><td>Tata Elxsi</td><td>6153.54</td><td>345.54</td></tr><tr><td>329</td><td>Syndicate Bank</td><td>6086.37</td><td>5375.57</td></tr><tr><td>330</td><td>D B Corp</td><td>6059.97</td><td>598.58</td></tr><tr><td>331</td><td>Jain Irrigation</td><td>6019.89</td><td>1889.63</td></tr><tr><td>332</td><td>Persistent Sys</td><td>5996.4</td><td>791.89</td></tr><tr><td>333</td><td>Redington India</td><td>5896.54</td><td>11728.4</td></tr><tr><td>334</td><td>Sunteck Realty</td><td>5865.04</td><td>201.5</td></tr><tr><td>335</td><td>Raymond</td><td>5863.1</td><td>1484.24</td></tr><tr><td>336</td><td>MOIL</td><td>5840.29</td><td>299.8</td></tr><tr><td>337</td><td>Bombay Dyeing</td><td>5823.25</td><td>619.93</td></tr><tr><td>338</td><td>GE Shipping Co</td><td>5802.66</td><td>584.42</td></tr><tr><td>339</td><td>Grindwell Norton</td><td>5706.51</td><td>365.42</td></tr><tr><td>340</td><td>EID Parry</td><td>5652.33</td><td>3557.94</td></tr><tr><td>341</td><td>I O B</td><td>5591.02</td><td>4254.68</td></tr><tr><td>342</td><td>Galaxy Surfact.</td><td>5567.11</td><td>826.95</td></tr><tr><td>343</td><td>Laurus Labs</td><td>5502.94</td><td>473.77</td></tr><tr><td>344</td><td>Guj Alkalies</td><td>5498.45</td><td>617.61</td></tr><tr><td>345</td><td>GE Power</td><td>5497.4</td><td>0.0</td></tr><tr><td>346</td><td>Timken India</td><td>5495.76</td><td>278.58</td></tr><tr><td>347</td><td>C P C L</td><td>5427.82</td><td>8587.17</td></tr><tr><td>348</td><td>Dishman Carbogen</td><td>5416.39</td><td>459.82</td></tr><tr><td>349</td><td>St Bk of Bikaner</td><td>5402.95</td><td>2262.28</td></tr><tr><td>351</td><td>MMTC</td><td>5300.0</td><td>0.0</td></tr><tr><td>352</td><td>IFB Inds.</td><td>5293.53</td><td>531.74</td></tr><tr><td>353</td><td>eClerx Services</td><td>5259.14</td><td>339.89</td></tr><tr><td>354</td><td>Sobha</td><td>5224.11</td><td>691.9</td></tr><tr><td>355</td><td>Kirloskar Oil</td><td>5207.77</td><td>684.61</td></tr><tr><td>356</td><td>G S F C</td><td>5200.13</td><td>1537.45</td></tr><tr><td>357</td><td>CG Power & Indu.</td><td>5151.85</td><td>1516.08</td></tr><tr><td>358</td><td>Westlife Develop</td><td>5145.88</td><td>305.19</td></tr><tr><td>359</td><td>K P R Mill Ltd</td><td>5145.36</td><td>714.51</td></tr><tr><td>360</td><td>Tube Investments</td><td>5139.43</td><td>1274.21</td></tr><tr><td>361</td><td>Bajaj Electrical</td><td>5127.38</td><td>1145.13</td></tr><tr><td>362</td><td>VST Inds.</td><td>5109.25</td><td>238.97</td></tr><tr><td>363</td><td>BEML Ltd</td><td>5089.87</td><td>731.51</td></tr><tr><td>364</td><td>FDC</td><td>5084.19</td><td>248.77</td></tr><tr><td>365</td><td>DCB Bank</td><td>5080.5</td><td>610.78</td></tr><tr><td>366</td><td>Star Cement</td><td>5072.67</td><td>377.43</td></tr><tr><td>367</td><td>Netwrk.18 Media</td><td>5067.23</td><td>366.02</td></tr><tr><td>368</td><td>Gulf Oil Lubric.</td><td>5020.44</td><td>355.95</td></tr><tr><td>369</td><td>UCO Bank</td><td>5012.59</td><td>3449.55</td></tr><tr><td>370</td><td>Jagran Prakashan</td><td>4995.05</td><td>598.07</td></tr><tr><td>371</td><td>Elgi Equipment</td><td>4954.08</td><td>415.42</td></tr><tr><td>372</td><td>JK Lakshmi Cem.</td><td>4931.55</td><td>837.41</td></tr><tr><td>373</td><td>Zydus Wellness</td><td>4921.45</td><td>132.4</td></tr><tr><td>374</td><td>Equitas Holdings</td><td>4886.09</td><td>429.86</td></tr><tr><td>375</td><td>India Cements</td><td>4885.75</td><td>1213.08</td></tr><tr><td>376</td><td>Dishman Pharma.</td><td>4861.2</td><td>534.22</td></tr><tr><td>377</td><td>South Ind.Bank</td><td>4856.71</td><td>1576.96</td></tr><tr><td>378</td><td>Polaris Consulta</td><td>4830.44</td><td>680.07</td></tr><tr><td>379</td><td>V I P Inds.</td><td>4819.63</td><td>337.99</td></tr><tr><td>380</td><td>APL Apollo</td><td>4775.03</td><td>1314.38</td></tr><tr><td>381</td><td>Sadbhav Infra.</td><td>4735.67</td><td>624.37</td></tr><tr><td>382</td><td>Jindal Stain.</td><td>4726.91</td><td>2988.86</td></tr><tr><td>383</td><td>Swan Energy</td><td>4721.49</td><td>0.0</td></tr><tr><td>384</td><td>NIIT Tech.</td><td>4658.2</td><td>756.5</td></tr><tr><td>385</td><td>Caplin Point Lab</td><td>4600.73</td><td>141.61</td></tr><tr><td>386</td><td>Indian Energy Ex</td><td>4595.7</td><td>64.75</td></tr><tr><td>387</td><td>Shoppers St.</td><td>4558.06</td><td>0.0</td></tr><tr><td>388</td><td>Godfrey Phillips</td><td>4512.29</td><td>581.94</td></tr><tr><td>389</td><td>Jindal Stain .Hi</td><td>4498.09</td><td>2438.58</td></tr><tr><td>390</td><td>R C F</td><td>4493.52</td><td>1985.06</td></tr><tr><td>391</td><td>Rallis India</td><td>4493.2</td><td>390.16</td></tr><tr><td>392</td><td>Stand.Chart.PLC</td><td>4487.31</td><td>0.0</td></tr><tr><td>393</td><td>G M D C</td><td>4456.77</td><td>506.06</td></tr><tr><td>394</td><td>Manpasand Bever.</td><td>4406.8</td><td>143.13</td></tr><tr><td>395</td><td>Tata Inv.Corpn.</td><td>4401.66</td><td>47.02</td></tr><tr><td>396</td><td>Essel Propack</td><td>4371.24</td><td>595.05</td></tr><tr><td>397</td><td>Allcargo Logist.</td><td>4369.69</td><td>1479.91</td></tr><tr><td>398</td><td>Radico Khaitan</td><td>4358.48</td><td>482.52</td></tr><tr><td>399</td><td>Cera Sanitary.</td><td>4356.9</td><td>290.88</td></tr><tr><td>401</td><td>Forbes & Co</td><td>4331.82</td><td>63.93</td></tr><tr><td>402</td><td>S B T</td><td>4328.47</td><td>2365.94</td></tr><tr><td>403</td><td>KNR Construct.</td><td>4325.39</td><td>433.19</td></tr><tr><td>404</td><td>PNC Infratech</td><td>4307.29</td><td>472.48</td></tr><tr><td>405</td><td>Greenply Inds.</td><td>4295.02</td><td>399.29</td></tr><tr><td>406</td><td>Ujjivan Fin.Ser.</td><td>4293.42</td><td>0.0</td></tr><tr><td>407</td><td>Monsanto India</td><td>4291.43</td><td>183.74</td></tr><tr><td>408</td><td>Vinati Organics</td><td>4279.07</td><td>185.65</td></tr><tr><td>409</td><td>Jindal Saw</td><td>4278.31</td><td>0.0</td></tr><tr><td>410</td><td>Lux Industries</td><td>4269.78</td><td>297.43</td></tr><tr><td>411</td><td>Linde India</td><td>4198.33</td><td>0.0</td></tr><tr><td>412</td><td>Ratnamani Metals</td><td>4194.31</td><td>535.6</td></tr><tr><td>413</td><td>Cox & Kings</td><td>4179.29</td><td>1356.07</td></tr><tr><td>414</td><td>Omaxe</td><td>4168.29</td><td>506.82</td></tr><tr><td>415</td><td>Ashoka Buildcon</td><td>4166.87</td><td>729.22</td></tr><tr><td>416</td><td>Time Technoplast</td><td>4156.58</td><td>754.7</td></tr><tr><td>417</td><td>Phillips Carbon</td><td>4149.67</td><td>612.4</td></tr><tr><td>418</td><td>Allahabad Bank</td><td>4137.11</td><td>4243.83</td></tr><tr><td>419</td><td>Welspun Corp</td><td>4103.05</td><td>2304.16</td></tr><tr><td>420</td><td>NESCO</td><td>4093.02</td><td>80.62</td></tr><tr><td>421</td><td>CARE Ratings</td><td>4090.69</td><td>74.82</td></tr><tr><td>422</td><td>JP Associates</td><td>4074.37</td><td>0.0</td></tr><tr><td>423</td><td>Andhra Bank</td><td>4067.25</td><td>4549.26</td></tr><tr><td>424</td><td>Zensar Tech.</td><td>4066.42</td><td>793.76</td></tr><tr><td>425</td><td>S H Kelkar & Co.</td><td>4057.34</td><td>283.12</td></tr><tr><td>426</td><td>Mahindra Holiday</td><td>4030.35</td><td>267.54</td></tr><tr><td>427</td><td>Sintex Plastics</td><td>4022.02</td><td>1332.73</td></tr><tr><td>428</td><td>SREI Infra. Fin.</td><td>4009.63</td><td>1405.19</td></tr><tr><td>429</td><td>Techno Elec.</td><td>3975.44</td><td>275.64</td></tr><tr><td>430</td><td>Minda Corp</td><td>3974.83</td><td>636.2</td></tr><tr><td>431</td><td>HMT</td><td>3973.5</td><td>0.0</td></tr><tr><td>432</td><td>KPIT Tech.</td><td>3927.26</td><td>912.77</td></tr><tr><td>433</td><td>Triveni Turbine</td><td>3910.17</td><td>165.59</td></tr><tr><td>434</td><td>Shankara Build.</td><td>3901.07</td><td>624.62</td></tr><tr><td>435</td><td>Multi Comm. Exc.</td><td>3847.19</td><td>60.97</td></tr><tr><td>436</td><td>Brigade Enterpr.</td><td>3846.15</td><td>423.91</td></tr><tr><td>437</td><td>Gayatri Projects</td><td>3835.73</td><td>0.0</td></tr><tr><td>438</td><td>Magma Fincorp</td><td>3826.83</td><td>580.58</td></tr><tr><td>439</td><td>VRL Logistics</td><td>3824.69</td><td>489.34</td></tr><tr><td>440</td><td>ICRA</td><td>3809.0</td><td>82.87</td></tr><tr><td>441</td><td>Shriram Pistons</td><td>3804.58</td><td>430.8</td></tr><tr><td>442</td><td>IFCI</td><td>3789.45</td><td>626.8</td></tr><tr><td>443</td><td>Suprajit Engg.</td><td>3777.26</td><td>366.29</td></tr><tr><td>444</td><td>J & K Bank</td><td>3775.5</td><td>1682.97</td></tr><tr><td>445</td><td>Navin Fluo.Intl.</td><td>3769.26</td><td>221.45</td></tr><tr><td>446</td><td>Karnataka Bank</td><td>3765.74</td><td>1332.24</td></tr><tr><td>447</td><td>Shilpa Medicare</td><td>3764.1</td><td>185.53</td></tr><tr><td>448</td><td>Kushal</td><td>3761.86</td><td>578.18</td></tr><tr><td>449</td><td>Venky's (India)</td><td>3760.61</td><td>695.85</td></tr><tr><td>451</td><td>CCL Products</td><td>3748.73</td><td>273.99</td></tr><tr><td>452</td><td>Excel Crop Care</td><td>3734.06</td><td>258.65</td></tr><tr><td>453</td><td>Trident</td><td>3722.6</td><td>1137.17</td></tr><tr><td>454</td><td>Corporation Bank</td><td>3716.46</td><td>4387.85</td></tr><tr><td>455</td><td>Rane Holdings</td><td>3711.8</td><td>593.74</td></tr><tr><td>456</td><td>Team Lease Serv.</td><td>3677.34</td><td>918.06</td></tr><tr><td>457</td><td>Oriental Bank</td><td>3674.6</td><td>4262.08</td></tr><tr><td>458</td><td>I T D C</td><td>3619.04</td><td>102.14</td></tr><tr><td>459</td><td>JP Power Ven.</td><td>3597.6</td><td>0.0</td></tr><tr><td>460</td><td>S C I</td><td>3582.0</td><td>879.56</td></tr><tr><td>461</td><td>JK Tyre & Indust</td><td>3577.98</td><td>2123.24</td></tr><tr><td>462</td><td>Deepak Nitrite</td><td>3531.9</td><td>371.14</td></tr><tr><td>463</td><td>Heidelberg Cem.</td><td>3531.77</td><td>491.23</td></tr><tr><td>464</td><td>Amber Enterp.</td><td>3529.87</td><td>0.0</td></tr><tr><td>465</td><td>Sharda Cropchem</td><td>3528.07</td><td>325.46</td></tr><tr><td>466</td><td>Dixon Technolog.</td><td>3526.8</td><td>677.8</td></tr><tr><td>467</td><td>Himatsing. Seide</td><td>3511.08</td><td>595.61</td></tr><tr><td>468</td><td>La Opala RG</td><td>3510.93</td><td>69.77</td></tr><tr><td>469</td><td>H F C L</td><td>3482.71</td><td>714.42</td></tr><tr><td>470</td><td>Reliance Home</td><td>3470.6</td><td>403.0</td></tr><tr><td>471</td><td>Rupa & Co</td><td>3460.91</td><td>277.96</td></tr><tr><td>472</td><td>Hind.Construct.</td><td>3452.57</td><td>0.0</td></tr><tr><td>473</td><td>Ent.Network</td><td>3380.99</td><td>148.42</td></tr><tr><td>474</td><td>Supreme Petroch.</td><td>3377.57</td><td>725.02</td></tr><tr><td>475</td><td>MAS FINANC SER</td><td>3376.2</td><td>112.05</td></tr><tr><td>476</td><td>Thyrocare Tech.</td><td>3374.38</td><td>77.84</td></tr><tr><td>477</td><td>Prakash Inds.</td><td>3336.05</td><td>725.97</td></tr><tr><td>478</td><td>Repco Home Fin</td><td>3331.08</td><td>277.48</td></tr><tr><td>479</td><td>Sonata Software</td><td>3329.58</td><td>766.75</td></tr><tr><td>480</td><td>Central Dep. Ser</td><td>3316.31</td><td>47.24</td></tr><tr><td>481</td><td>Puravankara</td><td>3274.9</td><td>440.09</td></tr><tr><td>482</td><td>Tejas Networks</td><td>3209.89</td><td>229.87</td></tr><tr><td>483</td><td>ITD Cem</td><td>3192.67</td><td>472.98</td></tr><tr><td>484</td><td>Hathway Cable</td><td>3189.1</td><td>138.65</td></tr><tr><td>485</td><td>Dhanuka Agritech</td><td>3188.62</td><td>221.51</td></tr><tr><td>486</td><td>Mahindra Logis.</td><td>3187.51</td><td>835.06</td></tr><tr><td>487</td><td>Heritage Foods</td><td>3185.45</td><td>581.74</td></tr><tr><td>488</td><td>Mah. Seamless</td><td>3164.73</td><td>563.66</td></tr><tr><td>489</td><td>Navneet Educat.</td><td>3148.36</td><td>174.41</td></tr><tr><td>490</td><td>Firstsour.Solu.</td><td>3139.94</td><td>887.24</td></tr><tr><td>491</td><td>Kaveri Seed Co.</td><td>3125.83</td><td>70.64</td></tr><tr><td>492</td><td>Star Ferro Cem.</td><td>3115.98</td><td>393.49</td></tr><tr><td>493</td><td>Deepak Fert.</td><td>3079.06</td><td>1644.92</td></tr><tr><td>494</td><td>Va Tech Wabag</td><td>3041.93</td><td>460.89</td></tr><tr><td>495</td><td>Prime Focus</td><td>3031.5</td><td>609.61</td></tr><tr><td>496</td><td>Lak. Vilas Bank</td><td>3029.57</td><td>790.17</td></tr><tr><td>497</td><td>NOCIL</td><td>3026.26</td><td>249.27</td></tr><tr><td>498</td><td>Orient Cement</td><td>3024.32</td><td>511.53</td></tr><tr><td>499</td><td>Natl.Fertilizer</td><td>3017.07</td><td>2840.75</td></tr></tbody></table></div>"
      ]
     },
     "metadata": {
      "application/vnd.databricks.v1+output": {
       "addedWidgets": {},
       "aggData": [],
       "aggError": "",
       "aggOverflow": false,
       "aggSchema": [],
       "aggSeriesLimitReached": false,
       "aggType": "",
       "arguments": {},
       "columnCustomDisplayInfos": {},
       "data": [
        [
         1,
         "Reliance Inds.",
         583436.72,
         99810.0
        ],
        [
         2,
         "TCS",
         563709.84,
         30904.0
        ],
        [
         3,
         "HDFC Bank",
         482953.59,
         20581.27
        ],
        [
         4,
         "ITC",
         320985.27,
         9772.02
        ],
        [
         5,
         "H D F C",
         289497.37,
         16840.51
        ],
        [
         6,
         "Hind. Unilever",
         288265.26,
         8590.0
        ],
        [
         7,
         "Maruti Suzuki",
         263493.81,
         19283.2
        ],
        [
         8,
         "Infosys",
         248320.35,
         17794.0
        ],
        [
         9,
         "O N G C",
         239981.5,
         22995.88
        ],
        [
         10,
         "St Bk of India",
         232763.33,
         57014.08
        ],
        [
         11,
         "ICICI Bank",
         203802.35,
         13665.35
        ],
        [
         12,
         "Kotak Mah. Bank",
         199253.77,
         6390.71
        ],
        [
         13,
         "Coal India",
         192677.98,
         21643.28
        ],
        [
         14,
         "Larsen & Toubro",
         180860.74,
         28747.45
        ],
        [
         15,
         "I O C L",
         178017.48,
         110666.93
        ],
        [
         16,
         "Bharti Airtel",
         167131.29,
         20318.6
        ],
        [
         17,
         "Axis Bank",
         136380.76,
         11721.55
        ],
        [
         18,
         "NTPC",
         135390.53,
         20774.37
        ],
        [
         19,
         "Sun Pharma.Inds.",
         134241.36,
         6653.23
        ],
        [
         20,
         "Hind.Zinc",
         133266.56,
         5922.0
        ],
        [
         21,
         "Wipro",
         131840.57,
         13669.0
        ],
        [
         22,
         "HCL Technologies",
         126335.27,
         12809.0
        ],
        [
         23,
         "Vedanta",
         122184.17,
         24361.0
        ],
        [
         24,
         "Tata Motors",
         117071.87,
         74156.07
        ],
        [
         25,
         "UltraTech Cem.",
         113692.87,
         8019.24
        ],
        [
         26,
         "Asian Paints",
         108044.04,
         4260.52
        ],
        [
         27,
         "Power Grid Corpn",
         102016.01,
         7506.95
        ],
        [
         28,
         "B P C L",
         98278.0,
         60616.36
        ],
        [
         29,
         "IndusInd Bank",
         97379.96,
         4286.78
        ],
        [
         30,
         "Bajaj Fin.",
         94476.77,
         3540.63
        ],
        [
         31,
         "Bajaj Auto",
         88252.6,
         6369.34
        ],
        [
         32,
         "M & M",
         88142.35,
         11577.78
        ],
        [
         33,
         "HDFC Stand. Life",
         87358.23,
         9734.9
        ],
        [
         34,
         "Adani Ports",
         81781.89,
         2688.85
        ],
        [
         35,
         "Bajaj Finserv",
         79795.11,
         7665.4
        ],
        [
         36,
         "GAIL (India)",
         78670.97,
         14414.34
        ],
        [
         37,
         "Avenue Super.",
         74066.35,
         4094.82
        ],
        [
         38,
         "Titan Company",
         73886.0,
         4274.84
        ],
        [
         39,
         "JSW Steel",
         73870.26,
         17861.0
        ],
        [
         40,
         "Grasim Inds",
         73532.62,
         15291.42
        ],
        [
         41,
         "Tata Steel",
         73376.14,
         32464.14
        ],
        [
         42,
         "Eicher Motors",
         73311.41,
         2269.01
        ],
        [
         43,
         "Nestle India",
         73015.49,
         2601.46
        ],
        [
         44,
         "Godrej Consumer",
         71859.82,
         2630.3
        ],
        [
         45,
         "Yes Bank",
         71028.13,
         5070.3
        ],
        [
         46,
         "Hero Motocorp",
         69448.66,
         7305.49
        ],
        [
         47,
         "Motherson Sumi",
         68590.33,
         14397.85
        ],
        [
         48,
         "SBI Life Insuran",
         67465.0,
         9569.97
        ],
        [
         49,
         "General Insuranc",
         66316.32,
         8557.68
        ],
        [
         51,
         "Dabur India",
         60015.0,
         1966.44
        ],
        [
         52,
         "Bosch",
         59204.28,
         3071.92
        ],
        [
         53,
         "Shree Cement",
         58987.08,
         2296.23
        ],
        [
         54,
         "New India Assura",
         58108.48,
         5074.02
        ],
        [
         55,
         "H P C L",
         58034.78,
         57474.25
        ],
        [
         56,
         "ICICI Pru Life",
         57748.98,
         13555.32
        ],
        [
         57,
         "Britannia Inds.",
         56837.2,
         2567.48
        ],
        [
         58,
         "Tech Mahindra",
         56244.26,
         7775.96
        ],
        [
         59,
         "Hindalco Inds.",
         55854.68,
         11022.81
        ],
        [
         60,
         "Zee Entertainmen",
         54817.89,
         1838.07
        ],
        [
         61,
         "Cairn India",
         53528.57,
         2149.36
        ],
        [
         62,
         "Indiabulls Hous.",
         52781.67,
         3115.89
        ],
        [
         63,
         "Ambuja Cem.",
         52361.46,
         6170.71
        ],
        [
         64,
         "Interglobe Aviat",
         48621.37,
         6177.88
        ],
        [
         65,
         "Cipla",
         48577.43,
         3913.82
        ],
        [
         66,
         "Piramal Enterp.",
         47483.97,
         2858.36
        ],
        [
         67,
         "United Spirits",
         46725.05,
         2263.3
        ],
        [
         68,
         "Pidilite Inds.",
         45855.5,
         1542.9
        ],
        [
         69,
         "Siemens",
         44239.04,
         2429.5
        ],
        [
         70,
         "Cadila Health.",
         41876.19,
         3259.6
        ],
        [
         71,
         "NMDC",
         41415.33,
         2469.03
        ],
        [
         72,
         "DLF",
         40159.35,
         1693.72
        ],
        [
         73,
         "Marico",
         39813.84,
         1337.59
        ],
        [
         74,
         "Ashok Leyland",
         39047.57,
         7113.16
        ],
        [
         75,
         "Bharat Electron",
         37776.23,
         2512.82
        ],
        [
         76,
         "ICICI Lombard",
         37219.22,
         2110.99
        ],
        [
         77,
         "Lupin",
         36878.85,
         3975.62
        ],
        [
         78,
         "Petronet LNG",
         36615.0,
         7757.06
        ],
        [
         79,
         "Aditya Birla Cap",
         36215.92,
         3325.02
        ],
        [
         80,
         "Dr Reddy's Labs",
         35893.55,
         3834.1
        ],
        [
         81,
         "Sun TV Network",
         35824.26,
         683.28
        ],
        [
         82,
         "S A I L",
         35729.04,
         15323.65
        ],
        [
         83,
         "UPL",
         35349.58,
         4194.0
        ],
        [
         84,
         "Oracle Fin.Serv.",
         34620.19,
         1059.12
        ],
        [
         85,
         "Bharat Forge",
         34397.69,
         1390.55
        ],
        [
         86,
         "Biocon",
         34347.0,
         1057.9
        ],
        [
         87,
         "B H E L",
         34162.38,
         6626.35
        ],
        [
         88,
         "Aurobindo Pharma",
         33676.52,
         4336.11
        ],
        [
         89,
         "Bank of Baroda",
         33364.23,
         11303.24
        ],
        [
         90,
         "Idea Cellular",
         33047.33,
         6509.6
        ],
        [
         91,
         "A B B",
         31983.33,
         2779.4
        ],
        [
         92,
         "Havells India",
         31798.18,
         1965.77
        ],
        [
         93,
         "Container Corpn.",
         31450.56,
         1639.55
        ],
        [
         94,
         "TVS Motor Co.",
         30919.51,
         3684.95
        ],
        [
         95,
         "ACC",
         30803.68,
         3494.24
        ],
        [
         96,
         "Bajaj Holdings",
         30305.94,
         317.85
        ],
        [
         97,
         "P & G Hygiene",
         30202.12,
         704.16
        ],
        [
         98,
         "MRF",
         30030.01,
         3798.82
        ],
        [
         99,
         "Shriram Trans.",
         29327.64,
         3087.67
        ],
        [
         101,
         "L&T Fin.Holdings",
         28932.43,
         2630.17
        ],
        [
         102,
         "Punjab Natl.Bank",
         28270.22,
         12175.48
        ],
        [
         103,
         "NHPC Ltd",
         28059.24,
         1497.93
        ],
        [
         104,
         "Power Fin.Corpn.",
         27905.66,
         6194.77
        ],
        [
         105,
         "United Breweries",
         27797.69,
         1197.1
        ],
        [
         106,
         "Oil India",
         27404.15,
         2852.55
        ],
        [
         107,
         "Rural Elec.Corp.",
         27382.24,
         5498.45
        ],
        [
         108,
         "GlaxoSmith C H L",
         27340.89,
         1034.67
        ],
        [
         109,
         "M & M Fin. Serv.",
         26928.37,
         2182.45
        ],
        [
         110,
         "Divi's Lab.",
         26915.86,
         1037.88
        ],
        [
         111,
         "Kansai Nerolac",
         26409.76,
         1145.01
        ],
        [
         112,
         "Alkem Lab",
         25957.56,
         1422.52
        ],
        [
         113,
         "LIC Housing Fin.",
         25880.98,
         3738.1
        ],
        [
         114,
         "Future Retail",
         25859.25,
         4693.39
        ],
        [
         115,
         "Page Industries",
         25383.03,
         621.03
        ],
        [
         116,
         "Dalmia Bhar.",
         25288.97,
         2090.54
        ],
        [
         117,
         "IIFL Holdings",
         24788.54,
         1612.14
        ],
        [
         118,
         "L & T Infotech",
         24626.1,
         1883.8
        ],
        [
         119,
         "Aditya Bir. Nuv.",
         24592.21,
         4287.12
        ],
        [
         120,
         "Emami",
         23720.37,
         756.64
        ],
        [
         121,
         "Cummins India",
         23562.0,
         1354.67
        ],
        [
         122,
         "Berger Paints",
         23537.8,
         1338.63
        ],
        [
         123,
         "Rajesh Exports",
         23495.54,
         41304.84
        ],
        [
         126,
         "Tata Power Co.",
         23369.24,
         6949.91
        ],
        [
         127,
         "3M India",
         23101.19,
         645.77
        ],
        [
         128,
         "Jindal Steel",
         23094.39,
         6992.56
        ],
        [
         129,
         "Edelweiss.Fin.",
         22915.42,
         2069.45
        ],
        [
         130,
         "Gillette India",
         21976.74,
         407.52
        ],
        [
         131,
         "Adani Enterp.",
         21776.04,
         9938.37
        ],
        [
         132,
         "Adani Transmissi",
         21677.26,
         1782.29
        ],
        [
         133,
         "Balkrishna Inds",
         21372.18,
         1106.31
        ],
        [
         134,
         "Cholaman.Inv.&Fn",
         20832.4,
         1404.33
        ],
        [
         135,
         "Indraprastha Gas",
         20779.52,
         1183.9
        ],
        [
         136,
         "M R P L",
         20750.78,
         14100.98
        ],
        [
         137,
         "Glaxosmi. Pharma",
         20489.35,
         703.91
        ],
        [
         138,
         "PNB Housing",
         20037.85,
         1438.49
        ],
        [
         139,
         "RBL Bank",
         19748.79,
         1150.79
        ],
        [
         140,
         "Castrol India",
         18803.22,
         970.3
        ],
        [
         141,
         "Canara Bank",
         18590.66,
         10774.64
        ],
        [
         142,
         "GRUH Finance",
         18535.09,
         428.47
        ],
        [
         143,
         "KIOCL",
         18534.15,
         442.81
        ],
        [
         144,
         "Voltas",
         18453.44,
         1374.67
        ],
        [
         145,
         "Godrej Inds.",
         18298.09,
         2458.48
        ],
        [
         146,
         "Whirlpool India",
         18254.06,
         958.01
        ],
        [
         147,
         "Sundaram Finance",
         18159.85,
         677.23
        ],
        [
         148,
         "Federal Bank",
         18086.81,
         2501.2
        ],
        [
         149,
         "Tata Comm",
         17963.55,
         4114.63
        ],
        [
         151,
         "Tata Chemicals",
         17941.47,
         2573.91
        ],
        [
         152,
         "Exide Inds.",
         17930.75,
         2276.54
        ],
        [
         153,
         "IDFC Bank",
         17762.77,
         2283.72
        ],
        [
         154,
         "NBCC",
         17712.0,
         1321.5
        ],
        [
         155,
         "IDBI Bank",
         17559.35,
         5797.2
        ],
        [
         156,
         "The Ramco Cement",
         17246.58,
         1056.36
        ],
        [
         157,
         "Dewan Hsg. Fin.",
         17097.54,
         2631.6
        ],
        [
         158,
         "MphasiS",
         16728.78,
         1660.69
        ],
        [
         159,
         "Apollo Hospitals",
         16683.97,
         1896.14
        ],
        [
         160,
         "Reliance Nip.Lif",
         16655.58,
         394.0
        ],
        [
         161,
         "Tata Global",
         16589.24,
         1730.39
        ],
        [
         162,
         "Godrej Propert.",
         16545.51,
         627.03
        ],
        [
         163,
         "AU Small Finance",
         16453.67,
         464.17
        ],
        [
         164,
         "Indian Hotels",
         16150.13,
         1197.26
        ],
        [
         165,
         "Motil.Oswal.Fin.",
         16108.15,
         728.63
        ],
        [
         166,
         "H U D C O",
         16065.25,
         1064.49
        ],
        [
         167,
         "Oberoi Realty",
         16044.51,
         356.2
        ],
        [
         168,
         "Indian Bank",
         15739.16,
         4354.22
        ],
        [
         169,
         "SJVN",
         15512.35,
         436.58
        ],
        [
         170,
         "Bank of India",
         15339.87,
         9334.84
        ],
        [
         171,
         "Supreme Inds.",
         15248.94,
         1278.3
        ],
        [
         172,
         "Muthoot Finance",
         15226.72,
         1553.71
        ],
        [
         173,
         "NLC India",
         15201.61,
         1706.48
        ],
        [
         176,
         "Info Edg.(India)",
         14845.05,
         0.0
        ],
        [
         177,
         "Glenmark Pharma.",
         14785.53,
         2203.67
        ],
        [
         178,
         "Jubilant Life",
         14775.08,
         2067.76
        ],
        [
         179,
         "Crompton Gr. Con",
         14638.57,
         938.19
        ],
        [
         180,
         "Honeywell Auto",
         14526.24,
         721.48
        ],
        [
         181,
         "Natco Pharma",
         14456.9,
         562.2
        ],
        [
         182,
         "PC Jeweller",
         14334.81,
         2644.89
        ],
        [
         183,
         "Quess Corp",
         14330.19,
         1583.95
        ],
        [
         184,
         "CRISIL",
         14164.81,
         441.13
        ],
        [
         185,
         "WABCO India",
         13843.64,
         649.91
        ],
        [
         186,
         "Amara Raja Batt.",
         13774.32,
         1553.46
        ],
        [
         189,
         "Sterlite Tech.",
         13743.95,
         835.18
        ],
        [
         190,
         "AIA Engg.",
         13593.35,
         572.16
        ],
        [
         191,
         "KRBL",
         13492.55,
         783.51
        ],
        [
         192,
         "Max Financial",
         13401.76,
         0.0
        ],
        [
         193,
         "Indiabulls Vent.",
         13396.15,
         238.43
        ],
        [
         194,
         "Century Textiles",
         13369.97,
         2069.39
        ],
        [
         195,
         "Jubilant Food.",
         13178.43,
         795.17
        ],
        [
         196,
         "Bayer Crop Sci.",
         13166.76,
         479.7
        ],
        [
         197,
         "Graphite India",
         13129.9,
         933.06
        ],
        [
         198,
         "JSW Energy",
         13104.0,
         1993.2
        ],
        [
         199,
         "Central Bank",
         13046.18,
         6026.55
        ],
        [
         201,
         "CESC",
         12996.56,
         1706.0
        ],
        [
         202,
         "Shri.City Union.",
         12995.31,
         1338.09
        ],
        [
         203,
         "L&T Technology",
         12942.25,
         969.1
        ],
        [
         204,
         "Rain Industries",
         12655.17,
         3050.81
        ],
        [
         205,
         "Torrent Power",
         12599.37,
         2754.64
        ],
        [
         206,
         "Dilip Buildcon",
         12526.06,
         1942.12
        ],
        [
         207,
         "TI Financial",
         12507.91,
         886.68
        ],
        [
         208,
         "JM Financial",
         12382.64,
         837.73
        ],
        [
         209,
         "Adani Power",
         12091.5,
         4844.46
        ],
        [
         210,
         "Reliance Power",
         12033.99,
         2494.65
        ],
        [
         211,
         "Reliance Capital",
         11966.83,
         4749.0
        ],
        [
         212,
         "Syngene Intl.",
         11950.0,
         387.7
        ],
        [
         213,
         "Abbott India",
         11924.12,
         881.49
        ],
        [
         214,
         "Hatsun AgroProd.",
         11896.52,
         1012.94
        ],
        [
         215,
         "Symphony",
         11882.55,
         217.63
        ],
        [
         216,
         "Gujarat Gas",
         11759.77,
         1571.33
        ],
        [
         217,
         "Reliance Infra.",
         11737.24,
         5861.04
        ],
        [
         218,
         "Aditya Bir. Fas.",
         11718.17,
         1855.0
        ],
        [
         219,
         "Ajanta Pharma",
         11651.8,
         587.05
        ],
        [
         220,
         "P I Inds.",
         11564.22,
         537.74
        ],
        [
         221,
         "City Union Bank",
         11554.4,
         865.36
        ],
        [
         222,
         "Varun Beverages",
         11498.3,
         329.92
        ],
        [
         223,
         "Mindtree",
         11438.78,
         1377.7
        ],
        [
         224,
         "Prestige Estates",
         11353.13,
         1272.3
        ],
        [
         225,
         "Future Consumer",
         11203.15,
         784.05
        ],
        [
         226,
         "Sundram Fasten.",
         11202.53,
         848.13
        ],
        [
         227,
         "Sanofi India",
         11182.45,
         667.5
        ],
        [
         228,
         "Guj.St.Petronet",
         11064.74,
         350.18
        ],
        [
         229,
         "Godrej Agrovet",
         10918.75,
         865.77
        ],
        [
         230,
         "Finolex Cables",
         10900.75,
         656.78
        ],
        [
         231,
         "Bombay Burmah",
         10864.53,
         0.0
        ],
        [
         232,
         "SRF",
         10842.62,
         1397.06
        ],
        [
         233,
         "GE T&D India",
         10778.42,
         1438.55
        ],
        [
         234,
         "Alembic Pharma",
         10764.29,
         840.02
        ],
        [
         235,
         "SPARC",
         10755.13,
         19.42
        ],
        [
         236,
         "GMR Infra.",
         10653.44,
         2072.29
        ],
        [
         237,
         "HEG",
         10630.76,
         842.71
        ],
        [
         238,
         "Trent",
         10589.27,
         521.32
        ],
        [
         239,
         "Engineers India",
         10565.56,
         473.42
        ],
        [
         240,
         "Avanti Feeds",
         10558.13,
         706.43
        ],
        [
         241,
         "Pfizer",
         10508.48,
         456.54
        ],
        [
         242,
         "Escorts",
         10450.56,
         1205.03
        ],
        [
         243,
         "Tata Motors-DVR",
         10442.09,
         7769.67
        ],
        [
         244,
         "Blue Dart Exp.",
         10422.45,
         704.59
        ],
        [
         245,
         "Indbull.RealEst.",
         10338.4,
         2100.13
        ],
        [
         246,
         "ERIS Lifescience",
         10289.81,
         182.21
        ],
        [
         247,
         "Arvind Ltd",
         10247.7,
         2705.75
        ],
        [
         248,
         "Sundaram Clayton",
         10074.36,
         0.0
        ],
        [
         249,
         "Hexaware Tech.",
         9885.05,
         1004.83
        ],
        [
         255,
         "SKF India",
         9569.14,
         700.49
        ],
        [
         256,
         "Delta Corp",
         9531.57,
         162.17
        ],
        [
         257,
         "Union Bank (I)",
         9528.82,
         8260.47
        ],
        [
         258,
         "TV18 Broadcast",
         9463.27,
         271.13
        ],
        [
         259,
         "Minda Inds.",
         9457.04,
         1056.16
        ],
        [
         260,
         "Solar Inds.",
         9317.76,
         465.68
        ],
        [
         261,
         "Kajaria Ceramics",
         9306.54,
         661.16
        ],
        [
         262,
         "Astral Poly",
         9162.14,
         528.54
        ],
        [
         263,
         "Bata India",
         9145.38,
         674.0
        ],
        [
         264,
         "Phoenix Mills",
         9097.33,
         416.61
        ],
        [
         267,
         "BASF India",
         8778.35,
         1278.74
        ],
        [
         268,
         "DCM Shriram",
         8681.95,
         1783.73
        ],
        [
         269,
         "Infibeam Incorp.",
         8646.54,
         213.48
        ],
        [
         270,
         "Aegis Logistics",
         8613.86,
         1442.08
        ],
        [
         271,
         "Mahindra CIE",
         8587.04,
         0.0
        ],
        [
         272,
         "Jet Airways",
         8539.88,
         6086.2
        ],
        [
         273,
         "SpiceJet",
         8458.24,
         2081.95
        ],
        [
         274,
         "Thomas Cook (I)",
         8440.65,
         3005.45
        ],
        [
         275,
         "Guj Fluorochem",
         8439.77,
         968.97
        ],
        [
         276,
         "Wockhardt",
         8428.58,
         1005.3
        ],
        [
         277,
         "Akzo Nobel",
         8389.47,
         711.99
        ],
        [
         278,
         "I D F C",
         8380.86,
         2789.58
        ],
        [
         279,
         "Security & Intel",
         8247.08,
         1537.72
        ],
        [
         280,
         "Asahi India Glas",
         8183.96,
         640.38
        ],
        [
         281,
         "TTK Prestige",
         8153.33,
         457.97
        ],
        [
         282,
         "ITI",
         8124.6,
         250.97
        ],
        [
         283,
         "Karur Vysya Bank",
         8065.7,
         1422.32
        ],
        [
         284,
         "Vardhman Textile",
         8023.74,
         1647.98
        ],
        [
         285,
         "Fortis Health.",
         7966.43,
         1156.61
        ],
        [
         286,
         "Ipca Labs.",
         7943.03,
         859.21
        ],
        [
         287,
         "Sheela Foam",
         7815.74,
         532.21
        ],
        [
         288,
         "IRB Infra.Devl.",
         7812.73,
         1296.19
        ],
        [
         289,
         "Atul",
         7789.01,
         803.68
        ],
        [
         290,
         "Finolex Inds.",
         7784.17,
         722.72
        ],
        [
         291,
         "Dish TV",
         7765.91,
         740.77
        ],
        [
         292,
         "Rel. Comm.",
         7702.01,
         1144.0
        ],
        [
         293,
         "Dr Lal Pathlabs",
         7550.78,
         262.7
        ],
        [
         294,
         "OCL India",
         7453.05,
         859.24
        ],
        [
         295,
         "NCC",
         7439.01,
         2780.26
        ],
        [
         296,
         "Relaxo Footwear",
         7251.91,
         457.5
        ],
        [
         297,
         "J K Cements",
         7230.76,
         1126.11
        ],
        [
         298,
         "G N F C",
         7208.38,
         1590.89
        ],
        [
         299,
         "Cochin Shipyard",
         7154.99,
         615.04
        ],
        [
         301,
         "Birla Corpn.",
         7137.67,
         1389.32
        ],
        [
         302,
         "Future Lifestyle",
         7009.13,
         1188.97
        ],
        [
         303,
         "Century Ply.",
         6966.23,
         509.93
        ],
        [
         304,
         "Blue Star",
         6952.99,
         981.3
        ],
        [
         305,
         "Kalpataru Power",
         6950.23,
         1417.37
        ],
        [
         306,
         "Suzlon Energy",
         6942.31,
         1193.06
        ],
        [
         307,
         "Cyient",
         6921.97,
         983.3
        ],
        [
         308,
         "Hind.Copper",
         6902.14,
         440.14
        ],
        [
         309,
         "Guj Pipavav Port",
         6864.85,
         162.68
        ],
        [
         310,
         "Carborundum Uni.",
         6838.18,
         611.59
        ],
        [
         311,
         "Can Fin Homes",
         6811.5,
         392.1
        ],
        [
         312,
         "Sadbhav Engg.",
         6795.06,
         2153.34
        ],
        [
         313,
         "Advanta",
         6742.41,
         361.68
        ],
        [
         314,
         "Capital First",
         6710.63,
         987.64
        ],
        [
         315,
         "Lak. Mach. Works",
         6654.81,
         542.42
        ],
        [
         316,
         "Himadri Specialt",
         6646.41,
         500.08
        ],
        [
         317,
         "Coffee Day Enter",
         6601.62,
         965.3
        ],
        [
         318,
         "PVR",
         6591.31,
         557.25
        ],
        [
         319,
         "Chambal Fert.",
         6542.79,
         2330.1
        ],
        [
         320,
         "Vijaya Bank",
         6531.58,
         3135.23
        ],
        [
         321,
         "Welspun India",
         6520.67,
         1397.95
        ],
        [
         322,
         "CEAT",
         6476.26,
         1574.15
        ],
        [
         323,
         "Strides Shasun",
         6469.51,
         749.04
        ],
        [
         324,
         "Narayana Hrudaya",
         6379.12,
         553.84
        ],
        [
         325,
         "Jyothy Lab.",
         6324.62,
         431.21
        ],
        [
         326,
         "Johnson Con. Hit",
         6209.11,
         377.4
        ],
        [
         327,
         "Prism Cement",
         6176.23,
         0.0
        ],
        [
         328,
         "Tata Elxsi",
         6153.54,
         345.54
        ],
        [
         329,
         "Syndicate Bank",
         6086.37,
         5375.57
        ],
        [
         330,
         "D B Corp",
         6059.97,
         598.58
        ],
        [
         331,
         "Jain Irrigation",
         6019.89,
         1889.63
        ],
        [
         332,
         "Persistent Sys",
         5996.4,
         791.89
        ],
        [
         333,
         "Redington India",
         5896.54,
         11728.4
        ],
        [
         334,
         "Sunteck Realty",
         5865.04,
         201.5
        ],
        [
         335,
         "Raymond",
         5863.1,
         1484.24
        ],
        [
         336,
         "MOIL",
         5840.29,
         299.8
        ],
        [
         337,
         "Bombay Dyeing",
         5823.25,
         619.93
        ],
        [
         338,
         "GE Shipping Co",
         5802.66,
         584.42
        ],
        [
         339,
         "Grindwell Norton",
         5706.51,
         365.42
        ],
        [
         340,
         "EID Parry",
         5652.33,
         3557.94
        ],
        [
         341,
         "I O B",
         5591.02,
         4254.68
        ],
        [
         342,
         "Galaxy Surfact.",
         5567.11,
         826.95
        ],
        [
         343,
         "Laurus Labs",
         5502.94,
         473.77
        ],
        [
         344,
         "Guj Alkalies",
         5498.45,
         617.61
        ],
        [
         345,
         "GE Power",
         5497.4,
         0.0
        ],
        [
         346,
         "Timken India",
         5495.76,
         278.58
        ],
        [
         347,
         "C P C L",
         5427.82,
         8587.17
        ],
        [
         348,
         "Dishman Carbogen",
         5416.39,
         459.82
        ],
        [
         349,
         "St Bk of Bikaner",
         5402.95,
         2262.28
        ],
        [
         351,
         "MMTC",
         5300.0,
         0.0
        ],
        [
         352,
         "IFB Inds.",
         5293.53,
         531.74
        ],
        [
         353,
         "eClerx Services",
         5259.14,
         339.89
        ],
        [
         354,
         "Sobha",
         5224.11,
         691.9
        ],
        [
         355,
         "Kirloskar Oil",
         5207.77,
         684.61
        ],
        [
         356,
         "G S F C",
         5200.13,
         1537.45
        ],
        [
         357,
         "CG Power & Indu.",
         5151.85,
         1516.08
        ],
        [
         358,
         "Westlife Develop",
         5145.88,
         305.19
        ],
        [
         359,
         "K P R Mill Ltd",
         5145.36,
         714.51
        ],
        [
         360,
         "Tube Investments",
         5139.43,
         1274.21
        ],
        [
         361,
         "Bajaj Electrical",
         5127.38,
         1145.13
        ],
        [
         362,
         "VST Inds.",
         5109.25,
         238.97
        ],
        [
         363,
         "BEML Ltd",
         5089.87,
         731.51
        ],
        [
         364,
         "FDC",
         5084.19,
         248.77
        ],
        [
         365,
         "DCB Bank",
         5080.5,
         610.78
        ],
        [
         366,
         "Star Cement",
         5072.67,
         377.43
        ],
        [
         367,
         "Netwrk.18 Media",
         5067.23,
         366.02
        ],
        [
         368,
         "Gulf Oil Lubric.",
         5020.44,
         355.95
        ],
        [
         369,
         "UCO Bank",
         5012.59,
         3449.55
        ],
        [
         370,
         "Jagran Prakashan",
         4995.05,
         598.07
        ],
        [
         371,
         "Elgi Equipment",
         4954.08,
         415.42
        ],
        [
         372,
         "JK Lakshmi Cem.",
         4931.55,
         837.41
        ],
        [
         373,
         "Zydus Wellness",
         4921.45,
         132.4
        ],
        [
         374,
         "Equitas Holdings",
         4886.09,
         429.86
        ],
        [
         375,
         "India Cements",
         4885.75,
         1213.08
        ],
        [
         376,
         "Dishman Pharma.",
         4861.2,
         534.22
        ],
        [
         377,
         "South Ind.Bank",
         4856.71,
         1576.96
        ],
        [
         378,
         "Polaris Consulta",
         4830.44,
         680.07
        ],
        [
         379,
         "V I P Inds.",
         4819.63,
         337.99
        ],
        [
         380,
         "APL Apollo",
         4775.03,
         1314.38
        ],
        [
         381,
         "Sadbhav Infra.",
         4735.67,
         624.37
        ],
        [
         382,
         "Jindal Stain.",
         4726.91,
         2988.86
        ],
        [
         383,
         "Swan Energy",
         4721.49,
         0.0
        ],
        [
         384,
         "NIIT Tech.",
         4658.2,
         756.5
        ],
        [
         385,
         "Caplin Point Lab",
         4600.73,
         141.61
        ],
        [
         386,
         "Indian Energy Ex",
         4595.7,
         64.75
        ],
        [
         387,
         "Shoppers St.",
         4558.06,
         0.0
        ],
        [
         388,
         "Godfrey Phillips",
         4512.29,
         581.94
        ],
        [
         389,
         "Jindal Stain .Hi",
         4498.09,
         2438.58
        ],
        [
         390,
         "R C F",
         4493.52,
         1985.06
        ],
        [
         391,
         "Rallis India",
         4493.2,
         390.16
        ],
        [
         392,
         "Stand.Chart.PLC",
         4487.31,
         0.0
        ],
        [
         393,
         "G M D C",
         4456.77,
         506.06
        ],
        [
         394,
         "Manpasand Bever.",
         4406.8,
         143.13
        ],
        [
         395,
         "Tata Inv.Corpn.",
         4401.66,
         47.02
        ],
        [
         396,
         "Essel Propack",
         4371.24,
         595.05
        ],
        [
         397,
         "Allcargo Logist.",
         4369.69,
         1479.91
        ],
        [
         398,
         "Radico Khaitan",
         4358.48,
         482.52
        ],
        [
         399,
         "Cera Sanitary.",
         4356.9,
         290.88
        ],
        [
         401,
         "Forbes & Co",
         4331.82,
         63.93
        ],
        [
         402,
         "S B T",
         4328.47,
         2365.94
        ],
        [
         403,
         "KNR Construct.",
         4325.39,
         433.19
        ],
        [
         404,
         "PNC Infratech",
         4307.29,
         472.48
        ],
        [
         405,
         "Greenply Inds.",
         4295.02,
         399.29
        ],
        [
         406,
         "Ujjivan Fin.Ser.",
         4293.42,
         0.0
        ],
        [
         407,
         "Monsanto India",
         4291.43,
         183.74
        ],
        [
         408,
         "Vinati Organics",
         4279.07,
         185.65
        ],
        [
         409,
         "Jindal Saw",
         4278.31,
         0.0
        ],
        [
         410,
         "Lux Industries",
         4269.78,
         297.43
        ],
        [
         411,
         "Linde India",
         4198.33,
         0.0
        ],
        [
         412,
         "Ratnamani Metals",
         4194.31,
         535.6
        ],
        [
         413,
         "Cox & Kings",
         4179.29,
         1356.07
        ],
        [
         414,
         "Omaxe",
         4168.29,
         506.82
        ],
        [
         415,
         "Ashoka Buildcon",
         4166.87,
         729.22
        ],
        [
         416,
         "Time Technoplast",
         4156.58,
         754.7
        ],
        [
         417,
         "Phillips Carbon",
         4149.67,
         612.4
        ],
        [
         418,
         "Allahabad Bank",
         4137.11,
         4243.83
        ],
        [
         419,
         "Welspun Corp",
         4103.05,
         2304.16
        ],
        [
         420,
         "NESCO",
         4093.02,
         80.62
        ],
        [
         421,
         "CARE Ratings",
         4090.69,
         74.82
        ],
        [
         422,
         "JP Associates",
         4074.37,
         0.0
        ],
        [
         423,
         "Andhra Bank",
         4067.25,
         4549.26
        ],
        [
         424,
         "Zensar Tech.",
         4066.42,
         793.76
        ],
        [
         425,
         "S H Kelkar & Co.",
         4057.34,
         283.12
        ],
        [
         426,
         "Mahindra Holiday",
         4030.35,
         267.54
        ],
        [
         427,
         "Sintex Plastics",
         4022.02,
         1332.73
        ],
        [
         428,
         "SREI Infra. Fin.",
         4009.63,
         1405.19
        ],
        [
         429,
         "Techno Elec.",
         3975.44,
         275.64
        ],
        [
         430,
         "Minda Corp",
         3974.83,
         636.2
        ],
        [
         431,
         "HMT",
         3973.5,
         0.0
        ],
        [
         432,
         "KPIT Tech.",
         3927.26,
         912.77
        ],
        [
         433,
         "Triveni Turbine",
         3910.17,
         165.59
        ],
        [
         434,
         "Shankara Build.",
         3901.07,
         624.62
        ],
        [
         435,
         "Multi Comm. Exc.",
         3847.19,
         60.97
        ],
        [
         436,
         "Brigade Enterpr.",
         3846.15,
         423.91
        ],
        [
         437,
         "Gayatri Projects",
         3835.73,
         0.0
        ],
        [
         438,
         "Magma Fincorp",
         3826.83,
         580.58
        ],
        [
         439,
         "VRL Logistics",
         3824.69,
         489.34
        ],
        [
         440,
         "ICRA",
         3809.0,
         82.87
        ],
        [
         441,
         "Shriram Pistons",
         3804.58,
         430.8
        ],
        [
         442,
         "IFCI",
         3789.45,
         626.8
        ],
        [
         443,
         "Suprajit Engg.",
         3777.26,
         366.29
        ],
        [
         444,
         "J & K Bank",
         3775.5,
         1682.97
        ],
        [
         445,
         "Navin Fluo.Intl.",
         3769.26,
         221.45
        ],
        [
         446,
         "Karnataka Bank",
         3765.74,
         1332.24
        ],
        [
         447,
         "Shilpa Medicare",
         3764.1,
         185.53
        ],
        [
         448,
         "Kushal",
         3761.86,
         578.18
        ],
        [
         449,
         "Venky's (India)",
         3760.61,
         695.85
        ],
        [
         451,
         "CCL Products",
         3748.73,
         273.99
        ],
        [
         452,
         "Excel Crop Care",
         3734.06,
         258.65
        ],
        [
         453,
         "Trident",
         3722.6,
         1137.17
        ],
        [
         454,
         "Corporation Bank",
         3716.46,
         4387.85
        ],
        [
         455,
         "Rane Holdings",
         3711.8,
         593.74
        ],
        [
         456,
         "Team Lease Serv.",
         3677.34,
         918.06
        ],
        [
         457,
         "Oriental Bank",
         3674.6,
         4262.08
        ],
        [
         458,
         "I T D C",
         3619.04,
         102.14
        ],
        [
         459,
         "JP Power Ven.",
         3597.6,
         0.0
        ],
        [
         460,
         "S C I",
         3582.0,
         879.56
        ],
        [
         461,
         "JK Tyre & Indust",
         3577.98,
         2123.24
        ],
        [
         462,
         "Deepak Nitrite",
         3531.9,
         371.14
        ],
        [
         463,
         "Heidelberg Cem.",
         3531.77,
         491.23
        ],
        [
         464,
         "Amber Enterp.",
         3529.87,
         0.0
        ],
        [
         465,
         "Sharda Cropchem",
         3528.07,
         325.46
        ],
        [
         466,
         "Dixon Technolog.",
         3526.8,
         677.8
        ],
        [
         467,
         "Himatsing. Seide",
         3511.08,
         595.61
        ],
        [
         468,
         "La Opala RG",
         3510.93,
         69.77
        ],
        [
         469,
         "H F C L",
         3482.71,
         714.42
        ],
        [
         470,
         "Reliance Home",
         3470.6,
         403.0
        ],
        [
         471,
         "Rupa & Co",
         3460.91,
         277.96
        ],
        [
         472,
         "Hind.Construct.",
         3452.57,
         0.0
        ],
        [
         473,
         "Ent.Network",
         3380.99,
         148.42
        ],
        [
         474,
         "Supreme Petroch.",
         3377.57,
         725.02
        ],
        [
         475,
         "MAS FINANC SER",
         3376.2,
         112.05
        ],
        [
         476,
         "Thyrocare Tech.",
         3374.38,
         77.84
        ],
        [
         477,
         "Prakash Inds.",
         3336.05,
         725.97
        ],
        [
         478,
         "Repco Home Fin",
         3331.08,
         277.48
        ],
        [
         479,
         "Sonata Software",
         3329.58,
         766.75
        ],
        [
         480,
         "Central Dep. Ser",
         3316.31,
         47.24
        ],
        [
         481,
         "Puravankara",
         3274.9,
         440.09
        ],
        [
         482,
         "Tejas Networks",
         3209.89,
         229.87
        ],
        [
         483,
         "ITD Cem",
         3192.67,
         472.98
        ],
        [
         484,
         "Hathway Cable",
         3189.1,
         138.65
        ],
        [
         485,
         "Dhanuka Agritech",
         3188.62,
         221.51
        ],
        [
         486,
         "Mahindra Logis.",
         3187.51,
         835.06
        ],
        [
         487,
         "Heritage Foods",
         3185.45,
         581.74
        ],
        [
         488,
         "Mah. Seamless",
         3164.73,
         563.66
        ],
        [
         489,
         "Navneet Educat.",
         3148.36,
         174.41
        ],
        [
         490,
         "Firstsour.Solu.",
         3139.94,
         887.24
        ],
        [
         491,
         "Kaveri Seed Co.",
         3125.83,
         70.64
        ],
        [
         492,
         "Star Ferro Cem.",
         3115.98,
         393.49
        ],
        [
         493,
         "Deepak Fert.",
         3079.06,
         1644.92
        ],
        [
         494,
         "Va Tech Wabag",
         3041.93,
         460.89
        ],
        [
         495,
         "Prime Focus",
         3031.5,
         609.61
        ],
        [
         496,
         "Lak. Vilas Bank",
         3029.57,
         790.17
        ],
        [
         497,
         "NOCIL",
         3026.26,
         249.27
        ],
        [
         498,
         "Orient Cement",
         3024.32,
         511.53
        ],
        [
         499,
         "Natl.Fertilizer",
         3017.07,
         2840.75
        ]
       ],
       "datasetInfos": [],
       "dbfsResultPath": null,
       "isJsonSchema": true,
       "metadata": {},
       "overflow": false,
       "plotOptions": {
        "customPlotOptions": {},
        "displayType": "table",
        "pivotAggregation": null,
        "pivotColumns": null,
        "xColumns": null,
        "yColumns": null
       },
       "removedWidgets": [],
       "schema": [
        {
         "metadata": "{}",
         "name": "Sr.No",
         "type": "\"integer\""
        },
        {
         "metadata": "{}",
         "name": "Company_name",
         "type": "\"string\""
        },
        {
         "metadata": "{}",
         "name": "Market_cap",
         "type": "\"double\""
        },
        {
         "metadata": "{}",
         "name": "Sales_Qtr",
         "type": "\"double\""
        }
       ],
       "type": "table"
      }
     },
     "output_type": "display_data"
    }
   ],
   "source": [
    "df.display()"
   ]
  },
  {
   "cell_type": "markdown",
   "metadata": {
    "application/vnd.databricks.v1+cell": {
     "cellMetadata": {},
     "inputWidgets": {},
     "nuid": "14562eac-8123-4f5b-8cad-deb4a8e17b1f",
     "showTitle": false,
     "title": ""
    }
   },
   "source": [
    "Now our Data is ready for viusalisation and extraction of insights"
   ]
  },
  {
   "cell_type": "code",
   "execution_count": 0,
   "metadata": {
    "application/vnd.databricks.v1+cell": {
     "cellMetadata": {
      "byteLimit": 2048000,
      "rowLimit": 10000
     },
     "inputWidgets": {},
     "nuid": "eeee8456-30d4-4119-a8d2-3af7cd6d89cd",
     "showTitle": false,
     "title": ""
    }
   },
   "outputs": [],
   "source": [
    "# Data Insights And Visualisation"
   ]
  },
  {
   "cell_type": "code",
   "execution_count": 0,
   "metadata": {
    "application/vnd.databricks.v1+cell": {
     "cellMetadata": {
      "byteLimit": 2048000,
      "rowLimit": 10000
     },
     "inputWidgets": {},
     "nuid": "2c7eb916-79b9-4287-a8e1-014de94592fc",
     "showTitle": false,
     "title": ""
    }
   },
   "outputs": [
    {
     "output_type": "display_data",
     "data": {
      "text/html": [
       "<style scoped>\n",
       "  .table-result-container {\n",
       "    max-height: 300px;\n",
       "    overflow: auto;\n",
       "  }\n",
       "  table, th, td {\n",
       "    border: 1px solid black;\n",
       "    border-collapse: collapse;\n",
       "  }\n",
       "  th, td {\n",
       "    padding: 5px;\n",
       "  }\n",
       "  th {\n",
       "    text-align: left;\n",
       "  }\n",
       "</style><div class='table-result-container'><table class='table-result'><thead style='background-color: white'><tr><th>Sr.No</th><th>Company_name</th><th>Market_cap</th><th>Sales_Qtr</th></tr></thead><tbody><tr><td>1</td><td>Reliance Inds.</td><td>583436.72</td><td>99810.0</td></tr><tr><td>2</td><td>TCS</td><td>563709.84</td><td>30904.0</td></tr><tr><td>3</td><td>HDFC Bank</td><td>482953.59</td><td>20581.27</td></tr><tr><td>4</td><td>ITC</td><td>320985.27</td><td>9772.02</td></tr><tr><td>5</td><td>H D F C</td><td>289497.37</td><td>16840.51</td></tr><tr><td>6</td><td>Hind. Unilever</td><td>288265.26</td><td>8590.0</td></tr><tr><td>7</td><td>Maruti Suzuki</td><td>263493.81</td><td>19283.2</td></tr><tr><td>8</td><td>Infosys</td><td>248320.35</td><td>17794.0</td></tr><tr><td>9</td><td>O N G C</td><td>239981.5</td><td>22995.88</td></tr><tr><td>10</td><td>St Bk of India</td><td>232763.33</td><td>57014.08</td></tr><tr><td>11</td><td>ICICI Bank</td><td>203802.35</td><td>13665.35</td></tr><tr><td>12</td><td>Kotak Mah. Bank</td><td>199253.77</td><td>6390.71</td></tr><tr><td>13</td><td>Coal India</td><td>192677.98</td><td>21643.28</td></tr><tr><td>14</td><td>Larsen & Toubro</td><td>180860.74</td><td>28747.45</td></tr><tr><td>15</td><td>I O C L</td><td>178017.48</td><td>110666.93</td></tr><tr><td>16</td><td>Bharti Airtel</td><td>167131.29</td><td>20318.6</td></tr><tr><td>17</td><td>Axis Bank</td><td>136380.76</td><td>11721.55</td></tr><tr><td>18</td><td>NTPC</td><td>135390.53</td><td>20774.37</td></tr><tr><td>19</td><td>Sun Pharma.Inds.</td><td>134241.36</td><td>6653.23</td></tr><tr><td>20</td><td>Hind.Zinc</td><td>133266.56</td><td>5922.0</td></tr><tr><td>21</td><td>Wipro</td><td>131840.57</td><td>13669.0</td></tr><tr><td>22</td><td>HCL Technologies</td><td>126335.27</td><td>12809.0</td></tr><tr><td>23</td><td>Vedanta</td><td>122184.17</td><td>24361.0</td></tr><tr><td>24</td><td>Tata Motors</td><td>117071.87</td><td>74156.07</td></tr><tr><td>25</td><td>UltraTech Cem.</td><td>113692.87</td><td>8019.24</td></tr><tr><td>26</td><td>Asian Paints</td><td>108044.04</td><td>4260.52</td></tr><tr><td>27</td><td>Power Grid Corpn</td><td>102016.01</td><td>7506.95</td></tr><tr><td>28</td><td>B P C L</td><td>98278.0</td><td>60616.36</td></tr><tr><td>29</td><td>IndusInd Bank</td><td>97379.96</td><td>4286.78</td></tr><tr><td>30</td><td>Bajaj Fin.</td><td>94476.77</td><td>3540.63</td></tr><tr><td>31</td><td>Bajaj Auto</td><td>88252.6</td><td>6369.34</td></tr><tr><td>32</td><td>M & M</td><td>88142.35</td><td>11577.78</td></tr><tr><td>33</td><td>HDFC Stand. Life</td><td>87358.23</td><td>9734.9</td></tr><tr><td>34</td><td>Adani Ports</td><td>81781.89</td><td>2688.85</td></tr><tr><td>35</td><td>Bajaj Finserv</td><td>79795.11</td><td>7665.4</td></tr><tr><td>36</td><td>GAIL (India)</td><td>78670.97</td><td>14414.34</td></tr><tr><td>37</td><td>Avenue Super.</td><td>74066.35</td><td>4094.82</td></tr><tr><td>38</td><td>Titan Company</td><td>73886.0</td><td>4274.84</td></tr><tr><td>39</td><td>JSW Steel</td><td>73870.26</td><td>17861.0</td></tr><tr><td>40</td><td>Grasim Inds</td><td>73532.62</td><td>15291.42</td></tr><tr><td>41</td><td>Tata Steel</td><td>73376.14</td><td>32464.14</td></tr><tr><td>42</td><td>Eicher Motors</td><td>73311.41</td><td>2269.01</td></tr><tr><td>43</td><td>Nestle India</td><td>73015.49</td><td>2601.46</td></tr><tr><td>44</td><td>Godrej Consumer</td><td>71859.82</td><td>2630.3</td></tr><tr><td>45</td><td>Yes Bank</td><td>71028.13</td><td>5070.3</td></tr><tr><td>46</td><td>Hero Motocorp</td><td>69448.66</td><td>7305.49</td></tr><tr><td>47</td><td>Motherson Sumi</td><td>68590.33</td><td>14397.85</td></tr><tr><td>48</td><td>SBI Life Insuran</td><td>67465.0</td><td>9569.97</td></tr><tr><td>49</td><td>General Insuranc</td><td>66316.32</td><td>8557.68</td></tr><tr><td>50</td><td>Bharti Infra.</td><td>61776.92</td><td>null</td></tr><tr><td>51</td><td>Dabur India</td><td>60015.0</td><td>1966.44</td></tr><tr><td>52</td><td>Bosch</td><td>59204.28</td><td>3071.92</td></tr><tr><td>53</td><td>Shree Cement</td><td>58987.08</td><td>2296.23</td></tr><tr><td>54</td><td>New India Assura</td><td>58108.48</td><td>5074.02</td></tr><tr><td>55</td><td>H P C L</td><td>58034.78</td><td>57474.25</td></tr><tr><td>56</td><td>ICICI Pru Life</td><td>57748.98</td><td>13555.32</td></tr><tr><td>57</td><td>Britannia Inds.</td><td>56837.2</td><td>2567.48</td></tr><tr><td>58</td><td>Tech Mahindra</td><td>56244.26</td><td>7775.96</td></tr><tr><td>59</td><td>Hindalco Inds.</td><td>55854.68</td><td>11022.81</td></tr><tr><td>60</td><td>Zee Entertainmen</td><td>54817.89</td><td>1838.07</td></tr><tr><td>61</td><td>Cairn India</td><td>53528.57</td><td>2149.36</td></tr><tr><td>62</td><td>Indiabulls Hous.</td><td>52781.67</td><td>3115.89</td></tr><tr><td>63</td><td>Ambuja Cem.</td><td>52361.46</td><td>6170.71</td></tr><tr><td>64</td><td>Interglobe Aviat</td><td>48621.37</td><td>6177.88</td></tr><tr><td>65</td><td>Cipla</td><td>48577.43</td><td>3913.82</td></tr><tr><td>66</td><td>Piramal Enterp.</td><td>47483.97</td><td>2858.36</td></tr><tr><td>67</td><td>United Spirits</td><td>46725.05</td><td>2263.3</td></tr><tr><td>68</td><td>Pidilite Inds.</td><td>45855.5</td><td>1542.9</td></tr><tr><td>69</td><td>Siemens</td><td>44239.04</td><td>2429.5</td></tr><tr><td>70</td><td>Cadila Health.</td><td>41876.19</td><td>3259.6</td></tr><tr><td>71</td><td>NMDC</td><td>41415.33</td><td>2469.03</td></tr><tr><td>72</td><td>DLF</td><td>40159.35</td><td>1693.72</td></tr><tr><td>73</td><td>Marico</td><td>39813.84</td><td>1337.59</td></tr><tr><td>74</td><td>Ashok Leyland</td><td>39047.57</td><td>7113.16</td></tr><tr><td>75</td><td>Bharat Electron</td><td>37776.23</td><td>2512.82</td></tr><tr><td>76</td><td>ICICI Lombard</td><td>37219.22</td><td>2110.99</td></tr><tr><td>77</td><td>Lupin</td><td>36878.85</td><td>3975.62</td></tr><tr><td>78</td><td>Petronet LNG</td><td>36615.0</td><td>7757.06</td></tr><tr><td>79</td><td>Aditya Birla Cap</td><td>36215.92</td><td>3325.02</td></tr><tr><td>80</td><td>Dr Reddy's Labs</td><td>35893.55</td><td>3834.1</td></tr><tr><td>81</td><td>Sun TV Network</td><td>35824.26</td><td>683.28</td></tr><tr><td>82</td><td>S A I L</td><td>35729.04</td><td>15323.65</td></tr><tr><td>83</td><td>UPL</td><td>35349.58</td><td>4194.0</td></tr><tr><td>84</td><td>Oracle Fin.Serv.</td><td>34620.19</td><td>1059.12</td></tr><tr><td>85</td><td>Bharat Forge</td><td>34397.69</td><td>1390.55</td></tr><tr><td>86</td><td>Biocon</td><td>34347.0</td><td>1057.9</td></tr><tr><td>87</td><td>B H E L</td><td>34162.38</td><td>6626.35</td></tr><tr><td>88</td><td>Aurobindo Pharma</td><td>33676.52</td><td>4336.11</td></tr><tr><td>89</td><td>Bank of Baroda</td><td>33364.23</td><td>11303.24</td></tr><tr><td>90</td><td>Idea Cellular</td><td>33047.33</td><td>6509.6</td></tr><tr><td>91</td><td>A B B</td><td>31983.33</td><td>2779.4</td></tr><tr><td>92</td><td>Havells India</td><td>31798.18</td><td>1965.77</td></tr><tr><td>93</td><td>Container Corpn.</td><td>31450.56</td><td>1639.55</td></tr><tr><td>94</td><td>TVS Motor Co.</td><td>30919.51</td><td>3684.95</td></tr><tr><td>95</td><td>ACC</td><td>30803.68</td><td>3494.24</td></tr><tr><td>96</td><td>Bajaj Holdings</td><td>30305.94</td><td>317.85</td></tr><tr><td>97</td><td>P & G Hygiene</td><td>30202.12</td><td>704.16</td></tr><tr><td>98</td><td>MRF</td><td>30030.01</td><td>3798.82</td></tr><tr><td>99</td><td>Shriram Trans.</td><td>29327.64</td><td>3087.67</td></tr><tr><td>100</td><td>Colgate-Palm.</td><td>null</td><td>null</td></tr><tr><td>101</td><td>L&T Fin.Holdings</td><td>28932.43</td><td>2630.17</td></tr><tr><td>102</td><td>Punjab Natl.Bank</td><td>28270.22</td><td>12175.48</td></tr><tr><td>103</td><td>NHPC Ltd</td><td>28059.24</td><td>1497.93</td></tr><tr><td>104</td><td>Power Fin.Corpn.</td><td>27905.66</td><td>6194.77</td></tr><tr><td>105</td><td>United Breweries</td><td>27797.69</td><td>1197.1</td></tr><tr><td>106</td><td>Oil India</td><td>27404.15</td><td>2852.55</td></tr><tr><td>107</td><td>Rural Elec.Corp.</td><td>27382.24</td><td>5498.45</td></tr><tr><td>108</td><td>GlaxoSmith C H L</td><td>27340.89</td><td>1034.67</td></tr><tr><td>109</td><td>M & M Fin. Serv.</td><td>26928.37</td><td>2182.45</td></tr><tr><td>110</td><td>Divi's Lab.</td><td>26915.86</td><td>1037.88</td></tr><tr><td>111</td><td>Kansai Nerolac</td><td>26409.76</td><td>1145.01</td></tr><tr><td>112</td><td>Alkem Lab</td><td>25957.56</td><td>1422.52</td></tr><tr><td>113</td><td>LIC Housing Fin.</td><td>25880.98</td><td>3738.1</td></tr><tr><td>114</td><td>Future Retail</td><td>25859.25</td><td>4693.39</td></tr><tr><td>115</td><td>Page Industries</td><td>25383.03</td><td>621.03</td></tr><tr><td>116</td><td>Dalmia Bhar.</td><td>25288.97</td><td>2090.54</td></tr><tr><td>117</td><td>IIFL Holdings</td><td>24788.54</td><td>1612.14</td></tr><tr><td>118</td><td>L & T Infotech</td><td>24626.1</td><td>1883.8</td></tr><tr><td>119</td><td>Aditya Bir. Nuv.</td><td>24592.21</td><td>4287.12</td></tr><tr><td>120</td><td>Emami</td><td>23720.37</td><td>756.64</td></tr><tr><td>121</td><td>Cummins India</td><td>23562.0</td><td>1354.67</td></tr><tr><td>122</td><td>Berger Paints</td><td>23537.8</td><td>1338.63</td></tr><tr><td>123</td><td>Rajesh Exports</td><td>23495.54</td><td>41304.84</td></tr><tr><td>126</td><td>Tata Power Co.</td><td>23369.24</td><td>6949.91</td></tr><tr><td>127</td><td>3M India</td><td>23101.19</td><td>645.77</td></tr><tr><td>128</td><td>Jindal Steel</td><td>23094.39</td><td>6992.56</td></tr><tr><td>129</td><td>Edelweiss.Fin.</td><td>22915.42</td><td>2069.45</td></tr><tr><td>130</td><td>Gillette India</td><td>21976.74</td><td>407.52</td></tr><tr><td>131</td><td>Adani Enterp.</td><td>21776.04</td><td>9938.37</td></tr><tr><td>132</td><td>Adani Transmissi</td><td>21677.26</td><td>1782.29</td></tr><tr><td>133</td><td>Balkrishna Inds</td><td>21372.18</td><td>1106.31</td></tr><tr><td>134</td><td>Cholaman.Inv.&Fn</td><td>20832.4</td><td>1404.33</td></tr><tr><td>135</td><td>Indraprastha Gas</td><td>20779.52</td><td>1183.9</td></tr><tr><td>136</td><td>M R P L</td><td>20750.78</td><td>14100.98</td></tr><tr><td>137</td><td>Glaxosmi. Pharma</td><td>20489.35</td><td>703.91</td></tr><tr><td>138</td><td>PNB Housing</td><td>20037.85</td><td>1438.49</td></tr><tr><td>139</td><td>RBL Bank</td><td>19748.79</td><td>1150.79</td></tr><tr><td>140</td><td>Castrol India</td><td>18803.22</td><td>970.3</td></tr><tr><td>141</td><td>Canara Bank</td><td>18590.66</td><td>10774.64</td></tr><tr><td>142</td><td>GRUH Finance</td><td>18535.09</td><td>428.47</td></tr><tr><td>143</td><td>KIOCL</td><td>18534.15</td><td>442.81</td></tr><tr><td>144</td><td>Voltas</td><td>18453.44</td><td>1374.67</td></tr><tr><td>145</td><td>Godrej Inds.</td><td>18298.09</td><td>2458.48</td></tr><tr><td>146</td><td>Whirlpool India</td><td>18254.06</td><td>958.01</td></tr><tr><td>147</td><td>Sundaram Finance</td><td>18159.85</td><td>677.23</td></tr><tr><td>148</td><td>Federal Bank</td><td>18086.81</td><td>2501.2</td></tr><tr><td>149</td><td>Tata Comm</td><td>17963.55</td><td>4114.63</td></tr><tr><td>150</td><td>Endurance Tech.</td><td>null</td><td>null</td></tr><tr><td>151</td><td>Tata Chemicals</td><td>17941.47</td><td>2573.91</td></tr><tr><td>152</td><td>Exide Inds.</td><td>17930.75</td><td>2276.54</td></tr><tr><td>153</td><td>IDFC Bank</td><td>17762.77</td><td>2283.72</td></tr><tr><td>154</td><td>NBCC</td><td>17712.0</td><td>1321.5</td></tr><tr><td>155</td><td>IDBI Bank</td><td>17559.35</td><td>5797.2</td></tr><tr><td>156</td><td>The Ramco Cement</td><td>17246.58</td><td>1056.36</td></tr><tr><td>157</td><td>Dewan Hsg. Fin.</td><td>17097.54</td><td>2631.6</td></tr><tr><td>158</td><td>MphasiS</td><td>16728.78</td><td>1660.69</td></tr><tr><td>159</td><td>Apollo Hospitals</td><td>16683.97</td><td>1896.14</td></tr><tr><td>160</td><td>Reliance Nip.Lif</td><td>16655.58</td><td>394.0</td></tr><tr><td>161</td><td>Tata Global</td><td>16589.24</td><td>1730.39</td></tr><tr><td>162</td><td>Godrej Propert.</td><td>16545.51</td><td>627.03</td></tr><tr><td>163</td><td>AU Small Finance</td><td>16453.67</td><td>464.17</td></tr><tr><td>164</td><td>Indian Hotels</td><td>16150.13</td><td>1197.26</td></tr><tr><td>165</td><td>Motil.Oswal.Fin.</td><td>16108.15</td><td>728.63</td></tr><tr><td>166</td><td>H U D C O</td><td>16065.25</td><td>1064.49</td></tr><tr><td>167</td><td>Oberoi Realty</td><td>16044.51</td><td>356.2</td></tr><tr><td>168</td><td>Indian Bank</td><td>15739.16</td><td>4354.22</td></tr><tr><td>169</td><td>SJVN</td><td>15512.35</td><td>436.58</td></tr><tr><td>170</td><td>Bank of India</td><td>15339.87</td><td>9334.84</td></tr><tr><td>171</td><td>Supreme Inds.</td><td>15248.94</td><td>1278.3</td></tr><tr><td>172</td><td>Muthoot Finance</td><td>15226.72</td><td>1553.71</td></tr><tr><td>173</td><td>NLC India</td><td>15201.61</td><td>1706.48</td></tr><tr><td>176</td><td>Info Edg.(India)</td><td>14845.05</td><td>NaN</td></tr><tr><td>177</td><td>Glenmark Pharma.</td><td>14785.53</td><td>2203.67</td></tr><tr><td>178</td><td>Jubilant Life</td><td>14775.08</td><td>2067.76</td></tr><tr><td>179</td><td>Crompton Gr. Con</td><td>14638.57</td><td>938.19</td></tr><tr><td>180</td><td>Honeywell Auto</td><td>14526.24</td><td>721.48</td></tr><tr><td>181</td><td>Natco Pharma</td><td>14456.9</td><td>562.2</td></tr><tr><td>182</td><td>PC Jeweller</td><td>14334.81</td><td>2644.89</td></tr><tr><td>183</td><td>Quess Corp</td><td>14330.19</td><td>1583.95</td></tr><tr><td>184</td><td>CRISIL</td><td>14164.81</td><td>441.13</td></tr><tr><td>185</td><td>WABCO India</td><td>13843.64</td><td>649.91</td></tr><tr><td>186</td><td>Amara Raja Batt.</td><td>13774.32</td><td>1553.46</td></tr><tr><td>189</td><td>Sterlite Tech.</td><td>13743.95</td><td>835.18</td></tr><tr><td>190</td><td>AIA Engg.</td><td>13593.35</td><td>572.16</td></tr><tr><td>191</td><td>KRBL</td><td>13492.55</td><td>783.51</td></tr><tr><td>192</td><td>Max Financial</td><td>13401.76</td><td>NaN</td></tr><tr><td>193</td><td>Indiabulls Vent.</td><td>13396.15</td><td>238.43</td></tr><tr><td>194</td><td>Century Textiles</td><td>13369.97</td><td>2069.39</td></tr><tr><td>195</td><td>Jubilant Food.</td><td>13178.43</td><td>795.17</td></tr><tr><td>196</td><td>Bayer Crop Sci.</td><td>13166.76</td><td>479.7</td></tr><tr><td>197</td><td>Graphite India</td><td>13129.9</td><td>933.06</td></tr><tr><td>198</td><td>JSW Energy</td><td>13104.0</td><td>1993.2</td></tr><tr><td>199</td><td>Central Bank</td><td>13046.18</td><td>6026.55</td></tr><tr><td>200</td><td>Natl. Aluminium</td><td>null</td><td>null</td></tr><tr><td>201</td><td>CESC</td><td>12996.56</td><td>1706.0</td></tr><tr><td>202</td><td>Shri.City Union.</td><td>12995.31</td><td>1338.09</td></tr><tr><td>203</td><td>L&T Technology</td><td>12942.25</td><td>969.1</td></tr><tr><td>204</td><td>Rain Industries</td><td>12655.17</td><td>3050.81</td></tr><tr><td>205</td><td>Torrent Power</td><td>12599.37</td><td>2754.64</td></tr><tr><td>206</td><td>Dilip Buildcon</td><td>12526.06</td><td>1942.12</td></tr><tr><td>207</td><td>TI Financial</td><td>12507.91</td><td>886.68</td></tr><tr><td>208</td><td>JM Financial</td><td>12382.64</td><td>837.73</td></tr><tr><td>209</td><td>Adani Power</td><td>12091.5</td><td>4844.46</td></tr><tr><td>210</td><td>Reliance Power</td><td>12033.99</td><td>2494.65</td></tr><tr><td>211</td><td>Reliance Capital</td><td>11966.83</td><td>4749.0</td></tr><tr><td>212</td><td>Syngene Intl.</td><td>11950.0</td><td>387.7</td></tr><tr><td>213</td><td>Abbott India</td><td>11924.12</td><td>881.49</td></tr><tr><td>214</td><td>Hatsun AgroProd.</td><td>11896.52</td><td>1012.94</td></tr><tr><td>215</td><td>Symphony</td><td>11882.55</td><td>217.63</td></tr><tr><td>216</td><td>Gujarat Gas</td><td>11759.77</td><td>1571.33</td></tr><tr><td>217</td><td>Reliance Infra.</td><td>11737.24</td><td>5861.04</td></tr><tr><td>218</td><td>Aditya Bir. Fas.</td><td>11718.17</td><td>1855.0</td></tr><tr><td>219</td><td>Ajanta Pharma</td><td>11651.8</td><td>587.05</td></tr><tr><td>220</td><td>P I Inds.</td><td>11564.22</td><td>537.74</td></tr><tr><td>221</td><td>City Union Bank</td><td>11554.4</td><td>865.36</td></tr><tr><td>222</td><td>Varun Beverages</td><td>11498.3</td><td>329.92</td></tr><tr><td>223</td><td>Mindtree</td><td>11438.78</td><td>1377.7</td></tr><tr><td>224</td><td>Prestige Estates</td><td>11353.13</td><td>1272.3</td></tr><tr><td>225</td><td>Future Consumer</td><td>11203.15</td><td>784.05</td></tr><tr><td>226</td><td>Sundram Fasten.</td><td>11202.53</td><td>848.13</td></tr><tr><td>227</td><td>Sanofi India</td><td>11182.45</td><td>667.5</td></tr><tr><td>228</td><td>Guj.St.Petronet</td><td>11064.74</td><td>350.18</td></tr><tr><td>229</td><td>Godrej Agrovet</td><td>10918.75</td><td>865.77</td></tr><tr><td>230</td><td>Finolex Cables</td><td>10900.75</td><td>656.78</td></tr><tr><td>231</td><td>Bombay Burmah</td><td>10864.53</td><td>NaN</td></tr><tr><td>232</td><td>SRF</td><td>10842.62</td><td>1397.06</td></tr><tr><td>233</td><td>GE T&D India</td><td>10778.42</td><td>1438.55</td></tr><tr><td>234</td><td>Alembic Pharma</td><td>10764.29</td><td>840.02</td></tr><tr><td>235</td><td>SPARC</td><td>10755.13</td><td>19.42</td></tr><tr><td>236</td><td>GMR Infra.</td><td>10653.44</td><td>2072.29</td></tr><tr><td>237</td><td>HEG</td><td>10630.76</td><td>842.71</td></tr><tr><td>238</td><td>Trent</td><td>10589.27</td><td>521.32</td></tr><tr><td>239</td><td>Engineers India</td><td>10565.56</td><td>473.42</td></tr><tr><td>240</td><td>Avanti Feeds</td><td>10558.13</td><td>706.43</td></tr><tr><td>241</td><td>Pfizer</td><td>10508.48</td><td>456.54</td></tr><tr><td>242</td><td>Escorts</td><td>10450.56</td><td>1205.03</td></tr><tr><td>243</td><td>Tata Motors-DVR</td><td>10442.09</td><td>7769.67</td></tr><tr><td>244</td><td>Blue Dart Exp.</td><td>10422.45</td><td>704.59</td></tr><tr><td>245</td><td>Indbull.RealEst.</td><td>10338.4</td><td>2100.13</td></tr><tr><td>246</td><td>ERIS Lifescience</td><td>10289.81</td><td>182.21</td></tr><tr><td>247</td><td>Arvind Ltd</td><td>10247.7</td><td>2705.75</td></tr><tr><td>248</td><td>Sundaram Clayton</td><td>10074.36</td><td>NaN</td></tr><tr><td>249</td><td>Hexaware Tech.</td><td>9885.05</td><td>1004.83</td></tr><tr><td>250</td><td>Mahanagar Gas</td><td>null</td><td>null</td></tr><tr><td>255</td><td>SKF India</td><td>9569.14</td><td>700.49</td></tr><tr><td>256</td><td>Delta Corp</td><td>9531.57</td><td>162.17</td></tr><tr><td>257</td><td>Union Bank (I)</td><td>9528.82</td><td>8260.47</td></tr><tr><td>258</td><td>TV18 Broadcast</td><td>9463.27</td><td>271.13</td></tr><tr><td>259</td><td>Minda Inds.</td><td>9457.04</td><td>1056.16</td></tr><tr><td>260</td><td>Solar Inds.</td><td>9317.76</td><td>465.68</td></tr><tr><td>261</td><td>Kajaria Ceramics</td><td>9306.54</td><td>661.16</td></tr><tr><td>262</td><td>Astral Poly</td><td>9162.14</td><td>528.54</td></tr><tr><td>263</td><td>Bata India</td><td>9145.38</td><td>674.0</td></tr><tr><td>264</td><td>Phoenix Mills</td><td>9097.33</td><td>416.61</td></tr><tr><td>267</td><td>BASF India</td><td>8778.35</td><td>1278.74</td></tr><tr><td>268</td><td>DCM Shriram</td><td>8681.95</td><td>1783.73</td></tr><tr><td>269</td><td>Infibeam Incorp.</td><td>8646.54</td><td>213.48</td></tr><tr><td>270</td><td>Aegis Logistics</td><td>8613.86</td><td>1442.08</td></tr><tr><td>271</td><td>Mahindra CIE</td><td>8587.04</td><td>NaN</td></tr><tr><td>272</td><td>Jet Airways</td><td>8539.88</td><td>6086.2</td></tr><tr><td>273</td><td>SpiceJet</td><td>8458.24</td><td>2081.95</td></tr><tr><td>274</td><td>Thomas Cook (I)</td><td>8440.65</td><td>3005.45</td></tr><tr><td>275</td><td>Guj Fluorochem</td><td>8439.77</td><td>968.97</td></tr><tr><td>276</td><td>Wockhardt</td><td>8428.58</td><td>1005.3</td></tr><tr><td>277</td><td>Akzo Nobel</td><td>8389.47</td><td>711.99</td></tr><tr><td>278</td><td>I D F C</td><td>8380.86</td><td>2789.58</td></tr><tr><td>279</td><td>Security & Intel</td><td>8247.08</td><td>1537.72</td></tr><tr><td>280</td><td>Asahi India Glas</td><td>8183.96</td><td>640.38</td></tr><tr><td>281</td><td>TTK Prestige</td><td>8153.33</td><td>457.97</td></tr><tr><td>282</td><td>ITI</td><td>8124.6</td><td>250.97</td></tr><tr><td>283</td><td>Karur Vysya Bank</td><td>8065.7</td><td>1422.32</td></tr><tr><td>284</td><td>Vardhman Textile</td><td>8023.74</td><td>1647.98</td></tr><tr><td>285</td><td>Fortis Health.</td><td>7966.43</td><td>1156.61</td></tr><tr><td>286</td><td>Ipca Labs.</td><td>7943.03</td><td>859.21</td></tr><tr><td>287</td><td>Sheela Foam</td><td>7815.74</td><td>532.21</td></tr><tr><td>288</td><td>IRB Infra.Devl.</td><td>7812.73</td><td>1296.19</td></tr><tr><td>289</td><td>Atul</td><td>7789.01</td><td>803.68</td></tr><tr><td>290</td><td>Finolex Inds.</td><td>7784.17</td><td>722.72</td></tr><tr><td>291</td><td>Dish TV</td><td>7765.91</td><td>740.77</td></tr><tr><td>292</td><td>Rel. Comm.</td><td>7702.01</td><td>1144.0</td></tr><tr><td>293</td><td>Dr Lal Pathlabs</td><td>7550.78</td><td>262.7</td></tr><tr><td>294</td><td>OCL India</td><td>7453.05</td><td>859.24</td></tr><tr><td>295</td><td>NCC</td><td>7439.01</td><td>2780.26</td></tr><tr><td>296</td><td>Relaxo Footwear</td><td>7251.91</td><td>457.5</td></tr><tr><td>297</td><td>J K Cements</td><td>7230.76</td><td>1126.11</td></tr><tr><td>298</td><td>G N F C</td><td>7208.38</td><td>1590.89</td></tr><tr><td>299</td><td>Cochin Shipyard</td><td>7154.99</td><td>615.04</td></tr><tr><td>300</td><td>Bajaj Corp</td><td>null</td><td>null</td></tr><tr><td>301</td><td>Birla Corpn.</td><td>7137.67</td><td>1389.32</td></tr><tr><td>302</td><td>Future Lifestyle</td><td>7009.13</td><td>1188.97</td></tr><tr><td>303</td><td>Century Ply.</td><td>6966.23</td><td>509.93</td></tr><tr><td>304</td><td>Blue Star</td><td>6952.99</td><td>981.3</td></tr><tr><td>305</td><td>Kalpataru Power</td><td>6950.23</td><td>1417.37</td></tr><tr><td>306</td><td>Suzlon Energy</td><td>6942.31</td><td>1193.06</td></tr><tr><td>307</td><td>Cyient</td><td>6921.97</td><td>983.3</td></tr><tr><td>308</td><td>Hind.Copper</td><td>6902.14</td><td>440.14</td></tr><tr><td>309</td><td>Guj Pipavav Port</td><td>6864.85</td><td>162.68</td></tr><tr><td>310</td><td>Carborundum Uni.</td><td>6838.18</td><td>611.59</td></tr><tr><td>311</td><td>Can Fin Homes</td><td>6811.5</td><td>392.1</td></tr><tr><td>312</td><td>Sadbhav Engg.</td><td>6795.06</td><td>2153.34</td></tr><tr><td>313</td><td>Advanta</td><td>6742.41</td><td>361.68</td></tr><tr><td>314</td><td>Capital First</td><td>6710.63</td><td>987.64</td></tr><tr><td>315</td><td>Lak. Mach. Works</td><td>6654.81</td><td>542.42</td></tr><tr><td>316</td><td>Himadri Specialt</td><td>6646.41</td><td>500.08</td></tr><tr><td>317</td><td>Coffee Day Enter</td><td>6601.62</td><td>965.3</td></tr><tr><td>318</td><td>PVR</td><td>6591.31</td><td>557.25</td></tr><tr><td>319</td><td>Chambal Fert.</td><td>6542.79</td><td>2330.1</td></tr><tr><td>320</td><td>Vijaya Bank</td><td>6531.58</td><td>3135.23</td></tr><tr><td>321</td><td>Welspun India</td><td>6520.67</td><td>1397.95</td></tr><tr><td>322</td><td>CEAT</td><td>6476.26</td><td>1574.15</td></tr><tr><td>323</td><td>Strides Shasun</td><td>6469.51</td><td>749.04</td></tr><tr><td>324</td><td>Narayana Hrudaya</td><td>6379.12</td><td>553.84</td></tr><tr><td>325</td><td>Jyothy Lab.</td><td>6324.62</td><td>431.21</td></tr><tr><td>326</td><td>Johnson Con. Hit</td><td>6209.11</td><td>377.4</td></tr><tr><td>327</td><td>Prism Cement</td><td>6176.23</td><td>NaN</td></tr><tr><td>328</td><td>Tata Elxsi</td><td>6153.54</td><td>345.54</td></tr><tr><td>329</td><td>Syndicate Bank</td><td>6086.37</td><td>5375.57</td></tr><tr><td>330</td><td>D B Corp</td><td>6059.97</td><td>598.58</td></tr><tr><td>331</td><td>Jain Irrigation</td><td>6019.89</td><td>1889.63</td></tr><tr><td>332</td><td>Persistent Sys</td><td>5996.4</td><td>791.89</td></tr><tr><td>333</td><td>Redington India</td><td>5896.54</td><td>11728.4</td></tr><tr><td>334</td><td>Sunteck Realty</td><td>5865.04</td><td>201.5</td></tr><tr><td>335</td><td>Raymond</td><td>5863.1</td><td>1484.24</td></tr><tr><td>336</td><td>MOIL</td><td>5840.29</td><td>299.8</td></tr><tr><td>337</td><td>Bombay Dyeing</td><td>5823.25</td><td>619.93</td></tr><tr><td>338</td><td>GE Shipping Co</td><td>5802.66</td><td>584.42</td></tr><tr><td>339</td><td>Grindwell Norton</td><td>5706.51</td><td>365.42</td></tr><tr><td>340</td><td>EID Parry</td><td>5652.33</td><td>3557.94</td></tr><tr><td>341</td><td>I O B</td><td>5591.02</td><td>4254.68</td></tr><tr><td>342</td><td>Galaxy Surfact.</td><td>5567.11</td><td>826.95</td></tr><tr><td>343</td><td>Laurus Labs</td><td>5502.94</td><td>473.77</td></tr><tr><td>344</td><td>Guj Alkalies</td><td>5498.45</td><td>617.61</td></tr><tr><td>345</td><td>GE Power</td><td>5497.4</td><td>NaN</td></tr><tr><td>346</td><td>Timken India</td><td>5495.76</td><td>278.58</td></tr><tr><td>347</td><td>C P C L</td><td>5427.82</td><td>8587.17</td></tr><tr><td>348</td><td>Dishman Carbogen</td><td>5416.39</td><td>459.82</td></tr><tr><td>349</td><td>St Bk of Bikaner</td><td>5402.95</td><td>2262.28</td></tr><tr><td>350</td><td>ISGEC Heavy</td><td>null</td><td>null</td></tr><tr><td>351</td><td>MMTC</td><td>5300.0</td><td>NaN</td></tr><tr><td>352</td><td>IFB Inds.</td><td>5293.53</td><td>531.74</td></tr><tr><td>353</td><td>eClerx Services</td><td>5259.14</td><td>339.89</td></tr><tr><td>354</td><td>Sobha</td><td>5224.11</td><td>691.9</td></tr><tr><td>355</td><td>Kirloskar Oil</td><td>5207.77</td><td>684.61</td></tr><tr><td>356</td><td>G S F C</td><td>5200.13</td><td>1537.45</td></tr><tr><td>357</td><td>CG Power & Indu.</td><td>5151.85</td><td>1516.08</td></tr><tr><td>358</td><td>Westlife Develop</td><td>5145.88</td><td>305.19</td></tr><tr><td>359</td><td>K P R Mill Ltd</td><td>5145.36</td><td>714.51</td></tr><tr><td>360</td><td>Tube Investments</td><td>5139.43</td><td>1274.21</td></tr><tr><td>361</td><td>Bajaj Electrical</td><td>5127.38</td><td>1145.13</td></tr><tr><td>362</td><td>VST Inds.</td><td>5109.25</td><td>238.97</td></tr><tr><td>363</td><td>BEML Ltd</td><td>5089.87</td><td>731.51</td></tr><tr><td>364</td><td>FDC</td><td>5084.19</td><td>248.77</td></tr><tr><td>365</td><td>DCB Bank</td><td>5080.5</td><td>610.78</td></tr><tr><td>366</td><td>Star Cement</td><td>5072.67</td><td>377.43</td></tr><tr><td>367</td><td>Netwrk.18 Media</td><td>5067.23</td><td>366.02</td></tr><tr><td>368</td><td>Gulf Oil Lubric.</td><td>5020.44</td><td>355.95</td></tr><tr><td>369</td><td>UCO Bank</td><td>5012.59</td><td>3449.55</td></tr><tr><td>370</td><td>Jagran Prakashan</td><td>4995.05</td><td>598.07</td></tr><tr><td>371</td><td>Elgi Equipment</td><td>4954.08</td><td>415.42</td></tr><tr><td>372</td><td>JK Lakshmi Cem.</td><td>4931.55</td><td>837.41</td></tr><tr><td>373</td><td>Zydus Wellness</td><td>4921.45</td><td>132.4</td></tr><tr><td>374</td><td>Equitas Holdings</td><td>4886.09</td><td>429.86</td></tr><tr><td>375</td><td>India Cements</td><td>4885.75</td><td>1213.08</td></tr><tr><td>376</td><td>Dishman Pharma.</td><td>4861.2</td><td>534.22</td></tr><tr><td>377</td><td>South Ind.Bank</td><td>4856.71</td><td>1576.96</td></tr><tr><td>378</td><td>Polaris Consulta</td><td>4830.44</td><td>680.07</td></tr><tr><td>379</td><td>V I P Inds.</td><td>4819.63</td><td>337.99</td></tr><tr><td>380</td><td>APL Apollo</td><td>4775.03</td><td>1314.38</td></tr><tr><td>381</td><td>Sadbhav Infra.</td><td>4735.67</td><td>624.37</td></tr><tr><td>382</td><td>Jindal Stain.</td><td>4726.91</td><td>2988.86</td></tr><tr><td>383</td><td>Swan Energy</td><td>4721.49</td><td>NaN</td></tr><tr><td>384</td><td>NIIT Tech.</td><td>4658.2</td><td>756.5</td></tr><tr><td>385</td><td>Caplin Point Lab</td><td>4600.73</td><td>141.61</td></tr><tr><td>386</td><td>Indian Energy Ex</td><td>4595.7</td><td>64.75</td></tr><tr><td>387</td><td>Shoppers St.</td><td>4558.06</td><td>NaN</td></tr><tr><td>388</td><td>Godfrey Phillips</td><td>4512.29</td><td>581.94</td></tr><tr><td>389</td><td>Jindal Stain .Hi</td><td>4498.09</td><td>2438.58</td></tr><tr><td>390</td><td>R C F</td><td>4493.52</td><td>1985.06</td></tr><tr><td>391</td><td>Rallis India</td><td>4493.2</td><td>390.16</td></tr><tr><td>392</td><td>Stand.Chart.PLC</td><td>4487.31</td><td>NaN</td></tr><tr><td>393</td><td>G M D C</td><td>4456.77</td><td>506.06</td></tr><tr><td>394</td><td>Manpasand Bever.</td><td>4406.8</td><td>143.13</td></tr><tr><td>395</td><td>Tata Inv.Corpn.</td><td>4401.66</td><td>47.02</td></tr><tr><td>396</td><td>Essel Propack</td><td>4371.24</td><td>595.05</td></tr><tr><td>397</td><td>Allcargo Logist.</td><td>4369.69</td><td>1479.91</td></tr><tr><td>398</td><td>Radico Khaitan</td><td>4358.48</td><td>482.52</td></tr><tr><td>399</td><td>Cera Sanitary.</td><td>4356.9</td><td>290.88</td></tr><tr><td>400</td><td>BSE</td><td>null</td><td>null</td></tr><tr><td>401</td><td>Forbes & Co</td><td>4331.82</td><td>63.93</td></tr><tr><td>402</td><td>S B T</td><td>4328.47</td><td>2365.94</td></tr><tr><td>403</td><td>KNR Construct.</td><td>4325.39</td><td>433.19</td></tr><tr><td>404</td><td>PNC Infratech</td><td>4307.29</td><td>472.48</td></tr><tr><td>405</td><td>Greenply Inds.</td><td>4295.02</td><td>399.29</td></tr><tr><td>406</td><td>Ujjivan Fin.Ser.</td><td>4293.42</td><td>0.0</td></tr><tr><td>407</td><td>Monsanto India</td><td>4291.43</td><td>183.74</td></tr><tr><td>408</td><td>Vinati Organics</td><td>4279.07</td><td>185.65</td></tr><tr><td>409</td><td>Jindal Saw</td><td>4278.31</td><td>NaN</td></tr><tr><td>410</td><td>Lux Industries</td><td>4269.78</td><td>297.43</td></tr><tr><td>411</td><td>Linde India</td><td>4198.33</td><td>NaN</td></tr><tr><td>412</td><td>Ratnamani Metals</td><td>4194.31</td><td>535.6</td></tr><tr><td>413</td><td>Cox & Kings</td><td>4179.29</td><td>1356.07</td></tr><tr><td>414</td><td>Omaxe</td><td>4168.29</td><td>506.82</td></tr><tr><td>415</td><td>Ashoka Buildcon</td><td>4166.87</td><td>729.22</td></tr><tr><td>416</td><td>Time Technoplast</td><td>4156.58</td><td>754.7</td></tr><tr><td>417</td><td>Phillips Carbon</td><td>4149.67</td><td>612.4</td></tr><tr><td>418</td><td>Allahabad Bank</td><td>4137.11</td><td>4243.83</td></tr><tr><td>419</td><td>Welspun Corp</td><td>4103.05</td><td>2304.16</td></tr><tr><td>420</td><td>NESCO</td><td>4093.02</td><td>80.62</td></tr><tr><td>421</td><td>CARE Ratings</td><td>4090.69</td><td>74.82</td></tr><tr><td>422</td><td>JP Associates</td><td>4074.37</td><td>NaN</td></tr><tr><td>423</td><td>Andhra Bank</td><td>4067.25</td><td>4549.26</td></tr><tr><td>424</td><td>Zensar Tech.</td><td>4066.42</td><td>793.76</td></tr><tr><td>425</td><td>S H Kelkar & Co.</td><td>4057.34</td><td>283.12</td></tr><tr><td>426</td><td>Mahindra Holiday</td><td>4030.35</td><td>267.54</td></tr><tr><td>427</td><td>Sintex Plastics</td><td>4022.02</td><td>1332.73</td></tr><tr><td>428</td><td>SREI Infra. Fin.</td><td>4009.63</td><td>1405.19</td></tr><tr><td>429</td><td>Techno Elec.</td><td>3975.44</td><td>275.64</td></tr><tr><td>430</td><td>Minda Corp</td><td>3974.83</td><td>636.2</td></tr><tr><td>431</td><td>HMT</td><td>3973.5</td><td>NaN</td></tr><tr><td>432</td><td>KPIT Tech.</td><td>3927.26</td><td>912.77</td></tr><tr><td>433</td><td>Triveni Turbine</td><td>3910.17</td><td>165.59</td></tr><tr><td>434</td><td>Shankara Build.</td><td>3901.07</td><td>624.62</td></tr><tr><td>435</td><td>Multi Comm. Exc.</td><td>3847.19</td><td>60.97</td></tr><tr><td>436</td><td>Brigade Enterpr.</td><td>3846.15</td><td>423.91</td></tr><tr><td>437</td><td>Gayatri Projects</td><td>3835.73</td><td>NaN</td></tr><tr><td>438</td><td>Magma Fincorp</td><td>3826.83</td><td>580.58</td></tr><tr><td>439</td><td>VRL Logistics</td><td>3824.69</td><td>489.34</td></tr><tr><td>440</td><td>ICRA</td><td>3809.0</td><td>82.87</td></tr><tr><td>441</td><td>Shriram Pistons</td><td>3804.58</td><td>430.8</td></tr><tr><td>442</td><td>IFCI</td><td>3789.45</td><td>626.8</td></tr><tr><td>443</td><td>Suprajit Engg.</td><td>3777.26</td><td>366.29</td></tr><tr><td>444</td><td>J & K Bank</td><td>3775.5</td><td>1682.97</td></tr><tr><td>445</td><td>Navin Fluo.Intl.</td><td>3769.26</td><td>221.45</td></tr><tr><td>446</td><td>Karnataka Bank</td><td>3765.74</td><td>1332.24</td></tr><tr><td>447</td><td>Shilpa Medicare</td><td>3764.1</td><td>185.53</td></tr><tr><td>448</td><td>Kushal</td><td>3761.86</td><td>578.18</td></tr><tr><td>449</td><td>Venky's (India)</td><td>3760.61</td><td>695.85</td></tr><tr><td>450</td><td>Force Motors</td><td>null</td><td>null</td></tr><tr><td>451</td><td>CCL Products</td><td>3748.73</td><td>273.99</td></tr><tr><td>452</td><td>Excel Crop Care</td><td>3734.06</td><td>258.65</td></tr><tr><td>453</td><td>Trident</td><td>3722.6</td><td>1137.17</td></tr><tr><td>454</td><td>Corporation Bank</td><td>3716.46</td><td>4387.85</td></tr><tr><td>455</td><td>Rane Holdings</td><td>3711.8</td><td>593.74</td></tr><tr><td>456</td><td>Team Lease Serv.</td><td>3677.34</td><td>918.06</td></tr><tr><td>457</td><td>Oriental Bank</td><td>3674.6</td><td>4262.08</td></tr><tr><td>458</td><td>I T D C</td><td>3619.04</td><td>102.14</td></tr><tr><td>459</td><td>JP Power Ven.</td><td>3597.6</td><td>NaN</td></tr><tr><td>460</td><td>S C I</td><td>3582.0</td><td>879.56</td></tr><tr><td>461</td><td>JK Tyre & Indust</td><td>3577.98</td><td>2123.24</td></tr><tr><td>462</td><td>Deepak Nitrite</td><td>3531.9</td><td>371.14</td></tr><tr><td>463</td><td>Heidelberg Cem.</td><td>3531.77</td><td>491.23</td></tr><tr><td>464</td><td>Amber Enterp.</td><td>3529.87</td><td>NaN</td></tr><tr><td>465</td><td>Sharda Cropchem</td><td>3528.07</td><td>325.46</td></tr><tr><td>466</td><td>Dixon Technolog.</td><td>3526.8</td><td>677.8</td></tr><tr><td>467</td><td>Himatsing. Seide</td><td>3511.08</td><td>595.61</td></tr><tr><td>468</td><td>La Opala RG</td><td>3510.93</td><td>69.77</td></tr><tr><td>469</td><td>H F C L</td><td>3482.71</td><td>714.42</td></tr><tr><td>470</td><td>Reliance Home</td><td>3470.6</td><td>403.0</td></tr><tr><td>471</td><td>Rupa & Co</td><td>3460.91</td><td>277.96</td></tr><tr><td>472</td><td>Hind.Construct.</td><td>3452.57</td><td>NaN</td></tr><tr><td>473</td><td>Ent.Network</td><td>3380.99</td><td>148.42</td></tr><tr><td>474</td><td>Supreme Petroch.</td><td>3377.57</td><td>725.02</td></tr><tr><td>475</td><td>MAS FINANC SER</td><td>3376.2</td><td>112.05</td></tr><tr><td>476</td><td>Thyrocare Tech.</td><td>3374.38</td><td>77.84</td></tr><tr><td>477</td><td>Prakash Inds.</td><td>3336.05</td><td>725.97</td></tr><tr><td>478</td><td>Repco Home Fin</td><td>3331.08</td><td>277.48</td></tr><tr><td>479</td><td>Sonata Software</td><td>3329.58</td><td>766.75</td></tr><tr><td>480</td><td>Central Dep. Ser</td><td>3316.31</td><td>47.24</td></tr><tr><td>481</td><td>Puravankara</td><td>3274.9</td><td>440.09</td></tr><tr><td>482</td><td>Tejas Networks</td><td>3209.89</td><td>229.87</td></tr><tr><td>483</td><td>ITD Cem</td><td>3192.67</td><td>472.98</td></tr><tr><td>484</td><td>Hathway Cable</td><td>3189.1</td><td>138.65</td></tr><tr><td>485</td><td>Dhanuka Agritech</td><td>3188.62</td><td>221.51</td></tr><tr><td>486</td><td>Mahindra Logis.</td><td>3187.51</td><td>835.06</td></tr><tr><td>487</td><td>Heritage Foods</td><td>3185.45</td><td>581.74</td></tr><tr><td>488</td><td>Mah. Seamless</td><td>3164.73</td><td>563.66</td></tr><tr><td>489</td><td>Navneet Educat.</td><td>3148.36</td><td>174.41</td></tr><tr><td>490</td><td>Firstsour.Solu.</td><td>3139.94</td><td>887.24</td></tr><tr><td>491</td><td>Kaveri Seed Co.</td><td>3125.83</td><td>70.64</td></tr><tr><td>492</td><td>Star Ferro Cem.</td><td>3115.98</td><td>393.49</td></tr><tr><td>493</td><td>Deepak Fert.</td><td>3079.06</td><td>1644.92</td></tr><tr><td>494</td><td>Va Tech Wabag</td><td>3041.93</td><td>460.89</td></tr><tr><td>495</td><td>Prime Focus</td><td>3031.5</td><td>609.61</td></tr><tr><td>496</td><td>Lak. Vilas Bank</td><td>3029.57</td><td>790.17</td></tr><tr><td>497</td><td>NOCIL</td><td>3026.26</td><td>249.27</td></tr><tr><td>498</td><td>Orient Cement</td><td>3024.32</td><td>511.53</td></tr><tr><td>499</td><td>Natl.Fertilizer</td><td>3017.07</td><td>2840.75</td></tr><tr><td>500</td><td>L T Foods</td><td>null</td><td>null</td></tr></tbody></table></div>"
      ]
     },
     "metadata": {
      "application/vnd.databricks.v1+output": {
       "addedWidgets": {},
       "aggData": [],
       "aggError": "",
       "aggOverflow": false,
       "aggSchema": [],
       "aggSeriesLimitReached": false,
       "aggType": "",
       "arguments": {},
       "columnCustomDisplayInfos": {},
       "data": [
        [
         1,
         "Reliance Inds.",
         583436.72,
         99810.0
        ],
        [
         2,
         "TCS",
         563709.84,
         30904.0
        ],
        [
         3,
         "HDFC Bank",
         482953.59,
         20581.27
        ],
        [
         4,
         "ITC",
         320985.27,
         9772.02
        ],
        [
         5,
         "H D F C",
         289497.37,
         16840.51
        ],
        [
         6,
         "Hind. Unilever",
         288265.26,
         8590.0
        ],
        [
         7,
         "Maruti Suzuki",
         263493.81,
         19283.2
        ],
        [
         8,
         "Infosys",
         248320.35,
         17794.0
        ],
        [
         9,
         "O N G C",
         239981.5,
         22995.88
        ],
        [
         10,
         "St Bk of India",
         232763.33,
         57014.08
        ],
        [
         11,
         "ICICI Bank",
         203802.35,
         13665.35
        ],
        [
         12,
         "Kotak Mah. Bank",
         199253.77,
         6390.71
        ],
        [
         13,
         "Coal India",
         192677.98,
         21643.28
        ],
        [
         14,
         "Larsen & Toubro",
         180860.74,
         28747.45
        ],
        [
         15,
         "I O C L",
         178017.48,
         110666.93
        ],
        [
         16,
         "Bharti Airtel",
         167131.29,
         20318.6
        ],
        [
         17,
         "Axis Bank",
         136380.76,
         11721.55
        ],
        [
         18,
         "NTPC",
         135390.53,
         20774.37
        ],
        [
         19,
         "Sun Pharma.Inds.",
         134241.36,
         6653.23
        ],
        [
         20,
         "Hind.Zinc",
         133266.56,
         5922.0
        ],
        [
         21,
         "Wipro",
         131840.57,
         13669.0
        ],
        [
         22,
         "HCL Technologies",
         126335.27,
         12809.0
        ],
        [
         23,
         "Vedanta",
         122184.17,
         24361.0
        ],
        [
         24,
         "Tata Motors",
         117071.87,
         74156.07
        ],
        [
         25,
         "UltraTech Cem.",
         113692.87,
         8019.24
        ],
        [
         26,
         "Asian Paints",
         108044.04,
         4260.52
        ],
        [
         27,
         "Power Grid Corpn",
         102016.01,
         7506.95
        ],
        [
         28,
         "B P C L",
         98278.0,
         60616.36
        ],
        [
         29,
         "IndusInd Bank",
         97379.96,
         4286.78
        ],
        [
         30,
         "Bajaj Fin.",
         94476.77,
         3540.63
        ],
        [
         31,
         "Bajaj Auto",
         88252.6,
         6369.34
        ],
        [
         32,
         "M & M",
         88142.35,
         11577.78
        ],
        [
         33,
         "HDFC Stand. Life",
         87358.23,
         9734.9
        ],
        [
         34,
         "Adani Ports",
         81781.89,
         2688.85
        ],
        [
         35,
         "Bajaj Finserv",
         79795.11,
         7665.4
        ],
        [
         36,
         "GAIL (India)",
         78670.97,
         14414.34
        ],
        [
         37,
         "Avenue Super.",
         74066.35,
         4094.82
        ],
        [
         38,
         "Titan Company",
         73886.0,
         4274.84
        ],
        [
         39,
         "JSW Steel",
         73870.26,
         17861.0
        ],
        [
         40,
         "Grasim Inds",
         73532.62,
         15291.42
        ],
        [
         41,
         "Tata Steel",
         73376.14,
         32464.14
        ],
        [
         42,
         "Eicher Motors",
         73311.41,
         2269.01
        ],
        [
         43,
         "Nestle India",
         73015.49,
         2601.46
        ],
        [
         44,
         "Godrej Consumer",
         71859.82,
         2630.3
        ],
        [
         45,
         "Yes Bank",
         71028.13,
         5070.3
        ],
        [
         46,
         "Hero Motocorp",
         69448.66,
         7305.49
        ],
        [
         47,
         "Motherson Sumi",
         68590.33,
         14397.85
        ],
        [
         48,
         "SBI Life Insuran",
         67465.0,
         9569.97
        ],
        [
         49,
         "General Insuranc",
         66316.32,
         8557.68
        ],
        [
         50,
         "Bharti Infra.",
         61776.92,
         null
        ],
        [
         51,
         "Dabur India",
         60015.0,
         1966.44
        ],
        [
         52,
         "Bosch",
         59204.28,
         3071.92
        ],
        [
         53,
         "Shree Cement",
         58987.08,
         2296.23
        ],
        [
         54,
         "New India Assura",
         58108.48,
         5074.02
        ],
        [
         55,
         "H P C L",
         58034.78,
         57474.25
        ],
        [
         56,
         "ICICI Pru Life",
         57748.98,
         13555.32
        ],
        [
         57,
         "Britannia Inds.",
         56837.2,
         2567.48
        ],
        [
         58,
         "Tech Mahindra",
         56244.26,
         7775.96
        ],
        [
         59,
         "Hindalco Inds.",
         55854.68,
         11022.81
        ],
        [
         60,
         "Zee Entertainmen",
         54817.89,
         1838.07
        ],
        [
         61,
         "Cairn India",
         53528.57,
         2149.36
        ],
        [
         62,
         "Indiabulls Hous.",
         52781.67,
         3115.89
        ],
        [
         63,
         "Ambuja Cem.",
         52361.46,
         6170.71
        ],
        [
         64,
         "Interglobe Aviat",
         48621.37,
         6177.88
        ],
        [
         65,
         "Cipla",
         48577.43,
         3913.82
        ],
        [
         66,
         "Piramal Enterp.",
         47483.97,
         2858.36
        ],
        [
         67,
         "United Spirits",
         46725.05,
         2263.3
        ],
        [
         68,
         "Pidilite Inds.",
         45855.5,
         1542.9
        ],
        [
         69,
         "Siemens",
         44239.04,
         2429.5
        ],
        [
         70,
         "Cadila Health.",
         41876.19,
         3259.6
        ],
        [
         71,
         "NMDC",
         41415.33,
         2469.03
        ],
        [
         72,
         "DLF",
         40159.35,
         1693.72
        ],
        [
         73,
         "Marico",
         39813.84,
         1337.59
        ],
        [
         74,
         "Ashok Leyland",
         39047.57,
         7113.16
        ],
        [
         75,
         "Bharat Electron",
         37776.23,
         2512.82
        ],
        [
         76,
         "ICICI Lombard",
         37219.22,
         2110.99
        ],
        [
         77,
         "Lupin",
         36878.85,
         3975.62
        ],
        [
         78,
         "Petronet LNG",
         36615.0,
         7757.06
        ],
        [
         79,
         "Aditya Birla Cap",
         36215.92,
         3325.02
        ],
        [
         80,
         "Dr Reddy's Labs",
         35893.55,
         3834.1
        ],
        [
         81,
         "Sun TV Network",
         35824.26,
         683.28
        ],
        [
         82,
         "S A I L",
         35729.04,
         15323.65
        ],
        [
         83,
         "UPL",
         35349.58,
         4194.0
        ],
        [
         84,
         "Oracle Fin.Serv.",
         34620.19,
         1059.12
        ],
        [
         85,
         "Bharat Forge",
         34397.69,
         1390.55
        ],
        [
         86,
         "Biocon",
         34347.0,
         1057.9
        ],
        [
         87,
         "B H E L",
         34162.38,
         6626.35
        ],
        [
         88,
         "Aurobindo Pharma",
         33676.52,
         4336.11
        ],
        [
         89,
         "Bank of Baroda",
         33364.23,
         11303.24
        ],
        [
         90,
         "Idea Cellular",
         33047.33,
         6509.6
        ],
        [
         91,
         "A B B",
         31983.33,
         2779.4
        ],
        [
         92,
         "Havells India",
         31798.18,
         1965.77
        ],
        [
         93,
         "Container Corpn.",
         31450.56,
         1639.55
        ],
        [
         94,
         "TVS Motor Co.",
         30919.51,
         3684.95
        ],
        [
         95,
         "ACC",
         30803.68,
         3494.24
        ],
        [
         96,
         "Bajaj Holdings",
         30305.94,
         317.85
        ],
        [
         97,
         "P & G Hygiene",
         30202.12,
         704.16
        ],
        [
         98,
         "MRF",
         30030.01,
         3798.82
        ],
        [
         99,
         "Shriram Trans.",
         29327.64,
         3087.67
        ],
        [
         100,
         "Colgate-Palm.",
         null,
         null
        ],
        [
         101,
         "L&T Fin.Holdings",
         28932.43,
         2630.17
        ],
        [
         102,
         "Punjab Natl.Bank",
         28270.22,
         12175.48
        ],
        [
         103,
         "NHPC Ltd",
         28059.24,
         1497.93
        ],
        [
         104,
         "Power Fin.Corpn.",
         27905.66,
         6194.77
        ],
        [
         105,
         "United Breweries",
         27797.69,
         1197.1
        ],
        [
         106,
         "Oil India",
         27404.15,
         2852.55
        ],
        [
         107,
         "Rural Elec.Corp.",
         27382.24,
         5498.45
        ],
        [
         108,
         "GlaxoSmith C H L",
         27340.89,
         1034.67
        ],
        [
         109,
         "M & M Fin. Serv.",
         26928.37,
         2182.45
        ],
        [
         110,
         "Divi's Lab.",
         26915.86,
         1037.88
        ],
        [
         111,
         "Kansai Nerolac",
         26409.76,
         1145.01
        ],
        [
         112,
         "Alkem Lab",
         25957.56,
         1422.52
        ],
        [
         113,
         "LIC Housing Fin.",
         25880.98,
         3738.1
        ],
        [
         114,
         "Future Retail",
         25859.25,
         4693.39
        ],
        [
         115,
         "Page Industries",
         25383.03,
         621.03
        ],
        [
         116,
         "Dalmia Bhar.",
         25288.97,
         2090.54
        ],
        [
         117,
         "IIFL Holdings",
         24788.54,
         1612.14
        ],
        [
         118,
         "L & T Infotech",
         24626.1,
         1883.8
        ],
        [
         119,
         "Aditya Bir. Nuv.",
         24592.21,
         4287.12
        ],
        [
         120,
         "Emami",
         23720.37,
         756.64
        ],
        [
         121,
         "Cummins India",
         23562.0,
         1354.67
        ],
        [
         122,
         "Berger Paints",
         23537.8,
         1338.63
        ],
        [
         123,
         "Rajesh Exports",
         23495.54,
         41304.84
        ],
        [
         126,
         "Tata Power Co.",
         23369.24,
         6949.91
        ],
        [
         127,
         "3M India",
         23101.19,
         645.77
        ],
        [
         128,
         "Jindal Steel",
         23094.39,
         6992.56
        ],
        [
         129,
         "Edelweiss.Fin.",
         22915.42,
         2069.45
        ],
        [
         130,
         "Gillette India",
         21976.74,
         407.52
        ],
        [
         131,
         "Adani Enterp.",
         21776.04,
         9938.37
        ],
        [
         132,
         "Adani Transmissi",
         21677.26,
         1782.29
        ],
        [
         133,
         "Balkrishna Inds",
         21372.18,
         1106.31
        ],
        [
         134,
         "Cholaman.Inv.&Fn",
         20832.4,
         1404.33
        ],
        [
         135,
         "Indraprastha Gas",
         20779.52,
         1183.9
        ],
        [
         136,
         "M R P L",
         20750.78,
         14100.98
        ],
        [
         137,
         "Glaxosmi. Pharma",
         20489.35,
         703.91
        ],
        [
         138,
         "PNB Housing",
         20037.85,
         1438.49
        ],
        [
         139,
         "RBL Bank",
         19748.79,
         1150.79
        ],
        [
         140,
         "Castrol India",
         18803.22,
         970.3
        ],
        [
         141,
         "Canara Bank",
         18590.66,
         10774.64
        ],
        [
         142,
         "GRUH Finance",
         18535.09,
         428.47
        ],
        [
         143,
         "KIOCL",
         18534.15,
         442.81
        ],
        [
         144,
         "Voltas",
         18453.44,
         1374.67
        ],
        [
         145,
         "Godrej Inds.",
         18298.09,
         2458.48
        ],
        [
         146,
         "Whirlpool India",
         18254.06,
         958.01
        ],
        [
         147,
         "Sundaram Finance",
         18159.85,
         677.23
        ],
        [
         148,
         "Federal Bank",
         18086.81,
         2501.2
        ],
        [
         149,
         "Tata Comm",
         17963.55,
         4114.63
        ],
        [
         150,
         "Endurance Tech.",
         null,
         null
        ],
        [
         151,
         "Tata Chemicals",
         17941.47,
         2573.91
        ],
        [
         152,
         "Exide Inds.",
         17930.75,
         2276.54
        ],
        [
         153,
         "IDFC Bank",
         17762.77,
         2283.72
        ],
        [
         154,
         "NBCC",
         17712.0,
         1321.5
        ],
        [
         155,
         "IDBI Bank",
         17559.35,
         5797.2
        ],
        [
         156,
         "The Ramco Cement",
         17246.58,
         1056.36
        ],
        [
         157,
         "Dewan Hsg. Fin.",
         17097.54,
         2631.6
        ],
        [
         158,
         "MphasiS",
         16728.78,
         1660.69
        ],
        [
         159,
         "Apollo Hospitals",
         16683.97,
         1896.14
        ],
        [
         160,
         "Reliance Nip.Lif",
         16655.58,
         394.0
        ],
        [
         161,
         "Tata Global",
         16589.24,
         1730.39
        ],
        [
         162,
         "Godrej Propert.",
         16545.51,
         627.03
        ],
        [
         163,
         "AU Small Finance",
         16453.67,
         464.17
        ],
        [
         164,
         "Indian Hotels",
         16150.13,
         1197.26
        ],
        [
         165,
         "Motil.Oswal.Fin.",
         16108.15,
         728.63
        ],
        [
         166,
         "H U D C O",
         16065.25,
         1064.49
        ],
        [
         167,
         "Oberoi Realty",
         16044.51,
         356.2
        ],
        [
         168,
         "Indian Bank",
         15739.16,
         4354.22
        ],
        [
         169,
         "SJVN",
         15512.35,
         436.58
        ],
        [
         170,
         "Bank of India",
         15339.87,
         9334.84
        ],
        [
         171,
         "Supreme Inds.",
         15248.94,
         1278.3
        ],
        [
         172,
         "Muthoot Finance",
         15226.72,
         1553.71
        ],
        [
         173,
         "NLC India",
         15201.61,
         1706.48
        ],
        [
         176,
         "Info Edg.(India)",
         14845.05,
         "NaN"
        ],
        [
         177,
         "Glenmark Pharma.",
         14785.53,
         2203.67
        ],
        [
         178,
         "Jubilant Life",
         14775.08,
         2067.76
        ],
        [
         179,
         "Crompton Gr. Con",
         14638.57,
         938.19
        ],
        [
         180,
         "Honeywell Auto",
         14526.24,
         721.48
        ],
        [
         181,
         "Natco Pharma",
         14456.9,
         562.2
        ],
        [
         182,
         "PC Jeweller",
         14334.81,
         2644.89
        ],
        [
         183,
         "Quess Corp",
         14330.19,
         1583.95
        ],
        [
         184,
         "CRISIL",
         14164.81,
         441.13
        ],
        [
         185,
         "WABCO India",
         13843.64,
         649.91
        ],
        [
         186,
         "Amara Raja Batt.",
         13774.32,
         1553.46
        ],
        [
         189,
         "Sterlite Tech.",
         13743.95,
         835.18
        ],
        [
         190,
         "AIA Engg.",
         13593.35,
         572.16
        ],
        [
         191,
         "KRBL",
         13492.55,
         783.51
        ],
        [
         192,
         "Max Financial",
         13401.76,
         "NaN"
        ],
        [
         193,
         "Indiabulls Vent.",
         13396.15,
         238.43
        ],
        [
         194,
         "Century Textiles",
         13369.97,
         2069.39
        ],
        [
         195,
         "Jubilant Food.",
         13178.43,
         795.17
        ],
        [
         196,
         "Bayer Crop Sci.",
         13166.76,
         479.7
        ],
        [
         197,
         "Graphite India",
         13129.9,
         933.06
        ],
        [
         198,
         "JSW Energy",
         13104.0,
         1993.2
        ],
        [
         199,
         "Central Bank",
         13046.18,
         6026.55
        ],
        [
         200,
         "Natl. Aluminium",
         null,
         null
        ],
        [
         201,
         "CESC",
         12996.56,
         1706.0
        ],
        [
         202,
         "Shri.City Union.",
         12995.31,
         1338.09
        ],
        [
         203,
         "L&T Technology",
         12942.25,
         969.1
        ],
        [
         204,
         "Rain Industries",
         12655.17,
         3050.81
        ],
        [
         205,
         "Torrent Power",
         12599.37,
         2754.64
        ],
        [
         206,
         "Dilip Buildcon",
         12526.06,
         1942.12
        ],
        [
         207,
         "TI Financial",
         12507.91,
         886.68
        ],
        [
         208,
         "JM Financial",
         12382.64,
         837.73
        ],
        [
         209,
         "Adani Power",
         12091.5,
         4844.46
        ],
        [
         210,
         "Reliance Power",
         12033.99,
         2494.65
        ],
        [
         211,
         "Reliance Capital",
         11966.83,
         4749.0
        ],
        [
         212,
         "Syngene Intl.",
         11950.0,
         387.7
        ],
        [
         213,
         "Abbott India",
         11924.12,
         881.49
        ],
        [
         214,
         "Hatsun AgroProd.",
         11896.52,
         1012.94
        ],
        [
         215,
         "Symphony",
         11882.55,
         217.63
        ],
        [
         216,
         "Gujarat Gas",
         11759.77,
         1571.33
        ],
        [
         217,
         "Reliance Infra.",
         11737.24,
         5861.04
        ],
        [
         218,
         "Aditya Bir. Fas.",
         11718.17,
         1855.0
        ],
        [
         219,
         "Ajanta Pharma",
         11651.8,
         587.05
        ],
        [
         220,
         "P I Inds.",
         11564.22,
         537.74
        ],
        [
         221,
         "City Union Bank",
         11554.4,
         865.36
        ],
        [
         222,
         "Varun Beverages",
         11498.3,
         329.92
        ],
        [
         223,
         "Mindtree",
         11438.78,
         1377.7
        ],
        [
         224,
         "Prestige Estates",
         11353.13,
         1272.3
        ],
        [
         225,
         "Future Consumer",
         11203.15,
         784.05
        ],
        [
         226,
         "Sundram Fasten.",
         11202.53,
         848.13
        ],
        [
         227,
         "Sanofi India",
         11182.45,
         667.5
        ],
        [
         228,
         "Guj.St.Petronet",
         11064.74,
         350.18
        ],
        [
         229,
         "Godrej Agrovet",
         10918.75,
         865.77
        ],
        [
         230,
         "Finolex Cables",
         10900.75,
         656.78
        ],
        [
         231,
         "Bombay Burmah",
         10864.53,
         "NaN"
        ],
        [
         232,
         "SRF",
         10842.62,
         1397.06
        ],
        [
         233,
         "GE T&D India",
         10778.42,
         1438.55
        ],
        [
         234,
         "Alembic Pharma",
         10764.29,
         840.02
        ],
        [
         235,
         "SPARC",
         10755.13,
         19.42
        ],
        [
         236,
         "GMR Infra.",
         10653.44,
         2072.29
        ],
        [
         237,
         "HEG",
         10630.76,
         842.71
        ],
        [
         238,
         "Trent",
         10589.27,
         521.32
        ],
        [
         239,
         "Engineers India",
         10565.56,
         473.42
        ],
        [
         240,
         "Avanti Feeds",
         10558.13,
         706.43
        ],
        [
         241,
         "Pfizer",
         10508.48,
         456.54
        ],
        [
         242,
         "Escorts",
         10450.56,
         1205.03
        ],
        [
         243,
         "Tata Motors-DVR",
         10442.09,
         7769.67
        ],
        [
         244,
         "Blue Dart Exp.",
         10422.45,
         704.59
        ],
        [
         245,
         "Indbull.RealEst.",
         10338.4,
         2100.13
        ],
        [
         246,
         "ERIS Lifescience",
         10289.81,
         182.21
        ],
        [
         247,
         "Arvind Ltd",
         10247.7,
         2705.75
        ],
        [
         248,
         "Sundaram Clayton",
         10074.36,
         "NaN"
        ],
        [
         249,
         "Hexaware Tech.",
         9885.05,
         1004.83
        ],
        [
         250,
         "Mahanagar Gas",
         null,
         null
        ],
        [
         255,
         "SKF India",
         9569.14,
         700.49
        ],
        [
         256,
         "Delta Corp",
         9531.57,
         162.17
        ],
        [
         257,
         "Union Bank (I)",
         9528.82,
         8260.47
        ],
        [
         258,
         "TV18 Broadcast",
         9463.27,
         271.13
        ],
        [
         259,
         "Minda Inds.",
         9457.04,
         1056.16
        ],
        [
         260,
         "Solar Inds.",
         9317.76,
         465.68
        ],
        [
         261,
         "Kajaria Ceramics",
         9306.54,
         661.16
        ],
        [
         262,
         "Astral Poly",
         9162.14,
         528.54
        ],
        [
         263,
         "Bata India",
         9145.38,
         674.0
        ],
        [
         264,
         "Phoenix Mills",
         9097.33,
         416.61
        ],
        [
         267,
         "BASF India",
         8778.35,
         1278.74
        ],
        [
         268,
         "DCM Shriram",
         8681.95,
         1783.73
        ],
        [
         269,
         "Infibeam Incorp.",
         8646.54,
         213.48
        ],
        [
         270,
         "Aegis Logistics",
         8613.86,
         1442.08
        ],
        [
         271,
         "Mahindra CIE",
         8587.04,
         "NaN"
        ],
        [
         272,
         "Jet Airways",
         8539.88,
         6086.2
        ],
        [
         273,
         "SpiceJet",
         8458.24,
         2081.95
        ],
        [
         274,
         "Thomas Cook (I)",
         8440.65,
         3005.45
        ],
        [
         275,
         "Guj Fluorochem",
         8439.77,
         968.97
        ],
        [
         276,
         "Wockhardt",
         8428.58,
         1005.3
        ],
        [
         277,
         "Akzo Nobel",
         8389.47,
         711.99
        ],
        [
         278,
         "I D F C",
         8380.86,
         2789.58
        ],
        [
         279,
         "Security & Intel",
         8247.08,
         1537.72
        ],
        [
         280,
         "Asahi India Glas",
         8183.96,
         640.38
        ],
        [
         281,
         "TTK Prestige",
         8153.33,
         457.97
        ],
        [
         282,
         "ITI",
         8124.6,
         250.97
        ],
        [
         283,
         "Karur Vysya Bank",
         8065.7,
         1422.32
        ],
        [
         284,
         "Vardhman Textile",
         8023.74,
         1647.98
        ],
        [
         285,
         "Fortis Health.",
         7966.43,
         1156.61
        ],
        [
         286,
         "Ipca Labs.",
         7943.03,
         859.21
        ],
        [
         287,
         "Sheela Foam",
         7815.74,
         532.21
        ],
        [
         288,
         "IRB Infra.Devl.",
         7812.73,
         1296.19
        ],
        [
         289,
         "Atul",
         7789.01,
         803.68
        ],
        [
         290,
         "Finolex Inds.",
         7784.17,
         722.72
        ],
        [
         291,
         "Dish TV",
         7765.91,
         740.77
        ],
        [
         292,
         "Rel. Comm.",
         7702.01,
         1144.0
        ],
        [
         293,
         "Dr Lal Pathlabs",
         7550.78,
         262.7
        ],
        [
         294,
         "OCL India",
         7453.05,
         859.24
        ],
        [
         295,
         "NCC",
         7439.01,
         2780.26
        ],
        [
         296,
         "Relaxo Footwear",
         7251.91,
         457.5
        ],
        [
         297,
         "J K Cements",
         7230.76,
         1126.11
        ],
        [
         298,
         "G N F C",
         7208.38,
         1590.89
        ],
        [
         299,
         "Cochin Shipyard",
         7154.99,
         615.04
        ],
        [
         300,
         "Bajaj Corp",
         null,
         null
        ],
        [
         301,
         "Birla Corpn.",
         7137.67,
         1389.32
        ],
        [
         302,
         "Future Lifestyle",
         7009.13,
         1188.97
        ],
        [
         303,
         "Century Ply.",
         6966.23,
         509.93
        ],
        [
         304,
         "Blue Star",
         6952.99,
         981.3
        ],
        [
         305,
         "Kalpataru Power",
         6950.23,
         1417.37
        ],
        [
         306,
         "Suzlon Energy",
         6942.31,
         1193.06
        ],
        [
         307,
         "Cyient",
         6921.97,
         983.3
        ],
        [
         308,
         "Hind.Copper",
         6902.14,
         440.14
        ],
        [
         309,
         "Guj Pipavav Port",
         6864.85,
         162.68
        ],
        [
         310,
         "Carborundum Uni.",
         6838.18,
         611.59
        ],
        [
         311,
         "Can Fin Homes",
         6811.5,
         392.1
        ],
        [
         312,
         "Sadbhav Engg.",
         6795.06,
         2153.34
        ],
        [
         313,
         "Advanta",
         6742.41,
         361.68
        ],
        [
         314,
         "Capital First",
         6710.63,
         987.64
        ],
        [
         315,
         "Lak. Mach. Works",
         6654.81,
         542.42
        ],
        [
         316,
         "Himadri Specialt",
         6646.41,
         500.08
        ],
        [
         317,
         "Coffee Day Enter",
         6601.62,
         965.3
        ],
        [
         318,
         "PVR",
         6591.31,
         557.25
        ],
        [
         319,
         "Chambal Fert.",
         6542.79,
         2330.1
        ],
        [
         320,
         "Vijaya Bank",
         6531.58,
         3135.23
        ],
        [
         321,
         "Welspun India",
         6520.67,
         1397.95
        ],
        [
         322,
         "CEAT",
         6476.26,
         1574.15
        ],
        [
         323,
         "Strides Shasun",
         6469.51,
         749.04
        ],
        [
         324,
         "Narayana Hrudaya",
         6379.12,
         553.84
        ],
        [
         325,
         "Jyothy Lab.",
         6324.62,
         431.21
        ],
        [
         326,
         "Johnson Con. Hit",
         6209.11,
         377.4
        ],
        [
         327,
         "Prism Cement",
         6176.23,
         "NaN"
        ],
        [
         328,
         "Tata Elxsi",
         6153.54,
         345.54
        ],
        [
         329,
         "Syndicate Bank",
         6086.37,
         5375.57
        ],
        [
         330,
         "D B Corp",
         6059.97,
         598.58
        ],
        [
         331,
         "Jain Irrigation",
         6019.89,
         1889.63
        ],
        [
         332,
         "Persistent Sys",
         5996.4,
         791.89
        ],
        [
         333,
         "Redington India",
         5896.54,
         11728.4
        ],
        [
         334,
         "Sunteck Realty",
         5865.04,
         201.5
        ],
        [
         335,
         "Raymond",
         5863.1,
         1484.24
        ],
        [
         336,
         "MOIL",
         5840.29,
         299.8
        ],
        [
         337,
         "Bombay Dyeing",
         5823.25,
         619.93
        ],
        [
         338,
         "GE Shipping Co",
         5802.66,
         584.42
        ],
        [
         339,
         "Grindwell Norton",
         5706.51,
         365.42
        ],
        [
         340,
         "EID Parry",
         5652.33,
         3557.94
        ],
        [
         341,
         "I O B",
         5591.02,
         4254.68
        ],
        [
         342,
         "Galaxy Surfact.",
         5567.11,
         826.95
        ],
        [
         343,
         "Laurus Labs",
         5502.94,
         473.77
        ],
        [
         344,
         "Guj Alkalies",
         5498.45,
         617.61
        ],
        [
         345,
         "GE Power",
         5497.4,
         "NaN"
        ],
        [
         346,
         "Timken India",
         5495.76,
         278.58
        ],
        [
         347,
         "C P C L",
         5427.82,
         8587.17
        ],
        [
         348,
         "Dishman Carbogen",
         5416.39,
         459.82
        ],
        [
         349,
         "St Bk of Bikaner",
         5402.95,
         2262.28
        ],
        [
         350,
         "ISGEC Heavy",
         null,
         null
        ],
        [
         351,
         "MMTC",
         5300.0,
         "NaN"
        ],
        [
         352,
         "IFB Inds.",
         5293.53,
         531.74
        ],
        [
         353,
         "eClerx Services",
         5259.14,
         339.89
        ],
        [
         354,
         "Sobha",
         5224.11,
         691.9
        ],
        [
         355,
         "Kirloskar Oil",
         5207.77,
         684.61
        ],
        [
         356,
         "G S F C",
         5200.13,
         1537.45
        ],
        [
         357,
         "CG Power & Indu.",
         5151.85,
         1516.08
        ],
        [
         358,
         "Westlife Develop",
         5145.88,
         305.19
        ],
        [
         359,
         "K P R Mill Ltd",
         5145.36,
         714.51
        ],
        [
         360,
         "Tube Investments",
         5139.43,
         1274.21
        ],
        [
         361,
         "Bajaj Electrical",
         5127.38,
         1145.13
        ],
        [
         362,
         "VST Inds.",
         5109.25,
         238.97
        ],
        [
         363,
         "BEML Ltd",
         5089.87,
         731.51
        ],
        [
         364,
         "FDC",
         5084.19,
         248.77
        ],
        [
         365,
         "DCB Bank",
         5080.5,
         610.78
        ],
        [
         366,
         "Star Cement",
         5072.67,
         377.43
        ],
        [
         367,
         "Netwrk.18 Media",
         5067.23,
         366.02
        ],
        [
         368,
         "Gulf Oil Lubric.",
         5020.44,
         355.95
        ],
        [
         369,
         "UCO Bank",
         5012.59,
         3449.55
        ],
        [
         370,
         "Jagran Prakashan",
         4995.05,
         598.07
        ],
        [
         371,
         "Elgi Equipment",
         4954.08,
         415.42
        ],
        [
         372,
         "JK Lakshmi Cem.",
         4931.55,
         837.41
        ],
        [
         373,
         "Zydus Wellness",
         4921.45,
         132.4
        ],
        [
         374,
         "Equitas Holdings",
         4886.09,
         429.86
        ],
        [
         375,
         "India Cements",
         4885.75,
         1213.08
        ],
        [
         376,
         "Dishman Pharma.",
         4861.2,
         534.22
        ],
        [
         377,
         "South Ind.Bank",
         4856.71,
         1576.96
        ],
        [
         378,
         "Polaris Consulta",
         4830.44,
         680.07
        ],
        [
         379,
         "V I P Inds.",
         4819.63,
         337.99
        ],
        [
         380,
         "APL Apollo",
         4775.03,
         1314.38
        ],
        [
         381,
         "Sadbhav Infra.",
         4735.67,
         624.37
        ],
        [
         382,
         "Jindal Stain.",
         4726.91,
         2988.86
        ],
        [
         383,
         "Swan Energy",
         4721.49,
         "NaN"
        ],
        [
         384,
         "NIIT Tech.",
         4658.2,
         756.5
        ],
        [
         385,
         "Caplin Point Lab",
         4600.73,
         141.61
        ],
        [
         386,
         "Indian Energy Ex",
         4595.7,
         64.75
        ],
        [
         387,
         "Shoppers St.",
         4558.06,
         "NaN"
        ],
        [
         388,
         "Godfrey Phillips",
         4512.29,
         581.94
        ],
        [
         389,
         "Jindal Stain .Hi",
         4498.09,
         2438.58
        ],
        [
         390,
         "R C F",
         4493.52,
         1985.06
        ],
        [
         391,
         "Rallis India",
         4493.2,
         390.16
        ],
        [
         392,
         "Stand.Chart.PLC",
         4487.31,
         "NaN"
        ],
        [
         393,
         "G M D C",
         4456.77,
         506.06
        ],
        [
         394,
         "Manpasand Bever.",
         4406.8,
         143.13
        ],
        [
         395,
         "Tata Inv.Corpn.",
         4401.66,
         47.02
        ],
        [
         396,
         "Essel Propack",
         4371.24,
         595.05
        ],
        [
         397,
         "Allcargo Logist.",
         4369.69,
         1479.91
        ],
        [
         398,
         "Radico Khaitan",
         4358.48,
         482.52
        ],
        [
         399,
         "Cera Sanitary.",
         4356.9,
         290.88
        ],
        [
         400,
         "BSE",
         null,
         null
        ],
        [
         401,
         "Forbes & Co",
         4331.82,
         63.93
        ],
        [
         402,
         "S B T",
         4328.47,
         2365.94
        ],
        [
         403,
         "KNR Construct.",
         4325.39,
         433.19
        ],
        [
         404,
         "PNC Infratech",
         4307.29,
         472.48
        ],
        [
         405,
         "Greenply Inds.",
         4295.02,
         399.29
        ],
        [
         406,
         "Ujjivan Fin.Ser.",
         4293.42,
         0.0
        ],
        [
         407,
         "Monsanto India",
         4291.43,
         183.74
        ],
        [
         408,
         "Vinati Organics",
         4279.07,
         185.65
        ],
        [
         409,
         "Jindal Saw",
         4278.31,
         "NaN"
        ],
        [
         410,
         "Lux Industries",
         4269.78,
         297.43
        ],
        [
         411,
         "Linde India",
         4198.33,
         "NaN"
        ],
        [
         412,
         "Ratnamani Metals",
         4194.31,
         535.6
        ],
        [
         413,
         "Cox & Kings",
         4179.29,
         1356.07
        ],
        [
         414,
         "Omaxe",
         4168.29,
         506.82
        ],
        [
         415,
         "Ashoka Buildcon",
         4166.87,
         729.22
        ],
        [
         416,
         "Time Technoplast",
         4156.58,
         754.7
        ],
        [
         417,
         "Phillips Carbon",
         4149.67,
         612.4
        ],
        [
         418,
         "Allahabad Bank",
         4137.11,
         4243.83
        ],
        [
         419,
         "Welspun Corp",
         4103.05,
         2304.16
        ],
        [
         420,
         "NESCO",
         4093.02,
         80.62
        ],
        [
         421,
         "CARE Ratings",
         4090.69,
         74.82
        ],
        [
         422,
         "JP Associates",
         4074.37,
         "NaN"
        ],
        [
         423,
         "Andhra Bank",
         4067.25,
         4549.26
        ],
        [
         424,
         "Zensar Tech.",
         4066.42,
         793.76
        ],
        [
         425,
         "S H Kelkar & Co.",
         4057.34,
         283.12
        ],
        [
         426,
         "Mahindra Holiday",
         4030.35,
         267.54
        ],
        [
         427,
         "Sintex Plastics",
         4022.02,
         1332.73
        ],
        [
         428,
         "SREI Infra. Fin.",
         4009.63,
         1405.19
        ],
        [
         429,
         "Techno Elec.",
         3975.44,
         275.64
        ],
        [
         430,
         "Minda Corp",
         3974.83,
         636.2
        ],
        [
         431,
         "HMT",
         3973.5,
         "NaN"
        ],
        [
         432,
         "KPIT Tech.",
         3927.26,
         912.77
        ],
        [
         433,
         "Triveni Turbine",
         3910.17,
         165.59
        ],
        [
         434,
         "Shankara Build.",
         3901.07,
         624.62
        ],
        [
         435,
         "Multi Comm. Exc.",
         3847.19,
         60.97
        ],
        [
         436,
         "Brigade Enterpr.",
         3846.15,
         423.91
        ],
        [
         437,
         "Gayatri Projects",
         3835.73,
         "NaN"
        ],
        [
         438,
         "Magma Fincorp",
         3826.83,
         580.58
        ],
        [
         439,
         "VRL Logistics",
         3824.69,
         489.34
        ],
        [
         440,
         "ICRA",
         3809.0,
         82.87
        ],
        [
         441,
         "Shriram Pistons",
         3804.58,
         430.8
        ],
        [
         442,
         "IFCI",
         3789.45,
         626.8
        ],
        [
         443,
         "Suprajit Engg.",
         3777.26,
         366.29
        ],
        [
         444,
         "J & K Bank",
         3775.5,
         1682.97
        ],
        [
         445,
         "Navin Fluo.Intl.",
         3769.26,
         221.45
        ],
        [
         446,
         "Karnataka Bank",
         3765.74,
         1332.24
        ],
        [
         447,
         "Shilpa Medicare",
         3764.1,
         185.53
        ],
        [
         448,
         "Kushal",
         3761.86,
         578.18
        ],
        [
         449,
         "Venky's (India)",
         3760.61,
         695.85
        ],
        [
         450,
         "Force Motors",
         null,
         null
        ],
        [
         451,
         "CCL Products",
         3748.73,
         273.99
        ],
        [
         452,
         "Excel Crop Care",
         3734.06,
         258.65
        ],
        [
         453,
         "Trident",
         3722.6,
         1137.17
        ],
        [
         454,
         "Corporation Bank",
         3716.46,
         4387.85
        ],
        [
         455,
         "Rane Holdings",
         3711.8,
         593.74
        ],
        [
         456,
         "Team Lease Serv.",
         3677.34,
         918.06
        ],
        [
         457,
         "Oriental Bank",
         3674.6,
         4262.08
        ],
        [
         458,
         "I T D C",
         3619.04,
         102.14
        ],
        [
         459,
         "JP Power Ven.",
         3597.6,
         "NaN"
        ],
        [
         460,
         "S C I",
         3582.0,
         879.56
        ],
        [
         461,
         "JK Tyre & Indust",
         3577.98,
         2123.24
        ],
        [
         462,
         "Deepak Nitrite",
         3531.9,
         371.14
        ],
        [
         463,
         "Heidelberg Cem.",
         3531.77,
         491.23
        ],
        [
         464,
         "Amber Enterp.",
         3529.87,
         "NaN"
        ],
        [
         465,
         "Sharda Cropchem",
         3528.07,
         325.46
        ],
        [
         466,
         "Dixon Technolog.",
         3526.8,
         677.8
        ],
        [
         467,
         "Himatsing. Seide",
         3511.08,
         595.61
        ],
        [
         468,
         "La Opala RG",
         3510.93,
         69.77
        ],
        [
         469,
         "H F C L",
         3482.71,
         714.42
        ],
        [
         470,
         "Reliance Home",
         3470.6,
         403.0
        ],
        [
         471,
         "Rupa & Co",
         3460.91,
         277.96
        ],
        [
         472,
         "Hind.Construct.",
         3452.57,
         "NaN"
        ],
        [
         473,
         "Ent.Network",
         3380.99,
         148.42
        ],
        [
         474,
         "Supreme Petroch.",
         3377.57,
         725.02
        ],
        [
         475,
         "MAS FINANC SER",
         3376.2,
         112.05
        ],
        [
         476,
         "Thyrocare Tech.",
         3374.38,
         77.84
        ],
        [
         477,
         "Prakash Inds.",
         3336.05,
         725.97
        ],
        [
         478,
         "Repco Home Fin",
         3331.08,
         277.48
        ],
        [
         479,
         "Sonata Software",
         3329.58,
         766.75
        ],
        [
         480,
         "Central Dep. Ser",
         3316.31,
         47.24
        ],
        [
         481,
         "Puravankara",
         3274.9,
         440.09
        ],
        [
         482,
         "Tejas Networks",
         3209.89,
         229.87
        ],
        [
         483,
         "ITD Cem",
         3192.67,
         472.98
        ],
        [
         484,
         "Hathway Cable",
         3189.1,
         138.65
        ],
        [
         485,
         "Dhanuka Agritech",
         3188.62,
         221.51
        ],
        [
         486,
         "Mahindra Logis.",
         3187.51,
         835.06
        ],
        [
         487,
         "Heritage Foods",
         3185.45,
         581.74
        ],
        [
         488,
         "Mah. Seamless",
         3164.73,
         563.66
        ],
        [
         489,
         "Navneet Educat.",
         3148.36,
         174.41
        ],
        [
         490,
         "Firstsour.Solu.",
         3139.94,
         887.24
        ],
        [
         491,
         "Kaveri Seed Co.",
         3125.83,
         70.64
        ],
        [
         492,
         "Star Ferro Cem.",
         3115.98,
         393.49
        ],
        [
         493,
         "Deepak Fert.",
         3079.06,
         1644.92
        ],
        [
         494,
         "Va Tech Wabag",
         3041.93,
         460.89
        ],
        [
         495,
         "Prime Focus",
         3031.5,
         609.61
        ],
        [
         496,
         "Lak. Vilas Bank",
         3029.57,
         790.17
        ],
        [
         497,
         "NOCIL",
         3026.26,
         249.27
        ],
        [
         498,
         "Orient Cement",
         3024.32,
         511.53
        ],
        [
         499,
         "Natl.Fertilizer",
         3017.07,
         2840.75
        ],
        [
         500,
         "L T Foods",
         null,
         null
        ]
       ],
       "datasetInfos": [],
       "dbfsResultPath": null,
       "isJsonSchema": true,
       "metadata": {},
       "overflow": false,
       "plotOptions": {
        "customPlotOptions": {},
        "displayType": "table",
        "pivotAggregation": null,
        "pivotColumns": null,
        "xColumns": null,
        "yColumns": null
       },
       "removedWidgets": [],
       "schema": [
        {
         "metadata": "{}",
         "name": "Sr.No",
         "type": "\"integer\""
        },
        {
         "metadata": "{}",
         "name": "Company_name",
         "type": "\"string\""
        },
        {
         "metadata": "{}",
         "name": "Market_cap",
         "type": "\"double\""
        },
        {
         "metadata": "{}",
         "name": "Sales_Qtr",
         "type": "\"double\""
        }
       ],
       "type": "table"
      }
     },
     "output_type": "display_data"
    }
   ],
   "source": [
    "\n",
    "df.display()"
   ]
  },
  {
   "cell_type": "markdown",
   "metadata": {
    "application/vnd.databricks.v1+cell": {
     "cellMetadata": {},
     "inputWidgets": {},
     "nuid": "b8235c5d-efea-4460-9c45-e999f5e524b8",
     "showTitle": false,
     "title": ""
    }
   },
   "source": [
    "Summary Statistics"
   ]
  },
  {
   "cell_type": "code",
   "execution_count": 0,
   "metadata": {
    "application/vnd.databricks.v1+cell": {
     "cellMetadata": {
      "byteLimit": 2048000,
      "rowLimit": 10000
     },
     "inputWidgets": {},
     "nuid": "c41d81ca-02c9-426e-b322-28e4cbd89d73",
     "showTitle": false,
     "title": ""
    }
   },
   "outputs": [
    {
     "output_type": "display_data",
     "data": {
      "text/html": [
       "<style scoped>\n",
       "  .table-result-container {\n",
       "    max-height: 300px;\n",
       "    overflow: auto;\n",
       "  }\n",
       "  table, th, td {\n",
       "    border: 1px solid black;\n",
       "    border-collapse: collapse;\n",
       "  }\n",
       "  th, td {\n",
       "    padding: 5px;\n",
       "  }\n",
       "  th {\n",
       "    text-align: left;\n",
       "  }\n",
       "</style><div class='table-result-container'><table class='table-result'><thead style='background-color: white'><tr><th>summary</th><th>Market_Cap</th><th>Sales_Qtr</th></tr></thead><tbody><tr><td>count</td><td>478</td><td>478</td></tr><tr><td>mean</td><td>27973.285857740564</td><td>3656.4337656903713</td></tr><tr><td>stddev</td><td>59506.831982001684</td><td>9816.764478480432</td></tr><tr><td>min</td><td>3017.07</td><td>0.0</td></tr><tr><td>max</td><td>583436.72</td><td>110666.93</td></tr></tbody></table></div>"
      ]
     },
     "metadata": {
      "application/vnd.databricks.v1+output": {
       "addedWidgets": {},
       "aggData": [],
       "aggError": "",
       "aggOverflow": false,
       "aggSchema": [],
       "aggSeriesLimitReached": false,
       "aggType": "",
       "arguments": {},
       "columnCustomDisplayInfos": {},
       "data": [
        [
         "count",
         "478",
         "478"
        ],
        [
         "mean",
         "27973.285857740564",
         "3656.4337656903713"
        ],
        [
         "stddev",
         "59506.831982001684",
         "9816.764478480432"
        ],
        [
         "min",
         "3017.07",
         "0.0"
        ],
        [
         "max",
         "583436.72",
         "110666.93"
        ]
       ],
       "datasetInfos": [],
       "dbfsResultPath": null,
       "isJsonSchema": true,
       "metadata": {},
       "overflow": false,
       "plotOptions": {
        "customPlotOptions": {},
        "displayType": "table",
        "pivotAggregation": null,
        "pivotColumns": null,
        "xColumns": null,
        "yColumns": null
       },
       "removedWidgets": [],
       "schema": [
        {
         "metadata": "{}",
         "name": "summary",
         "type": "\"string\""
        },
        {
         "metadata": "{}",
         "name": "Market_Cap",
         "type": "\"string\""
        },
        {
         "metadata": "{}",
         "name": "Sales_Qtr",
         "type": "\"string\""
        }
       ],
       "type": "table"
      }
     },
     "output_type": "display_data"
    }
   ],
   "source": [
    "df.describe([\"Market_Cap\", \"Sales_Qtr\"]).display()"
   ]
  },
  {
   "cell_type": "markdown",
   "metadata": {
    "application/vnd.databricks.v1+cell": {
     "cellMetadata": {},
     "inputWidgets": {},
     "nuid": "fb23b282-b9e7-49d1-9900-92c0d1482e34",
     "showTitle": false,
     "title": ""
    }
   },
   "source": [
    "Total Market Cap and Sales"
   ]
  },
  {
   "cell_type": "code",
   "execution_count": 0,
   "metadata": {
    "application/vnd.databricks.v1+cell": {
     "cellMetadata": {
      "byteLimit": 2048000,
      "rowLimit": 10000
     },
     "inputWidgets": {},
     "nuid": "5e82257c-f282-4b96-89b3-f0a2d6ab4f5a",
     "showTitle": false,
     "title": "daa"
    }
   },
   "outputs": [
    {
     "output_type": "display_data",
     "data": {
      "text/html": [
       "<style scoped>\n",
       "  .table-result-container {\n",
       "    max-height: 300px;\n",
       "    overflow: auto;\n",
       "  }\n",
       "  table, th, td {\n",
       "    border: 1px solid black;\n",
       "    border-collapse: collapse;\n",
       "  }\n",
       "  th, td {\n",
       "    padding: 5px;\n",
       "  }\n",
       "  th {\n",
       "    text-align: left;\n",
       "  }\n",
       "</style><div class='table-result-container'><table class='table-result'><thead style='background-color: white'><tr><th>Total_Market_Cap</th><th>Total_Sales_Qtr</th></tr></thead><tbody><tr><td>1.337123064E7</td><td>1747775.34</td></tr></tbody></table></div>"
      ]
     },
     "metadata": {
      "application/vnd.databricks.v1+output": {
       "addedWidgets": {},
       "aggData": [],
       "aggError": "",
       "aggOverflow": false,
       "aggSchema": [],
       "aggSeriesLimitReached": false,
       "aggType": "",
       "arguments": {},
       "columnCustomDisplayInfos": {},
       "data": [
        [
         1.337123064E7,
         1747775.34
        ]
       ],
       "datasetInfos": [],
       "dbfsResultPath": null,
       "isJsonSchema": true,
       "metadata": {},
       "overflow": false,
       "plotOptions": {
        "customPlotOptions": {},
        "displayType": "table",
        "pivotAggregation": null,
        "pivotColumns": null,
        "xColumns": null,
        "yColumns": null
       },
       "removedWidgets": [],
       "schema": [
        {
         "metadata": "{}",
         "name": "Total_Market_Cap",
         "type": "\"double\""
        },
        {
         "metadata": "{}",
         "name": "Total_Sales_Qtr",
         "type": "\"double\""
        }
       ],
       "type": "table"
      }
     },
     "output_type": "display_data"
    }
   ],
   "source": [
    "df.agg(round(sum(\"Market_cap\"),2).alias(\"Total_Market_Cap\"), round(sum(\"Sales_Qtr\"),2).alias(\"Total_Sales_Qtr\")).display()\n",
    "\n"
   ]
  },
  {
   "cell_type": "markdown",
   "metadata": {
    "application/vnd.databricks.v1+cell": {
     "cellMetadata": {},
     "inputWidgets": {},
     "nuid": "5ca40356-85d4-48c3-91ab-2cb8a6345870",
     "showTitle": false,
     "title": ""
    }
   },
   "source": [
    " Company with Maximum and Minimum Market Cap"
   ]
  },
  {
   "cell_type": "code",
   "execution_count": 0,
   "metadata": {
    "application/vnd.databricks.v1+cell": {
     "cellMetadata": {
      "byteLimit": 2048000,
      "rowLimit": 10000
     },
     "inputWidgets": {},
     "nuid": "eba95add-53a5-418f-9a59-43b0574eecc3",
     "showTitle": false,
     "title": ""
    }
   },
   "outputs": [],
   "source": [
    "maximum_market_cap_df = df.orderBy(desc(\"Market_Cap\")).limit(1)\n",
    "\n",
    "minimum_market_cap_df = df.orderBy(\"Market_Cap\").limit(1)\n",
    "\n"
   ]
  },
  {
   "cell_type": "code",
   "execution_count": 0,
   "metadata": {
    "application/vnd.databricks.v1+cell": {
     "cellMetadata": {
      "byteLimit": 2048000,
      "rowLimit": 10000
     },
     "inputWidgets": {},
     "nuid": "5b78ce61-4f77-46aa-9e48-c369900dd17b",
     "showTitle": false,
     "title": ""
    }
   },
   "outputs": [
    {
     "output_type": "display_data",
     "data": {
      "text/html": [
       "<style scoped>\n",
       "  .table-result-container {\n",
       "    max-height: 300px;\n",
       "    overflow: auto;\n",
       "  }\n",
       "  table, th, td {\n",
       "    border: 1px solid black;\n",
       "    border-collapse: collapse;\n",
       "  }\n",
       "  th, td {\n",
       "    padding: 5px;\n",
       "  }\n",
       "  th {\n",
       "    text-align: left;\n",
       "  }\n",
       "</style><div class='table-result-container'><table class='table-result'><thead style='background-color: white'><tr><th>Sr.No</th><th>Company_name</th><th>Market_cap</th><th>Sales_Qtr</th></tr></thead><tbody><tr><td>1</td><td>Reliance Inds.</td><td>583436.72</td><td>99810.0</td></tr></tbody></table></div>"
      ]
     },
     "metadata": {
      "application/vnd.databricks.v1+output": {
       "addedWidgets": {},
       "aggData": [],
       "aggError": "",
       "aggOverflow": false,
       "aggSchema": [],
       "aggSeriesLimitReached": false,
       "aggType": "",
       "arguments": {},
       "columnCustomDisplayInfos": {},
       "data": [
        [
         1,
         "Reliance Inds.",
         583436.72,
         99810.0
        ]
       ],
       "datasetInfos": [],
       "dbfsResultPath": null,
       "isJsonSchema": true,
       "metadata": {},
       "overflow": false,
       "plotOptions": {
        "customPlotOptions": {},
        "displayType": "table",
        "pivotAggregation": null,
        "pivotColumns": null,
        "xColumns": null,
        "yColumns": null
       },
       "removedWidgets": [],
       "schema": [
        {
         "metadata": "{}",
         "name": "Sr.No",
         "type": "\"integer\""
        },
        {
         "metadata": "{}",
         "name": "Company_name",
         "type": "\"string\""
        },
        {
         "metadata": "{}",
         "name": "Market_cap",
         "type": "\"double\""
        },
        {
         "metadata": "{}",
         "name": "Sales_Qtr",
         "type": "\"double\""
        }
       ],
       "type": "table"
      }
     },
     "output_type": "display_data"
    }
   ],
   "source": [
    "maximum_market_cap_df.display()"
   ]
  },
  {
   "cell_type": "code",
   "execution_count": 0,
   "metadata": {
    "application/vnd.databricks.v1+cell": {
     "cellMetadata": {
      "byteLimit": 2048000,
      "rowLimit": 10000
     },
     "inputWidgets": {},
     "nuid": "098918b2-4d0b-4c5f-b3ec-596d825528f8",
     "showTitle": false,
     "title": ""
    }
   },
   "outputs": [
    {
     "output_type": "display_data",
     "data": {
      "text/html": [
       "<style scoped>\n",
       "  .table-result-container {\n",
       "    max-height: 300px;\n",
       "    overflow: auto;\n",
       "  }\n",
       "  table, th, td {\n",
       "    border: 1px solid black;\n",
       "    border-collapse: collapse;\n",
       "  }\n",
       "  th, td {\n",
       "    padding: 5px;\n",
       "  }\n",
       "  th {\n",
       "    text-align: left;\n",
       "  }\n",
       "</style><div class='table-result-container'><table class='table-result'><thead style='background-color: white'><tr><th>Sr.No</th><th>Company_name</th><th>Market_cap</th><th>Sales_Qtr</th></tr></thead><tbody><tr><td>499</td><td>Natl.Fertilizer</td><td>3017.07</td><td>2840.75</td></tr></tbody></table></div>"
      ]
     },
     "metadata": {
      "application/vnd.databricks.v1+output": {
       "addedWidgets": {},
       "aggData": [],
       "aggError": "",
       "aggOverflow": false,
       "aggSchema": [],
       "aggSeriesLimitReached": false,
       "aggType": "",
       "arguments": {},
       "columnCustomDisplayInfos": {},
       "data": [
        [
         499,
         "Natl.Fertilizer",
         3017.07,
         2840.75
        ]
       ],
       "datasetInfos": [],
       "dbfsResultPath": null,
       "isJsonSchema": true,
       "metadata": {},
       "overflow": false,
       "plotOptions": {
        "customPlotOptions": {},
        "displayType": "table",
        "pivotAggregation": null,
        "pivotColumns": null,
        "xColumns": null,
        "yColumns": null
       },
       "removedWidgets": [],
       "schema": [
        {
         "metadata": "{}",
         "name": "Sr.No",
         "type": "\"integer\""
        },
        {
         "metadata": "{}",
         "name": "Company_name",
         "type": "\"string\""
        },
        {
         "metadata": "{}",
         "name": "Market_cap",
         "type": "\"double\""
        },
        {
         "metadata": "{}",
         "name": "Sales_Qtr",
         "type": "\"double\""
        }
       ],
       "type": "table"
      }
     },
     "output_type": "display_data"
    }
   ],
   "source": [
    "minimum_market_cap_df.display()"
   ]
  },
  {
   "cell_type": "code",
   "execution_count": 0,
   "metadata": {
    "application/vnd.databricks.v1+cell": {
     "cellMetadata": {
      "byteLimit": 2048000,
      "rowLimit": 10000
     },
     "inputWidgets": {},
     "nuid": "3222b9c9-258d-4809-94df-18e81ba77e23",
     "showTitle": false,
     "title": ""
    }
   },
   "outputs": [],
   "source": [
    "maximum_sales_qtr_df = df.orderBy(desc(\"Sales_Qtr\")).limit(1)\n",
    "\n",
    "minimum_sales_qtr_df = df.orderBy(\"Sales_Qtr\").limit(1)\n",
    "\n"
   ]
  },
  {
   "cell_type": "code",
   "execution_count": 0,
   "metadata": {
    "application/vnd.databricks.v1+cell": {
     "cellMetadata": {
      "byteLimit": 2048000,
      "rowLimit": 10000
     },
     "inputWidgets": {},
     "nuid": "1c33d499-8ef4-4d75-ac74-2cfde5720353",
     "showTitle": false,
     "title": ""
    }
   },
   "outputs": [
    {
     "output_type": "display_data",
     "data": {
      "text/html": [
       "<style scoped>\n",
       "  .table-result-container {\n",
       "    max-height: 300px;\n",
       "    overflow: auto;\n",
       "  }\n",
       "  table, th, td {\n",
       "    border: 1px solid black;\n",
       "    border-collapse: collapse;\n",
       "  }\n",
       "  th, td {\n",
       "    padding: 5px;\n",
       "  }\n",
       "  th {\n",
       "    text-align: left;\n",
       "  }\n",
       "</style><div class='table-result-container'><table class='table-result'><thead style='background-color: white'><tr><th>Sr.No</th><th>Company_name</th><th>Market_cap</th><th>Sales_Qtr</th></tr></thead><tbody><tr><td>15</td><td>I O C L</td><td>178017.48</td><td>110666.93</td></tr></tbody></table></div>"
      ]
     },
     "metadata": {
      "application/vnd.databricks.v1+output": {
       "addedWidgets": {},
       "aggData": [],
       "aggError": "",
       "aggOverflow": false,
       "aggSchema": [],
       "aggSeriesLimitReached": false,
       "aggType": "",
       "arguments": {},
       "columnCustomDisplayInfos": {},
       "data": [
        [
         15,
         "I O C L",
         178017.48,
         110666.93
        ]
       ],
       "datasetInfos": [],
       "dbfsResultPath": null,
       "isJsonSchema": true,
       "metadata": {},
       "overflow": false,
       "plotOptions": {
        "customPlotOptions": {},
        "displayType": "table",
        "pivotAggregation": null,
        "pivotColumns": null,
        "xColumns": null,
        "yColumns": null
       },
       "removedWidgets": [],
       "schema": [
        {
         "metadata": "{}",
         "name": "Sr.No",
         "type": "\"integer\""
        },
        {
         "metadata": "{}",
         "name": "Company_name",
         "type": "\"string\""
        },
        {
         "metadata": "{}",
         "name": "Market_cap",
         "type": "\"double\""
        },
        {
         "metadata": "{}",
         "name": "Sales_Qtr",
         "type": "\"double\""
        }
       ],
       "type": "table"
      }
     },
     "output_type": "display_data"
    }
   ],
   "source": [
    "maximum_sales_qtr_df.display()"
   ]
  },
  {
   "cell_type": "code",
   "execution_count": 0,
   "metadata": {
    "application/vnd.databricks.v1+cell": {
     "cellMetadata": {
      "byteLimit": 2048000,
      "rowLimit": 10000
     },
     "inputWidgets": {},
     "nuid": "2b5c4666-43ca-467c-8faf-1971ebe5e169",
     "showTitle": false,
     "title": ""
    }
   },
   "outputs": [
    {
     "output_type": "display_data",
     "data": {
      "text/html": [
       "<style scoped>\n",
       "  .table-result-container {\n",
       "    max-height: 300px;\n",
       "    overflow: auto;\n",
       "  }\n",
       "  table, th, td {\n",
       "    border: 1px solid black;\n",
       "    border-collapse: collapse;\n",
       "  }\n",
       "  th, td {\n",
       "    padding: 5px;\n",
       "  }\n",
       "  th {\n",
       "    text-align: left;\n",
       "  }\n",
       "</style><div class='table-result-container'><table class='table-result'><thead style='background-color: white'><tr><th>Sr.No</th><th>Company_name</th><th>Market_cap</th><th>Sales_Qtr</th></tr></thead><tbody><tr><td>176</td><td>Info Edg.(India)</td><td>14845.05</td><td>0.0</td></tr></tbody></table></div>"
      ]
     },
     "metadata": {
      "application/vnd.databricks.v1+output": {
       "addedWidgets": {},
       "aggData": [],
       "aggError": "",
       "aggOverflow": false,
       "aggSchema": [],
       "aggSeriesLimitReached": false,
       "aggType": "",
       "arguments": {},
       "columnCustomDisplayInfos": {},
       "data": [
        [
         176,
         "Info Edg.(India)",
         14845.05,
         0.0
        ]
       ],
       "datasetInfos": [],
       "dbfsResultPath": null,
       "isJsonSchema": true,
       "metadata": {},
       "overflow": false,
       "plotOptions": {
        "customPlotOptions": {},
        "displayType": "table",
        "pivotAggregation": null,
        "pivotColumns": null,
        "xColumns": null,
        "yColumns": null
       },
       "removedWidgets": [],
       "schema": [
        {
         "metadata": "{}",
         "name": "Sr.No",
         "type": "\"integer\""
        },
        {
         "metadata": "{}",
         "name": "Company_name",
         "type": "\"string\""
        },
        {
         "metadata": "{}",
         "name": "Market_cap",
         "type": "\"double\""
        },
        {
         "metadata": "{}",
         "name": "Sales_Qtr",
         "type": "\"double\""
        }
       ],
       "type": "table"
      }
     },
     "output_type": "display_data"
    }
   ],
   "source": [
    "minimum_sales_qtr_df.display()"
   ]
  },
  {
   "cell_type": "markdown",
   "metadata": {
    "application/vnd.databricks.v1+cell": {
     "cellMetadata": {},
     "inputWidgets": {},
     "nuid": "f47ef2ed-4e33-4801-858a-90e35dd701b6",
     "showTitle": false,
     "title": ""
    }
   },
   "source": [
    "Market Cap to Sales Ratio\n"
   ]
  },
  {
   "cell_type": "code",
   "execution_count": 0,
   "metadata": {
    "application/vnd.databricks.v1+cell": {
     "cellMetadata": {
      "byteLimit": 2048000,
      "rowLimit": 10000
     },
     "inputWidgets": {},
     "nuid": "53821877-f591-464d-87b4-ae7e5394dc5d",
     "showTitle": false,
     "title": ""
    }
   },
   "outputs": [
    {
     "output_type": "display_data",
     "data": {
      "text/html": [
       "<style scoped>\n",
       "  .table-result-container {\n",
       "    max-height: 300px;\n",
       "    overflow: auto;\n",
       "  }\n",
       "  table, th, td {\n",
       "    border: 1px solid black;\n",
       "    border-collapse: collapse;\n",
       "  }\n",
       "  th, td {\n",
       "    padding: 5px;\n",
       "  }\n",
       "  th {\n",
       "    text-align: left;\n",
       "  }\n",
       "</style><div class='table-result-container'><table class='table-result'><thead style='background-color: white'><tr><th>Company_name</th><th>Market_Cap_to_Sales_Ratio</th></tr></thead><tbody><tr><td>Reliance Inds.</td><td>5.85</td></tr><tr><td>TCS</td><td>18.24</td></tr><tr><td>HDFC Bank</td><td>23.47</td></tr><tr><td>ITC</td><td>32.85</td></tr><tr><td>H D F C</td><td>17.19</td></tr><tr><td>Hind. Unilever</td><td>33.56</td></tr><tr><td>Maruti Suzuki</td><td>13.66</td></tr><tr><td>Infosys</td><td>13.96</td></tr><tr><td>O N G C</td><td>10.44</td></tr><tr><td>St Bk of India</td><td>4.08</td></tr><tr><td>ICICI Bank</td><td>14.91</td></tr><tr><td>Kotak Mah. Bank</td><td>31.18</td></tr><tr><td>Coal India</td><td>8.9</td></tr><tr><td>Larsen & Toubro</td><td>6.29</td></tr><tr><td>I O C L</td><td>1.61</td></tr><tr><td>Bharti Airtel</td><td>8.23</td></tr><tr><td>Axis Bank</td><td>11.64</td></tr><tr><td>NTPC</td><td>6.52</td></tr><tr><td>Sun Pharma.Inds.</td><td>20.18</td></tr><tr><td>Hind.Zinc</td><td>22.5</td></tr><tr><td>Wipro</td><td>9.65</td></tr><tr><td>HCL Technologies</td><td>9.86</td></tr><tr><td>Vedanta</td><td>5.02</td></tr><tr><td>Tata Motors</td><td>1.58</td></tr><tr><td>UltraTech Cem.</td><td>14.18</td></tr><tr><td>Asian Paints</td><td>25.36</td></tr><tr><td>Power Grid Corpn</td><td>13.59</td></tr><tr><td>B P C L</td><td>1.62</td></tr><tr><td>IndusInd Bank</td><td>22.72</td></tr><tr><td>Bajaj Fin.</td><td>26.68</td></tr><tr><td>Bajaj Auto</td><td>13.86</td></tr><tr><td>M & M</td><td>7.61</td></tr><tr><td>HDFC Stand. Life</td><td>8.97</td></tr><tr><td>Adani Ports</td><td>30.42</td></tr><tr><td>Bajaj Finserv</td><td>10.41</td></tr><tr><td>GAIL (India)</td><td>5.46</td></tr><tr><td>Avenue Super.</td><td>18.09</td></tr><tr><td>Titan Company</td><td>17.28</td></tr><tr><td>JSW Steel</td><td>4.14</td></tr><tr><td>Grasim Inds</td><td>4.81</td></tr><tr><td>Tata Steel</td><td>2.26</td></tr><tr><td>Eicher Motors</td><td>32.31</td></tr><tr><td>Nestle India</td><td>28.07</td></tr><tr><td>Godrej Consumer</td><td>27.32</td></tr><tr><td>Yes Bank</td><td>14.01</td></tr><tr><td>Hero Motocorp</td><td>9.51</td></tr><tr><td>Motherson Sumi</td><td>4.76</td></tr><tr><td>SBI Life Insuran</td><td>7.05</td></tr><tr><td>General Insuranc</td><td>7.75</td></tr><tr><td>Dabur India</td><td>30.52</td></tr><tr><td>Bosch</td><td>19.27</td></tr><tr><td>Shree Cement</td><td>25.69</td></tr><tr><td>New India Assura</td><td>11.45</td></tr><tr><td>H P C L</td><td>1.01</td></tr><tr><td>ICICI Pru Life</td><td>4.26</td></tr><tr><td>Britannia Inds.</td><td>22.14</td></tr><tr><td>Tech Mahindra</td><td>7.23</td></tr><tr><td>Hindalco Inds.</td><td>5.07</td></tr><tr><td>Zee Entertainmen</td><td>29.82</td></tr><tr><td>Cairn India</td><td>24.9</td></tr><tr><td>Indiabulls Hous.</td><td>16.94</td></tr><tr><td>Ambuja Cem.</td><td>8.49</td></tr><tr><td>Interglobe Aviat</td><td>7.87</td></tr><tr><td>Cipla</td><td>12.41</td></tr><tr><td>Piramal Enterp.</td><td>16.61</td></tr><tr><td>United Spirits</td><td>20.64</td></tr><tr><td>Pidilite Inds.</td><td>29.72</td></tr><tr><td>Siemens</td><td>18.21</td></tr><tr><td>Cadila Health.</td><td>12.85</td></tr><tr><td>NMDC</td><td>16.77</td></tr><tr><td>DLF</td><td>23.71</td></tr><tr><td>Marico</td><td>29.77</td></tr><tr><td>Ashok Leyland</td><td>5.49</td></tr><tr><td>Bharat Electron</td><td>15.03</td></tr><tr><td>ICICI Lombard</td><td>17.63</td></tr><tr><td>Lupin</td><td>9.28</td></tr><tr><td>Petronet LNG</td><td>4.72</td></tr><tr><td>Aditya Birla Cap</td><td>10.89</td></tr><tr><td>Dr Reddy's Labs</td><td>9.36</td></tr><tr><td>Sun TV Network</td><td>52.43</td></tr><tr><td>S A I L</td><td>2.33</td></tr><tr><td>UPL</td><td>8.43</td></tr><tr><td>Oracle Fin.Serv.</td><td>32.69</td></tr><tr><td>Bharat Forge</td><td>24.74</td></tr><tr><td>Biocon</td><td>32.47</td></tr><tr><td>B H E L</td><td>5.16</td></tr><tr><td>Aurobindo Pharma</td><td>7.77</td></tr><tr><td>Bank of Baroda</td><td>2.95</td></tr><tr><td>Idea Cellular</td><td>5.08</td></tr><tr><td>A B B</td><td>11.51</td></tr><tr><td>Havells India</td><td>16.18</td></tr><tr><td>Container Corpn.</td><td>19.18</td></tr><tr><td>TVS Motor Co.</td><td>8.39</td></tr><tr><td>ACC</td><td>8.82</td></tr><tr><td>Bajaj Holdings</td><td>95.35</td></tr><tr><td>P & G Hygiene</td><td>42.89</td></tr><tr><td>MRF</td><td>7.91</td></tr><tr><td>Shriram Trans.</td><td>9.5</td></tr><tr><td>L&T Fin.Holdings</td><td>11.0</td></tr><tr><td>Punjab Natl.Bank</td><td>2.32</td></tr><tr><td>NHPC Ltd</td><td>18.73</td></tr><tr><td>Power Fin.Corpn.</td><td>4.5</td></tr><tr><td>United Breweries</td><td>23.22</td></tr><tr><td>Oil India</td><td>9.61</td></tr><tr><td>Rural Elec.Corp.</td><td>4.98</td></tr><tr><td>GlaxoSmith C H L</td><td>26.42</td></tr><tr><td>M & M Fin. Serv.</td><td>12.34</td></tr><tr><td>Divi's Lab.</td><td>25.93</td></tr><tr><td>Kansai Nerolac</td><td>23.07</td></tr><tr><td>Alkem Lab</td><td>18.25</td></tr><tr><td>LIC Housing Fin.</td><td>6.92</td></tr><tr><td>Future Retail</td><td>5.51</td></tr><tr><td>Page Industries</td><td>40.87</td></tr><tr><td>Dalmia Bhar.</td><td>12.1</td></tr><tr><td>IIFL Holdings</td><td>15.38</td></tr><tr><td>L & T Infotech</td><td>13.07</td></tr><tr><td>Aditya Bir. Nuv.</td><td>5.74</td></tr><tr><td>Emami</td><td>31.35</td></tr><tr><td>Cummins India</td><td>17.39</td></tr><tr><td>Berger Paints</td><td>17.58</td></tr><tr><td>Rajesh Exports</td><td>0.57</td></tr><tr><td>Tata Power Co.</td><td>3.36</td></tr><tr><td>3M India</td><td>35.77</td></tr><tr><td>Jindal Steel</td><td>3.3</td></tr><tr><td>Edelweiss.Fin.</td><td>11.07</td></tr><tr><td>Gillette India</td><td>53.93</td></tr><tr><td>Adani Enterp.</td><td>2.19</td></tr><tr><td>Adani Transmissi</td><td>12.16</td></tr><tr><td>Balkrishna Inds</td><td>19.32</td></tr><tr><td>Cholaman.Inv.&Fn</td><td>14.83</td></tr><tr><td>Indraprastha Gas</td><td>17.55</td></tr><tr><td>M R P L</td><td>1.47</td></tr><tr><td>Glaxosmi. Pharma</td><td>29.11</td></tr><tr><td>PNB Housing</td><td>13.93</td></tr><tr><td>RBL Bank</td><td>17.16</td></tr><tr><td>Castrol India</td><td>19.38</td></tr><tr><td>Canara Bank</td><td>1.73</td></tr><tr><td>GRUH Finance</td><td>43.26</td></tr><tr><td>KIOCL</td><td>41.86</td></tr><tr><td>Voltas</td><td>13.42</td></tr><tr><td>Godrej Inds.</td><td>7.44</td></tr><tr><td>Whirlpool India</td><td>19.05</td></tr><tr><td>Sundaram Finance</td><td>26.81</td></tr><tr><td>Federal Bank</td><td>7.23</td></tr><tr><td>Tata Comm</td><td>4.37</td></tr><tr><td>Tata Chemicals</td><td>6.97</td></tr><tr><td>Exide Inds.</td><td>7.88</td></tr><tr><td>IDFC Bank</td><td>7.78</td></tr><tr><td>NBCC</td><td>13.4</td></tr><tr><td>IDBI Bank</td><td>3.03</td></tr><tr><td>The Ramco Cement</td><td>16.33</td></tr><tr><td>Dewan Hsg. Fin.</td><td>6.5</td></tr><tr><td>MphasiS</td><td>10.07</td></tr><tr><td>Apollo Hospitals</td><td>8.8</td></tr><tr><td>Reliance Nip.Lif</td><td>42.27</td></tr><tr><td>Tata Global</td><td>9.59</td></tr><tr><td>Godrej Propert.</td><td>26.39</td></tr><tr><td>AU Small Finance</td><td>35.45</td></tr><tr><td>Indian Hotels</td><td>13.49</td></tr><tr><td>Motil.Oswal.Fin.</td><td>22.11</td></tr><tr><td>H U D C O</td><td>15.09</td></tr><tr><td>Oberoi Realty</td><td>45.04</td></tr><tr><td>Indian Bank</td><td>3.61</td></tr><tr><td>SJVN</td><td>35.53</td></tr><tr><td>Bank of India</td><td>1.64</td></tr><tr><td>Supreme Inds.</td><td>11.93</td></tr><tr><td>Muthoot Finance</td><td>9.8</td></tr><tr><td>NLC India</td><td>8.91</td></tr><tr><td>Info Edg.(India)</td><td>null</td></tr><tr><td>Glenmark Pharma.</td><td>6.71</td></tr><tr><td>Jubilant Life</td><td>7.15</td></tr><tr><td>Crompton Gr. Con</td><td>15.6</td></tr><tr><td>Honeywell Auto</td><td>20.13</td></tr><tr><td>Natco Pharma</td><td>25.71</td></tr><tr><td>PC Jeweller</td><td>5.42</td></tr><tr><td>Quess Corp</td><td>9.05</td></tr><tr><td>CRISIL</td><td>32.11</td></tr><tr><td>WABCO India</td><td>21.3</td></tr><tr><td>Amara Raja Batt.</td><td>8.87</td></tr><tr><td>Sterlite Tech.</td><td>16.46</td></tr><tr><td>AIA Engg.</td><td>23.76</td></tr><tr><td>KRBL</td><td>17.22</td></tr><tr><td>Max Financial</td><td>null</td></tr><tr><td>Indiabulls Vent.</td><td>56.18</td></tr><tr><td>Century Textiles</td><td>6.46</td></tr><tr><td>Jubilant Food.</td><td>16.57</td></tr><tr><td>Bayer Crop Sci.</td><td>27.45</td></tr><tr><td>Graphite India</td><td>14.07</td></tr><tr><td>JSW Energy</td><td>6.57</td></tr><tr><td>Central Bank</td><td>2.16</td></tr><tr><td>CESC</td><td>7.62</td></tr><tr><td>Shri.City Union.</td><td>9.71</td></tr><tr><td>L&T Technology</td><td>13.35</td></tr><tr><td>Rain Industries</td><td>4.15</td></tr><tr><td>Torrent Power</td><td>4.57</td></tr><tr><td>Dilip Buildcon</td><td>6.45</td></tr><tr><td>TI Financial</td><td>14.11</td></tr><tr><td>JM Financial</td><td>14.78</td></tr><tr><td>Adani Power</td><td>2.5</td></tr><tr><td>Reliance Power</td><td>4.82</td></tr><tr><td>Reliance Capital</td><td>2.52</td></tr><tr><td>Syngene Intl.</td><td>30.82</td></tr><tr><td>Abbott India</td><td>13.53</td></tr><tr><td>Hatsun AgroProd.</td><td>11.74</td></tr><tr><td>Symphony</td><td>54.6</td></tr><tr><td>Gujarat Gas</td><td>7.48</td></tr><tr><td>Reliance Infra.</td><td>2.0</td></tr><tr><td>Aditya Bir. Fas.</td><td>6.32</td></tr><tr><td>Ajanta Pharma</td><td>19.85</td></tr><tr><td>P I Inds.</td><td>21.51</td></tr><tr><td>City Union Bank</td><td>13.35</td></tr><tr><td>Varun Beverages</td><td>34.85</td></tr><tr><td>Mindtree</td><td>8.3</td></tr><tr><td>Prestige Estates</td><td>8.92</td></tr><tr><td>Future Consumer</td><td>14.29</td></tr><tr><td>Sundram Fasten.</td><td>13.21</td></tr><tr><td>Sanofi India</td><td>16.75</td></tr><tr><td>Guj.St.Petronet</td><td>31.6</td></tr><tr><td>Godrej Agrovet</td><td>12.61</td></tr><tr><td>Finolex Cables</td><td>16.6</td></tr><tr><td>Bombay Burmah</td><td>null</td></tr><tr><td>SRF</td><td>7.76</td></tr><tr><td>GE T&D India</td><td>7.49</td></tr><tr><td>Alembic Pharma</td><td>12.81</td></tr><tr><td>SPARC</td><td>553.82</td></tr><tr><td>GMR Infra.</td><td>5.14</td></tr><tr><td>HEG</td><td>12.61</td></tr><tr><td>Trent</td><td>20.31</td></tr><tr><td>Engineers India</td><td>22.32</td></tr><tr><td>Avanti Feeds</td><td>14.95</td></tr><tr><td>Pfizer</td><td>23.02</td></tr><tr><td>Escorts</td><td>8.67</td></tr><tr><td>Tata Motors-DVR</td><td>1.34</td></tr><tr><td>Blue Dart Exp.</td><td>14.79</td></tr><tr><td>Indbull.RealEst.</td><td>4.92</td></tr><tr><td>ERIS Lifescience</td><td>56.47</td></tr><tr><td>Arvind Ltd</td><td>3.79</td></tr><tr><td>Sundaram Clayton</td><td>null</td></tr><tr><td>Hexaware Tech.</td><td>9.84</td></tr><tr><td>SKF India</td><td>13.66</td></tr><tr><td>Delta Corp</td><td>58.78</td></tr><tr><td>Union Bank (I)</td><td>1.15</td></tr><tr><td>TV18 Broadcast</td><td>34.9</td></tr><tr><td>Minda Inds.</td><td>8.95</td></tr><tr><td>Solar Inds.</td><td>20.01</td></tr><tr><td>Kajaria Ceramics</td><td>14.08</td></tr><tr><td>Astral Poly</td><td>17.33</td></tr><tr><td>Bata India</td><td>13.57</td></tr><tr><td>Phoenix Mills</td><td>21.84</td></tr><tr><td>BASF India</td><td>6.86</td></tr><tr><td>DCM Shriram</td><td>4.87</td></tr><tr><td>Infibeam Incorp.</td><td>40.5</td></tr><tr><td>Aegis Logistics</td><td>5.97</td></tr><tr><td>Mahindra CIE</td><td>null</td></tr><tr><td>Jet Airways</td><td>1.4</td></tr><tr><td>SpiceJet</td><td>4.06</td></tr><tr><td>Thomas Cook (I)</td><td>2.81</td></tr><tr><td>Guj Fluorochem</td><td>8.71</td></tr><tr><td>Wockhardt</td><td>8.38</td></tr><tr><td>Akzo Nobel</td><td>11.78</td></tr><tr><td>I D F C</td><td>3.0</td></tr><tr><td>Security & Intel</td><td>5.36</td></tr><tr><td>Asahi India Glas</td><td>12.78</td></tr><tr><td>TTK Prestige</td><td>17.8</td></tr><tr><td>ITI</td><td>32.37</td></tr><tr><td>Karur Vysya Bank</td><td>5.67</td></tr><tr><td>Vardhman Textile</td><td>4.87</td></tr><tr><td>Fortis Health.</td><td>6.89</td></tr><tr><td>Ipca Labs.</td><td>9.24</td></tr><tr><td>Sheela Foam</td><td>14.69</td></tr><tr><td>IRB Infra.Devl.</td><td>6.03</td></tr><tr><td>Atul</td><td>9.69</td></tr><tr><td>Finolex Inds.</td><td>10.77</td></tr><tr><td>Dish TV</td><td>10.48</td></tr><tr><td>Rel. Comm.</td><td>6.73</td></tr><tr><td>Dr Lal Pathlabs</td><td>28.74</td></tr><tr><td>OCL India</td><td>8.67</td></tr><tr><td>NCC</td><td>2.68</td></tr><tr><td>Relaxo Footwear</td><td>15.85</td></tr><tr><td>J K Cements</td><td>6.42</td></tr><tr><td>G N F C</td><td>4.53</td></tr><tr><td>Cochin Shipyard</td><td>11.63</td></tr><tr><td>Birla Corpn.</td><td>5.14</td></tr><tr><td>Future Lifestyle</td><td>5.9</td></tr><tr><td>Century Ply.</td><td>13.66</td></tr><tr><td>Blue Star</td><td>7.09</td></tr><tr><td>Kalpataru Power</td><td>4.9</td></tr><tr><td>Suzlon Energy</td><td>5.82</td></tr><tr><td>Cyient</td><td>7.04</td></tr><tr><td>Hind.Copper</td><td>15.68</td></tr><tr><td>Guj Pipavav Port</td><td>42.2</td></tr><tr><td>Carborundum Uni.</td><td>11.18</td></tr><tr><td>Can Fin Homes</td><td>17.37</td></tr><tr><td>Sadbhav Engg.</td><td>3.16</td></tr><tr><td>Advanta</td><td>18.64</td></tr><tr><td>Capital First</td><td>6.79</td></tr><tr><td>Lak. Mach. Works</td><td>12.27</td></tr><tr><td>Himadri Specialt</td><td>13.29</td></tr><tr><td>Coffee Day Enter</td><td>6.84</td></tr><tr><td>PVR</td><td>11.83</td></tr><tr><td>Chambal Fert.</td><td>2.81</td></tr><tr><td>Vijaya Bank</td><td>2.08</td></tr><tr><td>Welspun India</td><td>4.66</td></tr><tr><td>CEAT</td><td>4.11</td></tr><tr><td>Strides Shasun</td><td>8.64</td></tr><tr><td>Narayana Hrudaya</td><td>11.52</td></tr><tr><td>Jyothy Lab.</td><td>14.67</td></tr><tr><td>Johnson Con. Hit</td><td>16.45</td></tr><tr><td>Prism Cement</td><td>null</td></tr><tr><td>Tata Elxsi</td><td>17.81</td></tr><tr><td>Syndicate Bank</td><td>1.13</td></tr><tr><td>D B Corp</td><td>10.12</td></tr><tr><td>Jain Irrigation</td><td>3.19</td></tr><tr><td>Persistent Sys</td><td>7.57</td></tr><tr><td>Redington India</td><td>0.5</td></tr><tr><td>Sunteck Realty</td><td>29.11</td></tr><tr><td>Raymond</td><td>3.95</td></tr><tr><td>MOIL</td><td>19.48</td></tr><tr><td>Bombay Dyeing</td><td>9.39</td></tr><tr><td>GE Shipping Co</td><td>9.93</td></tr><tr><td>Grindwell Norton</td><td>15.62</td></tr><tr><td>EID Parry</td><td>1.59</td></tr><tr><td>I O B</td><td>1.31</td></tr><tr><td>Galaxy Surfact.</td><td>6.73</td></tr><tr><td>Laurus Labs</td><td>11.62</td></tr><tr><td>Guj Alkalies</td><td>8.9</td></tr><tr><td>GE Power</td><td>null</td></tr><tr><td>Timken India</td><td>19.73</td></tr><tr><td>C P C L</td><td>0.63</td></tr><tr><td>Dishman Carbogen</td><td>11.78</td></tr><tr><td>St Bk of Bikaner</td><td>2.39</td></tr><tr><td>MMTC</td><td>null</td></tr><tr><td>IFB Inds.</td><td>9.96</td></tr><tr><td>eClerx Services</td><td>15.47</td></tr><tr><td>Sobha</td><td>7.55</td></tr><tr><td>Kirloskar Oil</td><td>7.61</td></tr><tr><td>G S F C</td><td>3.38</td></tr><tr><td>CG Power & Indu.</td><td>3.4</td></tr><tr><td>Westlife Develop</td><td>16.86</td></tr><tr><td>K P R Mill Ltd</td><td>7.2</td></tr><tr><td>Tube Investments</td><td>4.03</td></tr><tr><td>Bajaj Electrical</td><td>4.48</td></tr><tr><td>VST Inds.</td><td>21.38</td></tr><tr><td>BEML Ltd</td><td>6.96</td></tr><tr><td>FDC</td><td>20.44</td></tr><tr><td>DCB Bank</td><td>8.32</td></tr><tr><td>Star Cement</td><td>13.44</td></tr><tr><td>Netwrk.18 Media</td><td>13.84</td></tr><tr><td>Gulf Oil Lubric.</td><td>14.1</td></tr><tr><td>UCO Bank</td><td>1.45</td></tr><tr><td>Jagran Prakashan</td><td>8.35</td></tr><tr><td>Elgi Equipment</td><td>11.93</td></tr><tr><td>JK Lakshmi Cem.</td><td>5.89</td></tr><tr><td>Zydus Wellness</td><td>37.17</td></tr><tr><td>Equitas Holdings</td><td>11.37</td></tr><tr><td>India Cements</td><td>4.03</td></tr><tr><td>Dishman Pharma.</td><td>9.1</td></tr><tr><td>South Ind.Bank</td><td>3.08</td></tr><tr><td>Polaris Consulta</td><td>7.1</td></tr><tr><td>V I P Inds.</td><td>14.26</td></tr><tr><td>APL Apollo</td><td>3.63</td></tr><tr><td>Sadbhav Infra.</td><td>7.58</td></tr><tr><td>Jindal Stain.</td><td>1.58</td></tr><tr><td>Swan Energy</td><td>null</td></tr><tr><td>NIIT Tech.</td><td>6.16</td></tr><tr><td>Caplin Point Lab</td><td>32.49</td></tr><tr><td>Indian Energy Ex</td><td>70.98</td></tr><tr><td>Shoppers St.</td><td>null</td></tr><tr><td>Godfrey Phillips</td><td>7.75</td></tr><tr><td>Jindal Stain .Hi</td><td>1.84</td></tr><tr><td>R C F</td><td>2.26</td></tr><tr><td>Rallis India</td><td>11.52</td></tr><tr><td>Stand.Chart.PLC</td><td>null</td></tr><tr><td>G M D C</td><td>8.81</td></tr><tr><td>Manpasand Bever.</td><td>30.79</td></tr><tr><td>Tata Inv.Corpn.</td><td>93.61</td></tr><tr><td>Essel Propack</td><td>7.35</td></tr><tr><td>Allcargo Logist.</td><td>2.95</td></tr><tr><td>Radico Khaitan</td><td>9.03</td></tr><tr><td>Cera Sanitary.</td><td>14.98</td></tr><tr><td>Forbes & Co</td><td>67.76</td></tr><tr><td>S B T</td><td>1.83</td></tr><tr><td>KNR Construct.</td><td>9.98</td></tr><tr><td>PNC Infratech</td><td>9.12</td></tr><tr><td>Greenply Inds.</td><td>10.76</td></tr><tr><td>Ujjivan Fin.Ser.</td><td>null</td></tr><tr><td>Monsanto India</td><td>23.36</td></tr><tr><td>Vinati Organics</td><td>23.05</td></tr><tr><td>Jindal Saw</td><td>null</td></tr><tr><td>Lux Industries</td><td>14.36</td></tr><tr><td>Linde India</td><td>null</td></tr><tr><td>Ratnamani Metals</td><td>7.83</td></tr><tr><td>Cox & Kings</td><td>3.08</td></tr><tr><td>Omaxe</td><td>8.22</td></tr><tr><td>Ashoka Buildcon</td><td>5.71</td></tr><tr><td>Time Technoplast</td><td>5.51</td></tr><tr><td>Phillips Carbon</td><td>6.78</td></tr><tr><td>Allahabad Bank</td><td>0.97</td></tr><tr><td>Welspun Corp</td><td>1.78</td></tr><tr><td>NESCO</td><td>50.77</td></tr><tr><td>CARE Ratings</td><td>54.67</td></tr><tr><td>JP Associates</td><td>null</td></tr><tr><td>Andhra Bank</td><td>0.89</td></tr><tr><td>Zensar Tech.</td><td>5.12</td></tr><tr><td>S H Kelkar & Co.</td><td>14.33</td></tr><tr><td>Mahindra Holiday</td><td>15.06</td></tr><tr><td>Sintex Plastics</td><td>3.02</td></tr><tr><td>SREI Infra. Fin.</td><td>2.85</td></tr><tr><td>Techno Elec.</td><td>14.42</td></tr><tr><td>Minda Corp</td><td>6.25</td></tr><tr><td>HMT</td><td>null</td></tr><tr><td>KPIT Tech.</td><td>4.3</td></tr><tr><td>Triveni Turbine</td><td>23.61</td></tr><tr><td>Shankara Build.</td><td>6.25</td></tr><tr><td>Multi Comm. Exc.</td><td>63.1</td></tr><tr><td>Brigade Enterpr.</td><td>9.07</td></tr><tr><td>Gayatri Projects</td><td>null</td></tr><tr><td>Magma Fincorp</td><td>6.59</td></tr><tr><td>VRL Logistics</td><td>7.82</td></tr><tr><td>ICRA</td><td>45.96</td></tr><tr><td>Shriram Pistons</td><td>8.83</td></tr><tr><td>IFCI</td><td>6.05</td></tr><tr><td>Suprajit Engg.</td><td>10.31</td></tr><tr><td>J & K Bank</td><td>2.24</td></tr><tr><td>Navin Fluo.Intl.</td><td>17.02</td></tr><tr><td>Karnataka Bank</td><td>2.83</td></tr><tr><td>Shilpa Medicare</td><td>20.29</td></tr><tr><td>Kushal</td><td>6.51</td></tr><tr><td>Venky's (India)</td><td>5.4</td></tr><tr><td>CCL Products</td><td>13.68</td></tr><tr><td>Excel Crop Care</td><td>14.44</td></tr><tr><td>Trident</td><td>3.27</td></tr><tr><td>Corporation Bank</td><td>0.85</td></tr><tr><td>Rane Holdings</td><td>6.25</td></tr><tr><td>Team Lease Serv.</td><td>4.01</td></tr><tr><td>Oriental Bank</td><td>0.86</td></tr><tr><td>I T D C</td><td>35.43</td></tr><tr><td>JP Power Ven.</td><td>null</td></tr><tr><td>S C I</td><td>4.07</td></tr><tr><td>JK Tyre & Indust</td><td>1.69</td></tr><tr><td>Deepak Nitrite</td><td>9.52</td></tr><tr><td>Heidelberg Cem.</td><td>7.19</td></tr><tr><td>Amber Enterp.</td><td>null</td></tr><tr><td>Sharda Cropchem</td><td>10.84</td></tr><tr><td>Dixon Technolog.</td><td>5.2</td></tr><tr><td>Himatsing. Seide</td><td>5.89</td></tr><tr><td>La Opala RG</td><td>50.32</td></tr><tr><td>H F C L</td><td>4.87</td></tr><tr><td>Reliance Home</td><td>8.61</td></tr><tr><td>Rupa & Co</td><td>12.45</td></tr><tr><td>Hind.Construct.</td><td>null</td></tr><tr><td>Ent.Network</td><td>22.78</td></tr><tr><td>Supreme Petroch.</td><td>4.66</td></tr><tr><td>MAS FINANC SER</td><td>30.13</td></tr><tr><td>Thyrocare Tech.</td><td>43.35</td></tr><tr><td>Prakash Inds.</td><td>4.6</td></tr><tr><td>Repco Home Fin</td><td>12.0</td></tr><tr><td>Sonata Software</td><td>4.34</td></tr><tr><td>Central Dep. Ser</td><td>70.2</td></tr><tr><td>Puravankara</td><td>7.44</td></tr><tr><td>Tejas Networks</td><td>13.96</td></tr><tr><td>ITD Cem</td><td>6.75</td></tr><tr><td>Hathway Cable</td><td>23.0</td></tr><tr><td>Dhanuka Agritech</td><td>14.39</td></tr><tr><td>Mahindra Logis.</td><td>3.82</td></tr><tr><td>Heritage Foods</td><td>5.48</td></tr><tr><td>Mah. Seamless</td><td>5.61</td></tr><tr><td>Navneet Educat.</td><td>18.05</td></tr><tr><td>Firstsour.Solu.</td><td>3.54</td></tr><tr><td>Kaveri Seed Co.</td><td>44.25</td></tr><tr><td>Star Ferro Cem.</td><td>7.92</td></tr><tr><td>Deepak Fert.</td><td>1.87</td></tr><tr><td>Va Tech Wabag</td><td>6.6</td></tr><tr><td>Prime Focus</td><td>4.97</td></tr><tr><td>Lak. Vilas Bank</td><td>3.83</td></tr><tr><td>NOCIL</td><td>12.14</td></tr><tr><td>Orient Cement</td><td>5.91</td></tr><tr><td>Natl.Fertilizer</td><td>1.06</td></tr></tbody></table></div>"
      ]
     },
     "metadata": {
      "application/vnd.databricks.v1+output": {
       "addedWidgets": {},
       "aggData": [],
       "aggError": "",
       "aggOverflow": false,
       "aggSchema": [],
       "aggSeriesLimitReached": false,
       "aggType": "",
       "arguments": {},
       "columnCustomDisplayInfos": {},
       "data": [
        [
         "Reliance Inds.",
         5.85
        ],
        [
         "TCS",
         18.24
        ],
        [
         "HDFC Bank",
         23.47
        ],
        [
         "ITC",
         32.85
        ],
        [
         "H D F C",
         17.19
        ],
        [
         "Hind. Unilever",
         33.56
        ],
        [
         "Maruti Suzuki",
         13.66
        ],
        [
         "Infosys",
         13.96
        ],
        [
         "O N G C",
         10.44
        ],
        [
         "St Bk of India",
         4.08
        ],
        [
         "ICICI Bank",
         14.91
        ],
        [
         "Kotak Mah. Bank",
         31.18
        ],
        [
         "Coal India",
         8.9
        ],
        [
         "Larsen & Toubro",
         6.29
        ],
        [
         "I O C L",
         1.61
        ],
        [
         "Bharti Airtel",
         8.23
        ],
        [
         "Axis Bank",
         11.64
        ],
        [
         "NTPC",
         6.52
        ],
        [
         "Sun Pharma.Inds.",
         20.18
        ],
        [
         "Hind.Zinc",
         22.5
        ],
        [
         "Wipro",
         9.65
        ],
        [
         "HCL Technologies",
         9.86
        ],
        [
         "Vedanta",
         5.02
        ],
        [
         "Tata Motors",
         1.58
        ],
        [
         "UltraTech Cem.",
         14.18
        ],
        [
         "Asian Paints",
         25.36
        ],
        [
         "Power Grid Corpn",
         13.59
        ],
        [
         "B P C L",
         1.62
        ],
        [
         "IndusInd Bank",
         22.72
        ],
        [
         "Bajaj Fin.",
         26.68
        ],
        [
         "Bajaj Auto",
         13.86
        ],
        [
         "M & M",
         7.61
        ],
        [
         "HDFC Stand. Life",
         8.97
        ],
        [
         "Adani Ports",
         30.42
        ],
        [
         "Bajaj Finserv",
         10.41
        ],
        [
         "GAIL (India)",
         5.46
        ],
        [
         "Avenue Super.",
         18.09
        ],
        [
         "Titan Company",
         17.28
        ],
        [
         "JSW Steel",
         4.14
        ],
        [
         "Grasim Inds",
         4.81
        ],
        [
         "Tata Steel",
         2.26
        ],
        [
         "Eicher Motors",
         32.31
        ],
        [
         "Nestle India",
         28.07
        ],
        [
         "Godrej Consumer",
         27.32
        ],
        [
         "Yes Bank",
         14.01
        ],
        [
         "Hero Motocorp",
         9.51
        ],
        [
         "Motherson Sumi",
         4.76
        ],
        [
         "SBI Life Insuran",
         7.05
        ],
        [
         "General Insuranc",
         7.75
        ],
        [
         "Dabur India",
         30.52
        ],
        [
         "Bosch",
         19.27
        ],
        [
         "Shree Cement",
         25.69
        ],
        [
         "New India Assura",
         11.45
        ],
        [
         "H P C L",
         1.01
        ],
        [
         "ICICI Pru Life",
         4.26
        ],
        [
         "Britannia Inds.",
         22.14
        ],
        [
         "Tech Mahindra",
         7.23
        ],
        [
         "Hindalco Inds.",
         5.07
        ],
        [
         "Zee Entertainmen",
         29.82
        ],
        [
         "Cairn India",
         24.9
        ],
        [
         "Indiabulls Hous.",
         16.94
        ],
        [
         "Ambuja Cem.",
         8.49
        ],
        [
         "Interglobe Aviat",
         7.87
        ],
        [
         "Cipla",
         12.41
        ],
        [
         "Piramal Enterp.",
         16.61
        ],
        [
         "United Spirits",
         20.64
        ],
        [
         "Pidilite Inds.",
         29.72
        ],
        [
         "Siemens",
         18.21
        ],
        [
         "Cadila Health.",
         12.85
        ],
        [
         "NMDC",
         16.77
        ],
        [
         "DLF",
         23.71
        ],
        [
         "Marico",
         29.77
        ],
        [
         "Ashok Leyland",
         5.49
        ],
        [
         "Bharat Electron",
         15.03
        ],
        [
         "ICICI Lombard",
         17.63
        ],
        [
         "Lupin",
         9.28
        ],
        [
         "Petronet LNG",
         4.72
        ],
        [
         "Aditya Birla Cap",
         10.89
        ],
        [
         "Dr Reddy's Labs",
         9.36
        ],
        [
         "Sun TV Network",
         52.43
        ],
        [
         "S A I L",
         2.33
        ],
        [
         "UPL",
         8.43
        ],
        [
         "Oracle Fin.Serv.",
         32.69
        ],
        [
         "Bharat Forge",
         24.74
        ],
        [
         "Biocon",
         32.47
        ],
        [
         "B H E L",
         5.16
        ],
        [
         "Aurobindo Pharma",
         7.77
        ],
        [
         "Bank of Baroda",
         2.95
        ],
        [
         "Idea Cellular",
         5.08
        ],
        [
         "A B B",
         11.51
        ],
        [
         "Havells India",
         16.18
        ],
        [
         "Container Corpn.",
         19.18
        ],
        [
         "TVS Motor Co.",
         8.39
        ],
        [
         "ACC",
         8.82
        ],
        [
         "Bajaj Holdings",
         95.35
        ],
        [
         "P & G Hygiene",
         42.89
        ],
        [
         "MRF",
         7.91
        ],
        [
         "Shriram Trans.",
         9.5
        ],
        [
         "L&T Fin.Holdings",
         11.0
        ],
        [
         "Punjab Natl.Bank",
         2.32
        ],
        [
         "NHPC Ltd",
         18.73
        ],
        [
         "Power Fin.Corpn.",
         4.5
        ],
        [
         "United Breweries",
         23.22
        ],
        [
         "Oil India",
         9.61
        ],
        [
         "Rural Elec.Corp.",
         4.98
        ],
        [
         "GlaxoSmith C H L",
         26.42
        ],
        [
         "M & M Fin. Serv.",
         12.34
        ],
        [
         "Divi's Lab.",
         25.93
        ],
        [
         "Kansai Nerolac",
         23.07
        ],
        [
         "Alkem Lab",
         18.25
        ],
        [
         "LIC Housing Fin.",
         6.92
        ],
        [
         "Future Retail",
         5.51
        ],
        [
         "Page Industries",
         40.87
        ],
        [
         "Dalmia Bhar.",
         12.1
        ],
        [
         "IIFL Holdings",
         15.38
        ],
        [
         "L & T Infotech",
         13.07
        ],
        [
         "Aditya Bir. Nuv.",
         5.74
        ],
        [
         "Emami",
         31.35
        ],
        [
         "Cummins India",
         17.39
        ],
        [
         "Berger Paints",
         17.58
        ],
        [
         "Rajesh Exports",
         0.57
        ],
        [
         "Tata Power Co.",
         3.36
        ],
        [
         "3M India",
         35.77
        ],
        [
         "Jindal Steel",
         3.3
        ],
        [
         "Edelweiss.Fin.",
         11.07
        ],
        [
         "Gillette India",
         53.93
        ],
        [
         "Adani Enterp.",
         2.19
        ],
        [
         "Adani Transmissi",
         12.16
        ],
        [
         "Balkrishna Inds",
         19.32
        ],
        [
         "Cholaman.Inv.&Fn",
         14.83
        ],
        [
         "Indraprastha Gas",
         17.55
        ],
        [
         "M R P L",
         1.47
        ],
        [
         "Glaxosmi. Pharma",
         29.11
        ],
        [
         "PNB Housing",
         13.93
        ],
        [
         "RBL Bank",
         17.16
        ],
        [
         "Castrol India",
         19.38
        ],
        [
         "Canara Bank",
         1.73
        ],
        [
         "GRUH Finance",
         43.26
        ],
        [
         "KIOCL",
         41.86
        ],
        [
         "Voltas",
         13.42
        ],
        [
         "Godrej Inds.",
         7.44
        ],
        [
         "Whirlpool India",
         19.05
        ],
        [
         "Sundaram Finance",
         26.81
        ],
        [
         "Federal Bank",
         7.23
        ],
        [
         "Tata Comm",
         4.37
        ],
        [
         "Tata Chemicals",
         6.97
        ],
        [
         "Exide Inds.",
         7.88
        ],
        [
         "IDFC Bank",
         7.78
        ],
        [
         "NBCC",
         13.4
        ],
        [
         "IDBI Bank",
         3.03
        ],
        [
         "The Ramco Cement",
         16.33
        ],
        [
         "Dewan Hsg. Fin.",
         6.5
        ],
        [
         "MphasiS",
         10.07
        ],
        [
         "Apollo Hospitals",
         8.8
        ],
        [
         "Reliance Nip.Lif",
         42.27
        ],
        [
         "Tata Global",
         9.59
        ],
        [
         "Godrej Propert.",
         26.39
        ],
        [
         "AU Small Finance",
         35.45
        ],
        [
         "Indian Hotels",
         13.49
        ],
        [
         "Motil.Oswal.Fin.",
         22.11
        ],
        [
         "H U D C O",
         15.09
        ],
        [
         "Oberoi Realty",
         45.04
        ],
        [
         "Indian Bank",
         3.61
        ],
        [
         "SJVN",
         35.53
        ],
        [
         "Bank of India",
         1.64
        ],
        [
         "Supreme Inds.",
         11.93
        ],
        [
         "Muthoot Finance",
         9.8
        ],
        [
         "NLC India",
         8.91
        ],
        [
         "Info Edg.(India)",
         null
        ],
        [
         "Glenmark Pharma.",
         6.71
        ],
        [
         "Jubilant Life",
         7.15
        ],
        [
         "Crompton Gr. Con",
         15.6
        ],
        [
         "Honeywell Auto",
         20.13
        ],
        [
         "Natco Pharma",
         25.71
        ],
        [
         "PC Jeweller",
         5.42
        ],
        [
         "Quess Corp",
         9.05
        ],
        [
         "CRISIL",
         32.11
        ],
        [
         "WABCO India",
         21.3
        ],
        [
         "Amara Raja Batt.",
         8.87
        ],
        [
         "Sterlite Tech.",
         16.46
        ],
        [
         "AIA Engg.",
         23.76
        ],
        [
         "KRBL",
         17.22
        ],
        [
         "Max Financial",
         null
        ],
        [
         "Indiabulls Vent.",
         56.18
        ],
        [
         "Century Textiles",
         6.46
        ],
        [
         "Jubilant Food.",
         16.57
        ],
        [
         "Bayer Crop Sci.",
         27.45
        ],
        [
         "Graphite India",
         14.07
        ],
        [
         "JSW Energy",
         6.57
        ],
        [
         "Central Bank",
         2.16
        ],
        [
         "CESC",
         7.62
        ],
        [
         "Shri.City Union.",
         9.71
        ],
        [
         "L&T Technology",
         13.35
        ],
        [
         "Rain Industries",
         4.15
        ],
        [
         "Torrent Power",
         4.57
        ],
        [
         "Dilip Buildcon",
         6.45
        ],
        [
         "TI Financial",
         14.11
        ],
        [
         "JM Financial",
         14.78
        ],
        [
         "Adani Power",
         2.5
        ],
        [
         "Reliance Power",
         4.82
        ],
        [
         "Reliance Capital",
         2.52
        ],
        [
         "Syngene Intl.",
         30.82
        ],
        [
         "Abbott India",
         13.53
        ],
        [
         "Hatsun AgroProd.",
         11.74
        ],
        [
         "Symphony",
         54.6
        ],
        [
         "Gujarat Gas",
         7.48
        ],
        [
         "Reliance Infra.",
         2.0
        ],
        [
         "Aditya Bir. Fas.",
         6.32
        ],
        [
         "Ajanta Pharma",
         19.85
        ],
        [
         "P I Inds.",
         21.51
        ],
        [
         "City Union Bank",
         13.35
        ],
        [
         "Varun Beverages",
         34.85
        ],
        [
         "Mindtree",
         8.3
        ],
        [
         "Prestige Estates",
         8.92
        ],
        [
         "Future Consumer",
         14.29
        ],
        [
         "Sundram Fasten.",
         13.21
        ],
        [
         "Sanofi India",
         16.75
        ],
        [
         "Guj.St.Petronet",
         31.6
        ],
        [
         "Godrej Agrovet",
         12.61
        ],
        [
         "Finolex Cables",
         16.6
        ],
        [
         "Bombay Burmah",
         null
        ],
        [
         "SRF",
         7.76
        ],
        [
         "GE T&D India",
         7.49
        ],
        [
         "Alembic Pharma",
         12.81
        ],
        [
         "SPARC",
         553.82
        ],
        [
         "GMR Infra.",
         5.14
        ],
        [
         "HEG",
         12.61
        ],
        [
         "Trent",
         20.31
        ],
        [
         "Engineers India",
         22.32
        ],
        [
         "Avanti Feeds",
         14.95
        ],
        [
         "Pfizer",
         23.02
        ],
        [
         "Escorts",
         8.67
        ],
        [
         "Tata Motors-DVR",
         1.34
        ],
        [
         "Blue Dart Exp.",
         14.79
        ],
        [
         "Indbull.RealEst.",
         4.92
        ],
        [
         "ERIS Lifescience",
         56.47
        ],
        [
         "Arvind Ltd",
         3.79
        ],
        [
         "Sundaram Clayton",
         null
        ],
        [
         "Hexaware Tech.",
         9.84
        ],
        [
         "SKF India",
         13.66
        ],
        [
         "Delta Corp",
         58.78
        ],
        [
         "Union Bank (I)",
         1.15
        ],
        [
         "TV18 Broadcast",
         34.9
        ],
        [
         "Minda Inds.",
         8.95
        ],
        [
         "Solar Inds.",
         20.01
        ],
        [
         "Kajaria Ceramics",
         14.08
        ],
        [
         "Astral Poly",
         17.33
        ],
        [
         "Bata India",
         13.57
        ],
        [
         "Phoenix Mills",
         21.84
        ],
        [
         "BASF India",
         6.86
        ],
        [
         "DCM Shriram",
         4.87
        ],
        [
         "Infibeam Incorp.",
         40.5
        ],
        [
         "Aegis Logistics",
         5.97
        ],
        [
         "Mahindra CIE",
         null
        ],
        [
         "Jet Airways",
         1.4
        ],
        [
         "SpiceJet",
         4.06
        ],
        [
         "Thomas Cook (I)",
         2.81
        ],
        [
         "Guj Fluorochem",
         8.71
        ],
        [
         "Wockhardt",
         8.38
        ],
        [
         "Akzo Nobel",
         11.78
        ],
        [
         "I D F C",
         3.0
        ],
        [
         "Security & Intel",
         5.36
        ],
        [
         "Asahi India Glas",
         12.78
        ],
        [
         "TTK Prestige",
         17.8
        ],
        [
         "ITI",
         32.37
        ],
        [
         "Karur Vysya Bank",
         5.67
        ],
        [
         "Vardhman Textile",
         4.87
        ],
        [
         "Fortis Health.",
         6.89
        ],
        [
         "Ipca Labs.",
         9.24
        ],
        [
         "Sheela Foam",
         14.69
        ],
        [
         "IRB Infra.Devl.",
         6.03
        ],
        [
         "Atul",
         9.69
        ],
        [
         "Finolex Inds.",
         10.77
        ],
        [
         "Dish TV",
         10.48
        ],
        [
         "Rel. Comm.",
         6.73
        ],
        [
         "Dr Lal Pathlabs",
         28.74
        ],
        [
         "OCL India",
         8.67
        ],
        [
         "NCC",
         2.68
        ],
        [
         "Relaxo Footwear",
         15.85
        ],
        [
         "J K Cements",
         6.42
        ],
        [
         "G N F C",
         4.53
        ],
        [
         "Cochin Shipyard",
         11.63
        ],
        [
         "Birla Corpn.",
         5.14
        ],
        [
         "Future Lifestyle",
         5.9
        ],
        [
         "Century Ply.",
         13.66
        ],
        [
         "Blue Star",
         7.09
        ],
        [
         "Kalpataru Power",
         4.9
        ],
        [
         "Suzlon Energy",
         5.82
        ],
        [
         "Cyient",
         7.04
        ],
        [
         "Hind.Copper",
         15.68
        ],
        [
         "Guj Pipavav Port",
         42.2
        ],
        [
         "Carborundum Uni.",
         11.18
        ],
        [
         "Can Fin Homes",
         17.37
        ],
        [
         "Sadbhav Engg.",
         3.16
        ],
        [
         "Advanta",
         18.64
        ],
        [
         "Capital First",
         6.79
        ],
        [
         "Lak. Mach. Works",
         12.27
        ],
        [
         "Himadri Specialt",
         13.29
        ],
        [
         "Coffee Day Enter",
         6.84
        ],
        [
         "PVR",
         11.83
        ],
        [
         "Chambal Fert.",
         2.81
        ],
        [
         "Vijaya Bank",
         2.08
        ],
        [
         "Welspun India",
         4.66
        ],
        [
         "CEAT",
         4.11
        ],
        [
         "Strides Shasun",
         8.64
        ],
        [
         "Narayana Hrudaya",
         11.52
        ],
        [
         "Jyothy Lab.",
         14.67
        ],
        [
         "Johnson Con. Hit",
         16.45
        ],
        [
         "Prism Cement",
         null
        ],
        [
         "Tata Elxsi",
         17.81
        ],
        [
         "Syndicate Bank",
         1.13
        ],
        [
         "D B Corp",
         10.12
        ],
        [
         "Jain Irrigation",
         3.19
        ],
        [
         "Persistent Sys",
         7.57
        ],
        [
         "Redington India",
         0.5
        ],
        [
         "Sunteck Realty",
         29.11
        ],
        [
         "Raymond",
         3.95
        ],
        [
         "MOIL",
         19.48
        ],
        [
         "Bombay Dyeing",
         9.39
        ],
        [
         "GE Shipping Co",
         9.93
        ],
        [
         "Grindwell Norton",
         15.62
        ],
        [
         "EID Parry",
         1.59
        ],
        [
         "I O B",
         1.31
        ],
        [
         "Galaxy Surfact.",
         6.73
        ],
        [
         "Laurus Labs",
         11.62
        ],
        [
         "Guj Alkalies",
         8.9
        ],
        [
         "GE Power",
         null
        ],
        [
         "Timken India",
         19.73
        ],
        [
         "C P C L",
         0.63
        ],
        [
         "Dishman Carbogen",
         11.78
        ],
        [
         "St Bk of Bikaner",
         2.39
        ],
        [
         "MMTC",
         null
        ],
        [
         "IFB Inds.",
         9.96
        ],
        [
         "eClerx Services",
         15.47
        ],
        [
         "Sobha",
         7.55
        ],
        [
         "Kirloskar Oil",
         7.61
        ],
        [
         "G S F C",
         3.38
        ],
        [
         "CG Power & Indu.",
         3.4
        ],
        [
         "Westlife Develop",
         16.86
        ],
        [
         "K P R Mill Ltd",
         7.2
        ],
        [
         "Tube Investments",
         4.03
        ],
        [
         "Bajaj Electrical",
         4.48
        ],
        [
         "VST Inds.",
         21.38
        ],
        [
         "BEML Ltd",
         6.96
        ],
        [
         "FDC",
         20.44
        ],
        [
         "DCB Bank",
         8.32
        ],
        [
         "Star Cement",
         13.44
        ],
        [
         "Netwrk.18 Media",
         13.84
        ],
        [
         "Gulf Oil Lubric.",
         14.1
        ],
        [
         "UCO Bank",
         1.45
        ],
        [
         "Jagran Prakashan",
         8.35
        ],
        [
         "Elgi Equipment",
         11.93
        ],
        [
         "JK Lakshmi Cem.",
         5.89
        ],
        [
         "Zydus Wellness",
         37.17
        ],
        [
         "Equitas Holdings",
         11.37
        ],
        [
         "India Cements",
         4.03
        ],
        [
         "Dishman Pharma.",
         9.1
        ],
        [
         "South Ind.Bank",
         3.08
        ],
        [
         "Polaris Consulta",
         7.1
        ],
        [
         "V I P Inds.",
         14.26
        ],
        [
         "APL Apollo",
         3.63
        ],
        [
         "Sadbhav Infra.",
         7.58
        ],
        [
         "Jindal Stain.",
         1.58
        ],
        [
         "Swan Energy",
         null
        ],
        [
         "NIIT Tech.",
         6.16
        ],
        [
         "Caplin Point Lab",
         32.49
        ],
        [
         "Indian Energy Ex",
         70.98
        ],
        [
         "Shoppers St.",
         null
        ],
        [
         "Godfrey Phillips",
         7.75
        ],
        [
         "Jindal Stain .Hi",
         1.84
        ],
        [
         "R C F",
         2.26
        ],
        [
         "Rallis India",
         11.52
        ],
        [
         "Stand.Chart.PLC",
         null
        ],
        [
         "G M D C",
         8.81
        ],
        [
         "Manpasand Bever.",
         30.79
        ],
        [
         "Tata Inv.Corpn.",
         93.61
        ],
        [
         "Essel Propack",
         7.35
        ],
        [
         "Allcargo Logist.",
         2.95
        ],
        [
         "Radico Khaitan",
         9.03
        ],
        [
         "Cera Sanitary.",
         14.98
        ],
        [
         "Forbes & Co",
         67.76
        ],
        [
         "S B T",
         1.83
        ],
        [
         "KNR Construct.",
         9.98
        ],
        [
         "PNC Infratech",
         9.12
        ],
        [
         "Greenply Inds.",
         10.76
        ],
        [
         "Ujjivan Fin.Ser.",
         null
        ],
        [
         "Monsanto India",
         23.36
        ],
        [
         "Vinati Organics",
         23.05
        ],
        [
         "Jindal Saw",
         null
        ],
        [
         "Lux Industries",
         14.36
        ],
        [
         "Linde India",
         null
        ],
        [
         "Ratnamani Metals",
         7.83
        ],
        [
         "Cox & Kings",
         3.08
        ],
        [
         "Omaxe",
         8.22
        ],
        [
         "Ashoka Buildcon",
         5.71
        ],
        [
         "Time Technoplast",
         5.51
        ],
        [
         "Phillips Carbon",
         6.78
        ],
        [
         "Allahabad Bank",
         0.97
        ],
        [
         "Welspun Corp",
         1.78
        ],
        [
         "NESCO",
         50.77
        ],
        [
         "CARE Ratings",
         54.67
        ],
        [
         "JP Associates",
         null
        ],
        [
         "Andhra Bank",
         0.89
        ],
        [
         "Zensar Tech.",
         5.12
        ],
        [
         "S H Kelkar & Co.",
         14.33
        ],
        [
         "Mahindra Holiday",
         15.06
        ],
        [
         "Sintex Plastics",
         3.02
        ],
        [
         "SREI Infra. Fin.",
         2.85
        ],
        [
         "Techno Elec.",
         14.42
        ],
        [
         "Minda Corp",
         6.25
        ],
        [
         "HMT",
         null
        ],
        [
         "KPIT Tech.",
         4.3
        ],
        [
         "Triveni Turbine",
         23.61
        ],
        [
         "Shankara Build.",
         6.25
        ],
        [
         "Multi Comm. Exc.",
         63.1
        ],
        [
         "Brigade Enterpr.",
         9.07
        ],
        [
         "Gayatri Projects",
         null
        ],
        [
         "Magma Fincorp",
         6.59
        ],
        [
         "VRL Logistics",
         7.82
        ],
        [
         "ICRA",
         45.96
        ],
        [
         "Shriram Pistons",
         8.83
        ],
        [
         "IFCI",
         6.05
        ],
        [
         "Suprajit Engg.",
         10.31
        ],
        [
         "J & K Bank",
         2.24
        ],
        [
         "Navin Fluo.Intl.",
         17.02
        ],
        [
         "Karnataka Bank",
         2.83
        ],
        [
         "Shilpa Medicare",
         20.29
        ],
        [
         "Kushal",
         6.51
        ],
        [
         "Venky's (India)",
         5.4
        ],
        [
         "CCL Products",
         13.68
        ],
        [
         "Excel Crop Care",
         14.44
        ],
        [
         "Trident",
         3.27
        ],
        [
         "Corporation Bank",
         0.85
        ],
        [
         "Rane Holdings",
         6.25
        ],
        [
         "Team Lease Serv.",
         4.01
        ],
        [
         "Oriental Bank",
         0.86
        ],
        [
         "I T D C",
         35.43
        ],
        [
         "JP Power Ven.",
         null
        ],
        [
         "S C I",
         4.07
        ],
        [
         "JK Tyre & Indust",
         1.69
        ],
        [
         "Deepak Nitrite",
         9.52
        ],
        [
         "Heidelberg Cem.",
         7.19
        ],
        [
         "Amber Enterp.",
         null
        ],
        [
         "Sharda Cropchem",
         10.84
        ],
        [
         "Dixon Technolog.",
         5.2
        ],
        [
         "Himatsing. Seide",
         5.89
        ],
        [
         "La Opala RG",
         50.32
        ],
        [
         "H F C L",
         4.87
        ],
        [
         "Reliance Home",
         8.61
        ],
        [
         "Rupa & Co",
         12.45
        ],
        [
         "Hind.Construct.",
         null
        ],
        [
         "Ent.Network",
         22.78
        ],
        [
         "Supreme Petroch.",
         4.66
        ],
        [
         "MAS FINANC SER",
         30.13
        ],
        [
         "Thyrocare Tech.",
         43.35
        ],
        [
         "Prakash Inds.",
         4.6
        ],
        [
         "Repco Home Fin",
         12.0
        ],
        [
         "Sonata Software",
         4.34
        ],
        [
         "Central Dep. Ser",
         70.2
        ],
        [
         "Puravankara",
         7.44
        ],
        [
         "Tejas Networks",
         13.96
        ],
        [
         "ITD Cem",
         6.75
        ],
        [
         "Hathway Cable",
         23.0
        ],
        [
         "Dhanuka Agritech",
         14.39
        ],
        [
         "Mahindra Logis.",
         3.82
        ],
        [
         "Heritage Foods",
         5.48
        ],
        [
         "Mah. Seamless",
         5.61
        ],
        [
         "Navneet Educat.",
         18.05
        ],
        [
         "Firstsour.Solu.",
         3.54
        ],
        [
         "Kaveri Seed Co.",
         44.25
        ],
        [
         "Star Ferro Cem.",
         7.92
        ],
        [
         "Deepak Fert.",
         1.87
        ],
        [
         "Va Tech Wabag",
         6.6
        ],
        [
         "Prime Focus",
         4.97
        ],
        [
         "Lak. Vilas Bank",
         3.83
        ],
        [
         "NOCIL",
         12.14
        ],
        [
         "Orient Cement",
         5.91
        ],
        [
         "Natl.Fertilizer",
         1.06
        ]
       ],
       "datasetInfos": [],
       "dbfsResultPath": null,
       "isJsonSchema": true,
       "metadata": {},
       "overflow": false,
       "plotOptions": {
        "customPlotOptions": {},
        "displayType": "table",
        "pivotAggregation": null,
        "pivotColumns": null,
        "xColumns": null,
        "yColumns": null
       },
       "removedWidgets": [],
       "schema": [
        {
         "metadata": "{}",
         "name": "Company_name",
         "type": "\"string\""
        },
        {
         "metadata": "{}",
         "name": "Market_Cap_to_Sales_Ratio",
         "type": "\"double\""
        }
       ],
       "type": "table"
      }
     },
     "output_type": "display_data"
    }
   ],
   "source": [
    "from pyspark.sql.functions import expr\n",
    "\n",
    "# Calculate Market Cap to Sales Ratio\n",
    "\n",
    "df = df.withColumn(\"Market_Cap_to_Sales_Ratio\", round(col(\"Market_cap\") / col(\"Sales_Qtr\"),2))\n",
    "df.select(\"Company_name\", \"Market_Cap_to_Sales_Ratio\").display()\n"
   ]
  },
  {
   "cell_type": "markdown",
   "metadata": {
    "application/vnd.databricks.v1+cell": {
     "cellMetadata": {},
     "inputWidgets": {},
     "nuid": "4676b0cb-3e9c-4762-9cc5-c641acc2ac82",
     "showTitle": false,
     "title": ""
    }
   },
   "source": [
    " Top 5 Companies by Market Cap"
   ]
  },
  {
   "cell_type": "code",
   "execution_count": 0,
   "metadata": {
    "application/vnd.databricks.v1+cell": {
     "cellMetadata": {
      "byteLimit": 2048000,
      "rowLimit": 10000
     },
     "inputWidgets": {},
     "nuid": "85c25c76-ca96-4605-851a-429a0e6547c6",
     "showTitle": false,
     "title": ""
    }
   },
   "outputs": [
    {
     "output_type": "display_data",
     "data": {
      "text/html": [
       "<style scoped>\n",
       "  .table-result-container {\n",
       "    max-height: 300px;\n",
       "    overflow: auto;\n",
       "  }\n",
       "  table, th, td {\n",
       "    border: 1px solid black;\n",
       "    border-collapse: collapse;\n",
       "  }\n",
       "  th, td {\n",
       "    padding: 5px;\n",
       "  }\n",
       "  th {\n",
       "    text-align: left;\n",
       "  }\n",
       "</style><div class='table-result-container'><table class='table-result'><thead style='background-color: white'><tr><th>Sr.No</th><th>Company_name</th><th>Market_cap</th><th>Sales_Qtr</th><th>Market_Cap_to_Sales_Ratio</th></tr></thead><tbody><tr><td>1</td><td>Reliance Inds.</td><td>583436.72</td><td>99810.0</td><td>5.85</td></tr><tr><td>2</td><td>TCS</td><td>563709.84</td><td>30904.0</td><td>18.24</td></tr><tr><td>3</td><td>HDFC Bank</td><td>482953.59</td><td>20581.27</td><td>23.47</td></tr><tr><td>4</td><td>ITC</td><td>320985.27</td><td>9772.02</td><td>32.85</td></tr><tr><td>5</td><td>H D F C</td><td>289497.37</td><td>16840.51</td><td>17.19</td></tr></tbody></table></div>"
      ]
     },
     "metadata": {
      "application/vnd.databricks.v1+output": {
       "addedWidgets": {},
       "aggData": [],
       "aggError": "",
       "aggOverflow": false,
       "aggSchema": [],
       "aggSeriesLimitReached": false,
       "aggType": "",
       "arguments": {},
       "columnCustomDisplayInfos": {},
       "data": [
        [
         1,
         "Reliance Inds.",
         583436.72,
         99810.0,
         5.85
        ],
        [
         2,
         "TCS",
         563709.84,
         30904.0,
         18.24
        ],
        [
         3,
         "HDFC Bank",
         482953.59,
         20581.27,
         23.47
        ],
        [
         4,
         "ITC",
         320985.27,
         9772.02,
         32.85
        ],
        [
         5,
         "H D F C",
         289497.37,
         16840.51,
         17.19
        ]
       ],
       "datasetInfos": [],
       "dbfsResultPath": null,
       "isJsonSchema": true,
       "metadata": {},
       "overflow": false,
       "plotOptions": {
        "customPlotOptions": {},
        "displayType": "table",
        "pivotAggregation": null,
        "pivotColumns": null,
        "xColumns": null,
        "yColumns": null
       },
       "removedWidgets": [],
       "schema": [
        {
         "metadata": "{}",
         "name": "Sr.No",
         "type": "\"integer\""
        },
        {
         "metadata": "{}",
         "name": "Company_name",
         "type": "\"string\""
        },
        {
         "metadata": "{}",
         "name": "Market_cap",
         "type": "\"double\""
        },
        {
         "metadata": "{}",
         "name": "Sales_Qtr",
         "type": "\"double\""
        },
        {
         "metadata": "{}",
         "name": "Market_Cap_to_Sales_Ratio",
         "type": "\"double\""
        }
       ],
       "type": "table"
      }
     },
     "output_type": "display_data"
    },
    {
     "output_type": "display_data",
     "data": {
      "text/plain": [
       "Databricks visualization. Run in Databricks to view."
      ]
     },
     "metadata": {
      "application/vnd.databricks.v1.subcommand+json": {
       "baseErrorDetails": null,
       "bindings": {},
       "collapsed": false,
       "command": "%python\n__backend_agg_display_orig = display\n__backend_agg_dfs = []\ndef __backend_agg_display_new(df):\n    __backend_agg_df_modules = [\"pandas.core.frame\", \"databricks.koalas.frame\", \"pyspark.sql.dataframe\", \"pyspark.pandas.frame\", \"pyspark.sql.connect.dataframe\"]\n    if (type(df).__module__ in __backend_agg_df_modules and type(df).__name__ == 'DataFrame') or isinstance(df, list):\n        __backend_agg_dfs.append(df)\n\ndisplay = __backend_agg_display_new\n\ndef __backend_agg_user_code_fn():\n    import base64\n    exec(base64.standard_b64decode(\"IyBUb3AgNSBjb21wYW5pZXMgYnkgbWFya2V0IGNhcAp0b3BfNV9tYXJrZXRfY2FwID0gZGYub3JkZXJCeShjb2woIk1hcmtldF9jYXAiKS5kZXNjKCkpLmxpbWl0KDUpCnRvcF81X21hcmtldF9jYXAuZGlzcGxheSgp\").decode())\n\ntry:\n    # run user code\n    __backend_agg_user_code_fn()\n\n    #reset display function\n    display = __backend_agg_display_orig\n\n    if len(__backend_agg_dfs) > 0:\n        # create a temp view\n        if type(__backend_agg_dfs[0]).__module__ == \"databricks.koalas.frame\":\n            # koalas dataframe\n            __backend_agg_dfs[0].to_spark().createOrReplaceTempView(\"DatabricksView7883a65\")\n        elif type(__backend_agg_dfs[0]).__module__ == \"pandas.core.frame\" or isinstance(__backend_agg_dfs[0], list):\n            # pandas dataframe\n            spark.createDataFrame(__backend_agg_dfs[0]).createOrReplaceTempView(\"DatabricksView7883a65\")\n        else:\n            __backend_agg_dfs[0].createOrReplaceTempView(\"DatabricksView7883a65\")\n        #run backend agg\n        display(spark.sql(\"\"\"WITH q AS (select * from DatabricksView7883a65) SELECT `Company_name`,`Market_cap`,`Company_name` FROM q\"\"\"))\n    else:\n        displayHTML(\"dataframe no longer exists. If you're using dataframe.display(), use display(dataframe) instead.\")\n\n\nfinally:\n    spark.sql(\"drop view if exists DatabricksView7883a65\")\n    display = __backend_agg_display_orig\n    del __backend_agg_display_new\n    del __backend_agg_display_orig\n    del __backend_agg_dfs\n    del __backend_agg_user_code_fn\n\n",
       "commandTitle": "Visualization 1",
       "commandType": "auto",
       "commandVersion": 0,
       "commentThread": [],
       "commentsVisible": false,
       "contentSha256Hex": null,
       "customPlotOptions": {
        "redashChart": [
         {
          "key": "type",
          "value": "CHART"
         },
         {
          "key": "options",
          "value": {
           "alignYAxesAtZero": true,
           "coefficient": 1,
           "columnConfigurationMap": {
            "series": {
             "column": "Company_name",
             "id": "column_74f8e0eb6"
            },
            "x": {
             "column": "Company_name",
             "id": "column_74f8e0eb4"
            },
            "y": [
             {
              "column": "Market_cap",
              "id": "column_74f8e0eb8"
             }
            ]
           },
           "dateTimeFormat": "DD/MM/YYYY HH:mm",
           "direction": {
            "type": "counterclockwise"
           },
           "error_y": {
            "type": "data",
            "visible": true
           },
           "globalSeriesType": "column",
           "isAggregationOn": false,
           "legend": {
            "traceorder": "normal"
           },
           "missingValuesAsZero": true,
           "numberFormat": "0,0.[00000]",
           "percentFormat": "0[.]00%",
           "series": {
            "error_y": {
             "type": "data",
             "visible": true
            },
            "stacking": null
           },
           "seriesOptions": {
            "Market_cap": {
             "type": "column",
             "yAxis": 0
            },
            "Sr.No": {
             "type": "column",
             "yAxis": 0
            }
           },
           "showDataLabels": false,
           "sizemode": "diameter",
           "sortX": true,
           "sortY": true,
           "swappedAxes": false,
           "textFormat": "",
           "useAggregationsUi": true,
           "valuesOptions": {},
           "version": 2,
           "xAxis": {
            "labels": {
             "enabled": true
            },
            "type": "-"
           },
           "yAxis": [
            {
             "type": "-"
            },
            {
             "opposite": true,
             "type": "-"
            }
           ]
          }
         }
        ]
       },
       "datasetPreviewNameToCmdIdMap": {},
       "diffDeletes": [],
       "diffInserts": [],
       "displayType": "redashChart",
       "error": null,
       "errorDetails": null,
       "errorSummary": null,
       "errorTraceType": null,
       "finishTime": 0,
       "globalVars": {},
       "guid": "",
       "height": "auto",
       "hideCommandCode": false,
       "hideCommandResult": false,
       "iPythonMetadata": null,
       "inputWidgets": {},
       "isLockedInExamMode": false,
       "latestUser": "a user",
       "latestUserId": null,
       "listResultMetadata": null,
       "metadata": {},
       "nuid": "975d5492-e1cf-4b2f-b8a9-c3a7c67673f6",
       "origId": 0,
       "parentHierarchy": [],
       "pivotAggregation": null,
       "pivotColumns": null,
       "position": 26.0,
       "resultDbfsErrorMessage": null,
       "resultDbfsStatus": "INLINED_IN_TREE",
       "results": null,
       "showCommandTitle": false,
       "startTime": 0,
       "state": "input",
       "streamStates": {},
       "subcommandOptions": {
        "queryPlan": {
         "selects": [
          {
           "column": "Company_name",
           "type": "column"
          },
          {
           "column": "Market_cap",
           "type": "column"
          },
          {
           "column": "Company_name",
           "type": "column"
          }
         ]
        }
       },
       "submitTime": 0,
       "subtype": "tableResultSubCmd.visualization",
       "tableResultIndex": 0,
       "useConsistentColors": false,
       "version": "CommandV1",
       "width": "auto",
       "workflows": [],
       "xColumns": null,
       "yColumns": null
      }
     },
     "output_type": "display_data"
    }
   ],
   "source": [
    "# Top 5 companies by market cap\n",
    "top_5_market_cap = df.orderBy(col(\"Market_cap\").desc()).limit(5)\n",
    "top_5_market_cap.display()"
   ]
  },
  {
   "cell_type": "markdown",
   "metadata": {
    "application/vnd.databricks.v1+cell": {
     "cellMetadata": {},
     "inputWidgets": {},
     "nuid": "85b13535-190f-4a32-9e6b-a8ae96ef60fb",
     "showTitle": false,
     "title": ""
    }
   },
   "source": [
    "Top 5 Companies by Sales"
   ]
  },
  {
   "cell_type": "code",
   "execution_count": 0,
   "metadata": {
    "application/vnd.databricks.v1+cell": {
     "cellMetadata": {
      "byteLimit": 2048000,
      "rowLimit": 10000
     },
     "inputWidgets": {},
     "nuid": "5c246ee7-ac26-41a0-91af-f9f6257eabdb",
     "showTitle": false,
     "title": ""
    }
   },
   "outputs": [
    {
     "output_type": "display_data",
     "data": {
      "text/html": [
       "<style scoped>\n",
       "  .table-result-container {\n",
       "    max-height: 300px;\n",
       "    overflow: auto;\n",
       "  }\n",
       "  table, th, td {\n",
       "    border: 1px solid black;\n",
       "    border-collapse: collapse;\n",
       "  }\n",
       "  th, td {\n",
       "    padding: 5px;\n",
       "  }\n",
       "  th {\n",
       "    text-align: left;\n",
       "  }\n",
       "</style><div class='table-result-container'><table class='table-result'><thead style='background-color: white'><tr><th>Sr.No</th><th>Company_name</th><th>Market_cap</th><th>Sales_Qtr</th><th>Market_Cap_to_Sales_Ratio</th></tr></thead><tbody><tr><td>15</td><td>I O C L</td><td>178017.48</td><td>110666.93</td><td>1.61</td></tr><tr><td>1</td><td>Reliance Inds.</td><td>583436.72</td><td>99810.0</td><td>5.85</td></tr><tr><td>24</td><td>Tata Motors</td><td>117071.87</td><td>74156.07</td><td>1.58</td></tr><tr><td>28</td><td>B P C L</td><td>98278.0</td><td>60616.36</td><td>1.62</td></tr><tr><td>55</td><td>H P C L</td><td>58034.78</td><td>57474.25</td><td>1.01</td></tr></tbody></table></div>"
      ]
     },
     "metadata": {
      "application/vnd.databricks.v1+output": {
       "addedWidgets": {},
       "aggData": [],
       "aggError": "",
       "aggOverflow": false,
       "aggSchema": [],
       "aggSeriesLimitReached": false,
       "aggType": "",
       "arguments": {},
       "columnCustomDisplayInfos": {},
       "data": [
        [
         15,
         "I O C L",
         178017.48,
         110666.93,
         1.61
        ],
        [
         1,
         "Reliance Inds.",
         583436.72,
         99810.0,
         5.85
        ],
        [
         24,
         "Tata Motors",
         117071.87,
         74156.07,
         1.58
        ],
        [
         28,
         "B P C L",
         98278.0,
         60616.36,
         1.62
        ],
        [
         55,
         "H P C L",
         58034.78,
         57474.25,
         1.01
        ]
       ],
       "datasetInfos": [],
       "dbfsResultPath": null,
       "isJsonSchema": true,
       "metadata": {},
       "overflow": false,
       "plotOptions": {
        "customPlotOptions": {},
        "displayType": "table",
        "pivotAggregation": null,
        "pivotColumns": null,
        "xColumns": null,
        "yColumns": null
       },
       "removedWidgets": [],
       "schema": [
        {
         "metadata": "{}",
         "name": "Sr.No",
         "type": "\"integer\""
        },
        {
         "metadata": "{}",
         "name": "Company_name",
         "type": "\"string\""
        },
        {
         "metadata": "{}",
         "name": "Market_cap",
         "type": "\"double\""
        },
        {
         "metadata": "{}",
         "name": "Sales_Qtr",
         "type": "\"double\""
        },
        {
         "metadata": "{}",
         "name": "Market_Cap_to_Sales_Ratio",
         "type": "\"double\""
        }
       ],
       "type": "table"
      }
     },
     "output_type": "display_data"
    },
    {
     "output_type": "display_data",
     "data": {
      "text/plain": [
       "Databricks visualization. Run in Databricks to view."
      ]
     },
     "metadata": {
      "application/vnd.databricks.v1.subcommand+json": {
       "baseErrorDetails": null,
       "bindings": {},
       "collapsed": false,
       "command": "%python\n__backend_agg_display_orig = display\n__backend_agg_dfs = []\ndef __backend_agg_display_new(df):\n    __backend_agg_df_modules = [\"pandas.core.frame\", \"databricks.koalas.frame\", \"pyspark.sql.dataframe\", \"pyspark.pandas.frame\", \"pyspark.sql.connect.dataframe\"]\n    if (type(df).__module__ in __backend_agg_df_modules and type(df).__name__ == 'DataFrame') or isinstance(df, list):\n        __backend_agg_dfs.append(df)\n\ndisplay = __backend_agg_display_new\n\ndef __backend_agg_user_code_fn():\n    import base64\n    exec(base64.standard_b64decode(\"IyBUb3AgNSBjb21wYW5pZXMgYnkgc2FsZXMKdG9wXzVfc2FsZXNfcXRyID0gZGYub3JkZXJCeShjb2woIlNhbGVzX1F0ciIpLmRlc2MoKSkubGltaXQoNSkKdG9wXzVfc2FsZXNfcXRyLmRpc3BsYXkoKQ==\").decode())\n\ntry:\n    # run user code\n    __backend_agg_user_code_fn()\n\n    #reset display function\n    display = __backend_agg_display_orig\n\n    if len(__backend_agg_dfs) > 0:\n        # create a temp view\n        if type(__backend_agg_dfs[0]).__module__ == \"databricks.koalas.frame\":\n            # koalas dataframe\n            __backend_agg_dfs[0].to_spark().createOrReplaceTempView(\"DatabricksViewa66d40f\")\n        elif type(__backend_agg_dfs[0]).__module__ == \"pandas.core.frame\" or isinstance(__backend_agg_dfs[0], list):\n            # pandas dataframe\n            spark.createDataFrame(__backend_agg_dfs[0]).createOrReplaceTempView(\"DatabricksViewa66d40f\")\n        else:\n            __backend_agg_dfs[0].createOrReplaceTempView(\"DatabricksViewa66d40f\")\n        #run backend agg\n        display(spark.sql(\"\"\"WITH q AS (select * from DatabricksViewa66d40f) SELECT `Company_name`,SUM(`Sales_Qtr`) `column_74f8e0eb12`,`Company_name` FROM q GROUP BY `Company_name`\"\"\"))\n    else:\n        displayHTML(\"dataframe no longer exists. If you're using dataframe.display(), use display(dataframe) instead.\")\n\n\nfinally:\n    spark.sql(\"drop view if exists DatabricksViewa66d40f\")\n    display = __backend_agg_display_orig\n    del __backend_agg_display_new\n    del __backend_agg_display_orig\n    del __backend_agg_dfs\n    del __backend_agg_user_code_fn\n\n",
       "commandTitle": "Visualization 1",
       "commandType": "auto",
       "commandVersion": 0,
       "commentThread": [],
       "commentsVisible": false,
       "contentSha256Hex": null,
       "customPlotOptions": {
        "redashChart": [
         {
          "key": "type",
          "value": "CHART"
         },
         {
          "key": "options",
          "value": {
           "alignYAxesAtZero": true,
           "coefficient": 1,
           "columnConfigurationMap": {
            "series": {
             "column": "Company_name",
             "id": "column_74f8e0eb10"
            },
            "x": {
             "column": "Company_name",
             "id": "column_74f8e0eb9"
            },
            "y": [
             {
              "column": "Sales_Qtr",
              "id": "column_74f8e0eb12",
              "transform": "SUM"
             }
            ]
           },
           "dateTimeFormat": "DD/MM/YYYY HH:mm",
           "direction": {
            "type": "counterclockwise"
           },
           "error_y": {
            "type": "data",
            "visible": true
           },
           "globalSeriesType": "column",
           "isAggregationOn": true,
           "legend": {
            "traceorder": "normal"
           },
           "missingValuesAsZero": true,
           "numberFormat": "0,0.[00000]",
           "percentFormat": "0[.]00%",
           "series": {
            "error_y": {
             "type": "data",
             "visible": true
            },
            "stacking": null
           },
           "seriesOptions": {
            "column_74f8e0eb12": {
             "type": "column",
             "yAxis": 0
            }
           },
           "showDataLabels": false,
           "sizemode": "diameter",
           "sortX": true,
           "sortY": true,
           "swappedAxes": false,
           "textFormat": "",
           "useAggregationsUi": true,
           "valuesOptions": {},
           "version": 2,
           "xAxis": {
            "labels": {
             "enabled": true
            },
            "type": "-"
           },
           "yAxis": [
            {
             "type": "-"
            },
            {
             "opposite": true,
             "type": "-"
            }
           ]
          }
         }
        ]
       },
       "datasetPreviewNameToCmdIdMap": {},
       "diffDeletes": [],
       "diffInserts": [],
       "displayType": "redashChart",
       "error": null,
       "errorDetails": null,
       "errorSummary": null,
       "errorTraceType": null,
       "finishTime": 0,
       "globalVars": {},
       "guid": "",
       "height": "auto",
       "hideCommandCode": false,
       "hideCommandResult": false,
       "iPythonMetadata": null,
       "inputWidgets": {},
       "isLockedInExamMode": false,
       "latestUser": "a user",
       "latestUserId": null,
       "listResultMetadata": null,
       "metadata": {},
       "nuid": "88102278-972c-40a4-b4ec-c7cf07d6b0c4",
       "origId": 0,
       "parentHierarchy": [],
       "pivotAggregation": null,
       "pivotColumns": null,
       "position": 27.0,
       "resultDbfsErrorMessage": null,
       "resultDbfsStatus": "INLINED_IN_TREE",
       "results": null,
       "showCommandTitle": false,
       "startTime": 0,
       "state": "input",
       "streamStates": {},
       "subcommandOptions": {
        "queryPlan": {
         "groups": [
          {
           "column": "Company_name",
           "type": "column"
          },
          {
           "column": "Company_name",
           "type": "column"
          }
         ],
         "selects": [
          {
           "column": "Company_name",
           "type": "column"
          },
          {
           "alias": "column_74f8e0eb12",
           "args": [
            {
             "column": "Sales_Qtr",
             "type": "column"
            }
           ],
           "function": "SUM",
           "type": "function"
          },
          {
           "column": "Company_name",
           "type": "column"
          }
         ]
        }
       },
       "submitTime": 0,
       "subtype": "tableResultSubCmd.visualization",
       "tableResultIndex": 0,
       "useConsistentColors": false,
       "version": "CommandV1",
       "width": "auto",
       "workflows": [],
       "xColumns": null,
       "yColumns": null
      }
     },
     "output_type": "display_data"
    }
   ],
   "source": [
    "# Top 5 companies by sales\n",
    "top_5_sales_qtr = df.orderBy(col(\"Sales_Qtr\").desc()).limit(5)\n",
    "top_5_sales_qtr.display()"
   ]
  },
  {
   "cell_type": "markdown",
   "metadata": {
    "application/vnd.databricks.v1+cell": {
     "cellMetadata": {
      "byteLimit": 2048000,
      "rowLimit": 10000
     },
     "inputWidgets": {},
     "nuid": "0f8ae170-148e-4018-9086-557dc8e21188",
     "showTitle": false,
     "title": ""
    }
   },
   "source": [
    "Scatter Plot of Market Cap vs. Sales"
   ]
  },
  {
   "cell_type": "code",
   "execution_count": 0,
   "metadata": {
    "application/vnd.databricks.v1+cell": {
     "cellMetadata": {
      "byteLimit": 2048000,
      "rowLimit": 10000
     },
     "inputWidgets": {},
     "nuid": "ecd20a29-7f2a-4c4b-a792-6258e68fc951",
     "showTitle": false,
     "title": ""
    }
   },
   "outputs": [
    {
     "output_type": "display_data",
     "data": {
      "text/html": [
       "<style scoped>\n",
       "  .table-result-container {\n",
       "    max-height: 300px;\n",
       "    overflow: auto;\n",
       "  }\n",
       "  table, th, td {\n",
       "    border: 1px solid black;\n",
       "    border-collapse: collapse;\n",
       "  }\n",
       "  th, td {\n",
       "    padding: 5px;\n",
       "  }\n",
       "  th {\n",
       "    text-align: left;\n",
       "  }\n",
       "</style><div class='table-result-container'><table class='table-result'><thead style='background-color: white'><tr><th>Sr.No</th><th>Company_name</th><th>Market_cap</th><th>Sales_Qtr</th><th>Market_Cap_to_Sales_Ratio</th></tr></thead><tbody><tr><td>1</td><td>Reliance Inds.</td><td>583436.72</td><td>99810.0</td><td>5.85</td></tr><tr><td>2</td><td>TCS</td><td>563709.84</td><td>30904.0</td><td>18.24</td></tr><tr><td>3</td><td>HDFC Bank</td><td>482953.59</td><td>20581.27</td><td>23.47</td></tr><tr><td>4</td><td>ITC</td><td>320985.27</td><td>9772.02</td><td>32.85</td></tr><tr><td>5</td><td>H D F C</td><td>289497.37</td><td>16840.51</td><td>17.19</td></tr><tr><td>6</td><td>Hind. Unilever</td><td>288265.26</td><td>8590.0</td><td>33.56</td></tr><tr><td>7</td><td>Maruti Suzuki</td><td>263493.81</td><td>19283.2</td><td>13.66</td></tr><tr><td>8</td><td>Infosys</td><td>248320.35</td><td>17794.0</td><td>13.96</td></tr><tr><td>9</td><td>O N G C</td><td>239981.5</td><td>22995.88</td><td>10.44</td></tr><tr><td>10</td><td>St Bk of India</td><td>232763.33</td><td>57014.08</td><td>4.08</td></tr><tr><td>11</td><td>ICICI Bank</td><td>203802.35</td><td>13665.35</td><td>14.91</td></tr><tr><td>12</td><td>Kotak Mah. Bank</td><td>199253.77</td><td>6390.71</td><td>31.18</td></tr><tr><td>13</td><td>Coal India</td><td>192677.98</td><td>21643.28</td><td>8.9</td></tr><tr><td>14</td><td>Larsen & Toubro</td><td>180860.74</td><td>28747.45</td><td>6.29</td></tr><tr><td>15</td><td>I O C L</td><td>178017.48</td><td>110666.93</td><td>1.61</td></tr><tr><td>16</td><td>Bharti Airtel</td><td>167131.29</td><td>20318.6</td><td>8.23</td></tr><tr><td>17</td><td>Axis Bank</td><td>136380.76</td><td>11721.55</td><td>11.64</td></tr><tr><td>18</td><td>NTPC</td><td>135390.53</td><td>20774.37</td><td>6.52</td></tr><tr><td>19</td><td>Sun Pharma.Inds.</td><td>134241.36</td><td>6653.23</td><td>20.18</td></tr><tr><td>20</td><td>Hind.Zinc</td><td>133266.56</td><td>5922.0</td><td>22.5</td></tr><tr><td>21</td><td>Wipro</td><td>131840.57</td><td>13669.0</td><td>9.65</td></tr><tr><td>22</td><td>HCL Technologies</td><td>126335.27</td><td>12809.0</td><td>9.86</td></tr><tr><td>23</td><td>Vedanta</td><td>122184.17</td><td>24361.0</td><td>5.02</td></tr><tr><td>24</td><td>Tata Motors</td><td>117071.87</td><td>74156.07</td><td>1.58</td></tr><tr><td>25</td><td>UltraTech Cem.</td><td>113692.87</td><td>8019.24</td><td>14.18</td></tr><tr><td>26</td><td>Asian Paints</td><td>108044.04</td><td>4260.52</td><td>25.36</td></tr><tr><td>27</td><td>Power Grid Corpn</td><td>102016.01</td><td>7506.95</td><td>13.59</td></tr><tr><td>28</td><td>B P C L</td><td>98278.0</td><td>60616.36</td><td>1.62</td></tr><tr><td>29</td><td>IndusInd Bank</td><td>97379.96</td><td>4286.78</td><td>22.72</td></tr><tr><td>30</td><td>Bajaj Fin.</td><td>94476.77</td><td>3540.63</td><td>26.68</td></tr><tr><td>31</td><td>Bajaj Auto</td><td>88252.6</td><td>6369.34</td><td>13.86</td></tr><tr><td>32</td><td>M & M</td><td>88142.35</td><td>11577.78</td><td>7.61</td></tr><tr><td>33</td><td>HDFC Stand. Life</td><td>87358.23</td><td>9734.9</td><td>8.97</td></tr><tr><td>34</td><td>Adani Ports</td><td>81781.89</td><td>2688.85</td><td>30.42</td></tr><tr><td>35</td><td>Bajaj Finserv</td><td>79795.11</td><td>7665.4</td><td>10.41</td></tr><tr><td>36</td><td>GAIL (India)</td><td>78670.97</td><td>14414.34</td><td>5.46</td></tr><tr><td>37</td><td>Avenue Super.</td><td>74066.35</td><td>4094.82</td><td>18.09</td></tr><tr><td>38</td><td>Titan Company</td><td>73886.0</td><td>4274.84</td><td>17.28</td></tr><tr><td>39</td><td>JSW Steel</td><td>73870.26</td><td>17861.0</td><td>4.14</td></tr><tr><td>40</td><td>Grasim Inds</td><td>73532.62</td><td>15291.42</td><td>4.81</td></tr><tr><td>41</td><td>Tata Steel</td><td>73376.14</td><td>32464.14</td><td>2.26</td></tr><tr><td>42</td><td>Eicher Motors</td><td>73311.41</td><td>2269.01</td><td>32.31</td></tr><tr><td>43</td><td>Nestle India</td><td>73015.49</td><td>2601.46</td><td>28.07</td></tr><tr><td>44</td><td>Godrej Consumer</td><td>71859.82</td><td>2630.3</td><td>27.32</td></tr><tr><td>45</td><td>Yes Bank</td><td>71028.13</td><td>5070.3</td><td>14.01</td></tr><tr><td>46</td><td>Hero Motocorp</td><td>69448.66</td><td>7305.49</td><td>9.51</td></tr><tr><td>47</td><td>Motherson Sumi</td><td>68590.33</td><td>14397.85</td><td>4.76</td></tr><tr><td>48</td><td>SBI Life Insuran</td><td>67465.0</td><td>9569.97</td><td>7.05</td></tr><tr><td>49</td><td>General Insuranc</td><td>66316.32</td><td>8557.68</td><td>7.75</td></tr><tr><td>51</td><td>Dabur India</td><td>60015.0</td><td>1966.44</td><td>30.52</td></tr><tr><td>52</td><td>Bosch</td><td>59204.28</td><td>3071.92</td><td>19.27</td></tr><tr><td>53</td><td>Shree Cement</td><td>58987.08</td><td>2296.23</td><td>25.69</td></tr><tr><td>54</td><td>New India Assura</td><td>58108.48</td><td>5074.02</td><td>11.45</td></tr><tr><td>55</td><td>H P C L</td><td>58034.78</td><td>57474.25</td><td>1.01</td></tr><tr><td>56</td><td>ICICI Pru Life</td><td>57748.98</td><td>13555.32</td><td>4.26</td></tr><tr><td>57</td><td>Britannia Inds.</td><td>56837.2</td><td>2567.48</td><td>22.14</td></tr><tr><td>58</td><td>Tech Mahindra</td><td>56244.26</td><td>7775.96</td><td>7.23</td></tr><tr><td>59</td><td>Hindalco Inds.</td><td>55854.68</td><td>11022.81</td><td>5.07</td></tr><tr><td>60</td><td>Zee Entertainmen</td><td>54817.89</td><td>1838.07</td><td>29.82</td></tr><tr><td>61</td><td>Cairn India</td><td>53528.57</td><td>2149.36</td><td>24.9</td></tr><tr><td>62</td><td>Indiabulls Hous.</td><td>52781.67</td><td>3115.89</td><td>16.94</td></tr><tr><td>63</td><td>Ambuja Cem.</td><td>52361.46</td><td>6170.71</td><td>8.49</td></tr><tr><td>64</td><td>Interglobe Aviat</td><td>48621.37</td><td>6177.88</td><td>7.87</td></tr><tr><td>65</td><td>Cipla</td><td>48577.43</td><td>3913.82</td><td>12.41</td></tr><tr><td>66</td><td>Piramal Enterp.</td><td>47483.97</td><td>2858.36</td><td>16.61</td></tr><tr><td>67</td><td>United Spirits</td><td>46725.05</td><td>2263.3</td><td>20.64</td></tr><tr><td>68</td><td>Pidilite Inds.</td><td>45855.5</td><td>1542.9</td><td>29.72</td></tr><tr><td>69</td><td>Siemens</td><td>44239.04</td><td>2429.5</td><td>18.21</td></tr><tr><td>70</td><td>Cadila Health.</td><td>41876.19</td><td>3259.6</td><td>12.85</td></tr><tr><td>71</td><td>NMDC</td><td>41415.33</td><td>2469.03</td><td>16.77</td></tr><tr><td>72</td><td>DLF</td><td>40159.35</td><td>1693.72</td><td>23.71</td></tr><tr><td>73</td><td>Marico</td><td>39813.84</td><td>1337.59</td><td>29.77</td></tr><tr><td>74</td><td>Ashok Leyland</td><td>39047.57</td><td>7113.16</td><td>5.49</td></tr><tr><td>75</td><td>Bharat Electron</td><td>37776.23</td><td>2512.82</td><td>15.03</td></tr><tr><td>76</td><td>ICICI Lombard</td><td>37219.22</td><td>2110.99</td><td>17.63</td></tr><tr><td>77</td><td>Lupin</td><td>36878.85</td><td>3975.62</td><td>9.28</td></tr><tr><td>78</td><td>Petronet LNG</td><td>36615.0</td><td>7757.06</td><td>4.72</td></tr><tr><td>79</td><td>Aditya Birla Cap</td><td>36215.92</td><td>3325.02</td><td>10.89</td></tr><tr><td>80</td><td>Dr Reddy's Labs</td><td>35893.55</td><td>3834.1</td><td>9.36</td></tr><tr><td>81</td><td>Sun TV Network</td><td>35824.26</td><td>683.28</td><td>52.43</td></tr><tr><td>82</td><td>S A I L</td><td>35729.04</td><td>15323.65</td><td>2.33</td></tr><tr><td>83</td><td>UPL</td><td>35349.58</td><td>4194.0</td><td>8.43</td></tr><tr><td>84</td><td>Oracle Fin.Serv.</td><td>34620.19</td><td>1059.12</td><td>32.69</td></tr><tr><td>85</td><td>Bharat Forge</td><td>34397.69</td><td>1390.55</td><td>24.74</td></tr><tr><td>86</td><td>Biocon</td><td>34347.0</td><td>1057.9</td><td>32.47</td></tr><tr><td>87</td><td>B H E L</td><td>34162.38</td><td>6626.35</td><td>5.16</td></tr><tr><td>88</td><td>Aurobindo Pharma</td><td>33676.52</td><td>4336.11</td><td>7.77</td></tr><tr><td>89</td><td>Bank of Baroda</td><td>33364.23</td><td>11303.24</td><td>2.95</td></tr><tr><td>90</td><td>Idea Cellular</td><td>33047.33</td><td>6509.6</td><td>5.08</td></tr><tr><td>91</td><td>A B B</td><td>31983.33</td><td>2779.4</td><td>11.51</td></tr><tr><td>92</td><td>Havells India</td><td>31798.18</td><td>1965.77</td><td>16.18</td></tr><tr><td>93</td><td>Container Corpn.</td><td>31450.56</td><td>1639.55</td><td>19.18</td></tr><tr><td>94</td><td>TVS Motor Co.</td><td>30919.51</td><td>3684.95</td><td>8.39</td></tr><tr><td>95</td><td>ACC</td><td>30803.68</td><td>3494.24</td><td>8.82</td></tr><tr><td>96</td><td>Bajaj Holdings</td><td>30305.94</td><td>317.85</td><td>95.35</td></tr><tr><td>97</td><td>P & G Hygiene</td><td>30202.12</td><td>704.16</td><td>42.89</td></tr><tr><td>98</td><td>MRF</td><td>30030.01</td><td>3798.82</td><td>7.91</td></tr><tr><td>99</td><td>Shriram Trans.</td><td>29327.64</td><td>3087.67</td><td>9.5</td></tr><tr><td>101</td><td>L&T Fin.Holdings</td><td>28932.43</td><td>2630.17</td><td>11.0</td></tr><tr><td>102</td><td>Punjab Natl.Bank</td><td>28270.22</td><td>12175.48</td><td>2.32</td></tr><tr><td>103</td><td>NHPC Ltd</td><td>28059.24</td><td>1497.93</td><td>18.73</td></tr><tr><td>104</td><td>Power Fin.Corpn.</td><td>27905.66</td><td>6194.77</td><td>4.5</td></tr><tr><td>105</td><td>United Breweries</td><td>27797.69</td><td>1197.1</td><td>23.22</td></tr><tr><td>106</td><td>Oil India</td><td>27404.15</td><td>2852.55</td><td>9.61</td></tr><tr><td>107</td><td>Rural Elec.Corp.</td><td>27382.24</td><td>5498.45</td><td>4.98</td></tr><tr><td>108</td><td>GlaxoSmith C H L</td><td>27340.89</td><td>1034.67</td><td>26.42</td></tr><tr><td>109</td><td>M & M Fin. Serv.</td><td>26928.37</td><td>2182.45</td><td>12.34</td></tr><tr><td>110</td><td>Divi's Lab.</td><td>26915.86</td><td>1037.88</td><td>25.93</td></tr><tr><td>111</td><td>Kansai Nerolac</td><td>26409.76</td><td>1145.01</td><td>23.07</td></tr><tr><td>112</td><td>Alkem Lab</td><td>25957.56</td><td>1422.52</td><td>18.25</td></tr><tr><td>113</td><td>LIC Housing Fin.</td><td>25880.98</td><td>3738.1</td><td>6.92</td></tr><tr><td>114</td><td>Future Retail</td><td>25859.25</td><td>4693.39</td><td>5.51</td></tr><tr><td>115</td><td>Page Industries</td><td>25383.03</td><td>621.03</td><td>40.87</td></tr><tr><td>116</td><td>Dalmia Bhar.</td><td>25288.97</td><td>2090.54</td><td>12.1</td></tr><tr><td>117</td><td>IIFL Holdings</td><td>24788.54</td><td>1612.14</td><td>15.38</td></tr><tr><td>118</td><td>L & T Infotech</td><td>24626.1</td><td>1883.8</td><td>13.07</td></tr><tr><td>119</td><td>Aditya Bir. Nuv.</td><td>24592.21</td><td>4287.12</td><td>5.74</td></tr><tr><td>120</td><td>Emami</td><td>23720.37</td><td>756.64</td><td>31.35</td></tr><tr><td>121</td><td>Cummins India</td><td>23562.0</td><td>1354.67</td><td>17.39</td></tr><tr><td>122</td><td>Berger Paints</td><td>23537.8</td><td>1338.63</td><td>17.58</td></tr><tr><td>123</td><td>Rajesh Exports</td><td>23495.54</td><td>41304.84</td><td>0.57</td></tr><tr><td>126</td><td>Tata Power Co.</td><td>23369.24</td><td>6949.91</td><td>3.36</td></tr><tr><td>127</td><td>3M India</td><td>23101.19</td><td>645.77</td><td>35.77</td></tr><tr><td>128</td><td>Jindal Steel</td><td>23094.39</td><td>6992.56</td><td>3.3</td></tr><tr><td>129</td><td>Edelweiss.Fin.</td><td>22915.42</td><td>2069.45</td><td>11.07</td></tr><tr><td>130</td><td>Gillette India</td><td>21976.74</td><td>407.52</td><td>53.93</td></tr><tr><td>131</td><td>Adani Enterp.</td><td>21776.04</td><td>9938.37</td><td>2.19</td></tr><tr><td>132</td><td>Adani Transmissi</td><td>21677.26</td><td>1782.29</td><td>12.16</td></tr><tr><td>133</td><td>Balkrishna Inds</td><td>21372.18</td><td>1106.31</td><td>19.32</td></tr><tr><td>134</td><td>Cholaman.Inv.&Fn</td><td>20832.4</td><td>1404.33</td><td>14.83</td></tr><tr><td>135</td><td>Indraprastha Gas</td><td>20779.52</td><td>1183.9</td><td>17.55</td></tr><tr><td>136</td><td>M R P L</td><td>20750.78</td><td>14100.98</td><td>1.47</td></tr><tr><td>137</td><td>Glaxosmi. Pharma</td><td>20489.35</td><td>703.91</td><td>29.11</td></tr><tr><td>138</td><td>PNB Housing</td><td>20037.85</td><td>1438.49</td><td>13.93</td></tr><tr><td>139</td><td>RBL Bank</td><td>19748.79</td><td>1150.79</td><td>17.16</td></tr><tr><td>140</td><td>Castrol India</td><td>18803.22</td><td>970.3</td><td>19.38</td></tr><tr><td>141</td><td>Canara Bank</td><td>18590.66</td><td>10774.64</td><td>1.73</td></tr><tr><td>142</td><td>GRUH Finance</td><td>18535.09</td><td>428.47</td><td>43.26</td></tr><tr><td>143</td><td>KIOCL</td><td>18534.15</td><td>442.81</td><td>41.86</td></tr><tr><td>144</td><td>Voltas</td><td>18453.44</td><td>1374.67</td><td>13.42</td></tr><tr><td>145</td><td>Godrej Inds.</td><td>18298.09</td><td>2458.48</td><td>7.44</td></tr><tr><td>146</td><td>Whirlpool India</td><td>18254.06</td><td>958.01</td><td>19.05</td></tr><tr><td>147</td><td>Sundaram Finance</td><td>18159.85</td><td>677.23</td><td>26.81</td></tr><tr><td>148</td><td>Federal Bank</td><td>18086.81</td><td>2501.2</td><td>7.23</td></tr><tr><td>149</td><td>Tata Comm</td><td>17963.55</td><td>4114.63</td><td>4.37</td></tr><tr><td>151</td><td>Tata Chemicals</td><td>17941.47</td><td>2573.91</td><td>6.97</td></tr><tr><td>152</td><td>Exide Inds.</td><td>17930.75</td><td>2276.54</td><td>7.88</td></tr><tr><td>153</td><td>IDFC Bank</td><td>17762.77</td><td>2283.72</td><td>7.78</td></tr><tr><td>154</td><td>NBCC</td><td>17712.0</td><td>1321.5</td><td>13.4</td></tr><tr><td>155</td><td>IDBI Bank</td><td>17559.35</td><td>5797.2</td><td>3.03</td></tr><tr><td>156</td><td>The Ramco Cement</td><td>17246.58</td><td>1056.36</td><td>16.33</td></tr><tr><td>157</td><td>Dewan Hsg. Fin.</td><td>17097.54</td><td>2631.6</td><td>6.5</td></tr><tr><td>158</td><td>MphasiS</td><td>16728.78</td><td>1660.69</td><td>10.07</td></tr><tr><td>159</td><td>Apollo Hospitals</td><td>16683.97</td><td>1896.14</td><td>8.8</td></tr><tr><td>160</td><td>Reliance Nip.Lif</td><td>16655.58</td><td>394.0</td><td>42.27</td></tr><tr><td>161</td><td>Tata Global</td><td>16589.24</td><td>1730.39</td><td>9.59</td></tr><tr><td>162</td><td>Godrej Propert.</td><td>16545.51</td><td>627.03</td><td>26.39</td></tr><tr><td>163</td><td>AU Small Finance</td><td>16453.67</td><td>464.17</td><td>35.45</td></tr><tr><td>164</td><td>Indian Hotels</td><td>16150.13</td><td>1197.26</td><td>13.49</td></tr><tr><td>165</td><td>Motil.Oswal.Fin.</td><td>16108.15</td><td>728.63</td><td>22.11</td></tr><tr><td>166</td><td>H U D C O</td><td>16065.25</td><td>1064.49</td><td>15.09</td></tr><tr><td>167</td><td>Oberoi Realty</td><td>16044.51</td><td>356.2</td><td>45.04</td></tr><tr><td>168</td><td>Indian Bank</td><td>15739.16</td><td>4354.22</td><td>3.61</td></tr><tr><td>169</td><td>SJVN</td><td>15512.35</td><td>436.58</td><td>35.53</td></tr><tr><td>170</td><td>Bank of India</td><td>15339.87</td><td>9334.84</td><td>1.64</td></tr><tr><td>171</td><td>Supreme Inds.</td><td>15248.94</td><td>1278.3</td><td>11.93</td></tr><tr><td>172</td><td>Muthoot Finance</td><td>15226.72</td><td>1553.71</td><td>9.8</td></tr><tr><td>173</td><td>NLC India</td><td>15201.61</td><td>1706.48</td><td>8.91</td></tr><tr><td>176</td><td>Info Edg.(India)</td><td>14845.05</td><td>0.0</td><td>null</td></tr><tr><td>177</td><td>Glenmark Pharma.</td><td>14785.53</td><td>2203.67</td><td>6.71</td></tr><tr><td>178</td><td>Jubilant Life</td><td>14775.08</td><td>2067.76</td><td>7.15</td></tr><tr><td>179</td><td>Crompton Gr. Con</td><td>14638.57</td><td>938.19</td><td>15.6</td></tr><tr><td>180</td><td>Honeywell Auto</td><td>14526.24</td><td>721.48</td><td>20.13</td></tr><tr><td>181</td><td>Natco Pharma</td><td>14456.9</td><td>562.2</td><td>25.71</td></tr><tr><td>182</td><td>PC Jeweller</td><td>14334.81</td><td>2644.89</td><td>5.42</td></tr><tr><td>183</td><td>Quess Corp</td><td>14330.19</td><td>1583.95</td><td>9.05</td></tr><tr><td>184</td><td>CRISIL</td><td>14164.81</td><td>441.13</td><td>32.11</td></tr><tr><td>185</td><td>WABCO India</td><td>13843.64</td><td>649.91</td><td>21.3</td></tr><tr><td>186</td><td>Amara Raja Batt.</td><td>13774.32</td><td>1553.46</td><td>8.87</td></tr><tr><td>189</td><td>Sterlite Tech.</td><td>13743.95</td><td>835.18</td><td>16.46</td></tr><tr><td>190</td><td>AIA Engg.</td><td>13593.35</td><td>572.16</td><td>23.76</td></tr><tr><td>191</td><td>KRBL</td><td>13492.55</td><td>783.51</td><td>17.22</td></tr><tr><td>192</td><td>Max Financial</td><td>13401.76</td><td>0.0</td><td>null</td></tr><tr><td>193</td><td>Indiabulls Vent.</td><td>13396.15</td><td>238.43</td><td>56.18</td></tr><tr><td>194</td><td>Century Textiles</td><td>13369.97</td><td>2069.39</td><td>6.46</td></tr><tr><td>195</td><td>Jubilant Food.</td><td>13178.43</td><td>795.17</td><td>16.57</td></tr><tr><td>196</td><td>Bayer Crop Sci.</td><td>13166.76</td><td>479.7</td><td>27.45</td></tr><tr><td>197</td><td>Graphite India</td><td>13129.9</td><td>933.06</td><td>14.07</td></tr><tr><td>198</td><td>JSW Energy</td><td>13104.0</td><td>1993.2</td><td>6.57</td></tr><tr><td>199</td><td>Central Bank</td><td>13046.18</td><td>6026.55</td><td>2.16</td></tr><tr><td>201</td><td>CESC</td><td>12996.56</td><td>1706.0</td><td>7.62</td></tr><tr><td>202</td><td>Shri.City Union.</td><td>12995.31</td><td>1338.09</td><td>9.71</td></tr><tr><td>203</td><td>L&T Technology</td><td>12942.25</td><td>969.1</td><td>13.35</td></tr><tr><td>204</td><td>Rain Industries</td><td>12655.17</td><td>3050.81</td><td>4.15</td></tr><tr><td>205</td><td>Torrent Power</td><td>12599.37</td><td>2754.64</td><td>4.57</td></tr><tr><td>206</td><td>Dilip Buildcon</td><td>12526.06</td><td>1942.12</td><td>6.45</td></tr><tr><td>207</td><td>TI Financial</td><td>12507.91</td><td>886.68</td><td>14.11</td></tr><tr><td>208</td><td>JM Financial</td><td>12382.64</td><td>837.73</td><td>14.78</td></tr><tr><td>209</td><td>Adani Power</td><td>12091.5</td><td>4844.46</td><td>2.5</td></tr><tr><td>210</td><td>Reliance Power</td><td>12033.99</td><td>2494.65</td><td>4.82</td></tr><tr><td>211</td><td>Reliance Capital</td><td>11966.83</td><td>4749.0</td><td>2.52</td></tr><tr><td>212</td><td>Syngene Intl.</td><td>11950.0</td><td>387.7</td><td>30.82</td></tr><tr><td>213</td><td>Abbott India</td><td>11924.12</td><td>881.49</td><td>13.53</td></tr><tr><td>214</td><td>Hatsun AgroProd.</td><td>11896.52</td><td>1012.94</td><td>11.74</td></tr><tr><td>215</td><td>Symphony</td><td>11882.55</td><td>217.63</td><td>54.6</td></tr><tr><td>216</td><td>Gujarat Gas</td><td>11759.77</td><td>1571.33</td><td>7.48</td></tr><tr><td>217</td><td>Reliance Infra.</td><td>11737.24</td><td>5861.04</td><td>2.0</td></tr><tr><td>218</td><td>Aditya Bir. Fas.</td><td>11718.17</td><td>1855.0</td><td>6.32</td></tr><tr><td>219</td><td>Ajanta Pharma</td><td>11651.8</td><td>587.05</td><td>19.85</td></tr><tr><td>220</td><td>P I Inds.</td><td>11564.22</td><td>537.74</td><td>21.51</td></tr><tr><td>221</td><td>City Union Bank</td><td>11554.4</td><td>865.36</td><td>13.35</td></tr><tr><td>222</td><td>Varun Beverages</td><td>11498.3</td><td>329.92</td><td>34.85</td></tr><tr><td>223</td><td>Mindtree</td><td>11438.78</td><td>1377.7</td><td>8.3</td></tr><tr><td>224</td><td>Prestige Estates</td><td>11353.13</td><td>1272.3</td><td>8.92</td></tr><tr><td>225</td><td>Future Consumer</td><td>11203.15</td><td>784.05</td><td>14.29</td></tr><tr><td>226</td><td>Sundram Fasten.</td><td>11202.53</td><td>848.13</td><td>13.21</td></tr><tr><td>227</td><td>Sanofi India</td><td>11182.45</td><td>667.5</td><td>16.75</td></tr><tr><td>228</td><td>Guj.St.Petronet</td><td>11064.74</td><td>350.18</td><td>31.6</td></tr><tr><td>229</td><td>Godrej Agrovet</td><td>10918.75</td><td>865.77</td><td>12.61</td></tr><tr><td>230</td><td>Finolex Cables</td><td>10900.75</td><td>656.78</td><td>16.6</td></tr><tr><td>231</td><td>Bombay Burmah</td><td>10864.53</td><td>0.0</td><td>null</td></tr><tr><td>232</td><td>SRF</td><td>10842.62</td><td>1397.06</td><td>7.76</td></tr><tr><td>233</td><td>GE T&D India</td><td>10778.42</td><td>1438.55</td><td>7.49</td></tr><tr><td>234</td><td>Alembic Pharma</td><td>10764.29</td><td>840.02</td><td>12.81</td></tr><tr><td>235</td><td>SPARC</td><td>10755.13</td><td>19.42</td><td>553.82</td></tr><tr><td>236</td><td>GMR Infra.</td><td>10653.44</td><td>2072.29</td><td>5.14</td></tr><tr><td>237</td><td>HEG</td><td>10630.76</td><td>842.71</td><td>12.61</td></tr><tr><td>238</td><td>Trent</td><td>10589.27</td><td>521.32</td><td>20.31</td></tr><tr><td>239</td><td>Engineers India</td><td>10565.56</td><td>473.42</td><td>22.32</td></tr><tr><td>240</td><td>Avanti Feeds</td><td>10558.13</td><td>706.43</td><td>14.95</td></tr><tr><td>241</td><td>Pfizer</td><td>10508.48</td><td>456.54</td><td>23.02</td></tr><tr><td>242</td><td>Escorts</td><td>10450.56</td><td>1205.03</td><td>8.67</td></tr><tr><td>243</td><td>Tata Motors-DVR</td><td>10442.09</td><td>7769.67</td><td>1.34</td></tr><tr><td>244</td><td>Blue Dart Exp.</td><td>10422.45</td><td>704.59</td><td>14.79</td></tr><tr><td>245</td><td>Indbull.RealEst.</td><td>10338.4</td><td>2100.13</td><td>4.92</td></tr><tr><td>246</td><td>ERIS Lifescience</td><td>10289.81</td><td>182.21</td><td>56.47</td></tr><tr><td>247</td><td>Arvind Ltd</td><td>10247.7</td><td>2705.75</td><td>3.79</td></tr><tr><td>248</td><td>Sundaram Clayton</td><td>10074.36</td><td>0.0</td><td>null</td></tr><tr><td>249</td><td>Hexaware Tech.</td><td>9885.05</td><td>1004.83</td><td>9.84</td></tr><tr><td>255</td><td>SKF India</td><td>9569.14</td><td>700.49</td><td>13.66</td></tr><tr><td>256</td><td>Delta Corp</td><td>9531.57</td><td>162.17</td><td>58.78</td></tr><tr><td>257</td><td>Union Bank (I)</td><td>9528.82</td><td>8260.47</td><td>1.15</td></tr><tr><td>258</td><td>TV18 Broadcast</td><td>9463.27</td><td>271.13</td><td>34.9</td></tr><tr><td>259</td><td>Minda Inds.</td><td>9457.04</td><td>1056.16</td><td>8.95</td></tr><tr><td>260</td><td>Solar Inds.</td><td>9317.76</td><td>465.68</td><td>20.01</td></tr><tr><td>261</td><td>Kajaria Ceramics</td><td>9306.54</td><td>661.16</td><td>14.08</td></tr><tr><td>262</td><td>Astral Poly</td><td>9162.14</td><td>528.54</td><td>17.33</td></tr><tr><td>263</td><td>Bata India</td><td>9145.38</td><td>674.0</td><td>13.57</td></tr><tr><td>264</td><td>Phoenix Mills</td><td>9097.33</td><td>416.61</td><td>21.84</td></tr><tr><td>267</td><td>BASF India</td><td>8778.35</td><td>1278.74</td><td>6.86</td></tr><tr><td>268</td><td>DCM Shriram</td><td>8681.95</td><td>1783.73</td><td>4.87</td></tr><tr><td>269</td><td>Infibeam Incorp.</td><td>8646.54</td><td>213.48</td><td>40.5</td></tr><tr><td>270</td><td>Aegis Logistics</td><td>8613.86</td><td>1442.08</td><td>5.97</td></tr><tr><td>271</td><td>Mahindra CIE</td><td>8587.04</td><td>0.0</td><td>null</td></tr><tr><td>272</td><td>Jet Airways</td><td>8539.88</td><td>6086.2</td><td>1.4</td></tr><tr><td>273</td><td>SpiceJet</td><td>8458.24</td><td>2081.95</td><td>4.06</td></tr><tr><td>274</td><td>Thomas Cook (I)</td><td>8440.65</td><td>3005.45</td><td>2.81</td></tr><tr><td>275</td><td>Guj Fluorochem</td><td>8439.77</td><td>968.97</td><td>8.71</td></tr><tr><td>276</td><td>Wockhardt</td><td>8428.58</td><td>1005.3</td><td>8.38</td></tr><tr><td>277</td><td>Akzo Nobel</td><td>8389.47</td><td>711.99</td><td>11.78</td></tr><tr><td>278</td><td>I D F C</td><td>8380.86</td><td>2789.58</td><td>3.0</td></tr><tr><td>279</td><td>Security & Intel</td><td>8247.08</td><td>1537.72</td><td>5.36</td></tr><tr><td>280</td><td>Asahi India Glas</td><td>8183.96</td><td>640.38</td><td>12.78</td></tr><tr><td>281</td><td>TTK Prestige</td><td>8153.33</td><td>457.97</td><td>17.8</td></tr><tr><td>282</td><td>ITI</td><td>8124.6</td><td>250.97</td><td>32.37</td></tr><tr><td>283</td><td>Karur Vysya Bank</td><td>8065.7</td><td>1422.32</td><td>5.67</td></tr><tr><td>284</td><td>Vardhman Textile</td><td>8023.74</td><td>1647.98</td><td>4.87</td></tr><tr><td>285</td><td>Fortis Health.</td><td>7966.43</td><td>1156.61</td><td>6.89</td></tr><tr><td>286</td><td>Ipca Labs.</td><td>7943.03</td><td>859.21</td><td>9.24</td></tr><tr><td>287</td><td>Sheela Foam</td><td>7815.74</td><td>532.21</td><td>14.69</td></tr><tr><td>288</td><td>IRB Infra.Devl.</td><td>7812.73</td><td>1296.19</td><td>6.03</td></tr><tr><td>289</td><td>Atul</td><td>7789.01</td><td>803.68</td><td>9.69</td></tr><tr><td>290</td><td>Finolex Inds.</td><td>7784.17</td><td>722.72</td><td>10.77</td></tr><tr><td>291</td><td>Dish TV</td><td>7765.91</td><td>740.77</td><td>10.48</td></tr><tr><td>292</td><td>Rel. Comm.</td><td>7702.01</td><td>1144.0</td><td>6.73</td></tr><tr><td>293</td><td>Dr Lal Pathlabs</td><td>7550.78</td><td>262.7</td><td>28.74</td></tr><tr><td>294</td><td>OCL India</td><td>7453.05</td><td>859.24</td><td>8.67</td></tr><tr><td>295</td><td>NCC</td><td>7439.01</td><td>2780.26</td><td>2.68</td></tr><tr><td>296</td><td>Relaxo Footwear</td><td>7251.91</td><td>457.5</td><td>15.85</td></tr><tr><td>297</td><td>J K Cements</td><td>7230.76</td><td>1126.11</td><td>6.42</td></tr><tr><td>298</td><td>G N F C</td><td>7208.38</td><td>1590.89</td><td>4.53</td></tr><tr><td>299</td><td>Cochin Shipyard</td><td>7154.99</td><td>615.04</td><td>11.63</td></tr><tr><td>301</td><td>Birla Corpn.</td><td>7137.67</td><td>1389.32</td><td>5.14</td></tr><tr><td>302</td><td>Future Lifestyle</td><td>7009.13</td><td>1188.97</td><td>5.9</td></tr><tr><td>303</td><td>Century Ply.</td><td>6966.23</td><td>509.93</td><td>13.66</td></tr><tr><td>304</td><td>Blue Star</td><td>6952.99</td><td>981.3</td><td>7.09</td></tr><tr><td>305</td><td>Kalpataru Power</td><td>6950.23</td><td>1417.37</td><td>4.9</td></tr><tr><td>306</td><td>Suzlon Energy</td><td>6942.31</td><td>1193.06</td><td>5.82</td></tr><tr><td>307</td><td>Cyient</td><td>6921.97</td><td>983.3</td><td>7.04</td></tr><tr><td>308</td><td>Hind.Copper</td><td>6902.14</td><td>440.14</td><td>15.68</td></tr><tr><td>309</td><td>Guj Pipavav Port</td><td>6864.85</td><td>162.68</td><td>42.2</td></tr><tr><td>310</td><td>Carborundum Uni.</td><td>6838.18</td><td>611.59</td><td>11.18</td></tr><tr><td>311</td><td>Can Fin Homes</td><td>6811.5</td><td>392.1</td><td>17.37</td></tr><tr><td>312</td><td>Sadbhav Engg.</td><td>6795.06</td><td>2153.34</td><td>3.16</td></tr><tr><td>313</td><td>Advanta</td><td>6742.41</td><td>361.68</td><td>18.64</td></tr><tr><td>314</td><td>Capital First</td><td>6710.63</td><td>987.64</td><td>6.79</td></tr><tr><td>315</td><td>Lak. Mach. Works</td><td>6654.81</td><td>542.42</td><td>12.27</td></tr><tr><td>316</td><td>Himadri Specialt</td><td>6646.41</td><td>500.08</td><td>13.29</td></tr><tr><td>317</td><td>Coffee Day Enter</td><td>6601.62</td><td>965.3</td><td>6.84</td></tr><tr><td>318</td><td>PVR</td><td>6591.31</td><td>557.25</td><td>11.83</td></tr><tr><td>319</td><td>Chambal Fert.</td><td>6542.79</td><td>2330.1</td><td>2.81</td></tr><tr><td>320</td><td>Vijaya Bank</td><td>6531.58</td><td>3135.23</td><td>2.08</td></tr><tr><td>321</td><td>Welspun India</td><td>6520.67</td><td>1397.95</td><td>4.66</td></tr><tr><td>322</td><td>CEAT</td><td>6476.26</td><td>1574.15</td><td>4.11</td></tr><tr><td>323</td><td>Strides Shasun</td><td>6469.51</td><td>749.04</td><td>8.64</td></tr><tr><td>324</td><td>Narayana Hrudaya</td><td>6379.12</td><td>553.84</td><td>11.52</td></tr><tr><td>325</td><td>Jyothy Lab.</td><td>6324.62</td><td>431.21</td><td>14.67</td></tr><tr><td>326</td><td>Johnson Con. Hit</td><td>6209.11</td><td>377.4</td><td>16.45</td></tr><tr><td>327</td><td>Prism Cement</td><td>6176.23</td><td>0.0</td><td>null</td></tr><tr><td>328</td><td>Tata Elxsi</td><td>6153.54</td><td>345.54</td><td>17.81</td></tr><tr><td>329</td><td>Syndicate Bank</td><td>6086.37</td><td>5375.57</td><td>1.13</td></tr><tr><td>330</td><td>D B Corp</td><td>6059.97</td><td>598.58</td><td>10.12</td></tr><tr><td>331</td><td>Jain Irrigation</td><td>6019.89</td><td>1889.63</td><td>3.19</td></tr><tr><td>332</td><td>Persistent Sys</td><td>5996.4</td><td>791.89</td><td>7.57</td></tr><tr><td>333</td><td>Redington India</td><td>5896.54</td><td>11728.4</td><td>0.5</td></tr><tr><td>334</td><td>Sunteck Realty</td><td>5865.04</td><td>201.5</td><td>29.11</td></tr><tr><td>335</td><td>Raymond</td><td>5863.1</td><td>1484.24</td><td>3.95</td></tr><tr><td>336</td><td>MOIL</td><td>5840.29</td><td>299.8</td><td>19.48</td></tr><tr><td>337</td><td>Bombay Dyeing</td><td>5823.25</td><td>619.93</td><td>9.39</td></tr><tr><td>338</td><td>GE Shipping Co</td><td>5802.66</td><td>584.42</td><td>9.93</td></tr><tr><td>339</td><td>Grindwell Norton</td><td>5706.51</td><td>365.42</td><td>15.62</td></tr><tr><td>340</td><td>EID Parry</td><td>5652.33</td><td>3557.94</td><td>1.59</td></tr><tr><td>341</td><td>I O B</td><td>5591.02</td><td>4254.68</td><td>1.31</td></tr><tr><td>342</td><td>Galaxy Surfact.</td><td>5567.11</td><td>826.95</td><td>6.73</td></tr><tr><td>343</td><td>Laurus Labs</td><td>5502.94</td><td>473.77</td><td>11.62</td></tr><tr><td>344</td><td>Guj Alkalies</td><td>5498.45</td><td>617.61</td><td>8.9</td></tr><tr><td>345</td><td>GE Power</td><td>5497.4</td><td>0.0</td><td>null</td></tr><tr><td>346</td><td>Timken India</td><td>5495.76</td><td>278.58</td><td>19.73</td></tr><tr><td>347</td><td>C P C L</td><td>5427.82</td><td>8587.17</td><td>0.63</td></tr><tr><td>348</td><td>Dishman Carbogen</td><td>5416.39</td><td>459.82</td><td>11.78</td></tr><tr><td>349</td><td>St Bk of Bikaner</td><td>5402.95</td><td>2262.28</td><td>2.39</td></tr><tr><td>351</td><td>MMTC</td><td>5300.0</td><td>0.0</td><td>null</td></tr><tr><td>352</td><td>IFB Inds.</td><td>5293.53</td><td>531.74</td><td>9.96</td></tr><tr><td>353</td><td>eClerx Services</td><td>5259.14</td><td>339.89</td><td>15.47</td></tr><tr><td>354</td><td>Sobha</td><td>5224.11</td><td>691.9</td><td>7.55</td></tr><tr><td>355</td><td>Kirloskar Oil</td><td>5207.77</td><td>684.61</td><td>7.61</td></tr><tr><td>356</td><td>G S F C</td><td>5200.13</td><td>1537.45</td><td>3.38</td></tr><tr><td>357</td><td>CG Power & Indu.</td><td>5151.85</td><td>1516.08</td><td>3.4</td></tr><tr><td>358</td><td>Westlife Develop</td><td>5145.88</td><td>305.19</td><td>16.86</td></tr><tr><td>359</td><td>K P R Mill Ltd</td><td>5145.36</td><td>714.51</td><td>7.2</td></tr><tr><td>360</td><td>Tube Investments</td><td>5139.43</td><td>1274.21</td><td>4.03</td></tr><tr><td>361</td><td>Bajaj Electrical</td><td>5127.38</td><td>1145.13</td><td>4.48</td></tr><tr><td>362</td><td>VST Inds.</td><td>5109.25</td><td>238.97</td><td>21.38</td></tr><tr><td>363</td><td>BEML Ltd</td><td>5089.87</td><td>731.51</td><td>6.96</td></tr><tr><td>364</td><td>FDC</td><td>5084.19</td><td>248.77</td><td>20.44</td></tr><tr><td>365</td><td>DCB Bank</td><td>5080.5</td><td>610.78</td><td>8.32</td></tr><tr><td>366</td><td>Star Cement</td><td>5072.67</td><td>377.43</td><td>13.44</td></tr><tr><td>367</td><td>Netwrk.18 Media</td><td>5067.23</td><td>366.02</td><td>13.84</td></tr><tr><td>368</td><td>Gulf Oil Lubric.</td><td>5020.44</td><td>355.95</td><td>14.1</td></tr><tr><td>369</td><td>UCO Bank</td><td>5012.59</td><td>3449.55</td><td>1.45</td></tr><tr><td>370</td><td>Jagran Prakashan</td><td>4995.05</td><td>598.07</td><td>8.35</td></tr><tr><td>371</td><td>Elgi Equipment</td><td>4954.08</td><td>415.42</td><td>11.93</td></tr><tr><td>372</td><td>JK Lakshmi Cem.</td><td>4931.55</td><td>837.41</td><td>5.89</td></tr><tr><td>373</td><td>Zydus Wellness</td><td>4921.45</td><td>132.4</td><td>37.17</td></tr><tr><td>374</td><td>Equitas Holdings</td><td>4886.09</td><td>429.86</td><td>11.37</td></tr><tr><td>375</td><td>India Cements</td><td>4885.75</td><td>1213.08</td><td>4.03</td></tr><tr><td>376</td><td>Dishman Pharma.</td><td>4861.2</td><td>534.22</td><td>9.1</td></tr><tr><td>377</td><td>South Ind.Bank</td><td>4856.71</td><td>1576.96</td><td>3.08</td></tr><tr><td>378</td><td>Polaris Consulta</td><td>4830.44</td><td>680.07</td><td>7.1</td></tr><tr><td>379</td><td>V I P Inds.</td><td>4819.63</td><td>337.99</td><td>14.26</td></tr><tr><td>380</td><td>APL Apollo</td><td>4775.03</td><td>1314.38</td><td>3.63</td></tr><tr><td>381</td><td>Sadbhav Infra.</td><td>4735.67</td><td>624.37</td><td>7.58</td></tr><tr><td>382</td><td>Jindal Stain.</td><td>4726.91</td><td>2988.86</td><td>1.58</td></tr><tr><td>383</td><td>Swan Energy</td><td>4721.49</td><td>0.0</td><td>null</td></tr><tr><td>384</td><td>NIIT Tech.</td><td>4658.2</td><td>756.5</td><td>6.16</td></tr><tr><td>385</td><td>Caplin Point Lab</td><td>4600.73</td><td>141.61</td><td>32.49</td></tr><tr><td>386</td><td>Indian Energy Ex</td><td>4595.7</td><td>64.75</td><td>70.98</td></tr><tr><td>387</td><td>Shoppers St.</td><td>4558.06</td><td>0.0</td><td>null</td></tr><tr><td>388</td><td>Godfrey Phillips</td><td>4512.29</td><td>581.94</td><td>7.75</td></tr><tr><td>389</td><td>Jindal Stain .Hi</td><td>4498.09</td><td>2438.58</td><td>1.84</td></tr><tr><td>390</td><td>R C F</td><td>4493.52</td><td>1985.06</td><td>2.26</td></tr><tr><td>391</td><td>Rallis India</td><td>4493.2</td><td>390.16</td><td>11.52</td></tr><tr><td>392</td><td>Stand.Chart.PLC</td><td>4487.31</td><td>0.0</td><td>null</td></tr><tr><td>393</td><td>G M D C</td><td>4456.77</td><td>506.06</td><td>8.81</td></tr><tr><td>394</td><td>Manpasand Bever.</td><td>4406.8</td><td>143.13</td><td>30.79</td></tr><tr><td>395</td><td>Tata Inv.Corpn.</td><td>4401.66</td><td>47.02</td><td>93.61</td></tr><tr><td>396</td><td>Essel Propack</td><td>4371.24</td><td>595.05</td><td>7.35</td></tr><tr><td>397</td><td>Allcargo Logist.</td><td>4369.69</td><td>1479.91</td><td>2.95</td></tr><tr><td>398</td><td>Radico Khaitan</td><td>4358.48</td><td>482.52</td><td>9.03</td></tr><tr><td>399</td><td>Cera Sanitary.</td><td>4356.9</td><td>290.88</td><td>14.98</td></tr><tr><td>401</td><td>Forbes & Co</td><td>4331.82</td><td>63.93</td><td>67.76</td></tr><tr><td>402</td><td>S B T</td><td>4328.47</td><td>2365.94</td><td>1.83</td></tr><tr><td>403</td><td>KNR Construct.</td><td>4325.39</td><td>433.19</td><td>9.98</td></tr><tr><td>404</td><td>PNC Infratech</td><td>4307.29</td><td>472.48</td><td>9.12</td></tr><tr><td>405</td><td>Greenply Inds.</td><td>4295.02</td><td>399.29</td><td>10.76</td></tr><tr><td>406</td><td>Ujjivan Fin.Ser.</td><td>4293.42</td><td>0.0</td><td>null</td></tr><tr><td>407</td><td>Monsanto India</td><td>4291.43</td><td>183.74</td><td>23.36</td></tr><tr><td>408</td><td>Vinati Organics</td><td>4279.07</td><td>185.65</td><td>23.05</td></tr><tr><td>409</td><td>Jindal Saw</td><td>4278.31</td><td>0.0</td><td>null</td></tr><tr><td>410</td><td>Lux Industries</td><td>4269.78</td><td>297.43</td><td>14.36</td></tr><tr><td>411</td><td>Linde India</td><td>4198.33</td><td>0.0</td><td>null</td></tr><tr><td>412</td><td>Ratnamani Metals</td><td>4194.31</td><td>535.6</td><td>7.83</td></tr><tr><td>413</td><td>Cox & Kings</td><td>4179.29</td><td>1356.07</td><td>3.08</td></tr><tr><td>414</td><td>Omaxe</td><td>4168.29</td><td>506.82</td><td>8.22</td></tr><tr><td>415</td><td>Ashoka Buildcon</td><td>4166.87</td><td>729.22</td><td>5.71</td></tr><tr><td>416</td><td>Time Technoplast</td><td>4156.58</td><td>754.7</td><td>5.51</td></tr><tr><td>417</td><td>Phillips Carbon</td><td>4149.67</td><td>612.4</td><td>6.78</td></tr><tr><td>418</td><td>Allahabad Bank</td><td>4137.11</td><td>4243.83</td><td>0.97</td></tr><tr><td>419</td><td>Welspun Corp</td><td>4103.05</td><td>2304.16</td><td>1.78</td></tr><tr><td>420</td><td>NESCO</td><td>4093.02</td><td>80.62</td><td>50.77</td></tr><tr><td>421</td><td>CARE Ratings</td><td>4090.69</td><td>74.82</td><td>54.67</td></tr><tr><td>422</td><td>JP Associates</td><td>4074.37</td><td>0.0</td><td>null</td></tr><tr><td>423</td><td>Andhra Bank</td><td>4067.25</td><td>4549.26</td><td>0.89</td></tr><tr><td>424</td><td>Zensar Tech.</td><td>4066.42</td><td>793.76</td><td>5.12</td></tr><tr><td>425</td><td>S H Kelkar & Co.</td><td>4057.34</td><td>283.12</td><td>14.33</td></tr><tr><td>426</td><td>Mahindra Holiday</td><td>4030.35</td><td>267.54</td><td>15.06</td></tr><tr><td>427</td><td>Sintex Plastics</td><td>4022.02</td><td>1332.73</td><td>3.02</td></tr><tr><td>428</td><td>SREI Infra. Fin.</td><td>4009.63</td><td>1405.19</td><td>2.85</td></tr><tr><td>429</td><td>Techno Elec.</td><td>3975.44</td><td>275.64</td><td>14.42</td></tr><tr><td>430</td><td>Minda Corp</td><td>3974.83</td><td>636.2</td><td>6.25</td></tr><tr><td>431</td><td>HMT</td><td>3973.5</td><td>0.0</td><td>null</td></tr><tr><td>432</td><td>KPIT Tech.</td><td>3927.26</td><td>912.77</td><td>4.3</td></tr><tr><td>433</td><td>Triveni Turbine</td><td>3910.17</td><td>165.59</td><td>23.61</td></tr><tr><td>434</td><td>Shankara Build.</td><td>3901.07</td><td>624.62</td><td>6.25</td></tr><tr><td>435</td><td>Multi Comm. Exc.</td><td>3847.19</td><td>60.97</td><td>63.1</td></tr><tr><td>436</td><td>Brigade Enterpr.</td><td>3846.15</td><td>423.91</td><td>9.07</td></tr><tr><td>437</td><td>Gayatri Projects</td><td>3835.73</td><td>0.0</td><td>null</td></tr><tr><td>438</td><td>Magma Fincorp</td><td>3826.83</td><td>580.58</td><td>6.59</td></tr><tr><td>439</td><td>VRL Logistics</td><td>3824.69</td><td>489.34</td><td>7.82</td></tr><tr><td>440</td><td>ICRA</td><td>3809.0</td><td>82.87</td><td>45.96</td></tr><tr><td>441</td><td>Shriram Pistons</td><td>3804.58</td><td>430.8</td><td>8.83</td></tr><tr><td>442</td><td>IFCI</td><td>3789.45</td><td>626.8</td><td>6.05</td></tr><tr><td>443</td><td>Suprajit Engg.</td><td>3777.26</td><td>366.29</td><td>10.31</td></tr><tr><td>444</td><td>J & K Bank</td><td>3775.5</td><td>1682.97</td><td>2.24</td></tr><tr><td>445</td><td>Navin Fluo.Intl.</td><td>3769.26</td><td>221.45</td><td>17.02</td></tr><tr><td>446</td><td>Karnataka Bank</td><td>3765.74</td><td>1332.24</td><td>2.83</td></tr><tr><td>447</td><td>Shilpa Medicare</td><td>3764.1</td><td>185.53</td><td>20.29</td></tr><tr><td>448</td><td>Kushal</td><td>3761.86</td><td>578.18</td><td>6.51</td></tr><tr><td>449</td><td>Venky's (India)</td><td>3760.61</td><td>695.85</td><td>5.4</td></tr><tr><td>451</td><td>CCL Products</td><td>3748.73</td><td>273.99</td><td>13.68</td></tr><tr><td>452</td><td>Excel Crop Care</td><td>3734.06</td><td>258.65</td><td>14.44</td></tr><tr><td>453</td><td>Trident</td><td>3722.6</td><td>1137.17</td><td>3.27</td></tr><tr><td>454</td><td>Corporation Bank</td><td>3716.46</td><td>4387.85</td><td>0.85</td></tr><tr><td>455</td><td>Rane Holdings</td><td>3711.8</td><td>593.74</td><td>6.25</td></tr><tr><td>456</td><td>Team Lease Serv.</td><td>3677.34</td><td>918.06</td><td>4.01</td></tr><tr><td>457</td><td>Oriental Bank</td><td>3674.6</td><td>4262.08</td><td>0.86</td></tr><tr><td>458</td><td>I T D C</td><td>3619.04</td><td>102.14</td><td>35.43</td></tr><tr><td>459</td><td>JP Power Ven.</td><td>3597.6</td><td>0.0</td><td>null</td></tr><tr><td>460</td><td>S C I</td><td>3582.0</td><td>879.56</td><td>4.07</td></tr><tr><td>461</td><td>JK Tyre & Indust</td><td>3577.98</td><td>2123.24</td><td>1.69</td></tr><tr><td>462</td><td>Deepak Nitrite</td><td>3531.9</td><td>371.14</td><td>9.52</td></tr><tr><td>463</td><td>Heidelberg Cem.</td><td>3531.77</td><td>491.23</td><td>7.19</td></tr><tr><td>464</td><td>Amber Enterp.</td><td>3529.87</td><td>0.0</td><td>null</td></tr><tr><td>465</td><td>Sharda Cropchem</td><td>3528.07</td><td>325.46</td><td>10.84</td></tr><tr><td>466</td><td>Dixon Technolog.</td><td>3526.8</td><td>677.8</td><td>5.2</td></tr><tr><td>467</td><td>Himatsing. Seide</td><td>3511.08</td><td>595.61</td><td>5.89</td></tr><tr><td>468</td><td>La Opala RG</td><td>3510.93</td><td>69.77</td><td>50.32</td></tr><tr><td>469</td><td>H F C L</td><td>3482.71</td><td>714.42</td><td>4.87</td></tr><tr><td>470</td><td>Reliance Home</td><td>3470.6</td><td>403.0</td><td>8.61</td></tr><tr><td>471</td><td>Rupa & Co</td><td>3460.91</td><td>277.96</td><td>12.45</td></tr><tr><td>472</td><td>Hind.Construct.</td><td>3452.57</td><td>0.0</td><td>null</td></tr><tr><td>473</td><td>Ent.Network</td><td>3380.99</td><td>148.42</td><td>22.78</td></tr><tr><td>474</td><td>Supreme Petroch.</td><td>3377.57</td><td>725.02</td><td>4.66</td></tr><tr><td>475</td><td>MAS FINANC SER</td><td>3376.2</td><td>112.05</td><td>30.13</td></tr><tr><td>476</td><td>Thyrocare Tech.</td><td>3374.38</td><td>77.84</td><td>43.35</td></tr><tr><td>477</td><td>Prakash Inds.</td><td>3336.05</td><td>725.97</td><td>4.6</td></tr><tr><td>478</td><td>Repco Home Fin</td><td>3331.08</td><td>277.48</td><td>12.0</td></tr><tr><td>479</td><td>Sonata Software</td><td>3329.58</td><td>766.75</td><td>4.34</td></tr><tr><td>480</td><td>Central Dep. Ser</td><td>3316.31</td><td>47.24</td><td>70.2</td></tr><tr><td>481</td><td>Puravankara</td><td>3274.9</td><td>440.09</td><td>7.44</td></tr><tr><td>482</td><td>Tejas Networks</td><td>3209.89</td><td>229.87</td><td>13.96</td></tr><tr><td>483</td><td>ITD Cem</td><td>3192.67</td><td>472.98</td><td>6.75</td></tr><tr><td>484</td><td>Hathway Cable</td><td>3189.1</td><td>138.65</td><td>23.0</td></tr><tr><td>485</td><td>Dhanuka Agritech</td><td>3188.62</td><td>221.51</td><td>14.39</td></tr><tr><td>486</td><td>Mahindra Logis.</td><td>3187.51</td><td>835.06</td><td>3.82</td></tr><tr><td>487</td><td>Heritage Foods</td><td>3185.45</td><td>581.74</td><td>5.48</td></tr><tr><td>488</td><td>Mah. Seamless</td><td>3164.73</td><td>563.66</td><td>5.61</td></tr><tr><td>489</td><td>Navneet Educat.</td><td>3148.36</td><td>174.41</td><td>18.05</td></tr><tr><td>490</td><td>Firstsour.Solu.</td><td>3139.94</td><td>887.24</td><td>3.54</td></tr><tr><td>491</td><td>Kaveri Seed Co.</td><td>3125.83</td><td>70.64</td><td>44.25</td></tr><tr><td>492</td><td>Star Ferro Cem.</td><td>3115.98</td><td>393.49</td><td>7.92</td></tr><tr><td>493</td><td>Deepak Fert.</td><td>3079.06</td><td>1644.92</td><td>1.87</td></tr><tr><td>494</td><td>Va Tech Wabag</td><td>3041.93</td><td>460.89</td><td>6.6</td></tr><tr><td>495</td><td>Prime Focus</td><td>3031.5</td><td>609.61</td><td>4.97</td></tr><tr><td>496</td><td>Lak. Vilas Bank</td><td>3029.57</td><td>790.17</td><td>3.83</td></tr><tr><td>497</td><td>NOCIL</td><td>3026.26</td><td>249.27</td><td>12.14</td></tr><tr><td>498</td><td>Orient Cement</td><td>3024.32</td><td>511.53</td><td>5.91</td></tr><tr><td>499</td><td>Natl.Fertilizer</td><td>3017.07</td><td>2840.75</td><td>1.06</td></tr></tbody></table></div>"
      ]
     },
     "metadata": {
      "application/vnd.databricks.v1+output": {
       "addedWidgets": {},
       "aggData": [],
       "aggError": "",
       "aggOverflow": false,
       "aggSchema": [],
       "aggSeriesLimitReached": false,
       "aggType": "",
       "arguments": {},
       "columnCustomDisplayInfos": {},
       "data": [
        [
         1,
         "Reliance Inds.",
         583436.72,
         99810.0,
         5.85
        ],
        [
         2,
         "TCS",
         563709.84,
         30904.0,
         18.24
        ],
        [
         3,
         "HDFC Bank",
         482953.59,
         20581.27,
         23.47
        ],
        [
         4,
         "ITC",
         320985.27,
         9772.02,
         32.85
        ],
        [
         5,
         "H D F C",
         289497.37,
         16840.51,
         17.19
        ],
        [
         6,
         "Hind. Unilever",
         288265.26,
         8590.0,
         33.56
        ],
        [
         7,
         "Maruti Suzuki",
         263493.81,
         19283.2,
         13.66
        ],
        [
         8,
         "Infosys",
         248320.35,
         17794.0,
         13.96
        ],
        [
         9,
         "O N G C",
         239981.5,
         22995.88,
         10.44
        ],
        [
         10,
         "St Bk of India",
         232763.33,
         57014.08,
         4.08
        ],
        [
         11,
         "ICICI Bank",
         203802.35,
         13665.35,
         14.91
        ],
        [
         12,
         "Kotak Mah. Bank",
         199253.77,
         6390.71,
         31.18
        ],
        [
         13,
         "Coal India",
         192677.98,
         21643.28,
         8.9
        ],
        [
         14,
         "Larsen & Toubro",
         180860.74,
         28747.45,
         6.29
        ],
        [
         15,
         "I O C L",
         178017.48,
         110666.93,
         1.61
        ],
        [
         16,
         "Bharti Airtel",
         167131.29,
         20318.6,
         8.23
        ],
        [
         17,
         "Axis Bank",
         136380.76,
         11721.55,
         11.64
        ],
        [
         18,
         "NTPC",
         135390.53,
         20774.37,
         6.52
        ],
        [
         19,
         "Sun Pharma.Inds.",
         134241.36,
         6653.23,
         20.18
        ],
        [
         20,
         "Hind.Zinc",
         133266.56,
         5922.0,
         22.5
        ],
        [
         21,
         "Wipro",
         131840.57,
         13669.0,
         9.65
        ],
        [
         22,
         "HCL Technologies",
         126335.27,
         12809.0,
         9.86
        ],
        [
         23,
         "Vedanta",
         122184.17,
         24361.0,
         5.02
        ],
        [
         24,
         "Tata Motors",
         117071.87,
         74156.07,
         1.58
        ],
        [
         25,
         "UltraTech Cem.",
         113692.87,
         8019.24,
         14.18
        ],
        [
         26,
         "Asian Paints",
         108044.04,
         4260.52,
         25.36
        ],
        [
         27,
         "Power Grid Corpn",
         102016.01,
         7506.95,
         13.59
        ],
        [
         28,
         "B P C L",
         98278.0,
         60616.36,
         1.62
        ],
        [
         29,
         "IndusInd Bank",
         97379.96,
         4286.78,
         22.72
        ],
        [
         30,
         "Bajaj Fin.",
         94476.77,
         3540.63,
         26.68
        ],
        [
         31,
         "Bajaj Auto",
         88252.6,
         6369.34,
         13.86
        ],
        [
         32,
         "M & M",
         88142.35,
         11577.78,
         7.61
        ],
        [
         33,
         "HDFC Stand. Life",
         87358.23,
         9734.9,
         8.97
        ],
        [
         34,
         "Adani Ports",
         81781.89,
         2688.85,
         30.42
        ],
        [
         35,
         "Bajaj Finserv",
         79795.11,
         7665.4,
         10.41
        ],
        [
         36,
         "GAIL (India)",
         78670.97,
         14414.34,
         5.46
        ],
        [
         37,
         "Avenue Super.",
         74066.35,
         4094.82,
         18.09
        ],
        [
         38,
         "Titan Company",
         73886.0,
         4274.84,
         17.28
        ],
        [
         39,
         "JSW Steel",
         73870.26,
         17861.0,
         4.14
        ],
        [
         40,
         "Grasim Inds",
         73532.62,
         15291.42,
         4.81
        ],
        [
         41,
         "Tata Steel",
         73376.14,
         32464.14,
         2.26
        ],
        [
         42,
         "Eicher Motors",
         73311.41,
         2269.01,
         32.31
        ],
        [
         43,
         "Nestle India",
         73015.49,
         2601.46,
         28.07
        ],
        [
         44,
         "Godrej Consumer",
         71859.82,
         2630.3,
         27.32
        ],
        [
         45,
         "Yes Bank",
         71028.13,
         5070.3,
         14.01
        ],
        [
         46,
         "Hero Motocorp",
         69448.66,
         7305.49,
         9.51
        ],
        [
         47,
         "Motherson Sumi",
         68590.33,
         14397.85,
         4.76
        ],
        [
         48,
         "SBI Life Insuran",
         67465.0,
         9569.97,
         7.05
        ],
        [
         49,
         "General Insuranc",
         66316.32,
         8557.68,
         7.75
        ],
        [
         51,
         "Dabur India",
         60015.0,
         1966.44,
         30.52
        ],
        [
         52,
         "Bosch",
         59204.28,
         3071.92,
         19.27
        ],
        [
         53,
         "Shree Cement",
         58987.08,
         2296.23,
         25.69
        ],
        [
         54,
         "New India Assura",
         58108.48,
         5074.02,
         11.45
        ],
        [
         55,
         "H P C L",
         58034.78,
         57474.25,
         1.01
        ],
        [
         56,
         "ICICI Pru Life",
         57748.98,
         13555.32,
         4.26
        ],
        [
         57,
         "Britannia Inds.",
         56837.2,
         2567.48,
         22.14
        ],
        [
         58,
         "Tech Mahindra",
         56244.26,
         7775.96,
         7.23
        ],
        [
         59,
         "Hindalco Inds.",
         55854.68,
         11022.81,
         5.07
        ],
        [
         60,
         "Zee Entertainmen",
         54817.89,
         1838.07,
         29.82
        ],
        [
         61,
         "Cairn India",
         53528.57,
         2149.36,
         24.9
        ],
        [
         62,
         "Indiabulls Hous.",
         52781.67,
         3115.89,
         16.94
        ],
        [
         63,
         "Ambuja Cem.",
         52361.46,
         6170.71,
         8.49
        ],
        [
         64,
         "Interglobe Aviat",
         48621.37,
         6177.88,
         7.87
        ],
        [
         65,
         "Cipla",
         48577.43,
         3913.82,
         12.41
        ],
        [
         66,
         "Piramal Enterp.",
         47483.97,
         2858.36,
         16.61
        ],
        [
         67,
         "United Spirits",
         46725.05,
         2263.3,
         20.64
        ],
        [
         68,
         "Pidilite Inds.",
         45855.5,
         1542.9,
         29.72
        ],
        [
         69,
         "Siemens",
         44239.04,
         2429.5,
         18.21
        ],
        [
         70,
         "Cadila Health.",
         41876.19,
         3259.6,
         12.85
        ],
        [
         71,
         "NMDC",
         41415.33,
         2469.03,
         16.77
        ],
        [
         72,
         "DLF",
         40159.35,
         1693.72,
         23.71
        ],
        [
         73,
         "Marico",
         39813.84,
         1337.59,
         29.77
        ],
        [
         74,
         "Ashok Leyland",
         39047.57,
         7113.16,
         5.49
        ],
        [
         75,
         "Bharat Electron",
         37776.23,
         2512.82,
         15.03
        ],
        [
         76,
         "ICICI Lombard",
         37219.22,
         2110.99,
         17.63
        ],
        [
         77,
         "Lupin",
         36878.85,
         3975.62,
         9.28
        ],
        [
         78,
         "Petronet LNG",
         36615.0,
         7757.06,
         4.72
        ],
        [
         79,
         "Aditya Birla Cap",
         36215.92,
         3325.02,
         10.89
        ],
        [
         80,
         "Dr Reddy's Labs",
         35893.55,
         3834.1,
         9.36
        ],
        [
         81,
         "Sun TV Network",
         35824.26,
         683.28,
         52.43
        ],
        [
         82,
         "S A I L",
         35729.04,
         15323.65,
         2.33
        ],
        [
         83,
         "UPL",
         35349.58,
         4194.0,
         8.43
        ],
        [
         84,
         "Oracle Fin.Serv.",
         34620.19,
         1059.12,
         32.69
        ],
        [
         85,
         "Bharat Forge",
         34397.69,
         1390.55,
         24.74
        ],
        [
         86,
         "Biocon",
         34347.0,
         1057.9,
         32.47
        ],
        [
         87,
         "B H E L",
         34162.38,
         6626.35,
         5.16
        ],
        [
         88,
         "Aurobindo Pharma",
         33676.52,
         4336.11,
         7.77
        ],
        [
         89,
         "Bank of Baroda",
         33364.23,
         11303.24,
         2.95
        ],
        [
         90,
         "Idea Cellular",
         33047.33,
         6509.6,
         5.08
        ],
        [
         91,
         "A B B",
         31983.33,
         2779.4,
         11.51
        ],
        [
         92,
         "Havells India",
         31798.18,
         1965.77,
         16.18
        ],
        [
         93,
         "Container Corpn.",
         31450.56,
         1639.55,
         19.18
        ],
        [
         94,
         "TVS Motor Co.",
         30919.51,
         3684.95,
         8.39
        ],
        [
         95,
         "ACC",
         30803.68,
         3494.24,
         8.82
        ],
        [
         96,
         "Bajaj Holdings",
         30305.94,
         317.85,
         95.35
        ],
        [
         97,
         "P & G Hygiene",
         30202.12,
         704.16,
         42.89
        ],
        [
         98,
         "MRF",
         30030.01,
         3798.82,
         7.91
        ],
        [
         99,
         "Shriram Trans.",
         29327.64,
         3087.67,
         9.5
        ],
        [
         101,
         "L&T Fin.Holdings",
         28932.43,
         2630.17,
         11.0
        ],
        [
         102,
         "Punjab Natl.Bank",
         28270.22,
         12175.48,
         2.32
        ],
        [
         103,
         "NHPC Ltd",
         28059.24,
         1497.93,
         18.73
        ],
        [
         104,
         "Power Fin.Corpn.",
         27905.66,
         6194.77,
         4.5
        ],
        [
         105,
         "United Breweries",
         27797.69,
         1197.1,
         23.22
        ],
        [
         106,
         "Oil India",
         27404.15,
         2852.55,
         9.61
        ],
        [
         107,
         "Rural Elec.Corp.",
         27382.24,
         5498.45,
         4.98
        ],
        [
         108,
         "GlaxoSmith C H L",
         27340.89,
         1034.67,
         26.42
        ],
        [
         109,
         "M & M Fin. Serv.",
         26928.37,
         2182.45,
         12.34
        ],
        [
         110,
         "Divi's Lab.",
         26915.86,
         1037.88,
         25.93
        ],
        [
         111,
         "Kansai Nerolac",
         26409.76,
         1145.01,
         23.07
        ],
        [
         112,
         "Alkem Lab",
         25957.56,
         1422.52,
         18.25
        ],
        [
         113,
         "LIC Housing Fin.",
         25880.98,
         3738.1,
         6.92
        ],
        [
         114,
         "Future Retail",
         25859.25,
         4693.39,
         5.51
        ],
        [
         115,
         "Page Industries",
         25383.03,
         621.03,
         40.87
        ],
        [
         116,
         "Dalmia Bhar.",
         25288.97,
         2090.54,
         12.1
        ],
        [
         117,
         "IIFL Holdings",
         24788.54,
         1612.14,
         15.38
        ],
        [
         118,
         "L & T Infotech",
         24626.1,
         1883.8,
         13.07
        ],
        [
         119,
         "Aditya Bir. Nuv.",
         24592.21,
         4287.12,
         5.74
        ],
        [
         120,
         "Emami",
         23720.37,
         756.64,
         31.35
        ],
        [
         121,
         "Cummins India",
         23562.0,
         1354.67,
         17.39
        ],
        [
         122,
         "Berger Paints",
         23537.8,
         1338.63,
         17.58
        ],
        [
         123,
         "Rajesh Exports",
         23495.54,
         41304.84,
         0.57
        ],
        [
         126,
         "Tata Power Co.",
         23369.24,
         6949.91,
         3.36
        ],
        [
         127,
         "3M India",
         23101.19,
         645.77,
         35.77
        ],
        [
         128,
         "Jindal Steel",
         23094.39,
         6992.56,
         3.3
        ],
        [
         129,
         "Edelweiss.Fin.",
         22915.42,
         2069.45,
         11.07
        ],
        [
         130,
         "Gillette India",
         21976.74,
         407.52,
         53.93
        ],
        [
         131,
         "Adani Enterp.",
         21776.04,
         9938.37,
         2.19
        ],
        [
         132,
         "Adani Transmissi",
         21677.26,
         1782.29,
         12.16
        ],
        [
         133,
         "Balkrishna Inds",
         21372.18,
         1106.31,
         19.32
        ],
        [
         134,
         "Cholaman.Inv.&Fn",
         20832.4,
         1404.33,
         14.83
        ],
        [
         135,
         "Indraprastha Gas",
         20779.52,
         1183.9,
         17.55
        ],
        [
         136,
         "M R P L",
         20750.78,
         14100.98,
         1.47
        ],
        [
         137,
         "Glaxosmi. Pharma",
         20489.35,
         703.91,
         29.11
        ],
        [
         138,
         "PNB Housing",
         20037.85,
         1438.49,
         13.93
        ],
        [
         139,
         "RBL Bank",
         19748.79,
         1150.79,
         17.16
        ],
        [
         140,
         "Castrol India",
         18803.22,
         970.3,
         19.38
        ],
        [
         141,
         "Canara Bank",
         18590.66,
         10774.64,
         1.73
        ],
        [
         142,
         "GRUH Finance",
         18535.09,
         428.47,
         43.26
        ],
        [
         143,
         "KIOCL",
         18534.15,
         442.81,
         41.86
        ],
        [
         144,
         "Voltas",
         18453.44,
         1374.67,
         13.42
        ],
        [
         145,
         "Godrej Inds.",
         18298.09,
         2458.48,
         7.44
        ],
        [
         146,
         "Whirlpool India",
         18254.06,
         958.01,
         19.05
        ],
        [
         147,
         "Sundaram Finance",
         18159.85,
         677.23,
         26.81
        ],
        [
         148,
         "Federal Bank",
         18086.81,
         2501.2,
         7.23
        ],
        [
         149,
         "Tata Comm",
         17963.55,
         4114.63,
         4.37
        ],
        [
         151,
         "Tata Chemicals",
         17941.47,
         2573.91,
         6.97
        ],
        [
         152,
         "Exide Inds.",
         17930.75,
         2276.54,
         7.88
        ],
        [
         153,
         "IDFC Bank",
         17762.77,
         2283.72,
         7.78
        ],
        [
         154,
         "NBCC",
         17712.0,
         1321.5,
         13.4
        ],
        [
         155,
         "IDBI Bank",
         17559.35,
         5797.2,
         3.03
        ],
        [
         156,
         "The Ramco Cement",
         17246.58,
         1056.36,
         16.33
        ],
        [
         157,
         "Dewan Hsg. Fin.",
         17097.54,
         2631.6,
         6.5
        ],
        [
         158,
         "MphasiS",
         16728.78,
         1660.69,
         10.07
        ],
        [
         159,
         "Apollo Hospitals",
         16683.97,
         1896.14,
         8.8
        ],
        [
         160,
         "Reliance Nip.Lif",
         16655.58,
         394.0,
         42.27
        ],
        [
         161,
         "Tata Global",
         16589.24,
         1730.39,
         9.59
        ],
        [
         162,
         "Godrej Propert.",
         16545.51,
         627.03,
         26.39
        ],
        [
         163,
         "AU Small Finance",
         16453.67,
         464.17,
         35.45
        ],
        [
         164,
         "Indian Hotels",
         16150.13,
         1197.26,
         13.49
        ],
        [
         165,
         "Motil.Oswal.Fin.",
         16108.15,
         728.63,
         22.11
        ],
        [
         166,
         "H U D C O",
         16065.25,
         1064.49,
         15.09
        ],
        [
         167,
         "Oberoi Realty",
         16044.51,
         356.2,
         45.04
        ],
        [
         168,
         "Indian Bank",
         15739.16,
         4354.22,
         3.61
        ],
        [
         169,
         "SJVN",
         15512.35,
         436.58,
         35.53
        ],
        [
         170,
         "Bank of India",
         15339.87,
         9334.84,
         1.64
        ],
        [
         171,
         "Supreme Inds.",
         15248.94,
         1278.3,
         11.93
        ],
        [
         172,
         "Muthoot Finance",
         15226.72,
         1553.71,
         9.8
        ],
        [
         173,
         "NLC India",
         15201.61,
         1706.48,
         8.91
        ],
        [
         176,
         "Info Edg.(India)",
         14845.05,
         0.0,
         null
        ],
        [
         177,
         "Glenmark Pharma.",
         14785.53,
         2203.67,
         6.71
        ],
        [
         178,
         "Jubilant Life",
         14775.08,
         2067.76,
         7.15
        ],
        [
         179,
         "Crompton Gr. Con",
         14638.57,
         938.19,
         15.6
        ],
        [
         180,
         "Honeywell Auto",
         14526.24,
         721.48,
         20.13
        ],
        [
         181,
         "Natco Pharma",
         14456.9,
         562.2,
         25.71
        ],
        [
         182,
         "PC Jeweller",
         14334.81,
         2644.89,
         5.42
        ],
        [
         183,
         "Quess Corp",
         14330.19,
         1583.95,
         9.05
        ],
        [
         184,
         "CRISIL",
         14164.81,
         441.13,
         32.11
        ],
        [
         185,
         "WABCO India",
         13843.64,
         649.91,
         21.3
        ],
        [
         186,
         "Amara Raja Batt.",
         13774.32,
         1553.46,
         8.87
        ],
        [
         189,
         "Sterlite Tech.",
         13743.95,
         835.18,
         16.46
        ],
        [
         190,
         "AIA Engg.",
         13593.35,
         572.16,
         23.76
        ],
        [
         191,
         "KRBL",
         13492.55,
         783.51,
         17.22
        ],
        [
         192,
         "Max Financial",
         13401.76,
         0.0,
         null
        ],
        [
         193,
         "Indiabulls Vent.",
         13396.15,
         238.43,
         56.18
        ],
        [
         194,
         "Century Textiles",
         13369.97,
         2069.39,
         6.46
        ],
        [
         195,
         "Jubilant Food.",
         13178.43,
         795.17,
         16.57
        ],
        [
         196,
         "Bayer Crop Sci.",
         13166.76,
         479.7,
         27.45
        ],
        [
         197,
         "Graphite India",
         13129.9,
         933.06,
         14.07
        ],
        [
         198,
         "JSW Energy",
         13104.0,
         1993.2,
         6.57
        ],
        [
         199,
         "Central Bank",
         13046.18,
         6026.55,
         2.16
        ],
        [
         201,
         "CESC",
         12996.56,
         1706.0,
         7.62
        ],
        [
         202,
         "Shri.City Union.",
         12995.31,
         1338.09,
         9.71
        ],
        [
         203,
         "L&T Technology",
         12942.25,
         969.1,
         13.35
        ],
        [
         204,
         "Rain Industries",
         12655.17,
         3050.81,
         4.15
        ],
        [
         205,
         "Torrent Power",
         12599.37,
         2754.64,
         4.57
        ],
        [
         206,
         "Dilip Buildcon",
         12526.06,
         1942.12,
         6.45
        ],
        [
         207,
         "TI Financial",
         12507.91,
         886.68,
         14.11
        ],
        [
         208,
         "JM Financial",
         12382.64,
         837.73,
         14.78
        ],
        [
         209,
         "Adani Power",
         12091.5,
         4844.46,
         2.5
        ],
        [
         210,
         "Reliance Power",
         12033.99,
         2494.65,
         4.82
        ],
        [
         211,
         "Reliance Capital",
         11966.83,
         4749.0,
         2.52
        ],
        [
         212,
         "Syngene Intl.",
         11950.0,
         387.7,
         30.82
        ],
        [
         213,
         "Abbott India",
         11924.12,
         881.49,
         13.53
        ],
        [
         214,
         "Hatsun AgroProd.",
         11896.52,
         1012.94,
         11.74
        ],
        [
         215,
         "Symphony",
         11882.55,
         217.63,
         54.6
        ],
        [
         216,
         "Gujarat Gas",
         11759.77,
         1571.33,
         7.48
        ],
        [
         217,
         "Reliance Infra.",
         11737.24,
         5861.04,
         2.0
        ],
        [
         218,
         "Aditya Bir. Fas.",
         11718.17,
         1855.0,
         6.32
        ],
        [
         219,
         "Ajanta Pharma",
         11651.8,
         587.05,
         19.85
        ],
        [
         220,
         "P I Inds.",
         11564.22,
         537.74,
         21.51
        ],
        [
         221,
         "City Union Bank",
         11554.4,
         865.36,
         13.35
        ],
        [
         222,
         "Varun Beverages",
         11498.3,
         329.92,
         34.85
        ],
        [
         223,
         "Mindtree",
         11438.78,
         1377.7,
         8.3
        ],
        [
         224,
         "Prestige Estates",
         11353.13,
         1272.3,
         8.92
        ],
        [
         225,
         "Future Consumer",
         11203.15,
         784.05,
         14.29
        ],
        [
         226,
         "Sundram Fasten.",
         11202.53,
         848.13,
         13.21
        ],
        [
         227,
         "Sanofi India",
         11182.45,
         667.5,
         16.75
        ],
        [
         228,
         "Guj.St.Petronet",
         11064.74,
         350.18,
         31.6
        ],
        [
         229,
         "Godrej Agrovet",
         10918.75,
         865.77,
         12.61
        ],
        [
         230,
         "Finolex Cables",
         10900.75,
         656.78,
         16.6
        ],
        [
         231,
         "Bombay Burmah",
         10864.53,
         0.0,
         null
        ],
        [
         232,
         "SRF",
         10842.62,
         1397.06,
         7.76
        ],
        [
         233,
         "GE T&D India",
         10778.42,
         1438.55,
         7.49
        ],
        [
         234,
         "Alembic Pharma",
         10764.29,
         840.02,
         12.81
        ],
        [
         235,
         "SPARC",
         10755.13,
         19.42,
         553.82
        ],
        [
         236,
         "GMR Infra.",
         10653.44,
         2072.29,
         5.14
        ],
        [
         237,
         "HEG",
         10630.76,
         842.71,
         12.61
        ],
        [
         238,
         "Trent",
         10589.27,
         521.32,
         20.31
        ],
        [
         239,
         "Engineers India",
         10565.56,
         473.42,
         22.32
        ],
        [
         240,
         "Avanti Feeds",
         10558.13,
         706.43,
         14.95
        ],
        [
         241,
         "Pfizer",
         10508.48,
         456.54,
         23.02
        ],
        [
         242,
         "Escorts",
         10450.56,
         1205.03,
         8.67
        ],
        [
         243,
         "Tata Motors-DVR",
         10442.09,
         7769.67,
         1.34
        ],
        [
         244,
         "Blue Dart Exp.",
         10422.45,
         704.59,
         14.79
        ],
        [
         245,
         "Indbull.RealEst.",
         10338.4,
         2100.13,
         4.92
        ],
        [
         246,
         "ERIS Lifescience",
         10289.81,
         182.21,
         56.47
        ],
        [
         247,
         "Arvind Ltd",
         10247.7,
         2705.75,
         3.79
        ],
        [
         248,
         "Sundaram Clayton",
         10074.36,
         0.0,
         null
        ],
        [
         249,
         "Hexaware Tech.",
         9885.05,
         1004.83,
         9.84
        ],
        [
         255,
         "SKF India",
         9569.14,
         700.49,
         13.66
        ],
        [
         256,
         "Delta Corp",
         9531.57,
         162.17,
         58.78
        ],
        [
         257,
         "Union Bank (I)",
         9528.82,
         8260.47,
         1.15
        ],
        [
         258,
         "TV18 Broadcast",
         9463.27,
         271.13,
         34.9
        ],
        [
         259,
         "Minda Inds.",
         9457.04,
         1056.16,
         8.95
        ],
        [
         260,
         "Solar Inds.",
         9317.76,
         465.68,
         20.01
        ],
        [
         261,
         "Kajaria Ceramics",
         9306.54,
         661.16,
         14.08
        ],
        [
         262,
         "Astral Poly",
         9162.14,
         528.54,
         17.33
        ],
        [
         263,
         "Bata India",
         9145.38,
         674.0,
         13.57
        ],
        [
         264,
         "Phoenix Mills",
         9097.33,
         416.61,
         21.84
        ],
        [
         267,
         "BASF India",
         8778.35,
         1278.74,
         6.86
        ],
        [
         268,
         "DCM Shriram",
         8681.95,
         1783.73,
         4.87
        ],
        [
         269,
         "Infibeam Incorp.",
         8646.54,
         213.48,
         40.5
        ],
        [
         270,
         "Aegis Logistics",
         8613.86,
         1442.08,
         5.97
        ],
        [
         271,
         "Mahindra CIE",
         8587.04,
         0.0,
         null
        ],
        [
         272,
         "Jet Airways",
         8539.88,
         6086.2,
         1.4
        ],
        [
         273,
         "SpiceJet",
         8458.24,
         2081.95,
         4.06
        ],
        [
         274,
         "Thomas Cook (I)",
         8440.65,
         3005.45,
         2.81
        ],
        [
         275,
         "Guj Fluorochem",
         8439.77,
         968.97,
         8.71
        ],
        [
         276,
         "Wockhardt",
         8428.58,
         1005.3,
         8.38
        ],
        [
         277,
         "Akzo Nobel",
         8389.47,
         711.99,
         11.78
        ],
        [
         278,
         "I D F C",
         8380.86,
         2789.58,
         3.0
        ],
        [
         279,
         "Security & Intel",
         8247.08,
         1537.72,
         5.36
        ],
        [
         280,
         "Asahi India Glas",
         8183.96,
         640.38,
         12.78
        ],
        [
         281,
         "TTK Prestige",
         8153.33,
         457.97,
         17.8
        ],
        [
         282,
         "ITI",
         8124.6,
         250.97,
         32.37
        ],
        [
         283,
         "Karur Vysya Bank",
         8065.7,
         1422.32,
         5.67
        ],
        [
         284,
         "Vardhman Textile",
         8023.74,
         1647.98,
         4.87
        ],
        [
         285,
         "Fortis Health.",
         7966.43,
         1156.61,
         6.89
        ],
        [
         286,
         "Ipca Labs.",
         7943.03,
         859.21,
         9.24
        ],
        [
         287,
         "Sheela Foam",
         7815.74,
         532.21,
         14.69
        ],
        [
         288,
         "IRB Infra.Devl.",
         7812.73,
         1296.19,
         6.03
        ],
        [
         289,
         "Atul",
         7789.01,
         803.68,
         9.69
        ],
        [
         290,
         "Finolex Inds.",
         7784.17,
         722.72,
         10.77
        ],
        [
         291,
         "Dish TV",
         7765.91,
         740.77,
         10.48
        ],
        [
         292,
         "Rel. Comm.",
         7702.01,
         1144.0,
         6.73
        ],
        [
         293,
         "Dr Lal Pathlabs",
         7550.78,
         262.7,
         28.74
        ],
        [
         294,
         "OCL India",
         7453.05,
         859.24,
         8.67
        ],
        [
         295,
         "NCC",
         7439.01,
         2780.26,
         2.68
        ],
        [
         296,
         "Relaxo Footwear",
         7251.91,
         457.5,
         15.85
        ],
        [
         297,
         "J K Cements",
         7230.76,
         1126.11,
         6.42
        ],
        [
         298,
         "G N F C",
         7208.38,
         1590.89,
         4.53
        ],
        [
         299,
         "Cochin Shipyard",
         7154.99,
         615.04,
         11.63
        ],
        [
         301,
         "Birla Corpn.",
         7137.67,
         1389.32,
         5.14
        ],
        [
         302,
         "Future Lifestyle",
         7009.13,
         1188.97,
         5.9
        ],
        [
         303,
         "Century Ply.",
         6966.23,
         509.93,
         13.66
        ],
        [
         304,
         "Blue Star",
         6952.99,
         981.3,
         7.09
        ],
        [
         305,
         "Kalpataru Power",
         6950.23,
         1417.37,
         4.9
        ],
        [
         306,
         "Suzlon Energy",
         6942.31,
         1193.06,
         5.82
        ],
        [
         307,
         "Cyient",
         6921.97,
         983.3,
         7.04
        ],
        [
         308,
         "Hind.Copper",
         6902.14,
         440.14,
         15.68
        ],
        [
         309,
         "Guj Pipavav Port",
         6864.85,
         162.68,
         42.2
        ],
        [
         310,
         "Carborundum Uni.",
         6838.18,
         611.59,
         11.18
        ],
        [
         311,
         "Can Fin Homes",
         6811.5,
         392.1,
         17.37
        ],
        [
         312,
         "Sadbhav Engg.",
         6795.06,
         2153.34,
         3.16
        ],
        [
         313,
         "Advanta",
         6742.41,
         361.68,
         18.64
        ],
        [
         314,
         "Capital First",
         6710.63,
         987.64,
         6.79
        ],
        [
         315,
         "Lak. Mach. Works",
         6654.81,
         542.42,
         12.27
        ],
        [
         316,
         "Himadri Specialt",
         6646.41,
         500.08,
         13.29
        ],
        [
         317,
         "Coffee Day Enter",
         6601.62,
         965.3,
         6.84
        ],
        [
         318,
         "PVR",
         6591.31,
         557.25,
         11.83
        ],
        [
         319,
         "Chambal Fert.",
         6542.79,
         2330.1,
         2.81
        ],
        [
         320,
         "Vijaya Bank",
         6531.58,
         3135.23,
         2.08
        ],
        [
         321,
         "Welspun India",
         6520.67,
         1397.95,
         4.66
        ],
        [
         322,
         "CEAT",
         6476.26,
         1574.15,
         4.11
        ],
        [
         323,
         "Strides Shasun",
         6469.51,
         749.04,
         8.64
        ],
        [
         324,
         "Narayana Hrudaya",
         6379.12,
         553.84,
         11.52
        ],
        [
         325,
         "Jyothy Lab.",
         6324.62,
         431.21,
         14.67
        ],
        [
         326,
         "Johnson Con. Hit",
         6209.11,
         377.4,
         16.45
        ],
        [
         327,
         "Prism Cement",
         6176.23,
         0.0,
         null
        ],
        [
         328,
         "Tata Elxsi",
         6153.54,
         345.54,
         17.81
        ],
        [
         329,
         "Syndicate Bank",
         6086.37,
         5375.57,
         1.13
        ],
        [
         330,
         "D B Corp",
         6059.97,
         598.58,
         10.12
        ],
        [
         331,
         "Jain Irrigation",
         6019.89,
         1889.63,
         3.19
        ],
        [
         332,
         "Persistent Sys",
         5996.4,
         791.89,
         7.57
        ],
        [
         333,
         "Redington India",
         5896.54,
         11728.4,
         0.5
        ],
        [
         334,
         "Sunteck Realty",
         5865.04,
         201.5,
         29.11
        ],
        [
         335,
         "Raymond",
         5863.1,
         1484.24,
         3.95
        ],
        [
         336,
         "MOIL",
         5840.29,
         299.8,
         19.48
        ],
        [
         337,
         "Bombay Dyeing",
         5823.25,
         619.93,
         9.39
        ],
        [
         338,
         "GE Shipping Co",
         5802.66,
         584.42,
         9.93
        ],
        [
         339,
         "Grindwell Norton",
         5706.51,
         365.42,
         15.62
        ],
        [
         340,
         "EID Parry",
         5652.33,
         3557.94,
         1.59
        ],
        [
         341,
         "I O B",
         5591.02,
         4254.68,
         1.31
        ],
        [
         342,
         "Galaxy Surfact.",
         5567.11,
         826.95,
         6.73
        ],
        [
         343,
         "Laurus Labs",
         5502.94,
         473.77,
         11.62
        ],
        [
         344,
         "Guj Alkalies",
         5498.45,
         617.61,
         8.9
        ],
        [
         345,
         "GE Power",
         5497.4,
         0.0,
         null
        ],
        [
         346,
         "Timken India",
         5495.76,
         278.58,
         19.73
        ],
        [
         347,
         "C P C L",
         5427.82,
         8587.17,
         0.63
        ],
        [
         348,
         "Dishman Carbogen",
         5416.39,
         459.82,
         11.78
        ],
        [
         349,
         "St Bk of Bikaner",
         5402.95,
         2262.28,
         2.39
        ],
        [
         351,
         "MMTC",
         5300.0,
         0.0,
         null
        ],
        [
         352,
         "IFB Inds.",
         5293.53,
         531.74,
         9.96
        ],
        [
         353,
         "eClerx Services",
         5259.14,
         339.89,
         15.47
        ],
        [
         354,
         "Sobha",
         5224.11,
         691.9,
         7.55
        ],
        [
         355,
         "Kirloskar Oil",
         5207.77,
         684.61,
         7.61
        ],
        [
         356,
         "G S F C",
         5200.13,
         1537.45,
         3.38
        ],
        [
         357,
         "CG Power & Indu.",
         5151.85,
         1516.08,
         3.4
        ],
        [
         358,
         "Westlife Develop",
         5145.88,
         305.19,
         16.86
        ],
        [
         359,
         "K P R Mill Ltd",
         5145.36,
         714.51,
         7.2
        ],
        [
         360,
         "Tube Investments",
         5139.43,
         1274.21,
         4.03
        ],
        [
         361,
         "Bajaj Electrical",
         5127.38,
         1145.13,
         4.48
        ],
        [
         362,
         "VST Inds.",
         5109.25,
         238.97,
         21.38
        ],
        [
         363,
         "BEML Ltd",
         5089.87,
         731.51,
         6.96
        ],
        [
         364,
         "FDC",
         5084.19,
         248.77,
         20.44
        ],
        [
         365,
         "DCB Bank",
         5080.5,
         610.78,
         8.32
        ],
        [
         366,
         "Star Cement",
         5072.67,
         377.43,
         13.44
        ],
        [
         367,
         "Netwrk.18 Media",
         5067.23,
         366.02,
         13.84
        ],
        [
         368,
         "Gulf Oil Lubric.",
         5020.44,
         355.95,
         14.1
        ],
        [
         369,
         "UCO Bank",
         5012.59,
         3449.55,
         1.45
        ],
        [
         370,
         "Jagran Prakashan",
         4995.05,
         598.07,
         8.35
        ],
        [
         371,
         "Elgi Equipment",
         4954.08,
         415.42,
         11.93
        ],
        [
         372,
         "JK Lakshmi Cem.",
         4931.55,
         837.41,
         5.89
        ],
        [
         373,
         "Zydus Wellness",
         4921.45,
         132.4,
         37.17
        ],
        [
         374,
         "Equitas Holdings",
         4886.09,
         429.86,
         11.37
        ],
        [
         375,
         "India Cements",
         4885.75,
         1213.08,
         4.03
        ],
        [
         376,
         "Dishman Pharma.",
         4861.2,
         534.22,
         9.1
        ],
        [
         377,
         "South Ind.Bank",
         4856.71,
         1576.96,
         3.08
        ],
        [
         378,
         "Polaris Consulta",
         4830.44,
         680.07,
         7.1
        ],
        [
         379,
         "V I P Inds.",
         4819.63,
         337.99,
         14.26
        ],
        [
         380,
         "APL Apollo",
         4775.03,
         1314.38,
         3.63
        ],
        [
         381,
         "Sadbhav Infra.",
         4735.67,
         624.37,
         7.58
        ],
        [
         382,
         "Jindal Stain.",
         4726.91,
         2988.86,
         1.58
        ],
        [
         383,
         "Swan Energy",
         4721.49,
         0.0,
         null
        ],
        [
         384,
         "NIIT Tech.",
         4658.2,
         756.5,
         6.16
        ],
        [
         385,
         "Caplin Point Lab",
         4600.73,
         141.61,
         32.49
        ],
        [
         386,
         "Indian Energy Ex",
         4595.7,
         64.75,
         70.98
        ],
        [
         387,
         "Shoppers St.",
         4558.06,
         0.0,
         null
        ],
        [
         388,
         "Godfrey Phillips",
         4512.29,
         581.94,
         7.75
        ],
        [
         389,
         "Jindal Stain .Hi",
         4498.09,
         2438.58,
         1.84
        ],
        [
         390,
         "R C F",
         4493.52,
         1985.06,
         2.26
        ],
        [
         391,
         "Rallis India",
         4493.2,
         390.16,
         11.52
        ],
        [
         392,
         "Stand.Chart.PLC",
         4487.31,
         0.0,
         null
        ],
        [
         393,
         "G M D C",
         4456.77,
         506.06,
         8.81
        ],
        [
         394,
         "Manpasand Bever.",
         4406.8,
         143.13,
         30.79
        ],
        [
         395,
         "Tata Inv.Corpn.",
         4401.66,
         47.02,
         93.61
        ],
        [
         396,
         "Essel Propack",
         4371.24,
         595.05,
         7.35
        ],
        [
         397,
         "Allcargo Logist.",
         4369.69,
         1479.91,
         2.95
        ],
        [
         398,
         "Radico Khaitan",
         4358.48,
         482.52,
         9.03
        ],
        [
         399,
         "Cera Sanitary.",
         4356.9,
         290.88,
         14.98
        ],
        [
         401,
         "Forbes & Co",
         4331.82,
         63.93,
         67.76
        ],
        [
         402,
         "S B T",
         4328.47,
         2365.94,
         1.83
        ],
        [
         403,
         "KNR Construct.",
         4325.39,
         433.19,
         9.98
        ],
        [
         404,
         "PNC Infratech",
         4307.29,
         472.48,
         9.12
        ],
        [
         405,
         "Greenply Inds.",
         4295.02,
         399.29,
         10.76
        ],
        [
         406,
         "Ujjivan Fin.Ser.",
         4293.42,
         0.0,
         null
        ],
        [
         407,
         "Monsanto India",
         4291.43,
         183.74,
         23.36
        ],
        [
         408,
         "Vinati Organics",
         4279.07,
         185.65,
         23.05
        ],
        [
         409,
         "Jindal Saw",
         4278.31,
         0.0,
         null
        ],
        [
         410,
         "Lux Industries",
         4269.78,
         297.43,
         14.36
        ],
        [
         411,
         "Linde India",
         4198.33,
         0.0,
         null
        ],
        [
         412,
         "Ratnamani Metals",
         4194.31,
         535.6,
         7.83
        ],
        [
         413,
         "Cox & Kings",
         4179.29,
         1356.07,
         3.08
        ],
        [
         414,
         "Omaxe",
         4168.29,
         506.82,
         8.22
        ],
        [
         415,
         "Ashoka Buildcon",
         4166.87,
         729.22,
         5.71
        ],
        [
         416,
         "Time Technoplast",
         4156.58,
         754.7,
         5.51
        ],
        [
         417,
         "Phillips Carbon",
         4149.67,
         612.4,
         6.78
        ],
        [
         418,
         "Allahabad Bank",
         4137.11,
         4243.83,
         0.97
        ],
        [
         419,
         "Welspun Corp",
         4103.05,
         2304.16,
         1.78
        ],
        [
         420,
         "NESCO",
         4093.02,
         80.62,
         50.77
        ],
        [
         421,
         "CARE Ratings",
         4090.69,
         74.82,
         54.67
        ],
        [
         422,
         "JP Associates",
         4074.37,
         0.0,
         null
        ],
        [
         423,
         "Andhra Bank",
         4067.25,
         4549.26,
         0.89
        ],
        [
         424,
         "Zensar Tech.",
         4066.42,
         793.76,
         5.12
        ],
        [
         425,
         "S H Kelkar & Co.",
         4057.34,
         283.12,
         14.33
        ],
        [
         426,
         "Mahindra Holiday",
         4030.35,
         267.54,
         15.06
        ],
        [
         427,
         "Sintex Plastics",
         4022.02,
         1332.73,
         3.02
        ],
        [
         428,
         "SREI Infra. Fin.",
         4009.63,
         1405.19,
         2.85
        ],
        [
         429,
         "Techno Elec.",
         3975.44,
         275.64,
         14.42
        ],
        [
         430,
         "Minda Corp",
         3974.83,
         636.2,
         6.25
        ],
        [
         431,
         "HMT",
         3973.5,
         0.0,
         null
        ],
        [
         432,
         "KPIT Tech.",
         3927.26,
         912.77,
         4.3
        ],
        [
         433,
         "Triveni Turbine",
         3910.17,
         165.59,
         23.61
        ],
        [
         434,
         "Shankara Build.",
         3901.07,
         624.62,
         6.25
        ],
        [
         435,
         "Multi Comm. Exc.",
         3847.19,
         60.97,
         63.1
        ],
        [
         436,
         "Brigade Enterpr.",
         3846.15,
         423.91,
         9.07
        ],
        [
         437,
         "Gayatri Projects",
         3835.73,
         0.0,
         null
        ],
        [
         438,
         "Magma Fincorp",
         3826.83,
         580.58,
         6.59
        ],
        [
         439,
         "VRL Logistics",
         3824.69,
         489.34,
         7.82
        ],
        [
         440,
         "ICRA",
         3809.0,
         82.87,
         45.96
        ],
        [
         441,
         "Shriram Pistons",
         3804.58,
         430.8,
         8.83
        ],
        [
         442,
         "IFCI",
         3789.45,
         626.8,
         6.05
        ],
        [
         443,
         "Suprajit Engg.",
         3777.26,
         366.29,
         10.31
        ],
        [
         444,
         "J & K Bank",
         3775.5,
         1682.97,
         2.24
        ],
        [
         445,
         "Navin Fluo.Intl.",
         3769.26,
         221.45,
         17.02
        ],
        [
         446,
         "Karnataka Bank",
         3765.74,
         1332.24,
         2.83
        ],
        [
         447,
         "Shilpa Medicare",
         3764.1,
         185.53,
         20.29
        ],
        [
         448,
         "Kushal",
         3761.86,
         578.18,
         6.51
        ],
        [
         449,
         "Venky's (India)",
         3760.61,
         695.85,
         5.4
        ],
        [
         451,
         "CCL Products",
         3748.73,
         273.99,
         13.68
        ],
        [
         452,
         "Excel Crop Care",
         3734.06,
         258.65,
         14.44
        ],
        [
         453,
         "Trident",
         3722.6,
         1137.17,
         3.27
        ],
        [
         454,
         "Corporation Bank",
         3716.46,
         4387.85,
         0.85
        ],
        [
         455,
         "Rane Holdings",
         3711.8,
         593.74,
         6.25
        ],
        [
         456,
         "Team Lease Serv.",
         3677.34,
         918.06,
         4.01
        ],
        [
         457,
         "Oriental Bank",
         3674.6,
         4262.08,
         0.86
        ],
        [
         458,
         "I T D C",
         3619.04,
         102.14,
         35.43
        ],
        [
         459,
         "JP Power Ven.",
         3597.6,
         0.0,
         null
        ],
        [
         460,
         "S C I",
         3582.0,
         879.56,
         4.07
        ],
        [
         461,
         "JK Tyre & Indust",
         3577.98,
         2123.24,
         1.69
        ],
        [
         462,
         "Deepak Nitrite",
         3531.9,
         371.14,
         9.52
        ],
        [
         463,
         "Heidelberg Cem.",
         3531.77,
         491.23,
         7.19
        ],
        [
         464,
         "Amber Enterp.",
         3529.87,
         0.0,
         null
        ],
        [
         465,
         "Sharda Cropchem",
         3528.07,
         325.46,
         10.84
        ],
        [
         466,
         "Dixon Technolog.",
         3526.8,
         677.8,
         5.2
        ],
        [
         467,
         "Himatsing. Seide",
         3511.08,
         595.61,
         5.89
        ],
        [
         468,
         "La Opala RG",
         3510.93,
         69.77,
         50.32
        ],
        [
         469,
         "H F C L",
         3482.71,
         714.42,
         4.87
        ],
        [
         470,
         "Reliance Home",
         3470.6,
         403.0,
         8.61
        ],
        [
         471,
         "Rupa & Co",
         3460.91,
         277.96,
         12.45
        ],
        [
         472,
         "Hind.Construct.",
         3452.57,
         0.0,
         null
        ],
        [
         473,
         "Ent.Network",
         3380.99,
         148.42,
         22.78
        ],
        [
         474,
         "Supreme Petroch.",
         3377.57,
         725.02,
         4.66
        ],
        [
         475,
         "MAS FINANC SER",
         3376.2,
         112.05,
         30.13
        ],
        [
         476,
         "Thyrocare Tech.",
         3374.38,
         77.84,
         43.35
        ],
        [
         477,
         "Prakash Inds.",
         3336.05,
         725.97,
         4.6
        ],
        [
         478,
         "Repco Home Fin",
         3331.08,
         277.48,
         12.0
        ],
        [
         479,
         "Sonata Software",
         3329.58,
         766.75,
         4.34
        ],
        [
         480,
         "Central Dep. Ser",
         3316.31,
         47.24,
         70.2
        ],
        [
         481,
         "Puravankara",
         3274.9,
         440.09,
         7.44
        ],
        [
         482,
         "Tejas Networks",
         3209.89,
         229.87,
         13.96
        ],
        [
         483,
         "ITD Cem",
         3192.67,
         472.98,
         6.75
        ],
        [
         484,
         "Hathway Cable",
         3189.1,
         138.65,
         23.0
        ],
        [
         485,
         "Dhanuka Agritech",
         3188.62,
         221.51,
         14.39
        ],
        [
         486,
         "Mahindra Logis.",
         3187.51,
         835.06,
         3.82
        ],
        [
         487,
         "Heritage Foods",
         3185.45,
         581.74,
         5.48
        ],
        [
         488,
         "Mah. Seamless",
         3164.73,
         563.66,
         5.61
        ],
        [
         489,
         "Navneet Educat.",
         3148.36,
         174.41,
         18.05
        ],
        [
         490,
         "Firstsour.Solu.",
         3139.94,
         887.24,
         3.54
        ],
        [
         491,
         "Kaveri Seed Co.",
         3125.83,
         70.64,
         44.25
        ],
        [
         492,
         "Star Ferro Cem.",
         3115.98,
         393.49,
         7.92
        ],
        [
         493,
         "Deepak Fert.",
         3079.06,
         1644.92,
         1.87
        ],
        [
         494,
         "Va Tech Wabag",
         3041.93,
         460.89,
         6.6
        ],
        [
         495,
         "Prime Focus",
         3031.5,
         609.61,
         4.97
        ],
        [
         496,
         "Lak. Vilas Bank",
         3029.57,
         790.17,
         3.83
        ],
        [
         497,
         "NOCIL",
         3026.26,
         249.27,
         12.14
        ],
        [
         498,
         "Orient Cement",
         3024.32,
         511.53,
         5.91
        ],
        [
         499,
         "Natl.Fertilizer",
         3017.07,
         2840.75,
         1.06
        ]
       ],
       "datasetInfos": [],
       "dbfsResultPath": null,
       "isJsonSchema": true,
       "metadata": {},
       "overflow": false,
       "plotOptions": {
        "customPlotOptions": {},
        "displayType": "table",
        "pivotAggregation": null,
        "pivotColumns": null,
        "xColumns": null,
        "yColumns": null
       },
       "removedWidgets": [],
       "schema": [
        {
         "metadata": "{}",
         "name": "Sr.No",
         "type": "\"integer\""
        },
        {
         "metadata": "{}",
         "name": "Company_name",
         "type": "\"string\""
        },
        {
         "metadata": "{}",
         "name": "Market_cap",
         "type": "\"double\""
        },
        {
         "metadata": "{}",
         "name": "Sales_Qtr",
         "type": "\"double\""
        },
        {
         "metadata": "{}",
         "name": "Market_Cap_to_Sales_Ratio",
         "type": "\"double\""
        }
       ],
       "type": "table"
      }
     },
     "output_type": "display_data"
    },
    {
     "output_type": "display_data",
     "data": {
      "text/plain": [
       "Databricks visualization. Run in Databricks to view."
      ]
     },
     "metadata": {
      "application/vnd.databricks.v1.subcommand+json": {
       "baseErrorDetails": null,
       "bindings": {},
       "collapsed": false,
       "command": "%python\n__backend_agg_display_orig = display\n__backend_agg_dfs = []\ndef __backend_agg_display_new(df):\n    __backend_agg_df_modules = [\"pandas.core.frame\", \"databricks.koalas.frame\", \"pyspark.sql.dataframe\", \"pyspark.pandas.frame\", \"pyspark.sql.connect.dataframe\"]\n    if (type(df).__module__ in __backend_agg_df_modules and type(df).__name__ == 'DataFrame') or isinstance(df, list):\n        __backend_agg_dfs.append(df)\n\ndisplay = __backend_agg_display_new\n\ndef __backend_agg_user_code_fn():\n    import base64\n    exec(base64.standard_b64decode(\"ZGYuZGlzcGxheSgp\").decode())\n\ntry:\n    # run user code\n    __backend_agg_user_code_fn()\n\n    #reset display function\n    display = __backend_agg_display_orig\n\n    if len(__backend_agg_dfs) > 0:\n        # create a temp view\n        if type(__backend_agg_dfs[0]).__module__ == \"databricks.koalas.frame\":\n            # koalas dataframe\n            __backend_agg_dfs[0].to_spark().createOrReplaceTempView(\"DatabricksView8944d13\")\n        elif type(__backend_agg_dfs[0]).__module__ == \"pandas.core.frame\" or isinstance(__backend_agg_dfs[0], list):\n            # pandas dataframe\n            spark.createDataFrame(__backend_agg_dfs[0]).createOrReplaceTempView(\"DatabricksView8944d13\")\n        else:\n            __backend_agg_dfs[0].createOrReplaceTempView(\"DatabricksView8944d13\")\n        #run backend agg\n        display(spark.sql(\"\"\"WITH q AS (select * from DatabricksView8944d13) SELECT `Sales_Qtr`,`Market_cap` FROM q\"\"\"))\n    else:\n        displayHTML(\"dataframe no longer exists. If you're using dataframe.display(), use display(dataframe) instead.\")\n\n\nfinally:\n    spark.sql(\"drop view if exists DatabricksView8944d13\")\n    display = __backend_agg_display_orig\n    del __backend_agg_display_new\n    del __backend_agg_display_orig\n    del __backend_agg_dfs\n    del __backend_agg_user_code_fn\n\n",
       "commandTitle": "Visualization 1",
       "commandType": "auto",
       "commandVersion": 0,
       "commentThread": [],
       "commentsVisible": false,
       "contentSha256Hex": null,
       "customPlotOptions": {
        "redashChart": [
         {
          "key": "type",
          "value": "CHART"
         },
         {
          "key": "options",
          "value": {
           "alignYAxesAtZero": true,
           "coefficient": 1,
           "columnConfigurationMap": {
            "x": {
             "column": "Sales_Qtr",
             "id": "column_74f8e0eb16"
            },
            "y": [
             {
              "column": "Market_cap",
              "id": "column_74f8e0eb19"
             }
            ]
           },
           "dateTimeFormat": "DD/MM/YYYY HH:mm",
           "direction": {
            "type": "counterclockwise"
           },
           "error_y": {
            "type": "data",
            "visible": true
           },
           "globalSeriesType": "scatter",
           "legend": {
            "traceorder": "normal"
           },
           "missingValuesAsZero": true,
           "numberFormat": "0,0.[00000]",
           "percentFormat": "0[.]00%",
           "series": {
            "error_y": {
             "type": "data",
             "visible": true
            },
            "stacking": null
           },
           "seriesOptions": {
            "Market_cap": {
             "color": "#A58AFF",
             "type": "scatter",
             "yAxis": 0
            },
            "Sales_Qtr": {
             "type": "scatter",
             "yAxis": 0
            }
           },
           "showDataLabels": false,
           "sizemode": "diameter",
           "sortX": true,
           "sortY": true,
           "swappedAxes": false,
           "textFormat": "",
           "useAggregationsUi": true,
           "valuesOptions": {},
           "version": 2,
           "xAxis": {
            "labels": {
             "enabled": true
            },
            "type": "-"
           },
           "yAxis": [
            {
             "type": "-"
            },
            {
             "opposite": true,
             "type": "-"
            }
           ]
          }
         }
        ]
       },
       "datasetPreviewNameToCmdIdMap": {},
       "diffDeletes": [],
       "diffInserts": [],
       "displayType": "redashChart",
       "error": null,
       "errorDetails": null,
       "errorSummary": null,
       "errorTraceType": null,
       "finishTime": 0,
       "globalVars": {},
       "guid": "",
       "height": "auto",
       "hideCommandCode": false,
       "hideCommandResult": false,
       "iPythonMetadata": null,
       "inputWidgets": {},
       "isLockedInExamMode": false,
       "latestUser": "a user",
       "latestUserId": null,
       "listResultMetadata": null,
       "metadata": {},
       "nuid": "810cc5e7-70ea-4676-874d-ac4ce03cc56d",
       "origId": 0,
       "parentHierarchy": [],
       "pivotAggregation": null,
       "pivotColumns": null,
       "position": 30.0,
       "resultDbfsErrorMessage": null,
       "resultDbfsStatus": "INLINED_IN_TREE",
       "results": null,
       "showCommandTitle": false,
       "startTime": 0,
       "state": "input",
       "streamStates": {},
       "subcommandOptions": {
        "queryPlan": {
         "selects": [
          {
           "column": "Sales_Qtr",
           "type": "column"
          },
          {
           "column": "Market_cap",
           "type": "column"
          }
         ]
        }
       },
       "submitTime": 0,
       "subtype": "tableResultSubCmd.visualization",
       "tableResultIndex": 0,
       "useConsistentColors": false,
       "version": "CommandV1",
       "width": "auto",
       "workflows": [],
       "xColumns": null,
       "yColumns": null
      }
     },
     "output_type": "display_data"
    }
   ],
   "source": [
    "df.display()"
   ]
  },
  {
   "cell_type": "code",
   "execution_count": 0,
   "metadata": {
    "application/vnd.databricks.v1+cell": {
     "cellMetadata": {},
     "inputWidgets": {},
     "nuid": "dbffe9f0-b3a1-43a6-a8ba-8d70780c5bb2",
     "showTitle": false,
     "title": ""
    }
   },
   "outputs": [],
   "source": []
  }
 ],
 "metadata": {
  "application/vnd.databricks.v1+notebook": {
   "dashboards": [
    {
     "elements": [
      {
       "dashboardResultIndex": null,
       "elementNUID": "88102278-972c-40a4-b4ec-c7cf07d6b0c4",
       "elementType": "command",
       "guid": "2af688bd-c841-4834-b8f8-b83852a8bf0d",
       "options": null,
       "position": {
        "height": 9,
        "width": 24,
        "x": 0,
        "y": 0,
        "z": null
       },
       "resultIndex": null
      }
     ],
     "globalVars": {},
     "guid": "",
     "layoutOption": {
      "grid": true,
      "stack": true
     },
     "nuid": "ea3c206b-443f-447b-87f8-f0042a82ceb0",
     "origId": 2392837687492076,
     "title": "Untitled",
     "version": "DashboardViewV1",
     "width": 1024
    }
   ],
   "environmentMetadata": null,
   "language": "python",
   "notebookMetadata": {
    "pythonIndentUnit": 4
   },
   "notebookName": "Financial_Analysis",
   "widgets": {}
  }
 },
 "nbformat": 4,
 "nbformat_minor": 0
}
